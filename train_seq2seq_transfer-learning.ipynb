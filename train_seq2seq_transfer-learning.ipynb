{
 "cells": [
  {
   "cell_type": "markdown",
   "metadata": {
    "toc": true
   },
   "source": [
    "<h1>Table of Contents<span class=\"tocSkip\"></span></h1>\n",
    "<div class=\"toc\"><ul class=\"toc-item\"><li><ul class=\"toc-item\"><li><span><a href=\"#前処理\" data-toc-modified-id=\"前処理-0.1\" data-vivaldi-spatnav-clickable=\"1\">前処理</a></span><ul class=\"toc-item\"><li><span><a href=\"#データセット読み込みと文字IDベクトルへの変換\" data-toc-modified-id=\"データセット読み込みと文字IDベクトルへの変換-0.1.1\" data-vivaldi-spatnav-clickable=\"1\">データセット読み込みと文字IDベクトルへの変換</a></span></li></ul></li><li><span><a href=\"#転移元のデータセットで学習\" data-toc-modified-id=\"転移元のデータセットで学習-0.2\" data-vivaldi-spatnav-clickable=\"1\">転移元のデータセットで学習</a></span><ul class=\"toc-item\"><li><span><a href=\"#ハイパーパラメータ設定とデータ前処理\" data-toc-modified-id=\"ハイパーパラメータ設定とデータ前処理-0.2.1\" data-vivaldi-spatnav-clickable=\"1\">ハイパーパラメータ設定とデータ前処理</a></span></li><li><span><a href=\"#model,-optimizer,-trainerインスタンス作成\" data-toc-modified-id=\"model,-optimizer,-trainerインスタンス作成-0.2.2\" data-vivaldi-spatnav-clickable=\"1\">model, optimizer, trainerインスタンス作成</a></span></li><li><span><a href=\"#学習実行\" data-toc-modified-id=\"学習実行-0.2.3\" data-vivaldi-spatnav-clickable=\"1\">学習実行</a></span></li><li><span><a href=\"#パラメータ保存\" data-toc-modified-id=\"パラメータ保存-0.2.4\" data-vivaldi-spatnav-clickable=\"1\">パラメータ保存</a></span></li></ul></li></ul></li><li><span><a href=\"#転移学習\" data-toc-modified-id=\"転移学習-1\" data-vivaldi-spatnav-clickable=\"1\">転移学習</a></span><ul class=\"toc-item\"><li><span><a href=\"#推論\" data-toc-modified-id=\"推論-1.1\" data-vivaldi-spatnav-clickable=\"1\">推論</a></span></li><li><span><a href=\"#結果の保存\" data-toc-modified-id=\"結果の保存-1.2\" data-vivaldi-spatnav-clickable=\"1\">結果の保存</a></span></li></ul></li><li><span><a href=\"#確信度の取得\" data-toc-modified-id=\"確信度の取得-2\" data-vivaldi-spatnav-clickable=\"1\">確信度の取得</a></span></li></ul></div>"
   ]
  },
  {
   "cell_type": "markdown",
   "metadata": {},
   "source": [
    "# 転移学習"
   ]
  },
  {
   "cell_type": "markdown",
   "metadata": {},
   "source": [
    "ディレクトリ構成：  \n",
    "```\n",
    "./\n",
    "├train_seq2seq_transfer-learning.ipynb(このファイル)\n",
    "├model/\n",
    "│   └(モデルパラメータキャッシュファイル)\n",
    "├dataset/\n",
    "│   └(読み込むCSVファイル)\n",
    "├result/\n",
    "│   └(実行結果CSVと学習曲線グラフ画像)\n",
    "└src/\n",
    "   ├common/\n",
    "   │ └(共用クラス、関数)\n",
    "   ├data/\n",
    "   │ └(データ読み書き用コード)\n",
    "   ├attention_layer.py\n",
    "   ├attention_seq2seq.py\n",
    "   ├peeky_seq2seq.py\n",
    "   └seq2seq.py\n",
    "```"
   ]
  },
  {
   "cell_type": "code",
   "execution_count": 612,
   "metadata": {},
   "outputs": [
    {
     "name": "stdout",
     "output_type": "stream",
     "text": [
      "Once deleted, variables cannot be recovered. Proceed (y/[n])? y\n"
     ]
    }
   ],
   "source": [
    "# 変数の全消去\n",
    "%reset"
   ]
  },
  {
   "cell_type": "code",
   "execution_count": 1,
   "metadata": {},
   "outputs": [],
   "source": [
    "# coding: utf-8\n",
    "import sys\n",
    "sys.path.append(\"./src\")\n",
    "import os\n",
    "import numpy as np\n",
    "import matplotlib.pyplot as plt\n",
    "from pathlib import Path\n",
    "from datetime import datetime\n",
    "from data.sequence import TextSequence\n",
    "from common.optimizer import Adam\n",
    "from common.trainer import Trainer\n",
    "from common.util import eval_seq2seq\n",
    "from seq2seq import Seq2seq\n",
    "from peeky_seq2seq import PeekySeq2seq\n",
    "from attention_seq2seq import AttentionSeq2seq"
   ]
  },
  {
   "cell_type": "code",
   "execution_count": 2,
   "metadata": {},
   "outputs": [],
   "source": [
    "# matplotlibのインライン表示\n",
    "%matplotlib inline\n",
    "# モジュールの更新時に自動で再読み込み\n",
    "%reload_ext autoreload\n",
    "%autoreload 2"
   ]
  },
  {
   "cell_type": "code",
   "execution_count": 3,
   "metadata": {},
   "outputs": [],
   "source": [
    "# ファイルパスの設定\n",
    "dataset_dir =Path('./dataset')\n",
    "result_dir = Path('./result')\n",
    "model_dir = Path('./model')\n",
    "target_csv = dataset_dir / \"interpretation_train43_and_test40.csv\"\n",
    "pre_train_csv = dataset_dir / \"interpretation_excel_concat_trim.csv\"\n",
    "dataset_name = target_csv.stem\n",
    "encoding = \"utf-8\""
   ]
  },
  {
   "cell_type": "markdown",
   "metadata": {},
   "source": [
    "### 前処理\n",
    "#### データセット読み込みと文字IDベクトルへの変換"
   ]
  },
  {
   "cell_type": "markdown",
   "metadata": {},
   "source": [
    "転移学習のため、最初にデータセットを2つ読み込んで統合したボキャブラリーリストを作成する"
   ]
  },
  {
   "cell_type": "code",
   "execution_count": 4,
   "metadata": {},
   "outputs": [],
   "source": [
    "# 両方のデータセットを読み、統合したボキャブラリーリストを作成する\n",
    "seq = TextSequence()\n",
    "seq.read_csv(target_csv, vocab_init=False)\n",
    "seq.read_csv(pre_train_csv, vocab_init=False)\n",
    "char_to_id, id_to_char = seq.vocab"
   ]
  },
  {
   "cell_type": "code",
   "execution_count": 5,
   "metadata": {},
   "outputs": [
    {
     "data": {
      "text/plain": [
       "433"
      ]
     },
     "execution_count": 5,
     "metadata": {},
     "output_type": "execute_result"
    }
   ],
   "source": [
    "len(char_to_id)"
   ]
  },
  {
   "cell_type": "markdown",
   "metadata": {},
   "source": [
    "### 転移元のデータセットで学習"
   ]
  },
  {
   "cell_type": "markdown",
   "metadata": {},
   "source": [
    "#### ハイパーパラメータ設定とデータ前処理"
   ]
  },
  {
   "cell_type": "code",
   "execution_count": 6,
   "metadata": {},
   "outputs": [],
   "source": [
    "# ハイパーパラメータ\n",
    "vocab_size = len(char_to_id)\n",
    "wordvec_size = 128\n",
    "hidden_size = 128\n",
    "batch_size = 32\n",
    "max_epoch = 100\n",
    "max_grad = 5.0"
   ]
  },
  {
   "cell_type": "code",
   "execution_count": 7,
   "metadata": {},
   "outputs": [],
   "source": [
    "# データセット分割\n",
    "x_train, x_test, t_train, t_test = seq.split_data(seed=1, test_size=0.1)"
   ]
  },
  {
   "cell_type": "markdown",
   "metadata": {},
   "source": [
    "#### model, optimizer, trainerインスタンス作成"
   ]
  },
  {
   "cell_type": "code",
   "execution_count": 8,
   "metadata": {},
   "outputs": [],
   "source": [
    "# モデル選択\n",
    "# model = Seq2seq(vocab_size, wordvec_size, hidden_size)\n",
    "model = PeekySeq2seq(vocab_size, wordvec_size, hidden_size)\n",
    "# model = AttentionSeq2seq(vocab_size, wordvec_size, hidden_size)"
   ]
  },
  {
   "cell_type": "code",
   "execution_count": 9,
   "metadata": {},
   "outputs": [],
   "source": [
    "# OptimizerとTrainerインスタンスの初期化\n",
    "optimizer = Adam()\n",
    "trainer = Trainer(model, optimizer)"
   ]
  },
  {
   "cell_type": "markdown",
   "metadata": {},
   "source": [
    "#### 学習実行"
   ]
  },
  {
   "cell_type": "code",
   "execution_count": 10,
   "metadata": {
    "scrolled": true
   },
   "outputs": [
    {
     "name": "stdout",
     "output_type": "stream",
     "text": [
      "| epoch 1 |  iter 1 / 19 | time 0[s] | loss 6.07\n",
      "| epoch 1 | loss 6.06940\n",
      "| epoch 1 | train error 1.00000\n",
      "| epoch 1 | test error  1.00000\n",
      "| epoch 2 |  iter 1 / 19 | time 5[s] | loss 4.79\n",
      "| epoch 2 | loss 4.78737\n",
      "| epoch 2 | train error 1.00000\n",
      "| epoch 2 | test error  1.00000\n",
      "| epoch 3 |  iter 1 / 19 | time 10[s] | loss 2.68\n",
      "| epoch 3 | loss 2.67967\n",
      "| epoch 3 | train error 1.00000\n",
      "| epoch 3 | test error  1.00000\n",
      "| epoch 4 |  iter 1 / 19 | time 15[s] | loss 2.25\n",
      "| epoch 4 | loss 2.25108\n",
      "| epoch 4 | train error 1.00000\n",
      "| epoch 4 | test error  1.00000\n",
      "| epoch 5 |  iter 1 / 19 | time 20[s] | loss 2.00\n",
      "| epoch 5 | loss 1.99654\n",
      "| epoch 5 | train error 1.00000\n",
      "| epoch 5 | test error  1.00000\n",
      "| epoch 6 |  iter 1 / 19 | time 25[s] | loss 1.82\n",
      "| epoch 6 | loss 1.82181\n",
      "| epoch 6 | train error 1.00000\n",
      "| epoch 6 | test error  1.00000\n",
      "| epoch 7 |  iter 1 / 19 | time 30[s] | loss 1.70\n",
      "| epoch 7 | loss 1.70132\n",
      "| epoch 7 | train error 1.00000\n",
      "| epoch 7 | test error  1.00000\n",
      "| epoch 8 |  iter 1 / 19 | time 36[s] | loss 1.52\n",
      "| epoch 8 | loss 1.51875\n",
      "| epoch 8 | train error 1.00000\n",
      "| epoch 8 | test error  1.00000\n",
      "| epoch 9 |  iter 1 / 19 | time 41[s] | loss 1.37\n",
      "| epoch 9 | loss 1.37041\n",
      "| epoch 9 | train error 1.00000\n",
      "| epoch 9 | test error  1.00000\n",
      "| epoch 10 |  iter 1 / 19 | time 46[s] | loss 1.23\n",
      "| epoch 10 | loss 1.22910\n",
      "| epoch 10 | train error 1.00000\n",
      "| epoch 10 | test error  1.00000\n",
      "| epoch 11 |  iter 1 / 19 | time 52[s] | loss 1.06\n",
      "| epoch 11 | loss 1.05697\n",
      "| epoch 11 | train error 1.00000\n",
      "| epoch 11 | test error  1.00000\n",
      "| epoch 12 |  iter 1 / 19 | time 57[s] | loss 0.92\n",
      "| epoch 12 | loss 0.91668\n",
      "| epoch 12 | train error 1.00000\n",
      "| epoch 12 | test error  1.00000\n",
      "| epoch 13 |  iter 1 / 19 | time 62[s] | loss 0.83\n",
      "| epoch 13 | loss 0.83246\n",
      "| epoch 13 | train error 0.94968\n",
      "| epoch 13 | test error  1.00000\n",
      "| epoch 14 |  iter 1 / 19 | time 67[s] | loss 0.73\n",
      "| epoch 14 | loss 0.72552\n",
      "| epoch 14 | train error 0.94968\n",
      "| epoch 14 | test error  1.00000\n",
      "| epoch 15 |  iter 1 / 19 | time 72[s] | loss 0.63\n",
      "| epoch 15 | loss 0.63204\n",
      "| epoch 15 | train error 0.94481\n",
      "| epoch 15 | test error  1.00000\n",
      "| epoch 16 |  iter 1 / 19 | time 77[s] | loss 0.55\n",
      "| epoch 16 | loss 0.55271\n",
      "| epoch 16 | train error 0.92857\n",
      "| epoch 16 | test error  0.97101\n",
      "| epoch 17 |  iter 1 / 19 | time 83[s] | loss 0.50\n",
      "| epoch 17 | loss 0.49550\n",
      "| epoch 17 | train error 0.90747\n",
      "| epoch 17 | test error  0.92754\n",
      "| epoch 18 |  iter 1 / 19 | time 88[s] | loss 0.45\n",
      "| epoch 18 | loss 0.44781\n",
      "| epoch 18 | train error 0.91396\n",
      "| epoch 18 | test error  0.94203\n",
      "| epoch 19 |  iter 1 / 19 | time 93[s] | loss 0.41\n",
      "| epoch 19 | loss 0.40513\n",
      "| epoch 19 | train error 0.94156\n",
      "| epoch 19 | test error  0.94203\n",
      "| epoch 20 |  iter 1 / 19 | time 99[s] | loss 0.37\n",
      "| epoch 20 | loss 0.36666\n",
      "| epoch 20 | train error 0.93344\n",
      "| epoch 20 | test error  0.94203\n",
      "| epoch 21 |  iter 1 / 19 | time 104[s] | loss 0.34\n",
      "| epoch 21 | loss 0.33606\n",
      "| epoch 21 | train error 0.90260\n",
      "| epoch 21 | test error  0.92754\n",
      "| epoch 22 |  iter 1 / 19 | time 109[s] | loss 0.31\n",
      "| epoch 22 | loss 0.31130\n",
      "| epoch 22 | train error 0.83766\n",
      "| epoch 22 | test error  0.89855\n",
      "| epoch 23 |  iter 1 / 19 | time 114[s] | loss 0.28\n",
      "| epoch 23 | loss 0.28477\n",
      "| epoch 23 | train error 0.89123\n",
      "| epoch 23 | test error  0.91304\n",
      "| epoch 24 |  iter 1 / 19 | time 119[s] | loss 0.27\n",
      "| epoch 24 | loss 0.27005\n",
      "| epoch 24 | train error 0.87987\n",
      "| epoch 24 | test error  0.94203\n",
      "| epoch 25 |  iter 1 / 19 | time 125[s] | loss 0.26\n",
      "| epoch 25 | loss 0.25580\n",
      "| epoch 25 | train error 0.85390\n",
      "| epoch 25 | test error  0.91304\n",
      "| epoch 26 |  iter 1 / 19 | time 130[s] | loss 0.24\n",
      "| epoch 26 | loss 0.23720\n",
      "| epoch 26 | train error 0.82143\n",
      "| epoch 26 | test error  0.88406\n",
      "| epoch 27 |  iter 1 / 19 | time 135[s] | loss 0.23\n",
      "| epoch 27 | loss 0.22863\n",
      "| epoch 27 | train error 0.78084\n",
      "| epoch 27 | test error  0.88406\n",
      "| epoch 28 |  iter 1 / 19 | time 141[s] | loss 0.21\n",
      "| epoch 28 | loss 0.21394\n",
      "| epoch 28 | train error 0.75325\n",
      "| epoch 28 | test error  0.88406\n",
      "| epoch 29 |  iter 1 / 19 | time 146[s] | loss 0.19\n",
      "| epoch 29 | loss 0.19413\n",
      "| epoch 29 | train error 0.78734\n",
      "| epoch 29 | test error  0.88406\n",
      "| epoch 30 |  iter 1 / 19 | time 151[s] | loss 0.19\n",
      "| epoch 30 | loss 0.19222\n",
      "| epoch 30 | train error 0.71753\n",
      "| epoch 30 | test error  0.88406\n",
      "| epoch 31 |  iter 1 / 19 | time 156[s] | loss 0.19\n",
      "| epoch 31 | loss 0.18925\n",
      "| epoch 31 | train error 0.71591\n",
      "| epoch 31 | test error  0.88406\n",
      "| epoch 32 |  iter 1 / 19 | time 161[s] | loss 0.17\n",
      "| epoch 32 | loss 0.17277\n",
      "| epoch 32 | train error 0.68669\n",
      "| epoch 32 | test error  0.79710\n",
      "| epoch 33 |  iter 1 / 19 | time 167[s] | loss 0.17\n",
      "| epoch 33 | loss 0.16777\n",
      "| epoch 33 | train error 0.68344\n",
      "| epoch 33 | test error  0.84058\n",
      "| epoch 34 |  iter 1 / 19 | time 172[s] | loss 0.15\n",
      "| epoch 34 | loss 0.15320\n",
      "| epoch 34 | train error 0.67208\n",
      "| epoch 34 | test error  0.82609\n",
      "| epoch 35 |  iter 1 / 19 | time 177[s] | loss 0.15\n",
      "| epoch 35 | loss 0.15176\n",
      "| epoch 35 | train error 0.64773\n",
      "| epoch 35 | test error  0.81159\n",
      "| epoch 36 |  iter 1 / 19 | time 183[s] | loss 0.14\n",
      "| epoch 36 | loss 0.14227\n",
      "| epoch 36 | train error 0.62825\n",
      "| epoch 36 | test error  0.79710\n",
      "| epoch 37 |  iter 1 / 19 | time 188[s] | loss 0.14\n",
      "| epoch 37 | loss 0.13763\n",
      "| epoch 37 | train error 0.61526\n",
      "| epoch 37 | test error  0.79710\n",
      "| epoch 38 |  iter 1 / 19 | time 193[s] | loss 0.13\n",
      "| epoch 38 | loss 0.13176\n",
      "| epoch 38 | train error 0.63474\n",
      "| epoch 38 | test error  0.73913\n",
      "| epoch 39 |  iter 1 / 19 | time 198[s] | loss 0.13\n",
      "| epoch 39 | loss 0.13068\n",
      "| epoch 39 | train error 0.67370\n",
      "| epoch 39 | test error  0.76812\n",
      "| epoch 40 |  iter 1 / 19 | time 203[s] | loss 0.13\n",
      "| epoch 40 | loss 0.12823\n",
      "| epoch 40 | train error 0.74188\n",
      "| epoch 40 | test error  0.82609\n",
      "| epoch 41 |  iter 1 / 19 | time 209[s] | loss 0.16\n",
      "| epoch 41 | loss 0.15776\n",
      "| epoch 41 | train error 0.65584\n",
      "| epoch 41 | test error  0.84058\n",
      "| epoch 42 |  iter 1 / 19 | time 214[s] | loss 0.15\n",
      "| epoch 42 | loss 0.14554\n",
      "| epoch 42 | train error 0.59416\n",
      "| epoch 42 | test error  0.71014\n",
      "| epoch 43 |  iter 1 / 19 | time 219[s] | loss 0.12\n",
      "| epoch 43 | loss 0.12497\n",
      "| epoch 43 | train error 0.61364\n",
      "| epoch 43 | test error  0.73913\n",
      "| epoch 44 |  iter 1 / 19 | time 224[s] | loss 0.12\n",
      "| epoch 44 | loss 0.11525\n",
      "| epoch 44 | train error 0.59253\n",
      "| epoch 44 | test error  0.72464\n",
      "| epoch 45 |  iter 1 / 19 | time 229[s] | loss 0.11\n",
      "| epoch 45 | loss 0.11116\n",
      "| epoch 45 | train error 0.56169\n",
      "| epoch 45 | test error  0.69565\n",
      "| epoch 46 |  iter 1 / 19 | time 235[s] | loss 0.11\n",
      "| epoch 46 | loss 0.10613\n",
      "| epoch 46 | train error 0.54708\n",
      "| epoch 46 | test error  0.66667\n",
      "| epoch 47 |  iter 1 / 19 | time 240[s] | loss 0.10\n",
      "| epoch 47 | loss 0.10042\n",
      "| epoch 47 | train error 0.55195\n",
      "| epoch 47 | test error  0.68116\n",
      "| epoch 48 |  iter 1 / 19 | time 245[s] | loss 0.10\n",
      "| epoch 48 | loss 0.09868\n",
      "| epoch 48 | train error 0.53247\n",
      "| epoch 48 | test error  0.66667\n",
      "| epoch 49 |  iter 1 / 19 | time 250[s] | loss 0.09\n",
      "| epoch 49 | loss 0.09419\n",
      "| epoch 49 | train error 0.52110\n",
      "| epoch 49 | test error  0.65217\n",
      "| epoch 50 |  iter 1 / 19 | time 255[s] | loss 0.09\n",
      "| epoch 50 | loss 0.09095\n",
      "| epoch 50 | train error 0.48539\n",
      "| epoch 50 | test error  0.63768\n",
      "| epoch 51 |  iter 1 / 19 | time 260[s] | loss 0.09\n",
      "| epoch 51 | loss 0.08951\n",
      "| epoch 51 | train error 0.46591\n",
      "| epoch 51 | test error  0.59420\n",
      "| epoch 52 |  iter 1 / 19 | time 266[s] | loss 0.08\n",
      "| epoch 52 | loss 0.08285\n",
      "| epoch 52 | train error 0.42370\n",
      "| epoch 52 | test error  0.55072\n",
      "| epoch 53 |  iter 1 / 19 | time 271[s] | loss 0.08\n",
      "| epoch 53 | loss 0.08325\n",
      "| epoch 53 | train error 0.45617\n",
      "| epoch 53 | test error  0.59420\n",
      "| epoch 54 |  iter 1 / 19 | time 276[s] | loss 0.08\n",
      "| epoch 54 | loss 0.07642\n",
      "| epoch 54 | train error 0.41883\n",
      "| epoch 54 | test error  0.59420\n",
      "| epoch 55 |  iter 1 / 19 | time 281[s] | loss 0.08\n",
      "| epoch 55 | loss 0.07533\n",
      "| epoch 55 | train error 0.48701\n",
      "| epoch 55 | test error  0.57971\n",
      "| epoch 56 |  iter 1 / 19 | time 287[s] | loss 0.08\n",
      "| epoch 56 | loss 0.07530\n",
      "| epoch 56 | train error 0.40422\n",
      "| epoch 56 | test error  0.53623\n",
      "| epoch 57 |  iter 1 / 19 | time 292[s] | loss 0.07\n",
      "| epoch 57 | loss 0.07364\n",
      "| epoch 57 | train error 0.37013\n",
      "| epoch 57 | test error  0.50725\n",
      "| epoch 58 |  iter 1 / 19 | time 297[s] | loss 0.07\n"
     ]
    },
    {
     "name": "stdout",
     "output_type": "stream",
     "text": [
      "| epoch 58 | loss 0.06856\n",
      "| epoch 58 | train error 0.38312\n",
      "| epoch 58 | test error  0.52174\n",
      "| epoch 59 |  iter 1 / 19 | time 302[s] | loss 0.07\n",
      "| epoch 59 | loss 0.06574\n",
      "| epoch 59 | train error 0.33117\n",
      "| epoch 59 | test error  0.49275\n",
      "| epoch 60 |  iter 1 / 19 | time 307[s] | loss 0.06\n",
      "| epoch 60 | loss 0.06433\n",
      "| epoch 60 | train error 0.33442\n",
      "| epoch 60 | test error  0.53623\n",
      "| epoch 61 |  iter 1 / 19 | time 313[s] | loss 0.06\n",
      "| epoch 61 | loss 0.05808\n",
      "| epoch 61 | train error 0.35065\n",
      "| epoch 61 | test error  0.52174\n",
      "| epoch 62 |  iter 1 / 19 | time 318[s] | loss 0.06\n",
      "| epoch 62 | loss 0.05728\n",
      "| epoch 62 | train error 0.30682\n",
      "| epoch 62 | test error  0.40580\n",
      "| epoch 63 |  iter 1 / 19 | time 323[s] | loss 0.06\n",
      "| epoch 63 | loss 0.05621\n",
      "| epoch 63 | train error 0.36039\n",
      "| epoch 63 | test error  0.50725\n",
      "| epoch 64 |  iter 1 / 19 | time 328[s] | loss 0.05\n",
      "| epoch 64 | loss 0.05476\n",
      "| epoch 64 | train error 0.29870\n",
      "| epoch 64 | test error  0.47826\n",
      "| epoch 65 |  iter 1 / 19 | time 333[s] | loss 0.05\n",
      "| epoch 65 | loss 0.05419\n",
      "| epoch 65 | train error 0.28084\n",
      "| epoch 65 | test error  0.39130\n",
      "| epoch 66 |  iter 1 / 19 | time 339[s] | loss 0.05\n",
      "| epoch 66 | loss 0.04973\n",
      "| epoch 66 | train error 0.28084\n",
      "| epoch 66 | test error  0.34783\n",
      "| epoch 67 |  iter 1 / 19 | time 344[s] | loss 0.05\n",
      "| epoch 67 | loss 0.05037\n",
      "| epoch 67 | train error 0.26786\n",
      "| epoch 67 | test error  0.42029\n",
      "| epoch 68 |  iter 1 / 19 | time 349[s] | loss 0.05\n",
      "| epoch 68 | loss 0.04611\n",
      "| epoch 68 | train error 0.25974\n",
      "| epoch 68 | test error  0.39130\n",
      "| epoch 69 |  iter 1 / 19 | time 354[s] | loss 0.05\n",
      "| epoch 69 | loss 0.04623\n",
      "| epoch 69 | train error 0.27273\n",
      "| epoch 69 | test error  0.42029\n",
      "| epoch 70 |  iter 1 / 19 | time 359[s] | loss 0.04\n",
      "| epoch 70 | loss 0.04456\n",
      "| epoch 70 | train error 0.28409\n",
      "| epoch 70 | test error  0.46377\n",
      "| epoch 71 |  iter 1 / 19 | time 364[s] | loss 0.04\n",
      "| epoch 71 | loss 0.04461\n",
      "| epoch 71 | train error 0.25649\n",
      "| epoch 71 | test error  0.34783\n",
      "| epoch 72 |  iter 1 / 19 | time 369[s] | loss 0.04\n",
      "| epoch 72 | loss 0.04148\n",
      "| epoch 72 | train error 0.24351\n",
      "| epoch 72 | test error  0.39130\n",
      "| epoch 73 |  iter 1 / 19 | time 375[s] | loss 0.04\n",
      "| epoch 73 | loss 0.04119\n",
      "| epoch 73 | train error 0.23701\n",
      "| epoch 73 | test error  0.39130\n",
      "| epoch 74 |  iter 1 / 19 | time 380[s] | loss 0.04\n",
      "| epoch 74 | loss 0.03828\n",
      "| epoch 74 | train error 0.22565\n",
      "| epoch 74 | test error  0.37681\n",
      "| epoch 75 |  iter 1 / 19 | time 385[s] | loss 0.04\n",
      "| epoch 75 | loss 0.04077\n",
      "| epoch 75 | train error 0.24026\n",
      "| epoch 75 | test error  0.37681\n",
      "| epoch 76 |  iter 1 / 19 | time 390[s] | loss 0.04\n",
      "| epoch 76 | loss 0.03644\n",
      "| epoch 76 | train error 0.22565\n",
      "| epoch 76 | test error  0.34783\n",
      "| epoch 77 |  iter 1 / 19 | time 395[s] | loss 0.04\n",
      "| epoch 77 | loss 0.03587\n",
      "| epoch 77 | train error 0.19481\n",
      "| epoch 77 | test error  0.31884\n",
      "| epoch 78 |  iter 1 / 19 | time 401[s] | loss 0.03\n",
      "| epoch 78 | loss 0.03452\n",
      "| epoch 78 | train error 0.20779\n",
      "| epoch 78 | test error  0.31884\n",
      "| epoch 79 |  iter 1 / 19 | time 406[s] | loss 0.03\n",
      "| epoch 79 | loss 0.03196\n",
      "| epoch 79 | train error 0.22565\n",
      "| epoch 79 | test error  0.36232\n",
      "| epoch 80 |  iter 1 / 19 | time 411[s] | loss 0.03\n",
      "| epoch 80 | loss 0.03130\n",
      "| epoch 80 | train error 0.20617\n",
      "| epoch 80 | test error  0.33333\n",
      "| epoch 81 |  iter 1 / 19 | time 416[s] | loss 0.03\n",
      "| epoch 81 | loss 0.03175\n",
      "| epoch 81 | train error 0.17208\n",
      "| epoch 81 | test error  0.30435\n",
      "| epoch 82 |  iter 1 / 19 | time 422[s] | loss 0.03\n",
      "| epoch 82 | loss 0.02935\n",
      "| epoch 82 | train error 0.15747\n",
      "| epoch 82 | test error  0.28986\n",
      "| epoch 83 |  iter 1 / 19 | time 427[s] | loss 0.03\n",
      "| epoch 83 | loss 0.02721\n",
      "| epoch 83 | train error 0.19318\n",
      "| epoch 83 | test error  0.31884\n",
      "| epoch 84 |  iter 1 / 19 | time 432[s] | loss 0.03\n",
      "| epoch 84 | loss 0.02821\n",
      "| epoch 84 | train error 0.17695\n",
      "| epoch 84 | test error  0.34783\n",
      "| epoch 85 |  iter 1 / 19 | time 437[s] | loss 0.03\n",
      "| epoch 85 | loss 0.02913\n",
      "| epoch 85 | train error 0.15097\n",
      "| epoch 85 | test error  0.27536\n",
      "| epoch 86 |  iter 1 / 19 | time 443[s] | loss 0.03\n",
      "| epoch 86 | loss 0.02619\n",
      "| epoch 86 | train error 0.15097\n",
      "| epoch 86 | test error  0.31884\n",
      "| epoch 87 |  iter 1 / 19 | time 448[s] | loss 0.03\n",
      "| epoch 87 | loss 0.02564\n",
      "| epoch 87 | train error 0.15260\n",
      "| epoch 87 | test error  0.33333\n",
      "| epoch 88 |  iter 1 / 19 | time 453[s] | loss 0.02\n",
      "| epoch 88 | loss 0.02482\n",
      "| epoch 88 | train error 0.16721\n",
      "| epoch 88 | test error  0.31884\n",
      "| epoch 89 |  iter 1 / 19 | time 458[s] | loss 0.02\n",
      "| epoch 89 | loss 0.02451\n",
      "| epoch 89 | train error 0.14935\n",
      "| epoch 89 | test error  0.31884\n",
      "| epoch 90 |  iter 1 / 19 | time 463[s] | loss 0.02\n",
      "| epoch 90 | loss 0.02359\n",
      "| epoch 90 | train error 0.16558\n",
      "| epoch 90 | test error  0.28986\n",
      "| epoch 91 |  iter 1 / 19 | time 468[s] | loss 0.02\n",
      "| epoch 91 | loss 0.02286\n",
      "| epoch 91 | train error 0.12825\n",
      "| epoch 91 | test error  0.26087\n",
      "| epoch 92 |  iter 1 / 19 | time 474[s] | loss 0.02\n",
      "| epoch 92 | loss 0.02191\n",
      "| epoch 92 | train error 0.11688\n",
      "| epoch 92 | test error  0.26087\n",
      "| epoch 93 |  iter 1 / 19 | time 479[s] | loss 0.02\n",
      "| epoch 93 | loss 0.02121\n",
      "| epoch 93 | train error 0.13474\n",
      "| epoch 93 | test error  0.26087\n",
      "| epoch 94 |  iter 1 / 19 | time 484[s] | loss 0.02\n",
      "| epoch 94 | loss 0.02012\n",
      "| epoch 94 | train error 0.11201\n",
      "| epoch 94 | test error  0.26087\n",
      "| epoch 95 |  iter 1 / 19 | time 489[s] | loss 0.02\n",
      "| epoch 95 | loss 0.01938\n",
      "| epoch 95 | train error 0.11688\n",
      "| epoch 95 | test error  0.27536\n",
      "| epoch 96 |  iter 1 / 19 | time 494[s] | loss 0.02\n",
      "| epoch 96 | loss 0.01908\n",
      "| epoch 96 | train error 0.08929\n",
      "| epoch 96 | test error  0.24638\n",
      "| epoch 97 |  iter 1 / 19 | time 500[s] | loss 0.02\n",
      "| epoch 97 | loss 0.01858\n",
      "| epoch 97 | train error 0.18019\n",
      "| epoch 97 | test error  0.33333\n",
      "| epoch 98 |  iter 1 / 19 | time 505[s] | loss 0.02\n",
      "| epoch 98 | loss 0.01800\n",
      "| epoch 98 | train error 0.11851\n",
      "| epoch 98 | test error  0.26087\n",
      "| epoch 99 |  iter 1 / 19 | time 510[s] | loss 0.02\n",
      "| epoch 99 | loss 0.02120\n",
      "| epoch 99 | train error 0.10065\n",
      "| epoch 99 | test error  0.30435\n",
      "| epoch 100 |  iter 1 / 19 | time 515[s] | loss 0.02\n",
      "| epoch 100 | loss 0.02103\n",
      "| epoch 100 | train error 0.09416\n",
      "| epoch 100 | test error  0.21739\n"
     ]
    }
   ],
   "source": [
    "# Train\n",
    "trainer.fit(x_train, t_train, x_test, t_test,\n",
    "            max_epoch=max_epoch,\n",
    "            batch_size=batch_size,\n",
    "            max_grad=max_grad)"
   ]
  },
  {
   "cell_type": "markdown",
   "metadata": {},
   "source": [
    "#### パラメータ保存"
   ]
  },
  {
   "cell_type": "code",
   "execution_count": 11,
   "metadata": {},
   "outputs": [],
   "source": [
    "# 保存ファイルのファイル名生成\n",
    "modelname = model.__class__.__name__\n",
    "timestamp = datetime.now().strftime(\"_%y%m%d_%H%M\")"
   ]
  },
  {
   "cell_type": "code",
   "execution_count": 12,
   "metadata": {},
   "outputs": [],
   "source": [
    "# Save parameters\n",
    "pickle_path = model_dir / (pre_train_csv.stem + \"_\" + modelname + '_V' + str(vocab_size) + '_D' + str(wordvec_size) + '_H' + str(hidden_size) + timestamp + '.pkl')\n",
    "model.save_params(file_name=pickle_path)"
   ]
  },
  {
   "cell_type": "markdown",
   "metadata": {},
   "source": [
    "## 転移学習"
   ]
  },
  {
   "cell_type": "code",
   "execution_count": 13,
   "metadata": {
    "scrolled": false
   },
   "outputs": [
    {
     "data": {
      "text/plain": [
       "(array([[ 1,  2,  3, ...,  0,  0,  0],\n",
       "        [ 1,  2, 13, ...,  0,  0,  0],\n",
       "        [ 1,  2, 13, ...,  0,  0,  0],\n",
       "        ...,\n",
       "        [62, 14, 23, ...,  0,  0,  0],\n",
       "        [62, 14, 23, ...,  0,  0,  0],\n",
       "        [14,  8, 20, ...,  0,  0,  0]]), array([[12,  1,  2, ...,  0,  0,  0],\n",
       "        [12,  1,  2, ...,  0,  0,  0],\n",
       "        [12,  1,  2, ...,  0,  0,  0],\n",
       "        ...,\n",
       "        [12, 14, 62, ...,  0,  0,  0],\n",
       "        [12, 14, 62, ...,  0,  0,  0],\n",
       "        [12, 10, 76, ...,  0,  0,  0]]))"
      ]
     },
     "execution_count": 13,
     "metadata": {},
     "output_type": "execute_result"
    }
   ],
   "source": [
    "# データセット読み込み\n",
    "seq.read_csv(target_csv, vocab_init=False)"
   ]
  },
  {
   "cell_type": "code",
   "execution_count": 14,
   "metadata": {},
   "outputs": [],
   "source": [
    "# データセット分割\n",
    "x_train, x_test, t_train, t_test = seq.split_data(seed=1, test_size=0.1)"
   ]
  },
  {
   "cell_type": "code",
   "execution_count": 15,
   "metadata": {
    "scrolled": true
   },
   "outputs": [],
   "source": [
    "# モデル選択\n",
    "model = PeekySeq2seq(vocab_size, wordvec_size, hidden_size)"
   ]
  },
  {
   "cell_type": "code",
   "execution_count": 17,
   "metadata": {},
   "outputs": [],
   "source": [
    "model.load_params(file_name=str(pickle_path))"
   ]
  },
  {
   "cell_type": "code",
   "execution_count": 18,
   "metadata": {},
   "outputs": [],
   "source": [
    "# OptimizerとTrainerインスタンスの初期化\n",
    "optimizer = Adam()\n",
    "trainer = Trainer(model, optimizer)"
   ]
  },
  {
   "cell_type": "code",
   "execution_count": 19,
   "metadata": {},
   "outputs": [
    {
     "name": "stdout",
     "output_type": "stream",
     "text": [
      "| epoch 1 |  iter 1 / 28 | time 0[s] | loss 1.44\n",
      "| epoch 1 |  iter 21 / 28 | time 5[s] | loss 0.54\n",
      "| epoch 1 | loss 0.54239\n",
      "| epoch 1 | train error 0.81114\n",
      "| epoch 1 | test error  0.78431\n",
      "| epoch 2 |  iter 1 / 28 | time 10[s] | loss 0.28\n",
      "| epoch 2 |  iter 21 / 28 | time 14[s] | loss 0.25\n",
      "| epoch 2 | loss 0.24520\n",
      "| epoch 2 | train error 0.74236\n",
      "| epoch 2 | test error  0.70588\n",
      "| epoch 3 |  iter 1 / 28 | time 20[s] | loss 0.23\n",
      "| epoch 3 |  iter 21 / 28 | time 24[s] | loss 0.18\n",
      "| epoch 3 | loss 0.17904\n",
      "| epoch 3 | train error 0.61245\n",
      "| epoch 3 | test error  0.60784\n",
      "| epoch 4 |  iter 1 / 28 | time 30[s] | loss 0.16\n",
      "| epoch 4 |  iter 21 / 28 | time 34[s] | loss 0.14\n",
      "| epoch 4 | loss 0.14096\n",
      "| epoch 4 | train error 0.48581\n",
      "| epoch 4 | test error  0.44118\n",
      "| epoch 5 |  iter 1 / 28 | time 40[s] | loss 0.13\n",
      "| epoch 5 |  iter 21 / 28 | time 45[s] | loss 0.11\n",
      "| epoch 5 | loss 0.11419\n",
      "| epoch 5 | train error 0.45415\n",
      "| epoch 5 | test error  0.38235\n",
      "| epoch 6 |  iter 1 / 28 | time 50[s] | loss 0.12\n",
      "| epoch 6 |  iter 21 / 28 | time 55[s] | loss 0.10\n",
      "| epoch 6 | loss 0.10421\n",
      "| epoch 6 | train error 0.34279\n",
      "| epoch 6 | test error  0.25490\n",
      "| epoch 7 |  iter 1 / 28 | time 60[s] | loss 0.08\n",
      "| epoch 7 |  iter 21 / 28 | time 65[s] | loss 0.09\n",
      "| epoch 7 | loss 0.08772\n",
      "| epoch 7 | train error 0.30131\n",
      "| epoch 7 | test error  0.23529\n",
      "| epoch 8 |  iter 1 / 28 | time 70[s] | loss 0.07\n",
      "| epoch 8 |  iter 21 / 28 | time 75[s] | loss 0.07\n",
      "| epoch 8 | loss 0.07132\n",
      "| epoch 8 | train error 0.29585\n",
      "| epoch 8 | test error  0.27451\n",
      "| epoch 9 |  iter 1 / 28 | time 80[s] | loss 0.08\n",
      "| epoch 9 |  iter 21 / 28 | time 85[s] | loss 0.06\n",
      "| epoch 9 | loss 0.05741\n",
      "| epoch 9 | train error 0.24345\n",
      "| epoch 9 | test error  0.18627\n",
      "| epoch 10 |  iter 1 / 28 | time 90[s] | loss 0.08\n",
      "| epoch 10 |  iter 21 / 28 | time 95[s] | loss 0.06\n",
      "| epoch 10 | loss 0.06347\n",
      "| epoch 10 | train error 0.22271\n",
      "| epoch 10 | test error  0.17647\n",
      "| epoch 11 |  iter 1 / 28 | time 100[s] | loss 0.05\n",
      "| epoch 11 |  iter 21 / 28 | time 105[s] | loss 0.05\n",
      "| epoch 11 | loss 0.05130\n",
      "| epoch 11 | train error 0.23472\n",
      "| epoch 11 | test error  0.17647\n",
      "| epoch 12 |  iter 1 / 28 | time 110[s] | loss 0.05\n",
      "| epoch 12 |  iter 21 / 28 | time 115[s] | loss 0.05\n",
      "| epoch 12 | loss 0.04907\n",
      "| epoch 12 | train error 0.19978\n",
      "| epoch 12 | test error  0.14706\n",
      "| epoch 13 |  iter 1 / 28 | time 120[s] | loss 0.04\n",
      "| epoch 13 |  iter 21 / 28 | time 125[s] | loss 0.04\n",
      "| epoch 13 | loss 0.03592\n",
      "| epoch 13 | train error 0.19214\n",
      "| epoch 13 | test error  0.16667\n",
      "| epoch 14 |  iter 1 / 28 | time 130[s] | loss 0.06\n",
      "| epoch 14 |  iter 21 / 28 | time 135[s] | loss 0.04\n",
      "| epoch 14 | loss 0.03869\n",
      "| epoch 14 | train error 0.19323\n",
      "| epoch 14 | test error  0.14706\n",
      "| epoch 15 |  iter 1 / 28 | time 140[s] | loss 0.04\n",
      "| epoch 15 |  iter 21 / 28 | time 145[s] | loss 0.03\n",
      "| epoch 15 | loss 0.03483\n",
      "| epoch 15 | train error 0.16921\n",
      "| epoch 15 | test error  0.12745\n",
      "| epoch 16 |  iter 1 / 28 | time 150[s] | loss 0.04\n",
      "| epoch 16 |  iter 21 / 28 | time 155[s] | loss 0.03\n",
      "| epoch 16 | loss 0.03426\n",
      "| epoch 16 | train error 0.21288\n",
      "| epoch 16 | test error  0.12745\n",
      "| epoch 17 |  iter 1 / 28 | time 160[s] | loss 0.03\n",
      "| epoch 17 |  iter 21 / 28 | time 165[s] | loss 0.03\n",
      "| epoch 17 | loss 0.03291\n",
      "| epoch 17 | train error 0.16812\n",
      "| epoch 17 | test error  0.13725\n",
      "| epoch 18 |  iter 1 / 28 | time 170[s] | loss 0.03\n",
      "| epoch 18 |  iter 21 / 28 | time 175[s] | loss 0.03\n",
      "| epoch 18 | loss 0.02972\n",
      "| epoch 18 | train error 0.15284\n",
      "| epoch 18 | test error  0.16667\n",
      "| epoch 19 |  iter 1 / 28 | time 180[s] | loss 0.02\n",
      "| epoch 19 |  iter 21 / 28 | time 185[s] | loss 0.03\n",
      "| epoch 19 | loss 0.02749\n",
      "| epoch 19 | train error 0.13865\n",
      "| epoch 19 | test error  0.17647\n",
      "| epoch 20 |  iter 1 / 28 | time 190[s] | loss 0.02\n",
      "| epoch 20 |  iter 21 / 28 | time 195[s] | loss 0.03\n",
      "| epoch 20 | loss 0.03017\n",
      "| epoch 20 | train error 0.16266\n",
      "| epoch 20 | test error  0.13725\n",
      "| epoch 21 |  iter 1 / 28 | time 200[s] | loss 0.02\n",
      "| epoch 21 |  iter 21 / 28 | time 205[s] | loss 0.02\n",
      "| epoch 21 | loss 0.02454\n",
      "| epoch 21 | train error 0.14083\n",
      "| epoch 21 | test error  0.13725\n",
      "| epoch 22 |  iter 1 / 28 | time 210[s] | loss 0.03\n",
      "| epoch 22 |  iter 21 / 28 | time 215[s] | loss 0.02\n",
      "| epoch 22 | loss 0.02219\n",
      "| epoch 22 | train error 0.12118\n",
      "| epoch 22 | test error  0.12745\n",
      "| epoch 23 |  iter 1 / 28 | time 220[s] | loss 0.02\n",
      "| epoch 23 |  iter 21 / 28 | time 225[s] | loss 0.02\n",
      "| epoch 23 | loss 0.02007\n",
      "| epoch 23 | train error 0.11135\n",
      "| epoch 23 | test error  0.13725\n",
      "| epoch 24 |  iter 1 / 28 | time 230[s] | loss 0.02\n",
      "| epoch 24 |  iter 21 / 28 | time 235[s] | loss 0.02\n",
      "| epoch 24 | loss 0.01937\n",
      "| epoch 24 | train error 0.12118\n",
      "| epoch 24 | test error  0.11765\n",
      "| epoch 25 |  iter 1 / 28 | time 240[s] | loss 0.02\n",
      "| epoch 25 |  iter 21 / 28 | time 245[s] | loss 0.02\n",
      "| epoch 25 | loss 0.01961\n",
      "| epoch 25 | train error 0.11463\n",
      "| epoch 25 | test error  0.12745\n",
      "| epoch 26 |  iter 1 / 28 | time 250[s] | loss 0.02\n",
      "| epoch 26 |  iter 21 / 28 | time 255[s] | loss 0.02\n",
      "| epoch 26 | loss 0.01718\n",
      "| epoch 26 | train error 0.11026\n",
      "| epoch 26 | test error  0.15686\n",
      "| epoch 27 |  iter 1 / 28 | time 260[s] | loss 0.02\n",
      "| epoch 27 |  iter 21 / 28 | time 265[s] | loss 0.02\n",
      "| epoch 27 | loss 0.01762\n",
      "| epoch 27 | train error 0.10917\n",
      "| epoch 27 | test error  0.09804\n",
      "| epoch 28 |  iter 1 / 28 | time 270[s] | loss 0.01\n",
      "| epoch 28 |  iter 21 / 28 | time 275[s] | loss 0.02\n",
      "| epoch 28 | loss 0.01750\n",
      "| epoch 28 | train error 0.09498\n",
      "| epoch 28 | test error  0.10784\n",
      "| epoch 29 |  iter 1 / 28 | time 281[s] | loss 0.01\n",
      "| epoch 29 |  iter 21 / 28 | time 285[s] | loss 0.02\n",
      "| epoch 29 | loss 0.01545\n",
      "| epoch 29 | train error 0.09498\n",
      "| epoch 29 | test error  0.10784\n",
      "| epoch 30 |  iter 1 / 28 | time 291[s] | loss 0.01\n",
      "| epoch 30 |  iter 21 / 28 | time 295[s] | loss 0.01\n",
      "| epoch 30 | loss 0.01329\n",
      "| epoch 30 | train error 0.09825\n",
      "| epoch 30 | test error  0.10784\n",
      "| epoch 31 |  iter 1 / 28 | time 301[s] | loss 0.01\n",
      "| epoch 31 |  iter 21 / 28 | time 306[s] | loss 0.02\n",
      "| epoch 31 | loss 0.01511\n",
      "| epoch 31 | train error 0.10371\n",
      "| epoch 31 | test error  0.11765\n",
      "| epoch 32 |  iter 1 / 28 | time 311[s] | loss 0.01\n",
      "| epoch 32 |  iter 21 / 28 | time 316[s] | loss 0.01\n",
      "| epoch 32 | loss 0.01200\n",
      "| epoch 32 | train error 0.09279\n",
      "| epoch 32 | test error  0.13725\n",
      "| epoch 33 |  iter 1 / 28 | time 321[s] | loss 0.02\n",
      "| epoch 33 |  iter 21 / 28 | time 326[s] | loss 0.01\n",
      "| epoch 33 | loss 0.01204\n",
      "| epoch 33 | train error 0.09389\n",
      "| epoch 33 | test error  0.11765\n",
      "| epoch 34 |  iter 1 / 28 | time 331[s] | loss 0.01\n",
      "| epoch 34 |  iter 21 / 28 | time 336[s] | loss 0.01\n",
      "| epoch 34 | loss 0.01227\n",
      "| epoch 34 | train error 0.09716\n",
      "| epoch 34 | test error  0.11765\n",
      "| epoch 35 |  iter 1 / 28 | time 341[s] | loss 0.01\n",
      "| epoch 35 |  iter 21 / 28 | time 346[s] | loss 0.01\n",
      "| epoch 35 | loss 0.01205\n",
      "| epoch 35 | train error 0.09170\n",
      "| epoch 35 | test error  0.13725\n",
      "| epoch 36 |  iter 1 / 28 | time 351[s] | loss 0.01\n",
      "| epoch 36 |  iter 21 / 28 | time 356[s] | loss 0.01\n",
      "| epoch 36 | loss 0.01160\n",
      "| epoch 36 | train error 0.09607\n",
      "| epoch 36 | test error  0.12745\n",
      "| epoch 37 |  iter 1 / 28 | time 361[s] | loss 0.01\n",
      "| epoch 37 |  iter 21 / 28 | time 366[s] | loss 0.01\n",
      "| epoch 37 | loss 0.01173\n",
      "| epoch 37 | train error 0.09061\n",
      "| epoch 37 | test error  0.11765\n",
      "| epoch 38 |  iter 1 / 28 | time 371[s] | loss 0.01\n",
      "| epoch 38 |  iter 21 / 28 | time 376[s] | loss 0.01\n",
      "| epoch 38 | loss 0.01011\n",
      "| epoch 38 | train error 0.09498\n",
      "| epoch 38 | test error  0.11765\n",
      "| epoch 39 |  iter 1 / 28 | time 381[s] | loss 0.01\n",
      "| epoch 39 |  iter 21 / 28 | time 386[s] | loss 0.01\n",
      "| epoch 39 | loss 0.01168\n",
      "| epoch 39 | train error 0.09607\n",
      "| epoch 39 | test error  0.10784\n",
      "| epoch 40 |  iter 1 / 28 | time 391[s] | loss 0.01\n",
      "| epoch 40 |  iter 21 / 28 | time 396[s] | loss 0.01\n",
      "| epoch 40 | loss 0.01076\n",
      "| epoch 40 | train error 0.08515\n",
      "| epoch 40 | test error  0.13725\n",
      "| epoch 41 |  iter 1 / 28 | time 401[s] | loss 0.01\n",
      "| epoch 41 |  iter 21 / 28 | time 406[s] | loss 0.01\n",
      "| epoch 41 | loss 0.01002\n",
      "| epoch 41 | train error 0.09170\n",
      "| epoch 41 | test error  0.12745\n",
      "| epoch 42 |  iter 1 / 28 | time 412[s] | loss 0.01\n",
      "| epoch 42 |  iter 21 / 28 | time 417[s] | loss 0.01\n",
      "| epoch 42 | loss 0.00932\n",
      "| epoch 42 | train error 0.09061\n",
      "| epoch 42 | test error  0.13725\n"
     ]
    },
    {
     "name": "stdout",
     "output_type": "stream",
     "text": [
      "| epoch 43 |  iter 1 / 28 | time 422[s] | loss 0.01\n",
      "| epoch 43 |  iter 21 / 28 | time 427[s] | loss 0.01\n",
      "| epoch 43 | loss 0.00992\n",
      "| epoch 43 | train error 0.09170\n",
      "| epoch 43 | test error  0.15686\n",
      "| epoch 44 |  iter 1 / 28 | time 432[s] | loss 0.01\n",
      "| epoch 44 |  iter 21 / 28 | time 437[s] | loss 0.01\n",
      "| epoch 44 | loss 0.00988\n",
      "| epoch 44 | train error 0.09498\n",
      "| epoch 44 | test error  0.10784\n",
      "| epoch 45 |  iter 1 / 28 | time 442[s] | loss 0.01\n",
      "| epoch 45 |  iter 21 / 28 | time 447[s] | loss 0.01\n",
      "| epoch 45 | loss 0.00924\n",
      "| epoch 45 | train error 0.09061\n",
      "| epoch 45 | test error  0.11765\n",
      "| epoch 46 |  iter 1 / 28 | time 452[s] | loss 0.01\n",
      "| epoch 46 |  iter 21 / 28 | time 457[s] | loss 0.01\n",
      "| epoch 46 | loss 0.00923\n",
      "| epoch 46 | train error 0.09170\n",
      "| epoch 46 | test error  0.13725\n",
      "| epoch 47 |  iter 1 / 28 | time 462[s] | loss 0.01\n",
      "| epoch 47 |  iter 21 / 28 | time 468[s] | loss 0.01\n",
      "| epoch 47 | loss 0.00857\n",
      "| epoch 47 | train error 0.08624\n",
      "| epoch 47 | test error  0.11765\n",
      "| epoch 48 |  iter 1 / 28 | time 473[s] | loss 0.01\n",
      "| epoch 48 |  iter 21 / 28 | time 478[s] | loss 0.01\n",
      "| epoch 48 | loss 0.00832\n",
      "| epoch 48 | train error 0.08843\n",
      "| epoch 48 | test error  0.13725\n",
      "| epoch 49 |  iter 1 / 28 | time 483[s] | loss 0.01\n",
      "| epoch 49 |  iter 21 / 28 | time 488[s] | loss 0.01\n",
      "| epoch 49 | loss 0.00823\n",
      "| epoch 49 | train error 0.08515\n",
      "| epoch 49 | test error  0.12745\n",
      "| epoch 50 |  iter 1 / 28 | time 493[s] | loss 0.01\n",
      "| epoch 50 |  iter 21 / 28 | time 498[s] | loss 0.01\n",
      "| epoch 50 | loss 0.00812\n",
      "| epoch 50 | train error 0.08734\n",
      "| epoch 50 | test error  0.11765\n",
      "| epoch 51 |  iter 1 / 28 | time 503[s] | loss 0.01\n",
      "| epoch 51 |  iter 21 / 28 | time 508[s] | loss 0.01\n",
      "| epoch 51 | loss 0.00888\n",
      "| epoch 51 | train error 0.10262\n",
      "| epoch 51 | test error  0.10784\n",
      "| epoch 52 |  iter 1 / 28 | time 513[s] | loss 0.01\n",
      "| epoch 52 |  iter 21 / 28 | time 518[s] | loss 0.01\n",
      "| epoch 52 | loss 0.00811\n",
      "| epoch 52 | train error 0.08624\n",
      "| epoch 52 | test error  0.13725\n",
      "| epoch 53 |  iter 1 / 28 | time 524[s] | loss 0.01\n",
      "| epoch 53 |  iter 21 / 28 | time 528[s] | loss 0.01\n",
      "| epoch 53 | loss 0.00799\n",
      "| epoch 53 | train error 0.09170\n",
      "| epoch 53 | test error  0.12745\n",
      "| epoch 54 |  iter 1 / 28 | time 534[s] | loss 0.01\n",
      "| epoch 54 |  iter 21 / 28 | time 538[s] | loss 0.01\n",
      "| epoch 54 | loss 0.00816\n",
      "| epoch 54 | train error 0.08843\n",
      "| epoch 54 | test error  0.12745\n",
      "| epoch 55 |  iter 1 / 28 | time 544[s] | loss 0.01\n",
      "| epoch 55 |  iter 21 / 28 | time 549[s] | loss 0.01\n",
      "| epoch 55 | loss 0.00777\n",
      "| epoch 55 | train error 0.08515\n",
      "| epoch 55 | test error  0.13725\n",
      "| epoch 56 |  iter 1 / 28 | time 554[s] | loss 0.01\n",
      "| epoch 56 |  iter 21 / 28 | time 559[s] | loss 0.01\n",
      "| epoch 56 | loss 0.00873\n",
      "| epoch 56 | train error 0.08952\n",
      "| epoch 56 | test error  0.11765\n",
      "| epoch 57 |  iter 1 / 28 | time 564[s] | loss 0.01\n",
      "| epoch 57 |  iter 21 / 28 | time 569[s] | loss 0.01\n",
      "| epoch 57 | loss 0.00803\n",
      "| epoch 57 | train error 0.08515\n",
      "| epoch 57 | test error  0.11765\n",
      "| epoch 58 |  iter 1 / 28 | time 574[s] | loss 0.01\n",
      "| epoch 58 |  iter 21 / 28 | time 579[s] | loss 0.01\n",
      "| epoch 58 | loss 0.00774\n",
      "| epoch 58 | train error 0.09170\n",
      "| epoch 58 | test error  0.11765\n",
      "| epoch 59 |  iter 1 / 28 | time 584[s] | loss 0.01\n",
      "| epoch 59 |  iter 21 / 28 | time 589[s] | loss 0.01\n",
      "| epoch 59 | loss 0.00756\n",
      "| epoch 59 | train error 0.08624\n",
      "| epoch 59 | test error  0.12745\n",
      "| epoch 60 |  iter 1 / 28 | time 594[s] | loss 0.01\n",
      "| epoch 60 |  iter 21 / 28 | time 599[s] | loss 0.01\n",
      "| epoch 60 | loss 0.00843\n",
      "| epoch 60 | train error 0.09607\n",
      "| epoch 60 | test error  0.12745\n",
      "| epoch 61 |  iter 1 / 28 | time 604[s] | loss 0.01\n",
      "| epoch 61 |  iter 21 / 28 | time 609[s] | loss 0.01\n",
      "| epoch 61 | loss 0.00758\n",
      "| epoch 61 | train error 0.08297\n",
      "| epoch 61 | test error  0.12745\n",
      "| epoch 62 |  iter 1 / 28 | time 614[s] | loss 0.01\n",
      "| epoch 62 |  iter 21 / 28 | time 619[s] | loss 0.01\n",
      "| epoch 62 | loss 0.00823\n",
      "| epoch 62 | train error 0.08515\n",
      "| epoch 62 | test error  0.11765\n",
      "| epoch 63 |  iter 1 / 28 | time 624[s] | loss 0.01\n",
      "| epoch 63 |  iter 21 / 28 | time 630[s] | loss 0.01\n",
      "| epoch 63 | loss 0.00744\n",
      "| epoch 63 | train error 0.09825\n",
      "| epoch 63 | test error  0.13725\n",
      "| epoch 64 |  iter 1 / 28 | time 635[s] | loss 0.01\n",
      "| epoch 64 |  iter 21 / 28 | time 640[s] | loss 0.01\n",
      "| epoch 64 | loss 0.00737\n",
      "| epoch 64 | train error 0.08624\n",
      "| epoch 64 | test error  0.13725\n",
      "| epoch 65 |  iter 1 / 28 | time 645[s] | loss 0.01\n",
      "| epoch 65 |  iter 21 / 28 | time 650[s] | loss 0.01\n",
      "| epoch 65 | loss 0.00756\n",
      "| epoch 65 | train error 0.08843\n",
      "| epoch 65 | test error  0.11765\n",
      "| epoch 66 |  iter 1 / 28 | time 655[s] | loss 0.01\n",
      "| epoch 66 |  iter 21 / 28 | time 660[s] | loss 0.01\n",
      "| epoch 66 | loss 0.00658\n",
      "| epoch 66 | train error 0.08406\n",
      "| epoch 66 | test error  0.12745\n",
      "| epoch 67 |  iter 1 / 28 | time 665[s] | loss 0.01\n",
      "| epoch 67 |  iter 21 / 28 | time 670[s] | loss 0.01\n",
      "| epoch 67 | loss 0.00704\n",
      "| epoch 67 | train error 0.08406\n",
      "| epoch 67 | test error  0.13725\n",
      "| epoch 68 |  iter 1 / 28 | time 675[s] | loss 0.01\n",
      "| epoch 68 |  iter 21 / 28 | time 680[s] | loss 0.01\n",
      "| epoch 68 | loss 0.00718\n",
      "| epoch 68 | train error 0.08843\n",
      "| epoch 68 | test error  0.12745\n",
      "| epoch 69 |  iter 1 / 28 | time 685[s] | loss 0.01\n",
      "| epoch 69 |  iter 21 / 28 | time 690[s] | loss 0.01\n",
      "| epoch 69 | loss 0.00653\n",
      "| epoch 69 | train error 0.08515\n",
      "| epoch 69 | test error  0.13725\n",
      "| epoch 70 |  iter 1 / 28 | time 695[s] | loss 0.01\n",
      "| epoch 70 |  iter 21 / 28 | time 700[s] | loss 0.01\n",
      "| epoch 70 | loss 0.00660\n",
      "| epoch 70 | train error 0.08515\n",
      "| epoch 70 | test error  0.11765\n",
      "| epoch 71 |  iter 1 / 28 | time 705[s] | loss 0.01\n",
      "| epoch 71 |  iter 21 / 28 | time 710[s] | loss 0.01\n",
      "| epoch 71 | loss 0.00663\n",
      "| epoch 71 | train error 0.08515\n",
      "| epoch 71 | test error  0.14706\n",
      "| epoch 72 |  iter 1 / 28 | time 715[s] | loss 0.01\n",
      "| epoch 72 |  iter 21 / 28 | time 720[s] | loss 0.01\n",
      "| epoch 72 | loss 0.00606\n",
      "| epoch 72 | train error 0.08515\n",
      "| epoch 72 | test error  0.12745\n",
      "| epoch 73 |  iter 1 / 28 | time 725[s] | loss 0.01\n",
      "| epoch 73 |  iter 21 / 28 | time 730[s] | loss 0.01\n",
      "| epoch 73 | loss 0.00671\n",
      "| epoch 73 | train error 0.08734\n",
      "| epoch 73 | test error  0.13725\n",
      "| epoch 74 |  iter 1 / 28 | time 735[s] | loss 0.01\n",
      "| epoch 74 |  iter 21 / 28 | time 740[s] | loss 0.01\n",
      "| epoch 74 | loss 0.00612\n",
      "| epoch 74 | train error 0.09061\n",
      "| epoch 74 | test error  0.10784\n",
      "| epoch 75 |  iter 1 / 28 | time 745[s] | loss 0.01\n",
      "| epoch 75 |  iter 21 / 28 | time 750[s] | loss 0.01\n",
      "| epoch 75 | loss 0.00683\n",
      "| epoch 75 | train error 0.09389\n",
      "| epoch 75 | test error  0.09804\n",
      "| epoch 76 |  iter 1 / 28 | time 755[s] | loss 0.01\n",
      "| epoch 76 |  iter 21 / 28 | time 760[s] | loss 0.01\n",
      "| epoch 76 | loss 0.00645\n",
      "| epoch 76 | train error 0.08406\n",
      "| epoch 76 | test error  0.12745\n",
      "| epoch 77 |  iter 1 / 28 | time 765[s] | loss 0.01\n",
      "| epoch 77 |  iter 21 / 28 | time 770[s] | loss 0.01\n",
      "| epoch 77 | loss 0.00694\n",
      "| epoch 77 | train error 0.08406\n",
      "| epoch 77 | test error  0.11765\n",
      "| epoch 78 |  iter 1 / 28 | time 775[s] | loss 0.01\n",
      "| epoch 78 |  iter 21 / 28 | time 780[s] | loss 0.01\n",
      "| epoch 78 | loss 0.00608\n",
      "| epoch 78 | train error 0.08406\n",
      "| epoch 78 | test error  0.13725\n",
      "| epoch 79 |  iter 1 / 28 | time 785[s] | loss 0.01\n",
      "| epoch 79 |  iter 21 / 28 | time 790[s] | loss 0.01\n",
      "| epoch 79 | loss 0.00602\n",
      "| epoch 79 | train error 0.08406\n",
      "| epoch 79 | test error  0.13725\n",
      "| epoch 80 |  iter 1 / 28 | time 795[s] | loss 0.01\n",
      "| epoch 80 |  iter 21 / 28 | time 800[s] | loss 0.01\n",
      "| epoch 80 | loss 0.00603\n",
      "| epoch 80 | train error 0.08624\n",
      "| epoch 80 | test error  0.12745\n",
      "| epoch 81 |  iter 1 / 28 | time 805[s] | loss 0.01\n",
      "| epoch 81 |  iter 21 / 28 | time 810[s] | loss 0.01\n",
      "| epoch 81 | loss 0.00594\n",
      "| epoch 81 | train error 0.08734\n",
      "| epoch 81 | test error  0.13725\n",
      "| epoch 82 |  iter 1 / 28 | time 815[s] | loss 0.01\n",
      "| epoch 82 |  iter 21 / 28 | time 820[s] | loss 0.01\n",
      "| epoch 82 | loss 0.00584\n",
      "| epoch 82 | train error 0.08624\n",
      "| epoch 82 | test error  0.12745\n",
      "| epoch 83 |  iter 1 / 28 | time 825[s] | loss 0.01\n",
      "| epoch 83 |  iter 21 / 28 | time 830[s] | loss 0.01\n",
      "| epoch 83 | loss 0.00585\n",
      "| epoch 83 | train error 0.08515\n",
      "| epoch 83 | test error  0.13725\n",
      "| epoch 84 |  iter 1 / 28 | time 835[s] | loss 0.01\n",
      "| epoch 84 |  iter 21 / 28 | time 840[s] | loss 0.01\n",
      "| epoch 84 | loss 0.00593\n"
     ]
    },
    {
     "name": "stdout",
     "output_type": "stream",
     "text": [
      "| epoch 84 | train error 0.08406\n",
      "| epoch 84 | test error  0.11765\n",
      "| epoch 85 |  iter 1 / 28 | time 845[s] | loss 0.01\n",
      "| epoch 85 |  iter 21 / 28 | time 850[s] | loss 0.01\n",
      "| epoch 85 | loss 0.00593\n",
      "| epoch 85 | train error 0.08515\n",
      "| epoch 85 | test error  0.13725\n",
      "| epoch 86 |  iter 1 / 28 | time 855[s] | loss 0.01\n",
      "| epoch 86 |  iter 21 / 28 | time 860[s] | loss 0.01\n",
      "| epoch 86 | loss 0.00561\n",
      "| epoch 86 | train error 0.08515\n",
      "| epoch 86 | test error  0.14706\n",
      "| epoch 87 |  iter 1 / 28 | time 865[s] | loss 0.01\n",
      "| epoch 87 |  iter 21 / 28 | time 870[s] | loss 0.01\n",
      "| epoch 87 | loss 0.00614\n",
      "| epoch 87 | train error 0.08624\n",
      "| epoch 87 | test error  0.13725\n",
      "| epoch 88 |  iter 1 / 28 | time 875[s] | loss 0.01\n",
      "| epoch 88 |  iter 21 / 28 | time 880[s] | loss 0.01\n",
      "| epoch 88 | loss 0.00572\n",
      "| epoch 88 | train error 0.08406\n",
      "| epoch 88 | test error  0.12745\n",
      "| epoch 89 |  iter 1 / 28 | time 885[s] | loss 0.01\n",
      "| epoch 89 |  iter 21 / 28 | time 890[s] | loss 0.01\n",
      "| epoch 89 | loss 0.00595\n",
      "| epoch 89 | train error 0.08624\n",
      "| epoch 89 | test error  0.11765\n",
      "| epoch 90 |  iter 1 / 28 | time 895[s] | loss 0.01\n",
      "| epoch 90 |  iter 21 / 28 | time 900[s] | loss 0.01\n",
      "| epoch 90 | loss 0.00546\n",
      "| epoch 90 | train error 0.08297\n",
      "| epoch 90 | test error  0.12745\n",
      "| epoch 91 |  iter 1 / 28 | time 905[s] | loss 0.01\n",
      "| epoch 91 |  iter 21 / 28 | time 909[s] | loss 0.01\n",
      "| epoch 91 | loss 0.00651\n",
      "| epoch 91 | train error 0.08734\n",
      "| epoch 91 | test error  0.12745\n",
      "| epoch 92 |  iter 1 / 28 | time 915[s] | loss 0.00\n",
      "| epoch 92 |  iter 21 / 28 | time 919[s] | loss 0.01\n",
      "| epoch 92 | loss 0.00612\n",
      "| epoch 92 | train error 0.08515\n",
      "| epoch 92 | test error  0.13725\n",
      "| epoch 93 |  iter 1 / 28 | time 925[s] | loss 0.01\n",
      "| epoch 93 |  iter 21 / 28 | time 929[s] | loss 0.01\n",
      "| epoch 93 | loss 0.00580\n",
      "| epoch 93 | train error 0.08406\n",
      "| epoch 93 | test error  0.13725\n",
      "| epoch 94 |  iter 1 / 28 | time 935[s] | loss 0.01\n",
      "| epoch 94 |  iter 21 / 28 | time 939[s] | loss 0.01\n",
      "| epoch 94 | loss 0.00649\n",
      "| epoch 94 | train error 0.09716\n",
      "| epoch 94 | test error  0.14706\n",
      "| epoch 95 |  iter 1 / 28 | time 945[s] | loss 0.01\n",
      "| epoch 95 |  iter 21 / 28 | time 949[s] | loss 0.02\n",
      "| epoch 95 | loss 0.01554\n",
      "| epoch 95 | train error 0.27838\n",
      "| epoch 95 | test error  0.26471\n",
      "| epoch 96 |  iter 1 / 28 | time 954[s] | loss 0.03\n",
      "| epoch 96 |  iter 21 / 28 | time 959[s] | loss 0.03\n",
      "| epoch 96 | loss 0.03216\n",
      "| epoch 96 | train error 0.17576\n",
      "| epoch 96 | test error  0.16667\n",
      "| epoch 97 |  iter 1 / 28 | time 964[s] | loss 0.02\n",
      "| epoch 97 |  iter 21 / 28 | time 969[s] | loss 0.02\n",
      "| epoch 97 | loss 0.01569\n",
      "| epoch 97 | train error 0.10480\n",
      "| epoch 97 | test error  0.13725\n",
      "| epoch 98 |  iter 1 / 28 | time 974[s] | loss 0.01\n",
      "| epoch 98 |  iter 21 / 28 | time 979[s] | loss 0.01\n",
      "| epoch 98 | loss 0.01087\n",
      "| epoch 98 | train error 0.08952\n",
      "| epoch 98 | test error  0.14706\n",
      "| epoch 99 |  iter 1 / 28 | time 984[s] | loss 0.01\n",
      "| epoch 99 |  iter 21 / 28 | time 989[s] | loss 0.01\n",
      "| epoch 99 | loss 0.00875\n",
      "| epoch 99 | train error 0.09061\n",
      "| epoch 99 | test error  0.13725\n",
      "| epoch 100 |  iter 1 / 28 | time 994[s] | loss 0.01\n",
      "| epoch 100 |  iter 21 / 28 | time 999[s] | loss 0.01\n",
      "| epoch 100 | loss 0.00747\n",
      "| epoch 100 | train error 0.08734\n",
      "| epoch 100 | test error  0.14706\n"
     ]
    }
   ],
   "source": [
    "# Train\n",
    "trainer.fit(x_train, t_train, x_test, t_test,\n",
    "            max_epoch=max_epoch,\n",
    "            batch_size=batch_size,\n",
    "            max_grad=max_grad)"
   ]
  },
  {
   "cell_type": "markdown",
   "metadata": {},
   "source": [
    "### 推論"
   ]
  },
  {
   "cell_type": "code",
   "execution_count": 18,
   "metadata": {},
   "outputs": [],
   "source": [
    "# Inference\n",
    "start_id = seq.start_id\n",
    "sample_size = seq.t_length\n",
    "guess_train = model.generate(x_train, start_id, sample_size)\n",
    "guess_test = model.generate(x_test, start_id, sample_size)"
   ]
  },
  {
   "cell_type": "markdown",
   "metadata": {},
   "source": [
    "### 結果の保存"
   ]
  },
  {
   "cell_type": "code",
   "execution_count": 19,
   "metadata": {},
   "outputs": [],
   "source": [
    "# 保存ファイルのファイル名生成\n",
    "modelname = model.__class__.__name__\n",
    "timestamp = datetime.now().strftime(\"_%y%m%d_%H%M\")\n",
    "save_dir = result_dir / (\"transfer\" + timestamp)\n",
    "os.makedirs(save_dir, exist_ok=True)"
   ]
  },
  {
   "cell_type": "code",
   "execution_count": 20,
   "metadata": {},
   "outputs": [
    {
     "name": "stdout",
     "output_type": "stream",
     "text": [
      "Accuracy: 0.9967532467532467\n",
      "Accuracy: 0.782608695652174\n"
     ]
    }
   ],
   "source": [
    "# Save result as csv\n",
    "result_train_csv = save_dir /  (\"result_transfer_\" + modelname + \"_train.csv\")\n",
    "result_test_csv = save_dir / (\"result_transfer_\" + modelname + \"_test.csv\")\n",
    "df_result_train = seq.result_to_csv(result_train_csv, x_train, t_train, guess_train, encoding=encoding)\n",
    "df_result_test = seq.result_to_csv(result_test_csv, x_test, t_test, guess_test, encoding=encoding)"
   ]
  },
  {
   "cell_type": "code",
   "execution_count": 21,
   "metadata": {
    "scrolled": true
   },
   "outputs": [
    {
     "data": {
      "image/png": "[encoded data removed]",
      "text/plain": [
       "<Figure size 432x288 with 2 Axes>"
      ]
     },
     "metadata": {},
     "output_type": "display_data"
    }
   ],
   "source": [
    "# Plot learning curve and save it as png image\n",
    "image_path = save_dir / ('result_transfer_' + modelname + '.png')\n",
    "trainer.plot(image_path=image_path)"
   ]
  },
  {
   "cell_type": "code",
   "execution_count": 22,
   "metadata": {},
   "outputs": [],
   "source": [
    "# Save parameters\n",
    "pickle_path = model_dir / (\"transfer_\" + modelname + '_V' + str(vocab_size) + '_D' + str(wordvec_size) + '_H' + str(hidden_size) + timestamp + '.pkl')\n",
    "model.save_params(file_name=pickle_path)"
   ]
  },
  {
   "cell_type": "markdown",
   "metadata": {},
   "source": [
    "## 確信度の取得"
   ]
  },
  {
   "cell_type": "code",
   "execution_count": 177,
   "metadata": {},
   "outputs": [],
   "source": [
    "model.load_params(file_name=str(pickle_path))"
   ]
  },
  {
   "cell_type": "code",
   "execution_count": 484,
   "metadata": {
    "scrolled": true
   },
   "outputs": [],
   "source": [
    "# Inference with certainty factor\n",
    "start_id = seq.start_id\n",
    "sample_size = seq.t_length\n",
    "guess_train, cf_train = model.generate_with_cf(x_train, start_id, sample_size)\n",
    "guess_test, cf_test = model.generate_with_cf(x_test, start_id, sample_size)"
   ]
  },
  {
   "cell_type": "code",
   "execution_count": 485,
   "metadata": {},
   "outputs": [],
   "source": [
    "# 保存ファイルのファイル名生成\n",
    "modelname = model.__class__.__name__\n",
    "timestamp = datetime.now().strftime(\"_%y%m%d_%H%M\")\n",
    "save_dir = result_dir / (dataset_name + timestamp)\n",
    "os.makedirs(save_dir, exist_ok=True)"
   ]
  },
  {
   "cell_type": "code",
   "execution_count": 488,
   "metadata": {
    "scrolled": false
   },
   "outputs": [
    {
     "name": "stdout",
     "output_type": "stream",
     "text": [
      "Accuracy: 0.898471615720524\n",
      "Accuracy: 0.8627450980392157\n"
     ]
    }
   ],
   "source": [
    "# Save result as csv\n",
    "result_train_csv = save_dir /  (\"result_\" + dataset_name + \"_\" + modelname + \"_train.csv\")\n",
    "result_test_csv = save_dir / (\"result_\" + dataset_name + \"_\" + modelname + \"_test.csv\")\n",
    "df_result_train = seq.result_to_csv(result_train_csv, x_train, t_train, guess_train, cf=cf_train, encoding=encoding)\n",
    "df_result_test = seq.result_to_csv(result_test_csv, x_test, t_test, guess_test, cf=cf_test, encoding=encoding)"
   ]
  },
  {
   "cell_type": "code",
   "execution_count": 109,
   "metadata": {},
   "outputs": [],
   "source": [
    "def cf_filter(df):\n",
    "    for factor in np.arange(0.90, 1.00, 0.01):\n",
    "        print(\"cf={:.2f}\".format(factor))\n",
    "        print(\" correct   :\", df.query('correct == 1 and cf < {}'.format(factor)).shape[0])\n",
    "        print(\" incorrect :\", df.query('correct == 0 and cf < {}'.format(factor)).shape[0])"
   ]
  },
  {
   "cell_type": "code",
   "execution_count": 342,
   "metadata": {
    "scrolled": false
   },
   "outputs": [
    {
     "name": "stdout",
     "output_type": "stream",
     "text": [
      "cf=0.90\n",
      " correct   : 4\n",
      " incorrect : 5\n",
      "cf=0.91\n",
      " correct   : 4\n",
      " incorrect : 5\n",
      "cf=0.92\n",
      " correct   : 5\n",
      " incorrect : 5\n",
      "cf=0.93\n",
      " correct   : 7\n",
      " incorrect : 7\n",
      "cf=0.94\n",
      " correct   : 7\n",
      " incorrect : 7\n",
      "cf=0.95\n",
      " correct   : 12\n",
      " incorrect : 16\n",
      "cf=0.96\n",
      " correct   : 19\n",
      " incorrect : 20\n",
      "cf=0.97\n",
      " correct   : 40\n",
      " incorrect : 30\n",
      "cf=0.98\n",
      " correct   : 93\n",
      " incorrect : 56\n",
      "cf=0.99\n",
      " correct   : 223\n",
      " incorrect : 80\n"
     ]
    }
   ],
   "source": [
    "cf_filter(df_result_train)"
   ]
  },
  {
   "cell_type": "code",
   "execution_count": 277,
   "metadata": {
    "scrolled": true
   },
   "outputs": [
    {
     "name": "stdout",
     "output_type": "stream",
     "text": [
      "cf=0.90\n",
      " correct   : 0\n",
      " incorrect : 0\n",
      "cf=0.91\n",
      " correct   : 0\n",
      " incorrect : 0\n",
      "cf=0.92\n",
      " correct   : 0\n",
      " incorrect : 0\n",
      "cf=0.93\n",
      " correct   : 0\n",
      " incorrect : 0\n",
      "cf=0.94\n",
      " correct   : 0\n",
      " incorrect : 0\n",
      "cf=0.95\n",
      " correct   : 0\n",
      " incorrect : 0\n",
      "cf=0.96\n",
      " correct   : 0\n",
      " incorrect : 0\n",
      "cf=0.97\n",
      " correct   : 0\n",
      " incorrect : 0\n",
      "cf=0.98\n",
      " correct   : 0\n",
      " incorrect : 0\n",
      "cf=0.99\n",
      " correct   : 88\n",
      " incorrect : 14\n"
     ]
    }
   ],
   "source": [
    "cf_filter(df_result_test)"
   ]
  },
  {
   "cell_type": "code",
   "execution_count": 430,
   "metadata": {
    "scrolled": true
   },
   "outputs": [
    {
     "data": {
      "text/plain": [
       "1    823\n",
       "0     93\n",
       "Name: correct, dtype: int64"
      ]
     },
     "execution_count": 430,
     "metadata": {},
     "output_type": "execute_result"
    }
   ],
   "source": [
    "corrects = df_result_train['correct'].value_counts()\n",
    "corrects"
   ]
  },
  {
   "cell_type": "code",
   "execution_count": 196,
   "metadata": {},
   "outputs": [],
   "source": [
    "def accuracy(df, cf):\n",
    "    df_passed = df.query('cf > {}'.format(cf))\n",
    "    if len(df_passed) > 0:\n",
    "        nb_corrects = df_passed['correct'].value_counts()[1]\n",
    "        return nb_corrects / len(df_passed)\n",
    "    else:\n",
    "        return 0"
   ]
  },
  {
   "cell_type": "code",
   "execution_count": 135,
   "metadata": {},
   "outputs": [],
   "source": [
    "def passing_rate(df, cf):\n",
    "    nb_passing = len(df.query('cf >= {}'.format(cf)))\n",
    "    return nb_passing / len(df)"
   ]
  },
  {
   "cell_type": "code",
   "execution_count": 526,
   "metadata": {
    "scrolled": false
   },
   "outputs": [
    {
     "data": {
      "text/plain": [
       "0.9827586206896551"
      ]
     },
     "execution_count": 526,
     "metadata": {},
     "output_type": "execute_result"
    }
   ],
   "source": [
    "accuracy(df_result_test, 0.992)"
   ]
  },
  {
   "cell_type": "code",
   "execution_count": 527,
   "metadata": {},
   "outputs": [
    {
     "data": {
      "text/plain": [
       "0.5686274509803921"
      ]
     },
     "execution_count": 527,
     "metadata": {},
     "output_type": "execute_result"
    }
   ],
   "source": [
    "passing_rate(df_result_test, 0.992)"
   ]
  },
  {
   "cell_type": "code",
   "execution_count": 489,
   "metadata": {},
   "outputs": [],
   "source": [
    "def accuracy_by_cf(df):\n",
    "    acc_list = []\n",
    "    pr_list = []\n",
    "    for cf in np.arange(0.90, 1.00, 0.001):\n",
    "#         print(\"cf={:.2f}\".format(cf))\n",
    "        acc = accuracy(df, cf)\n",
    "        pr  = passing_rate(df, cf)\n",
    "#         print(\"  Accuracy     :\", acc)\n",
    "#         print(\"  Passing rate :\", pr)\n",
    "        acc_list.append(acc)\n",
    "        pr_list.append(pr)\n",
    "    return acc_list, pr_list"
   ]
  },
  {
   "cell_type": "code",
   "execution_count": 490,
   "metadata": {
    "scrolled": true
   },
   "outputs": [],
   "source": [
    "acc_train, pr_train = accuracy_by_cf(df_result_train)"
   ]
  },
  {
   "cell_type": "code",
   "execution_count": 491,
   "metadata": {},
   "outputs": [],
   "source": [
    "acc_test, pr_test = accuracy_by_cf(df_result_test)"
   ]
  },
  {
   "cell_type": "code",
   "execution_count": 469,
   "metadata": {},
   "outputs": [
    {
     "data": {
      "text/plain": [
       "[]"
      ]
     },
     "execution_count": 469,
     "metadata": {},
     "output_type": "execute_result"
    },
    {
     "data": {
      "image/png": "[encoded data removed]",
      "text/plain": [
       "<Figure size 432x288 with 1 Axes>"
      ]
     },
     "metadata": {
      "needs_background": "light"
     },
     "output_type": "display_data"
    }
   ],
   "source": [
    "x = np.arange(0.90, 1.00, 0.001)\n",
    "fig, ax = plt.subplots()\n",
    "color_acc = 'orange'\n",
    "color_pr = 'blue'\n",
    "ax.plot(x, acc_train, color=color_acc, label='train accuracy')\n",
    "ax.plot(x, pr_train, color=color_pr, label='train passing rate')\n",
    "ax.plot(x, acc_test, color=color_acc, linestyle='dashed', label='test accuracy')\n",
    "ax.plot(x, pr_test, color=color_pr, linestyle='dashed', label='test passing rate')\n",
    "ax.grid(True)\n",
    "plt.xlabel('certainty factor')\n",
    "ax.set_ylim(0.7, 1.01)\n",
    "ax.legend()\n",
    "plt.savefig('./accuracy_and_passing-rate.png')\n",
    "plt.plot()"
   ]
  },
  {
   "cell_type": "code",
   "execution_count": null,
   "metadata": {},
   "outputs": [],
   "source": []
  }
 ],
 "metadata": {
  "hide_input": false,
  "kernelspec": {
   "display_name": "Python 3",
   "language": "python",
   "name": "python3"
  },
  "language_info": {
   "codemirror_mode": {
    "name": "ipython",
    "version": 3
   },
   "file_extension": ".py",
   "mimetype": "text/x-python",
   "name": "python",
   "nbconvert_exporter": "python",
   "pygments_lexer": "ipython3",
   "version": "3.6.7"
  },
  "toc": {
   "base_numbering": 1,
   "nav_menu": {},
   "number_sections": false,
   "sideBar": true,
   "skip_h1_title": true,
   "title_cell": "Table of Contents",
   "title_sidebar": "Contents",
   "toc_cell": true,
   "toc_position": {},
   "toc_section_display": true,
   "toc_window_display": true
  }
 },
 "nbformat": 4,
 "nbformat_minor": 2
}
