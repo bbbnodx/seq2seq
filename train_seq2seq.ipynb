{
 "cells": [
  {
   "cell_type": "markdown",
   "metadata": {},
   "source": [
    "ディレクトリ構成：  \n",
    "```\n",
    "./\n",
    "├train_seq2seq.ipynb(このファイル)\n",
    "├model/\n",
    "│   └(モデルパラメータキャッシュファイル)\n",
    "├dataset/\n",
    "├result/\n",
    "│   └(実行結果CSVと学習曲線グラフ画像)\n",
    "└src/\n",
    "   ├common/\n",
    "   ├dataset/\n",
    "   ├attention_layer.py\n",
    "   ├attention_seq2seq.py\n",
    "   ├peeky_seq2seq.py\n",
    "   └seq2seq.py\n",
    "```"
   ]
  },
  {
   "cell_type": "code",
   "execution_count": 109,
   "metadata": {},
   "outputs": [
    {
     "name": "stdout",
     "output_type": "stream",
     "text": [
      "Once deleted, variables cannot be recovered. Proceed (y/[n])? y\n"
     ]
    }
   ],
   "source": [
    "# 変数の全消去\n",
    "%reset"
   ]
  },
  {
   "cell_type": "code",
   "execution_count": 110,
   "metadata": {},
   "outputs": [],
   "source": [
    "# coding: utf-8\n",
    "import sys\n",
    "sys.path.append(\"./src\")\n",
    "import os\n",
    "import numpy as np\n",
    "import pandas as pd\n",
    "import matplotlib.pyplot as plt\n",
    "from pathlib import Path\n",
    "from datetime import datetime\n",
    "from dataset.sequence import TextSequence\n",
    "from common.optimizer import Adam\n",
    "from common.trainer import Trainer\n",
    "from common.util import eval_seq2seq\n",
    "from seq2seq import Seq2seq\n",
    "from peeky_seq2seq import PeekySeq2seq\n",
    "from attention_seq2seq import AttentionSeq2seq"
   ]
  },
  {
   "cell_type": "code",
   "execution_count": 111,
   "metadata": {},
   "outputs": [],
   "source": [
    "# matplotlibのインライン表示\n",
    "%matplotlib inline\n",
    "# モジュールの更新時に自動で再読み込み\n",
    "%reload_ext autoreload\n",
    "%autoreload 2"
   ]
  },
  {
   "cell_type": "code",
   "execution_count": 112,
   "metadata": {},
   "outputs": [],
   "source": [
    "# ファイルパスの設定\n",
    "dataset_dir =Path('./src/dataset')\n",
    "vocab_csv = [dataset_dir /  \"interpretation_train43_and_test40_rev2.csv\", dataset_dir / \"interpretation_excel_concat_trim.csv\"]\n",
    "source_csv = dataset_dir / \"interpretation_train43_and_test40_rev2.csv\"\n",
    "# source_csv = dataset_dir / \"interpretation_excel_concat_trim.csv\"\n",
    "result_dir = Path('./result')\n",
    "model_dir = Path('./model')\n",
    "dataset_name = source_csv.stem\n",
    "encoding = \"utf-8\""
   ]
  },
  {
   "cell_type": "code",
   "execution_count": 583,
   "metadata": {},
   "outputs": [],
   "source": [
    "# 最初から訓練データとテストデータが分かれているときはこっち\n",
    "source_csv = dataset_dir /\"interpretation_excel.csv\"  # 結果ファイル名に用いる\n",
    "train_csv = dataset_dir / \"interpretation_excel_train_trim.csv\"\n",
    "test_csv = dataset_dir / \"interpretation_excel_validation_trim.csv\""
   ]
  },
  {
   "cell_type": "markdown",
   "metadata": {},
   "source": [
    "### 前処理\n",
    "#### データセット読み込みと文字IDベクトルへの変換"
   ]
  },
  {
   "cell_type": "code",
   "execution_count": 113,
   "metadata": {},
   "outputs": [],
   "source": [
    "# 全てのデータセットを読み込み、Vocabularyを作成する\n",
    "seq = TextSequence()\n",
    "for path in vocab_csv:\n",
    "    seq.read_csv(path)\n",
    "char_to_id, id_to_char = seq.vocab"
   ]
  },
  {
   "cell_type": "code",
   "execution_count": 114,
   "metadata": {},
   "outputs": [
    {
     "data": {
      "text/plain": [
       "(array([[  1,   2,   3, ...,   0,   0,   0],\n",
       "        [ 11,   1,   2, ...,   0,   0,   0],\n",
       "        [ 12,  13,  14, ...,   0,   0,   0],\n",
       "        ...,\n",
       "        [323, 324, 325, ...,   0,   0,   0],\n",
       "        [167,  99,  59, ...,   0,   0,   0],\n",
       "        [167,  99,  59, ...,   0,   0,   0]]),\n",
       " array([[ 8,  9, 10, ...,  0,  0,  0],\n",
       "        [ 8,  9, 10, ...,  0,  0,  0],\n",
       "        [ 8,  9, 10, ...,  0,  0,  0],\n",
       "        ...,\n",
       "        [ 8,  9, 10, ...,  0,  0,  0],\n",
       "        [ 8,  9, 45, ...,  0,  0,  0],\n",
       "        [ 8,  9, 45, ...,  0,  0,  0]]))"
      ]
     },
     "execution_count": 114,
     "metadata": {},
     "output_type": "execute_result"
    }
   ],
   "source": [
    "# 学習対象のデータセットを読み込み\n",
    "seq.read_csv(source_csv)"
   ]
  },
  {
   "cell_type": "code",
   "execution_count": 86,
   "metadata": {},
   "outputs": [
    {
     "ename": "NameError",
     "evalue": "name 'train_csv' is not defined",
     "output_type": "error",
     "traceback": [
      "\u001b[0;31m---------------------------------------------------------------------------\u001b[0m",
      "\u001b[0;31mNameError\u001b[0m                                 Traceback (most recent call last)",
      "\u001b[0;32m<ipython-input-86-e5a86900c53d>\u001b[0m in \u001b[0;36m<module>\u001b[0;34m\u001b[0m\n\u001b[1;32m      1\u001b[0m \u001b[0;31m# 最初から訓練データとテストデータが分かれているときはこっち\u001b[0m\u001b[0;34m\u001b[0m\u001b[0;34m\u001b[0m\u001b[0m\n\u001b[1;32m      2\u001b[0m \u001b[0mseq\u001b[0m \u001b[0;34m=\u001b[0m \u001b[0mTextSequence\u001b[0m\u001b[0;34m(\u001b[0m\u001b[0;34m)\u001b[0m\u001b[0;34m\u001b[0m\u001b[0m\n\u001b[0;32m----> 3\u001b[0;31m \u001b[0mseq\u001b[0m\u001b[0;34m.\u001b[0m\u001b[0mread_csv\u001b[0m\u001b[0;34m(\u001b[0m\u001b[0mtrain_csv\u001b[0m\u001b[0;34m)\u001b[0m\u001b[0;34m\u001b[0m\u001b[0m\n\u001b[0m\u001b[1;32m      4\u001b[0m \u001b[0mx_train\u001b[0m\u001b[0;34m,\u001b[0m \u001b[0mt_train\u001b[0m \u001b[0;34m=\u001b[0m \u001b[0mseq\u001b[0m\u001b[0;34m.\u001b[0m\u001b[0mshuffle\u001b[0m\u001b[0;34m(\u001b[0m\u001b[0mseed\u001b[0m\u001b[0;34m=\u001b[0m\u001b[0;36m1\u001b[0m\u001b[0;34m)\u001b[0m\u001b[0;34m\u001b[0m\u001b[0m\n\u001b[1;32m      5\u001b[0m \u001b[0mseq\u001b[0m\u001b[0;34m.\u001b[0m\u001b[0mread_csv\u001b[0m\u001b[0;34m(\u001b[0m\u001b[0mtest_csv\u001b[0m\u001b[0;34m,\u001b[0m \u001b[0mvocab_init\u001b[0m\u001b[0;34m=\u001b[0m\u001b[0;32mFalse\u001b[0m\u001b[0;34m)\u001b[0m\u001b[0;34m\u001b[0m\u001b[0m\n",
      "\u001b[0;31mNameError\u001b[0m: name 'train_csv' is not defined"
     ]
    }
   ],
   "source": [
    "# 最初から訓練データとテストデータが分かれているときはこっち\n",
    "seq = TextSequence()\n",
    "seq.read_csv(train_csv)\n",
    "x_train, t_train = seq.shuffle(seed=1)\n",
    "seq.read_csv(test_csv, vocab_init=False)\n",
    "x_test, t_test = seq.shuffle(seed=1)\n",
    "char_to_id, id_to_char = seq.vocab"
   ]
  },
  {
   "cell_type": "markdown",
   "metadata": {},
   "source": [
    "#### ハイパーパラメータ設定とデータ前処理"
   ]
  },
  {
   "cell_type": "code",
   "execution_count": 115,
   "metadata": {},
   "outputs": [],
   "source": [
    "# ハイパーパラメータ\n",
    "vocab_size = len(char_to_id)\n",
    "wordvec_size = 128\n",
    "hidden_size = 128\n",
    "batch_size = 32\n",
    "max_epoch = 100\n",
    "max_grad = 5.0"
   ]
  },
  {
   "cell_type": "code",
   "execution_count": 116,
   "metadata": {},
   "outputs": [
    {
     "data": {
      "text/plain": [
       "456"
      ]
     },
     "execution_count": 116,
     "metadata": {},
     "output_type": "execute_result"
    }
   ],
   "source": [
    "vocab_size"
   ]
  },
  {
   "cell_type": "code",
   "execution_count": 118,
   "metadata": {},
   "outputs": [],
   "source": [
    "# データセット分割\n",
    "x_train, x_test, t_train, t_test = seq.split_data(seed=1, test_size=0.1)"
   ]
  },
  {
   "cell_type": "markdown",
   "metadata": {},
   "source": [
    "#### model, optimizer, trainerインスタンス作成"
   ]
  },
  {
   "cell_type": "code",
   "execution_count": 119,
   "metadata": {},
   "outputs": [],
   "source": [
    "# モデル選択\n",
    "# model = Seq2seq(vocab_size, wordvec_size, hidden_size)\n",
    "model = PeekySeq2seq(vocab_size, wordvec_size, hidden_size)\n",
    "# model = AttentionSeq2seq(vocab_size, wordvec_size, hidden_size)"
   ]
  },
  {
   "cell_type": "code",
   "execution_count": 120,
   "metadata": {},
   "outputs": [],
   "source": [
    "# OptimizerとTrainerインスタンスの初期化\n",
    "optimizer = Adam()\n",
    "trainer = Trainer(model, optimizer)"
   ]
  },
  {
   "cell_type": "markdown",
   "metadata": {},
   "source": [
    "### 学習実行"
   ]
  },
  {
   "cell_type": "code",
   "execution_count": 121,
   "metadata": {
    "scrolled": true
   },
   "outputs": [
    {
     "name": "stdout",
     "output_type": "stream",
     "text": [
      "| epoch 1 |  iter 1 / 31 | time 0[s] | loss 6.12\n",
      "| epoch 1 |  iter 21 / 31 | time 5[s] | loss 4.04\n",
      "| epoch 1 | loss 4.04213\n",
      "| epoch 1 | train error 1.00000\n",
      "| epoch 1 | test error  1.00000\n",
      "| epoch 2 |  iter 1 / 31 | time 11[s] | loss 1.35\n",
      "| epoch 2 |  iter 21 / 31 | time 16[s] | loss 1.07\n",
      "| epoch 2 | loss 1.07301\n",
      "| epoch 2 | train error 1.00000\n",
      "| epoch 2 | test error  1.00000\n",
      "| epoch 3 |  iter 1 / 31 | time 22[s] | loss 0.99\n",
      "| epoch 3 |  iter 21 / 31 | time 27[s] | loss 0.86\n",
      "| epoch 3 | loss 0.86487\n",
      "| epoch 3 | train error 1.00000\n",
      "| epoch 3 | test error  1.00000\n",
      "| epoch 4 |  iter 1 / 31 | time 33[s] | loss 0.84\n",
      "| epoch 4 |  iter 21 / 31 | time 37[s] | loss 0.78\n",
      "| epoch 4 | loss 0.77636\n",
      "| epoch 4 | train error 1.00000\n",
      "| epoch 4 | test error  1.00000\n",
      "| epoch 5 |  iter 1 / 31 | time 44[s] | loss 0.75\n",
      "| epoch 5 |  iter 21 / 31 | time 48[s] | loss 0.68\n",
      "| epoch 5 | loss 0.68254\n",
      "| epoch 5 | train error 1.00000\n",
      "| epoch 5 | test error  1.00000\n",
      "| epoch 6 |  iter 1 / 31 | time 55[s] | loss 0.63\n",
      "| epoch 6 |  iter 21 / 31 | time 59[s] | loss 0.61\n",
      "| epoch 6 | loss 0.61252\n",
      "| epoch 6 | train error 0.96647\n",
      "| epoch 6 | test error  0.96460\n",
      "| epoch 7 |  iter 1 / 31 | time 66[s] | loss 0.56\n",
      "| epoch 7 |  iter 21 / 31 | time 71[s] | loss 0.53\n",
      "| epoch 7 | loss 0.52653\n",
      "| epoch 7 | train error 0.95365\n",
      "| epoch 7 | test error  0.94690\n",
      "| epoch 8 |  iter 1 / 31 | time 77[s] | loss 0.43\n",
      "| epoch 8 |  iter 21 / 31 | time 82[s] | loss 0.43\n",
      "| epoch 8 | loss 0.42719\n",
      "| epoch 8 | train error 0.95365\n",
      "| epoch 8 | test error  0.94690\n",
      "| epoch 9 |  iter 1 / 31 | time 88[s] | loss 0.38\n",
      "| epoch 9 |  iter 21 / 31 | time 93[s] | loss 0.34\n",
      "| epoch 9 | loss 0.33915\n",
      "| epoch 9 | train error 0.95168\n",
      "| epoch 9 | test error  0.94690\n",
      "| epoch 10 |  iter 1 / 31 | time 99[s] | loss 0.35\n",
      "| epoch 10 |  iter 21 / 31 | time 104[s] | loss 0.29\n",
      "| epoch 10 | loss 0.29304\n",
      "| epoch 10 | train error 0.84911\n",
      "| epoch 10 | test error  0.84956\n",
      "| epoch 11 |  iter 1 / 31 | time 110[s] | loss 0.30\n",
      "| epoch 11 |  iter 21 / 31 | time 115[s] | loss 0.28\n",
      "| epoch 11 | loss 0.28170\n",
      "| epoch 11 | train error 0.82150\n",
      "| epoch 11 | test error  0.81416\n",
      "| epoch 12 |  iter 1 / 31 | time 121[s] | loss 0.22\n",
      "| epoch 12 |  iter 21 / 31 | time 126[s] | loss 0.24\n",
      "| epoch 12 | loss 0.23636\n",
      "| epoch 12 | train error 0.75937\n",
      "| epoch 12 | test error  0.76991\n",
      "| epoch 13 |  iter 1 / 31 | time 132[s] | loss 0.24\n",
      "| epoch 13 |  iter 21 / 31 | time 137[s] | loss 0.22\n",
      "| epoch 13 | loss 0.22088\n",
      "| epoch 13 | train error 0.78895\n",
      "| epoch 13 | test error  0.78761\n",
      "| epoch 14 |  iter 1 / 31 | time 143[s] | loss 0.20\n",
      "| epoch 14 |  iter 21 / 31 | time 148[s] | loss 0.20\n",
      "| epoch 14 | loss 0.19658\n",
      "| epoch 14 | train error 0.84517\n",
      "| epoch 14 | test error  0.84071\n",
      "| epoch 15 |  iter 1 / 31 | time 154[s] | loss 0.18\n",
      "| epoch 15 |  iter 21 / 31 | time 159[s] | loss 0.19\n",
      "| epoch 15 | loss 0.18732\n",
      "| epoch 15 | train error 0.75444\n",
      "| epoch 15 | test error  0.73451\n",
      "| epoch 16 |  iter 1 / 31 | time 165[s] | loss 0.17\n",
      "| epoch 16 |  iter 21 / 31 | time 170[s] | loss 0.16\n",
      "| epoch 16 | loss 0.15874\n",
      "| epoch 16 | train error 0.72584\n",
      "| epoch 16 | test error  0.76991\n",
      "| epoch 17 |  iter 1 / 31 | time 176[s] | loss 0.17\n",
      "| epoch 17 |  iter 21 / 31 | time 181[s] | loss 0.15\n",
      "| epoch 17 | loss 0.15211\n",
      "| epoch 17 | train error 0.73767\n",
      "| epoch 17 | test error  0.76106\n",
      "| epoch 18 |  iter 1 / 31 | time 187[s] | loss 0.16\n",
      "| epoch 18 |  iter 21 / 31 | time 192[s] | loss 0.14\n",
      "| epoch 18 | loss 0.14370\n",
      "| epoch 18 | train error 0.71400\n",
      "| epoch 18 | test error  0.69027\n",
      "| epoch 19 |  iter 1 / 31 | time 198[s] | loss 0.15\n",
      "| epoch 19 |  iter 21 / 31 | time 203[s] | loss 0.14\n",
      "| epoch 19 | loss 0.13615\n",
      "| epoch 19 | train error 0.61637\n",
      "| epoch 19 | test error  0.61062\n",
      "| epoch 20 |  iter 1 / 31 | time 209[s] | loss 0.13\n",
      "| epoch 20 |  iter 21 / 31 | time 214[s] | loss 0.12\n",
      "| epoch 20 | loss 0.11825\n",
      "| epoch 20 | train error 0.66765\n",
      "| epoch 20 | test error  0.67257\n",
      "| epoch 21 |  iter 1 / 31 | time 220[s] | loss 0.14\n",
      "| epoch 21 |  iter 21 / 31 | time 225[s] | loss 0.12\n",
      "| epoch 21 | loss 0.12037\n",
      "| epoch 21 | train error 0.60256\n",
      "| epoch 21 | test error  0.59292\n",
      "| epoch 22 |  iter 1 / 31 | time 231[s] | loss 0.12\n",
      "| epoch 22 |  iter 21 / 31 | time 236[s] | loss 0.11\n",
      "| epoch 22 | loss 0.11221\n",
      "| epoch 22 | train error 0.59073\n",
      "| epoch 22 | test error  0.59292\n",
      "| epoch 23 |  iter 1 / 31 | time 242[s] | loss 0.10\n",
      "| epoch 23 |  iter 21 / 31 | time 247[s] | loss 0.10\n",
      "| epoch 23 | loss 0.10097\n",
      "| epoch 23 | train error 0.52170\n",
      "| epoch 23 | test error  0.57522\n",
      "| epoch 24 |  iter 1 / 31 | time 253[s] | loss 0.11\n",
      "| epoch 24 |  iter 21 / 31 | time 258[s] | loss 0.11\n",
      "| epoch 24 | loss 0.10566\n",
      "| epoch 24 | train error 0.50986\n",
      "| epoch 24 | test error  0.52212\n",
      "| epoch 25 |  iter 1 / 31 | time 264[s] | loss 0.10\n",
      "| epoch 25 |  iter 21 / 31 | time 269[s] | loss 0.09\n",
      "| epoch 25 | loss 0.09287\n",
      "| epoch 25 | train error 0.49310\n",
      "| epoch 25 | test error  0.50442\n",
      "| epoch 26 |  iter 1 / 31 | time 275[s] | loss 0.10\n",
      "| epoch 26 |  iter 21 / 31 | time 280[s] | loss 0.08\n",
      "| epoch 26 | loss 0.08343\n",
      "| epoch 26 | train error 0.51677\n",
      "| epoch 26 | test error  0.50442\n",
      "| epoch 27 |  iter 1 / 31 | time 286[s] | loss 0.10\n",
      "| epoch 27 |  iter 21 / 31 | time 291[s] | loss 0.09\n",
      "| epoch 27 | loss 0.08659\n",
      "| epoch 27 | train error 0.44477\n",
      "| epoch 27 | test error  0.41593\n",
      "| epoch 28 |  iter 1 / 31 | time 297[s] | loss 0.08\n",
      "| epoch 28 |  iter 21 / 31 | time 302[s] | loss 0.07\n",
      "| epoch 28 | loss 0.07332\n",
      "| epoch 28 | train error 0.42209\n",
      "| epoch 28 | test error  0.42478\n",
      "| epoch 29 |  iter 1 / 31 | time 308[s] | loss 0.09\n",
      "| epoch 29 |  iter 21 / 31 | time 313[s] | loss 0.08\n",
      "| epoch 29 | loss 0.08185\n",
      "| epoch 29 | train error 0.38856\n",
      "| epoch 29 | test error  0.39823\n",
      "| epoch 30 |  iter 1 / 31 | time 319[s] | loss 0.07\n",
      "| epoch 30 |  iter 21 / 31 | time 324[s] | loss 0.07\n",
      "| epoch 30 | loss 0.06761\n",
      "| epoch 30 | train error 0.37574\n",
      "| epoch 30 | test error  0.35398\n",
      "| epoch 31 |  iter 1 / 31 | time 330[s] | loss 0.07\n",
      "| epoch 31 |  iter 21 / 31 | time 335[s] | loss 0.07\n",
      "| epoch 31 | loss 0.07226\n",
      "| epoch 31 | train error 0.30769\n",
      "| epoch 31 | test error  0.30088\n",
      "| epoch 32 |  iter 1 / 31 | time 341[s] | loss 0.06\n",
      "| epoch 32 |  iter 21 / 31 | time 346[s] | loss 0.06\n",
      "| epoch 32 | loss 0.06087\n",
      "| epoch 32 | train error 0.32643\n",
      "| epoch 32 | test error  0.30973\n",
      "| epoch 33 |  iter 1 / 31 | time 352[s] | loss 0.06\n",
      "| epoch 33 |  iter 21 / 31 | time 357[s] | loss 0.06\n",
      "| epoch 33 | loss 0.05591\n",
      "| epoch 33 | train error 0.38166\n",
      "| epoch 33 | test error  0.38938\n",
      "| epoch 34 |  iter 1 / 31 | time 363[s] | loss 0.06\n",
      "| epoch 34 |  iter 21 / 31 | time 368[s] | loss 0.05\n",
      "| epoch 34 | loss 0.05438\n",
      "| epoch 34 | train error 0.29290\n",
      "| epoch 34 | test error  0.28319\n",
      "| epoch 35 |  iter 1 / 31 | time 374[s] | loss 0.06\n",
      "| epoch 35 |  iter 21 / 31 | time 379[s] | loss 0.05\n",
      "| epoch 35 | loss 0.05111\n",
      "| epoch 35 | train error 0.23669\n",
      "| epoch 35 | test error  0.27434\n",
      "| epoch 36 |  iter 1 / 31 | time 386[s] | loss 0.05\n",
      "| epoch 36 |  iter 21 / 31 | time 391[s] | loss 0.05\n",
      "| epoch 36 | loss 0.04949\n",
      "| epoch 36 | train error 0.22781\n",
      "| epoch 36 | test error  0.27434\n",
      "| epoch 37 |  iter 1 / 31 | time 397[s] | loss 0.05\n",
      "| epoch 37 |  iter 21 / 31 | time 402[s] | loss 0.04\n",
      "| epoch 37 | loss 0.04167\n",
      "| epoch 37 | train error 0.21302\n",
      "| epoch 37 | test error  0.23894\n",
      "| epoch 38 |  iter 1 / 31 | time 408[s] | loss 0.05\n",
      "| epoch 38 |  iter 21 / 31 | time 413[s] | loss 0.04\n",
      "| epoch 38 | loss 0.04279\n",
      "| epoch 38 | train error 0.21203\n",
      "| epoch 38 | test error  0.24779\n",
      "| epoch 39 |  iter 1 / 31 | time 419[s] | loss 0.06\n",
      "| epoch 39 |  iter 21 / 31 | time 424[s] | loss 0.04\n",
      "| epoch 39 | loss 0.04192\n",
      "| epoch 39 | train error 0.19428\n",
      "| epoch 39 | test error  0.23009\n",
      "| epoch 40 |  iter 1 / 31 | time 430[s] | loss 0.03\n",
      "| epoch 40 |  iter 21 / 31 | time 435[s] | loss 0.04\n",
      "| epoch 40 | loss 0.04320\n",
      "| epoch 40 | train error 0.21006\n",
      "| epoch 40 | test error  0.23894\n",
      "| epoch 41 |  iter 1 / 31 | time 441[s] | loss 0.04\n",
      "| epoch 41 |  iter 21 / 31 | time 446[s] | loss 0.04\n",
      "| epoch 41 | loss 0.04260\n",
      "| epoch 41 | train error 0.18639\n",
      "| epoch 41 | test error  0.23894\n",
      "| epoch 42 |  iter 1 / 31 | time 452[s] | loss 0.03\n",
      "| epoch 42 |  iter 21 / 31 | time 457[s] | loss 0.04\n",
      "| epoch 42 | loss 0.03652\n",
      "| epoch 42 | train error 0.18343\n",
      "| epoch 42 | test error  0.24779\n"
     ]
    },
    {
     "name": "stdout",
     "output_type": "stream",
     "text": [
      "| epoch 43 |  iter 1 / 31 | time 463[s] | loss 0.04\n",
      "| epoch 43 |  iter 21 / 31 | time 468[s] | loss 0.03\n",
      "| epoch 43 | loss 0.03425\n",
      "| epoch 43 | train error 0.17061\n",
      "| epoch 43 | test error  0.25664\n",
      "| epoch 44 |  iter 1 / 31 | time 475[s] | loss 0.03\n",
      "| epoch 44 |  iter 21 / 31 | time 480[s] | loss 0.03\n",
      "| epoch 44 | loss 0.02933\n",
      "| epoch 44 | train error 0.16469\n",
      "| epoch 44 | test error  0.22124\n",
      "| epoch 45 |  iter 1 / 31 | time 486[s] | loss 0.04\n",
      "| epoch 45 |  iter 21 / 31 | time 491[s] | loss 0.03\n",
      "| epoch 45 | loss 0.03176\n",
      "| epoch 45 | train error 0.18146\n",
      "| epoch 45 | test error  0.24779\n",
      "| epoch 46 |  iter 1 / 31 | time 497[s] | loss 0.03\n",
      "| epoch 46 |  iter 21 / 31 | time 502[s] | loss 0.03\n",
      "| epoch 46 | loss 0.03036\n",
      "| epoch 46 | train error 0.17160\n",
      "| epoch 46 | test error  0.22124\n",
      "| epoch 47 |  iter 1 / 31 | time 508[s] | loss 0.04\n",
      "| epoch 47 |  iter 21 / 31 | time 513[s] | loss 0.03\n",
      "| epoch 47 | loss 0.02696\n",
      "| epoch 47 | train error 0.15779\n",
      "| epoch 47 | test error  0.25664\n",
      "| epoch 48 |  iter 1 / 31 | time 520[s] | loss 0.03\n",
      "| epoch 48 |  iter 21 / 31 | time 525[s] | loss 0.03\n",
      "| epoch 48 | loss 0.03042\n",
      "| epoch 48 | train error 0.15680\n",
      "| epoch 48 | test error  0.24779\n",
      "| epoch 49 |  iter 1 / 31 | time 532[s] | loss 0.03\n",
      "| epoch 49 |  iter 21 / 31 | time 537[s] | loss 0.03\n",
      "| epoch 49 | loss 0.02602\n",
      "| epoch 49 | train error 0.13609\n",
      "| epoch 49 | test error  0.20354\n",
      "| epoch 50 |  iter 1 / 31 | time 544[s] | loss 0.03\n",
      "| epoch 50 |  iter 21 / 31 | time 549[s] | loss 0.03\n",
      "| epoch 50 | loss 0.02551\n",
      "| epoch 50 | train error 0.13708\n",
      "| epoch 50 | test error  0.22124\n",
      "| epoch 51 |  iter 1 / 31 | time 556[s] | loss 0.02\n",
      "| epoch 51 |  iter 21 / 31 | time 561[s] | loss 0.02\n",
      "| epoch 51 | loss 0.02475\n",
      "| epoch 51 | train error 0.12919\n",
      "| epoch 51 | test error  0.19469\n",
      "| epoch 52 |  iter 1 / 31 | time 568[s] | loss 0.02\n",
      "| epoch 52 |  iter 21 / 31 | time 573[s] | loss 0.02\n",
      "| epoch 52 | loss 0.02462\n",
      "| epoch 52 | train error 0.13018\n",
      "| epoch 52 | test error  0.23009\n",
      "| epoch 53 |  iter 1 / 31 | time 579[s] | loss 0.02\n",
      "| epoch 53 |  iter 21 / 31 | time 584[s] | loss 0.02\n",
      "| epoch 53 | loss 0.02238\n",
      "| epoch 53 | train error 0.15187\n",
      "| epoch 53 | test error  0.23894\n",
      "| epoch 54 |  iter 1 / 31 | time 590[s] | loss 0.02\n",
      "| epoch 54 |  iter 21 / 31 | time 595[s] | loss 0.02\n",
      "| epoch 54 | loss 0.02220\n",
      "| epoch 54 | train error 0.13314\n",
      "| epoch 54 | test error  0.20354\n",
      "| epoch 55 |  iter 1 / 31 | time 601[s] | loss 0.02\n",
      "| epoch 55 |  iter 21 / 31 | time 606[s] | loss 0.02\n",
      "| epoch 55 | loss 0.02354\n",
      "| epoch 55 | train error 0.11834\n",
      "| epoch 55 | test error  0.20354\n",
      "| epoch 56 |  iter 1 / 31 | time 612[s] | loss 0.02\n",
      "| epoch 56 |  iter 21 / 31 | time 617[s] | loss 0.02\n",
      "| epoch 56 | loss 0.01846\n",
      "| epoch 56 | train error 0.11440\n",
      "| epoch 56 | test error  0.22124\n",
      "| epoch 57 |  iter 1 / 31 | time 624[s] | loss 0.02\n",
      "| epoch 57 |  iter 21 / 31 | time 629[s] | loss 0.02\n",
      "| epoch 57 | loss 0.02029\n",
      "| epoch 57 | train error 0.11834\n",
      "| epoch 57 | test error  0.19469\n",
      "| epoch 58 |  iter 1 / 31 | time 635[s] | loss 0.02\n",
      "| epoch 58 |  iter 21 / 31 | time 640[s] | loss 0.02\n",
      "| epoch 58 | loss 0.01828\n",
      "| epoch 58 | train error 0.13018\n",
      "| epoch 58 | test error  0.22124\n",
      "| epoch 59 |  iter 1 / 31 | time 646[s] | loss 0.02\n",
      "| epoch 59 |  iter 21 / 31 | time 651[s] | loss 0.02\n",
      "| epoch 59 | loss 0.01704\n",
      "| epoch 59 | train error 0.12426\n",
      "| epoch 59 | test error  0.22124\n",
      "| epoch 60 |  iter 1 / 31 | time 658[s] | loss 0.02\n",
      "| epoch 60 |  iter 21 / 31 | time 663[s] | loss 0.02\n",
      "| epoch 60 | loss 0.01732\n",
      "| epoch 60 | train error 0.10848\n",
      "| epoch 60 | test error  0.19469\n",
      "| epoch 61 |  iter 1 / 31 | time 669[s] | loss 0.02\n",
      "| epoch 61 |  iter 21 / 31 | time 674[s] | loss 0.02\n",
      "| epoch 61 | loss 0.01709\n",
      "| epoch 61 | train error 0.09961\n",
      "| epoch 61 | test error  0.21239\n",
      "| epoch 62 |  iter 1 / 31 | time 680[s] | loss 0.02\n",
      "| epoch 62 |  iter 21 / 31 | time 685[s] | loss 0.02\n",
      "| epoch 62 | loss 0.01718\n",
      "| epoch 62 | train error 0.10947\n",
      "| epoch 62 | test error  0.22124\n",
      "| epoch 63 |  iter 1 / 31 | time 692[s] | loss 0.02\n",
      "| epoch 63 |  iter 21 / 31 | time 697[s] | loss 0.02\n",
      "| epoch 63 | loss 0.01533\n",
      "| epoch 63 | train error 0.11045\n",
      "| epoch 63 | test error  0.23009\n",
      "| epoch 64 |  iter 1 / 31 | time 703[s] | loss 0.02\n",
      "| epoch 64 |  iter 21 / 31 | time 708[s] | loss 0.02\n",
      "| epoch 64 | loss 0.01533\n",
      "| epoch 64 | train error 0.11637\n",
      "| epoch 64 | test error  0.22124\n",
      "| epoch 65 |  iter 1 / 31 | time 714[s] | loss 0.02\n",
      "| epoch 65 |  iter 21 / 31 | time 719[s] | loss 0.02\n",
      "| epoch 65 | loss 0.01697\n",
      "| epoch 65 | train error 0.09665\n",
      "| epoch 65 | test error  0.24779\n",
      "| epoch 66 |  iter 1 / 31 | time 725[s] | loss 0.02\n",
      "| epoch 66 |  iter 21 / 31 | time 730[s] | loss 0.01\n",
      "| epoch 66 | loss 0.01412\n",
      "| epoch 66 | train error 0.09961\n",
      "| epoch 66 | test error  0.23009\n",
      "| epoch 67 |  iter 1 / 31 | time 736[s] | loss 0.02\n",
      "| epoch 67 |  iter 21 / 31 | time 741[s] | loss 0.01\n",
      "| epoch 67 | loss 0.01338\n",
      "| epoch 67 | train error 0.10158\n",
      "| epoch 67 | test error  0.20354\n",
      "| epoch 68 |  iter 1 / 31 | time 747[s] | loss 0.01\n",
      "| epoch 68 |  iter 21 / 31 | time 752[s] | loss 0.01\n",
      "| epoch 68 | loss 0.01282\n",
      "| epoch 68 | train error 0.08876\n",
      "| epoch 68 | test error  0.18584\n",
      "| epoch 69 |  iter 1 / 31 | time 759[s] | loss 0.02\n",
      "| epoch 69 |  iter 21 / 31 | time 763[s] | loss 0.01\n",
      "| epoch 69 | loss 0.01158\n",
      "| epoch 69 | train error 0.08876\n",
      "| epoch 69 | test error  0.22124\n",
      "| epoch 70 |  iter 1 / 31 | time 770[s] | loss 0.01\n",
      "| epoch 70 |  iter 21 / 31 | time 775[s] | loss 0.01\n",
      "| epoch 70 | loss 0.01257\n",
      "| epoch 70 | train error 0.08580\n",
      "| epoch 70 | test error  0.23009\n",
      "| epoch 71 |  iter 1 / 31 | time 781[s] | loss 0.01\n",
      "| epoch 71 |  iter 21 / 31 | time 786[s] | loss 0.01\n",
      "| epoch 71 | loss 0.01273\n",
      "| epoch 71 | train error 0.09763\n",
      "| epoch 71 | test error  0.23894\n",
      "| epoch 72 |  iter 1 / 31 | time 792[s] | loss 0.01\n",
      "| epoch 72 |  iter 21 / 31 | time 797[s] | loss 0.01\n",
      "| epoch 72 | loss 0.01483\n",
      "| epoch 72 | train error 0.11144\n",
      "| epoch 72 | test error  0.21239\n",
      "| epoch 73 |  iter 1 / 31 | time 803[s] | loss 0.01\n",
      "| epoch 73 |  iter 21 / 31 | time 808[s] | loss 0.01\n",
      "| epoch 73 | loss 0.01262\n",
      "| epoch 73 | train error 0.10059\n",
      "| epoch 73 | test error  0.23894\n",
      "| epoch 74 |  iter 1 / 31 | time 814[s] | loss 0.02\n",
      "| epoch 74 |  iter 21 / 31 | time 819[s] | loss 0.01\n",
      "| epoch 74 | loss 0.01494\n",
      "| epoch 74 | train error 0.10059\n",
      "| epoch 74 | test error  0.19469\n",
      "| epoch 75 |  iter 1 / 31 | time 826[s] | loss 0.01\n",
      "| epoch 75 |  iter 21 / 31 | time 831[s] | loss 0.01\n",
      "| epoch 75 | loss 0.01279\n",
      "| epoch 75 | train error 0.08777\n",
      "| epoch 75 | test error  0.23009\n",
      "| epoch 76 |  iter 1 / 31 | time 837[s] | loss 0.01\n",
      "| epoch 76 |  iter 21 / 31 | time 842[s] | loss 0.01\n",
      "| epoch 76 | loss 0.01032\n",
      "| epoch 76 | train error 0.07692\n",
      "| epoch 76 | test error  0.19469\n",
      "| epoch 77 |  iter 1 / 31 | time 848[s] | loss 0.01\n",
      "| epoch 77 |  iter 21 / 31 | time 853[s] | loss 0.01\n",
      "| epoch 77 | loss 0.01006\n",
      "| epoch 77 | train error 0.07890\n",
      "| epoch 77 | test error  0.21239\n",
      "| epoch 78 |  iter 1 / 31 | time 859[s] | loss 0.01\n",
      "| epoch 78 |  iter 21 / 31 | time 864[s] | loss 0.01\n",
      "| epoch 78 | loss 0.01061\n",
      "| epoch 78 | train error 0.07988\n",
      "| epoch 78 | test error  0.22124\n",
      "| epoch 79 |  iter 1 / 31 | time 870[s] | loss 0.01\n",
      "| epoch 79 |  iter 21 / 31 | time 875[s] | loss 0.01\n",
      "| epoch 79 | loss 0.01010\n",
      "| epoch 79 | train error 0.07988\n",
      "| epoch 79 | test error  0.18584\n",
      "| epoch 80 |  iter 1 / 31 | time 882[s] | loss 0.01\n",
      "| epoch 80 |  iter 21 / 31 | time 887[s] | loss 0.01\n",
      "| epoch 80 | loss 0.01000\n",
      "| epoch 80 | train error 0.07298\n",
      "| epoch 80 | test error  0.21239\n",
      "| epoch 81 |  iter 1 / 31 | time 893[s] | loss 0.01\n",
      "| epoch 81 |  iter 21 / 31 | time 898[s] | loss 0.01\n",
      "| epoch 81 | loss 0.00950\n",
      "| epoch 81 | train error 0.07988\n",
      "| epoch 81 | test error  0.21239\n",
      "| epoch 82 |  iter 1 / 31 | time 904[s] | loss 0.01\n",
      "| epoch 82 |  iter 21 / 31 | time 909[s] | loss 0.01\n",
      "| epoch 82 | loss 0.00975\n",
      "| epoch 82 | train error 0.07594\n",
      "| epoch 82 | test error  0.22124\n",
      "| epoch 83 |  iter 1 / 31 | time 915[s] | loss 0.01\n",
      "| epoch 83 |  iter 21 / 31 | time 920[s] | loss 0.01\n",
      "| epoch 83 | loss 0.00994\n",
      "| epoch 83 | train error 0.08777\n",
      "| epoch 83 | test error  0.19469\n",
      "| epoch 84 |  iter 1 / 31 | time 926[s] | loss 0.01\n",
      "| epoch 84 |  iter 21 / 31 | time 931[s] | loss 0.01\n",
      "| epoch 84 | loss 0.00797\n"
     ]
    },
    {
     "name": "stdout",
     "output_type": "stream",
     "text": [
      "| epoch 84 | train error 0.08481\n",
      "| epoch 84 | test error  0.21239\n",
      "| epoch 85 |  iter 1 / 31 | time 937[s] | loss 0.01\n",
      "| epoch 85 |  iter 21 / 31 | time 942[s] | loss 0.01\n",
      "| epoch 85 | loss 0.00901\n",
      "| epoch 85 | train error 0.07199\n",
      "| epoch 85 | test error  0.22124\n",
      "| epoch 86 |  iter 1 / 31 | time 949[s] | loss 0.01\n",
      "| epoch 86 |  iter 21 / 31 | time 954[s] | loss 0.01\n",
      "| epoch 86 | loss 0.00930\n",
      "| epoch 86 | train error 0.07101\n",
      "| epoch 86 | test error  0.22124\n",
      "| epoch 87 |  iter 1 / 31 | time 960[s] | loss 0.01\n",
      "| epoch 87 |  iter 21 / 31 | time 965[s] | loss 0.01\n",
      "| epoch 87 | loss 0.00771\n",
      "| epoch 87 | train error 0.07396\n",
      "| epoch 87 | test error  0.19469\n",
      "| epoch 88 |  iter 1 / 31 | time 971[s] | loss 0.01\n",
      "| epoch 88 |  iter 21 / 31 | time 976[s] | loss 0.01\n",
      "| epoch 88 | loss 0.00770\n",
      "| epoch 88 | train error 0.07594\n",
      "| epoch 88 | test error  0.23894\n",
      "| epoch 89 |  iter 1 / 31 | time 982[s] | loss 0.01\n",
      "| epoch 89 |  iter 21 / 31 | time 987[s] | loss 0.01\n",
      "| epoch 89 | loss 0.00792\n",
      "| epoch 89 | train error 0.07396\n",
      "| epoch 89 | test error  0.21239\n",
      "| epoch 90 |  iter 1 / 31 | time 993[s] | loss 0.01\n",
      "| epoch 90 |  iter 21 / 31 | time 998[s] | loss 0.01\n",
      "| epoch 90 | loss 0.00779\n",
      "| epoch 90 | train error 0.07791\n",
      "| epoch 90 | test error  0.20354\n",
      "| epoch 91 |  iter 1 / 31 | time 1005[s] | loss 0.01\n",
      "| epoch 91 |  iter 21 / 31 | time 1009[s] | loss 0.01\n",
      "| epoch 91 | loss 0.00845\n",
      "| epoch 91 | train error 0.07298\n",
      "| epoch 91 | test error  0.21239\n",
      "| epoch 92 |  iter 1 / 31 | time 1016[s] | loss 0.01\n",
      "| epoch 92 |  iter 21 / 31 | time 1020[s] | loss 0.01\n",
      "| epoch 92 | loss 0.00804\n",
      "| epoch 92 | train error 0.07002\n",
      "| epoch 92 | test error  0.22124\n",
      "| epoch 93 |  iter 1 / 31 | time 1027[s] | loss 0.01\n",
      "| epoch 93 |  iter 21 / 31 | time 1032[s] | loss 0.01\n",
      "| epoch 93 | loss 0.00757\n",
      "| epoch 93 | train error 0.07101\n",
      "| epoch 93 | test error  0.19469\n",
      "| epoch 94 |  iter 1 / 31 | time 1038[s] | loss 0.01\n",
      "| epoch 94 |  iter 21 / 31 | time 1043[s] | loss 0.01\n",
      "| epoch 94 | loss 0.00848\n",
      "| epoch 94 | train error 0.07594\n",
      "| epoch 94 | test error  0.19469\n",
      "| epoch 95 |  iter 1 / 31 | time 1049[s] | loss 0.01\n",
      "| epoch 95 |  iter 21 / 31 | time 1054[s] | loss 0.01\n",
      "| epoch 95 | loss 0.00778\n",
      "| epoch 95 | train error 0.07002\n",
      "| epoch 95 | test error  0.22124\n",
      "| epoch 96 |  iter 1 / 31 | time 1060[s] | loss 0.01\n",
      "| epoch 96 |  iter 21 / 31 | time 1065[s] | loss 0.01\n",
      "| epoch 96 | loss 0.00794\n",
      "| epoch 96 | train error 0.07396\n",
      "| epoch 96 | test error  0.20354\n",
      "| epoch 97 |  iter 1 / 31 | time 1071[s] | loss 0.01\n",
      "| epoch 97 |  iter 21 / 31 | time 1076[s] | loss 0.01\n",
      "| epoch 97 | loss 0.00755\n",
      "| epoch 97 | train error 0.07101\n",
      "| epoch 97 | test error  0.22124\n",
      "| epoch 98 |  iter 1 / 31 | time 1083[s] | loss 0.01\n",
      "| epoch 98 |  iter 21 / 31 | time 1087[s] | loss 0.01\n",
      "| epoch 98 | loss 0.00655\n",
      "| epoch 98 | train error 0.07101\n",
      "| epoch 98 | test error  0.20354\n",
      "| epoch 99 |  iter 1 / 31 | time 1094[s] | loss 0.01\n",
      "| epoch 99 |  iter 21 / 31 | time 1099[s] | loss 0.01\n",
      "| epoch 99 | loss 0.00705\n",
      "| epoch 99 | train error 0.07495\n",
      "| epoch 99 | test error  0.23009\n",
      "| epoch 100 |  iter 1 / 31 | time 1105[s] | loss 0.01\n",
      "| epoch 100 |  iter 21 / 31 | time 1110[s] | loss 0.01\n",
      "| epoch 100 | loss 0.00732\n",
      "| epoch 100 | train error 0.07002\n",
      "| epoch 100 | test error  0.21239\n"
     ]
    }
   ],
   "source": [
    "# Train\n",
    "trainer.fit(x_train, t_train, x_test, t_test,\n",
    "            max_epoch=max_epoch,\n",
    "            batch_size=batch_size,\n",
    "            max_grad=max_grad)"
   ]
  },
  {
   "cell_type": "markdown",
   "metadata": {},
   "source": [
    "### 推論"
   ]
  },
  {
   "cell_type": "code",
   "execution_count": 122,
   "metadata": {
    "scrolled": false
   },
   "outputs": [],
   "source": [
    "# Inference\n",
    "start_id = seq.start_id\n",
    "sample_size = seq.t_length\n",
    "guess_train = model.generate(x_train, start_id, sample_size)\n",
    "guess_test = model.generate(x_test, start_id, sample_size)"
   ]
  },
  {
   "cell_type": "markdown",
   "metadata": {},
   "source": [
    "### 結果の保存"
   ]
  },
  {
   "cell_type": "code",
   "execution_count": 123,
   "metadata": {},
   "outputs": [],
   "source": [
    "# 保存ファイルのファイル名生成\n",
    "modelname = model.__class__.__name__\n",
    "timestamp = datetime.now().strftime(\"_%y%m%d_%H%M\")\n",
    "save_dir = result_dir / (dataset_name + timestamp)\n",
    "os.makedirs(save_dir, exist_ok=True)"
   ]
  },
  {
   "cell_type": "code",
   "execution_count": 124,
   "metadata": {},
   "outputs": [
    {
     "name": "stdout",
     "output_type": "stream",
     "text": [
      "Accuracy: 0.9299802761341223\n",
      "Accuracy: 0.7876106194690266\n"
     ]
    }
   ],
   "source": [
    "# Save result as csv\n",
    "result_train_csv = save_dir /  (\"result_\" + dataset_name + \"_\" + modelname + \"_train.csv\")\n",
    "result_test_csv = save_dir / (\"result_\" + dataset_name + \"_\" + modelname + \"_test.csv\")\n",
    "df_result_train = seq.result_to_csv(result_train_csv, x_train, t_train, guess_train, encoding=encoding)\n",
    "df_result_test = seq.result_to_csv(result_test_csv, x_test, t_test, guess_test, encoding=encoding)"
   ]
  },
  {
   "cell_type": "code",
   "execution_count": 125,
   "metadata": {
    "scrolled": true
   },
   "outputs": [
    {
     "data": {
      "text/plain": [
       "39"
      ]
     },
     "execution_count": 125,
     "metadata": {},
     "output_type": "execute_result"
    }
   ],
   "source": [
    "sample_size"
   ]
  },
  {
   "cell_type": "code",
   "execution_count": 126,
   "metadata": {},
   "outputs": [
    {
     "data": {
      "image/png": "[encoded data removed]",
      "text/plain": [
       "<Figure size 432x288 with 2 Axes>"
      ]
     },
     "metadata": {},
     "output_type": "display_data"
    }
   ],
   "source": [
    "# Plot learning curve and save it as png image\n",
    "image_path = save_dir / ('result_' + dataset_name + \"_\" + modelname + '.png')\n",
    "trainer.plot(image_path=image_path)"
   ]
  },
  {
   "cell_type": "code",
   "execution_count": 127,
   "metadata": {},
   "outputs": [],
   "source": [
    "# Save parameters\n",
    "pickle_path = model_dir / (dataset_name + \"_\" + modelname + '_V' + str(vocab_size) + '_D' + str(wordvec_size) + '_H' + str(hidden_size) + timestamp + '.pkl')\n",
    "model.save_params(file_name=pickle_path)"
   ]
  },
  {
   "cell_type": "markdown",
   "metadata": {},
   "source": [
    "## 確信度の取得"
   ]
  },
  {
   "cell_type": "code",
   "execution_count": 177,
   "metadata": {},
   "outputs": [],
   "source": [
    "model.load_params(file_name=str(pickle_path))"
   ]
  },
  {
   "cell_type": "code",
   "execution_count": 484,
   "metadata": {
    "scrolled": true
   },
   "outputs": [],
   "source": [
    "# Inference with certainty factor\n",
    "start_id = seq.start_id\n",
    "sample_size = seq.t_length\n",
    "guess_train, cf_train = model.generate_with_cf(x_train, start_id, sample_size)\n",
    "guess_test, cf_test = model.generate_with_cf(x_test, start_id, sample_size)"
   ]
  },
  {
   "cell_type": "code",
   "execution_count": 485,
   "metadata": {},
   "outputs": [],
   "source": [
    "# 保存ファイルのファイル名生成\n",
    "modelname = model.__class__.__name__\n",
    "timestamp = datetime.now().strftime(\"_%y%m%d_%H%M\")\n",
    "save_dir = result_dir / (dataset_name + timestamp)\n",
    "os.makedirs(save_dir, exist_ok=True)"
   ]
  },
  {
   "cell_type": "code",
   "execution_count": 488,
   "metadata": {
    "scrolled": false
   },
   "outputs": [
    {
     "name": "stdout",
     "output_type": "stream",
     "text": [
      "Accuracy: 0.898471615720524\n",
      "Accuracy: 0.8627450980392157\n"
     ]
    }
   ],
   "source": [
    "# Save result as csv\n",
    "result_train_csv = save_dir /  (\"result_\" + dataset_name + \"_\" + modelname + \"_train.csv\")\n",
    "result_test_csv = save_dir / (\"result_\" + dataset_name + \"_\" + modelname + \"_test.csv\")\n",
    "df_result_train = seq.result_to_csv(result_train_csv, x_train, t_train, guess_train, cf=cf_train, encoding=encoding)\n",
    "df_result_test = seq.result_to_csv(result_test_csv, x_test, t_test, guess_test, cf=cf_test, encoding=encoding)"
   ]
  },
  {
   "cell_type": "code",
   "execution_count": 109,
   "metadata": {},
   "outputs": [],
   "source": [
    "def cf_filter(df):\n",
    "    for factor in np.arange(0.90, 1.00, 0.01):\n",
    "        print(\"cf={:.2f}\".format(factor))\n",
    "        print(\" correct   :\", df.query('correct == 1 and cf < {}'.format(factor)).shape[0])\n",
    "        print(\" incorrect :\", df.query('correct == 0 and cf < {}'.format(factor)).shape[0])"
   ]
  },
  {
   "cell_type": "code",
   "execution_count": 342,
   "metadata": {
    "scrolled": false
   },
   "outputs": [
    {
     "name": "stdout",
     "output_type": "stream",
     "text": [
      "cf=0.90\n",
      " correct   : 4\n",
      " incorrect : 5\n",
      "cf=0.91\n",
      " correct   : 4\n",
      " incorrect : 5\n",
      "cf=0.92\n",
      " correct   : 5\n",
      " incorrect : 5\n",
      "cf=0.93\n",
      " correct   : 7\n",
      " incorrect : 7\n",
      "cf=0.94\n",
      " correct   : 7\n",
      " incorrect : 7\n",
      "cf=0.95\n",
      " correct   : 12\n",
      " incorrect : 16\n",
      "cf=0.96\n",
      " correct   : 19\n",
      " incorrect : 20\n",
      "cf=0.97\n",
      " correct   : 40\n",
      " incorrect : 30\n",
      "cf=0.98\n",
      " correct   : 93\n",
      " incorrect : 56\n",
      "cf=0.99\n",
      " correct   : 223\n",
      " incorrect : 80\n"
     ]
    }
   ],
   "source": [
    "cf_filter(df_result_train)"
   ]
  },
  {
   "cell_type": "code",
   "execution_count": 277,
   "metadata": {
    "scrolled": true
   },
   "outputs": [
    {
     "name": "stdout",
     "output_type": "stream",
     "text": [
      "cf=0.90\n",
      " correct   : 0\n",
      " incorrect : 0\n",
      "cf=0.91\n",
      " correct   : 0\n",
      " incorrect : 0\n",
      "cf=0.92\n",
      " correct   : 0\n",
      " incorrect : 0\n",
      "cf=0.93\n",
      " correct   : 0\n",
      " incorrect : 0\n",
      "cf=0.94\n",
      " correct   : 0\n",
      " incorrect : 0\n",
      "cf=0.95\n",
      " correct   : 0\n",
      " incorrect : 0\n",
      "cf=0.96\n",
      " correct   : 0\n",
      " incorrect : 0\n",
      "cf=0.97\n",
      " correct   : 0\n",
      " incorrect : 0\n",
      "cf=0.98\n",
      " correct   : 0\n",
      " incorrect : 0\n",
      "cf=0.99\n",
      " correct   : 88\n",
      " incorrect : 14\n"
     ]
    }
   ],
   "source": [
    "cf_filter(df_result_test)"
   ]
  },
  {
   "cell_type": "code",
   "execution_count": 430,
   "metadata": {
    "scrolled": true
   },
   "outputs": [
    {
     "data": {
      "text/plain": [
       "1    823\n",
       "0     93\n",
       "Name: correct, dtype: int64"
      ]
     },
     "execution_count": 430,
     "metadata": {},
     "output_type": "execute_result"
    }
   ],
   "source": [
    "corrects = df_result_train['correct'].value_counts()\n",
    "corrects"
   ]
  },
  {
   "cell_type": "code",
   "execution_count": 196,
   "metadata": {},
   "outputs": [],
   "source": [
    "def accuracy(df, cf):\n",
    "    df_passed = df.query('cf > {}'.format(cf))\n",
    "    if len(df_passed) > 0:\n",
    "        nb_corrects = df_passed['correct'].value_counts()[1]\n",
    "        return nb_corrects / len(df_passed)\n",
    "    else:\n",
    "        return 0"
   ]
  },
  {
   "cell_type": "code",
   "execution_count": 135,
   "metadata": {},
   "outputs": [],
   "source": [
    "def passing_rate(df, cf):\n",
    "    nb_passing = len(df.query('cf >= {}'.format(cf)))\n",
    "    return nb_passing / len(df)"
   ]
  },
  {
   "cell_type": "code",
   "execution_count": 526,
   "metadata": {
    "scrolled": false
   },
   "outputs": [
    {
     "data": {
      "text/plain": [
       "0.9827586206896551"
      ]
     },
     "execution_count": 526,
     "metadata": {},
     "output_type": "execute_result"
    }
   ],
   "source": [
    "accuracy(df_result_test, 0.992)"
   ]
  },
  {
   "cell_type": "code",
   "execution_count": 527,
   "metadata": {},
   "outputs": [
    {
     "data": {
      "text/plain": [
       "0.5686274509803921"
      ]
     },
     "execution_count": 527,
     "metadata": {},
     "output_type": "execute_result"
    }
   ],
   "source": [
    "passing_rate(df_result_test, 0.992)"
   ]
  },
  {
   "cell_type": "code",
   "execution_count": 489,
   "metadata": {},
   "outputs": [],
   "source": [
    "def accuracy_by_cf(df):\n",
    "    acc_list = []\n",
    "    pr_list = []\n",
    "    for cf in np.arange(0.90, 1.00, 0.001):\n",
    "#         print(\"cf={:.2f}\".format(cf))\n",
    "        acc = accuracy(df, cf)\n",
    "        pr  = passing_rate(df, cf)\n",
    "#         print(\"  Accuracy     :\", acc)\n",
    "#         print(\"  Passing rate :\", pr)\n",
    "        acc_list.append(acc)\n",
    "        pr_list.append(pr)\n",
    "    return acc_list, pr_list"
   ]
  },
  {
   "cell_type": "code",
   "execution_count": 490,
   "metadata": {
    "scrolled": true
   },
   "outputs": [],
   "source": [
    "acc_train, pr_train = accuracy_by_cf(df_result_train)"
   ]
  },
  {
   "cell_type": "code",
   "execution_count": 491,
   "metadata": {},
   "outputs": [],
   "source": [
    "acc_test, pr_test = accuracy_by_cf(df_result_test)"
   ]
  },
  {
   "cell_type": "code",
   "execution_count": 469,
   "metadata": {},
   "outputs": [
    {
     "data": {
      "text/plain": [
       "[]"
      ]
     },
     "execution_count": 469,
     "metadata": {},
     "output_type": "execute_result"
    },
    {
     "data": {
      "image/png": "[encoded data removed]",
      "text/plain": [
       "<Figure size 432x288 with 1 Axes>"
      ]
     },
     "metadata": {
      "needs_background": "light"
     },
     "output_type": "display_data"
    }
   ],
   "source": [
    "x = np.arange(0.90, 1.00, 0.001)\n",
    "fig, ax = plt.subplots()\n",
    "color_acc = 'orange'\n",
    "color_pr = 'blue'\n",
    "ax.plot(x, acc_train, color=color_acc, label='train accuracy')\n",
    "ax.plot(x, pr_train, color=color_pr, label='train passing rate')\n",
    "ax.plot(x, acc_test, color=color_acc, linestyle='dashed', label='test accuracy')\n",
    "ax.plot(x, pr_test, color=color_pr, linestyle='dashed', label='test passing rate')\n",
    "ax.grid(True)\n",
    "plt.xlabel('certainty factor')\n",
    "ax.set_ylim(0.7, 1.01)\n",
    "ax.legend()\n",
    "plt.savefig('./accuracy_and_passing-rate.png')\n",
    "plt.plot()"
   ]
  },
  {
   "cell_type": "code",
   "execution_count": null,
   "metadata": {},
   "outputs": [],
   "source": []
  }
 ],
 "metadata": {
  "hide_input": false,
  "kernelspec": {
   "display_name": "Python 3",
   "language": "python",
   "name": "python3"
  },
  "language_info": {
   "codemirror_mode": {
    "name": "ipython",
    "version": 3
   },
   "file_extension": ".py",
   "mimetype": "text/x-python",
   "name": "python",
   "nbconvert_exporter": "python",
   "pygments_lexer": "ipython3",
   "version": "3.6.2"
  },
  "toc": {
   "base_numbering": 1,
   "nav_menu": {},
   "number_sections": true,
   "sideBar": true,
   "skip_h1_title": false,
   "title_cell": "Table of Contents",
   "title_sidebar": "Contents",
   "toc_cell": false,
   "toc_position": {},
   "toc_section_display": true,
   "toc_window_display": false
  }
 },
 "nbformat": 4,
 "nbformat_minor": 2
}
