{
 "cells": [
  {
   "cell_type": "markdown",
   "metadata": {},
   "source": [
    "ディレクトリ構成：  \n",
    "```\n",
    "./\n",
    "├train_seq2seq.ipynb(このファイル)\n",
    "├model/\n",
    "│   └(モデルパラメータキャッシュファイル)\n",
    "├dataset/\n",
    "├result/\n",
    "│   └(実行結果CSVと学習曲線グラフ画像)\n",
    "└src/\n",
    "   ├common/\n",
    "   ├dataset/\n",
    "   ├attention_layer.py\n",
    "   ├attention_seq2seq.py\n",
    "   ├peeky_seq2seq.py\n",
    "   └seq2seq.py\n",
    "```"
   ]
  },
  {
   "cell_type": "code",
   "execution_count": 612,
   "metadata": {},
   "outputs": [
    {
     "name": "stdout",
     "output_type": "stream",
     "text": [
      "Once deleted, variables cannot be recovered. Proceed (y/[n])? y\n"
     ]
    }
   ],
   "source": [
    "# 変数の全消去\n",
    "%reset"
   ]
  },
  {
   "cell_type": "code",
   "execution_count": 1,
   "metadata": {},
   "outputs": [],
   "source": [
    "# coding: utf-8\n",
    "import sys\n",
    "sys.path.append(\"./src\")\n",
    "import os\n",
    "import numpy as np\n",
    "import matplotlib.pyplot as plt\n",
    "from pathlib import Path\n",
    "from datetime import datetime\n",
    "from dataset.sequence import TextSequence\n",
    "from common.optimizer import Adam\n",
    "from common.trainer import Trainer\n",
    "from common.util import eval_seq2seq\n",
    "from seq2seq import Seq2seq\n",
    "from peeky_seq2seq import PeekySeq2seq\n",
    "from attention_seq2seq import AttentionSeq2seq"
   ]
  },
  {
   "cell_type": "code",
   "execution_count": 2,
   "metadata": {},
   "outputs": [],
   "source": [
    "# matplotlibのインライン表示\n",
    "%matplotlib inline\n",
    "# モジュールの更新時に自動で再読み込み\n",
    "%reload_ext autoreload\n",
    "%autoreload 2"
   ]
  },
  {
   "cell_type": "code",
   "execution_count": 3,
   "metadata": {},
   "outputs": [],
   "source": [
    "# ファイルパスの設定\n",
    "dataset_dir =Path('./src/dataset')\n",
    "# source_csv = dataset_dir / \"addition.csv\"\n",
    "# source_csv = dataset_dir / \"interpretation_train43_and_test40.csv\"\n",
    "source_csv = dataset_dir / \"interpretation_excel_concat_trim.csv\"\n",
    "result_dir = Path('./result')\n",
    "model_dir = Path('./model')\n",
    "dataset_name = source_csv.stem\n",
    "encoding = \"utf-8\""
   ]
  },
  {
   "cell_type": "code",
   "execution_count": 583,
   "metadata": {},
   "outputs": [],
   "source": [
    "# 最初から訓練データとテストデータが分かれているときはこっち\n",
    "source_csv = dataset_dir /\"interpretation_excel.csv\"  # 結果ファイル名に用いる\n",
    "train_csv = dataset_dir / \"interpretation_excel_train_trim.csv\"\n",
    "test_csv = dataset_dir / \"interpretation_excel_validation_trim.csv\""
   ]
  },
  {
   "cell_type": "markdown",
   "metadata": {},
   "source": [
    "### 前処理\n",
    "#### データセット読み込みと文字IDベクトルへの変換"
   ]
  },
  {
   "cell_type": "code",
   "execution_count": 4,
   "metadata": {},
   "outputs": [],
   "source": [
    "# TextSequenceクラスからCSV読み込み\n",
    "seq = TextSequence()\n",
    "seq.read_csv(source_csv)\n",
    "char_to_id, id_to_char = seq.vocab"
   ]
  },
  {
   "cell_type": "code",
   "execution_count": 584,
   "metadata": {},
   "outputs": [],
   "source": [
    "# 最初から訓練データとテストデータが分かれているときはこっち\n",
    "seq = TextSequence()\n",
    "seq.read_csv(train_csv)\n",
    "x_train, t_train = seq.shuffle(seed=1)\n",
    "seq.read_csv(test_csv, vocab_init=False)\n",
    "x_test, t_test = seq.shuffle(seed=1)\n",
    "char_to_id, id_to_char = seq.vocab"
   ]
  },
  {
   "cell_type": "markdown",
   "metadata": {},
   "source": [
    "#### ハイパーパラメータ設定とデータ前処理"
   ]
  },
  {
   "cell_type": "code",
   "execution_count": 21,
   "metadata": {},
   "outputs": [],
   "source": [
    "# ハイパーパラメータ\n",
    "vocab_size = len(char_to_id)\n",
    "wordvec_size = 64\n",
    "hidden_size = 128\n",
    "batch_size = 32\n",
    "max_epoch = 100\n",
    "max_grad = 5.0"
   ]
  },
  {
   "cell_type": "code",
   "execution_count": 11,
   "metadata": {},
   "outputs": [],
   "source": [
    "# データセット分割\n",
    "x_train, x_test, t_train, t_test = seq.split_data(seed=1, test_size=0.1)"
   ]
  },
  {
   "cell_type": "markdown",
   "metadata": {},
   "source": [
    "#### model, optimizer, trainerインスタンス作成"
   ]
  },
  {
   "cell_type": "code",
   "execution_count": 33,
   "metadata": {},
   "outputs": [],
   "source": [
    "# モデル選択\n",
    "# model = Seq2seq(vocab_size, wordvec_size, hidden_size)\n",
    "model = PeekySeq2seq(vocab_size, wordvec_size, hidden_size)\n",
    "# model = AttentionSeq2seq(vocab_size, wordvec_size, hidden_size)"
   ]
  },
  {
   "cell_type": "code",
   "execution_count": 31,
   "metadata": {},
   "outputs": [],
   "source": [
    "# OptimizerとTrainerインスタンスの初期化\n",
    "optimizer = Adam()\n",
    "trainer = Trainer(model, optimizer)"
   ]
  },
  {
   "cell_type": "markdown",
   "metadata": {},
   "source": [
    "### 学習実行"
   ]
  },
  {
   "cell_type": "code",
   "execution_count": 32,
   "metadata": {
    "scrolled": true
   },
   "outputs": [
    {
     "name": "stdout",
     "output_type": "stream",
     "text": [
      "| epoch 1 |  iter 1 / 19 | time 0[s] | loss 5.68\n",
      "| epoch 1 | loss 5.68098\n",
      "| epoch 1 | train error 1.00000\n",
      "| epoch 1 | test error  1.00000\n",
      "| epoch 2 |  iter 1 / 19 | time 4[s] | loss 4.42\n",
      "| epoch 2 | loss 4.42120\n",
      "| epoch 2 | train error 1.00000\n",
      "| epoch 2 | test error  1.00000\n",
      "| epoch 3 |  iter 1 / 19 | time 8[s] | loss 2.66\n",
      "| epoch 3 | loss 2.66496\n",
      "| epoch 3 | train error 1.00000\n",
      "| epoch 3 | test error  1.00000\n",
      "| epoch 4 |  iter 1 / 19 | time 12[s] | loss 2.27\n",
      "| epoch 4 | loss 2.27309\n",
      "| epoch 4 | train error 1.00000\n",
      "| epoch 4 | test error  1.00000\n",
      "| epoch 5 |  iter 1 / 19 | time 16[s] | loss 2.05\n",
      "| epoch 5 | loss 2.05224\n",
      "| epoch 5 | train error 1.00000\n",
      "| epoch 5 | test error  1.00000\n",
      "| epoch 6 |  iter 1 / 19 | time 20[s] | loss 1.90\n",
      "| epoch 6 | loss 1.89938\n",
      "| epoch 6 | train error 1.00000\n",
      "| epoch 6 | test error  1.00000\n",
      "| epoch 7 |  iter 1 / 19 | time 24[s] | loss 1.80\n",
      "| epoch 7 | loss 1.79798\n",
      "| epoch 7 | train error 1.00000\n",
      "| epoch 7 | test error  1.00000\n",
      "| epoch 8 |  iter 1 / 19 | time 28[s] | loss 1.65\n",
      "| epoch 8 | loss 1.64799\n",
      "| epoch 8 | train error 1.00000\n",
      "| epoch 8 | test error  1.00000\n",
      "| epoch 9 |  iter 1 / 19 | time 32[s] | loss 1.52\n",
      "| epoch 9 | loss 1.51534\n",
      "| epoch 9 | train error 1.00000\n",
      "| epoch 9 | test error  1.00000\n",
      "| epoch 10 |  iter 1 / 19 | time 36[s] | loss 1.35\n",
      "| epoch 10 | loss 1.35212\n",
      "| epoch 10 | train error 1.00000\n",
      "| epoch 10 | test error  1.00000\n",
      "| epoch 11 |  iter 1 / 19 | time 40[s] | loss 1.20\n",
      "| epoch 11 | loss 1.20357\n",
      "| epoch 11 | train error 1.00000\n",
      "| epoch 11 | test error  1.00000\n",
      "| epoch 12 |  iter 1 / 19 | time 44[s] | loss 1.11\n",
      "| epoch 12 | loss 1.11038\n",
      "| epoch 12 | train error 1.00000\n",
      "| epoch 12 | test error  1.00000\n",
      "| epoch 13 |  iter 1 / 19 | time 48[s] | loss 1.00\n",
      "| epoch 13 | loss 0.99744\n",
      "| epoch 13 | train error 0.98539\n",
      "| epoch 13 | test error  1.00000\n",
      "| epoch 14 |  iter 1 / 19 | time 52[s] | loss 0.89\n",
      "| epoch 14 | loss 0.88794\n",
      "| epoch 14 | train error 0.96104\n",
      "| epoch 14 | test error  1.00000\n",
      "| epoch 15 |  iter 1 / 19 | time 56[s] | loss 0.79\n",
      "| epoch 15 | loss 0.78594\n",
      "| epoch 15 | train error 0.98701\n",
      "| epoch 15 | test error  0.97101\n",
      "| epoch 16 |  iter 1 / 19 | time 60[s] | loss 0.73\n",
      "| epoch 16 | loss 0.72607\n",
      "| epoch 16 | train error 0.99188\n",
      "| epoch 16 | test error  1.00000\n",
      "| epoch 17 |  iter 1 / 19 | time 64[s] | loss 0.65\n",
      "| epoch 17 | loss 0.64645\n",
      "| epoch 17 | train error 0.88961\n",
      "| epoch 17 | test error  0.97101\n",
      "| epoch 18 |  iter 1 / 19 | time 68[s] | loss 0.55\n",
      "| epoch 18 | loss 0.55112\n",
      "| epoch 18 | train error 0.91396\n",
      "| epoch 18 | test error  0.92754\n",
      "| epoch 19 |  iter 1 / 19 | time 72[s] | loss 0.50\n",
      "| epoch 19 | loss 0.49831\n",
      "| epoch 19 | train error 0.92208\n",
      "| epoch 19 | test error  0.92754\n",
      "| epoch 20 |  iter 1 / 19 | time 76[s] | loss 0.44\n",
      "| epoch 20 | loss 0.44145\n",
      "| epoch 20 | train error 0.87175\n",
      "| epoch 20 | test error  0.89855\n",
      "| epoch 21 |  iter 1 / 19 | time 80[s] | loss 0.39\n",
      "| epoch 21 | loss 0.39390\n",
      "| epoch 21 | train error 0.91558\n",
      "| epoch 21 | test error  0.91304\n",
      "| epoch 22 |  iter 1 / 19 | time 84[s] | loss 0.37\n",
      "| epoch 22 | loss 0.37119\n",
      "| epoch 22 | train error 0.87825\n",
      "| epoch 22 | test error  0.91304\n",
      "| epoch 23 |  iter 1 / 19 | time 88[s] | loss 0.34\n",
      "| epoch 23 | loss 0.33611\n",
      "| epoch 23 | train error 0.87987\n",
      "| epoch 23 | test error  0.91304\n",
      "| epoch 24 |  iter 1 / 19 | time 92[s] | loss 0.31\n",
      "| epoch 24 | loss 0.31438\n",
      "| epoch 24 | train error 0.84253\n",
      "| epoch 24 | test error  0.89855\n",
      "| epoch 25 |  iter 1 / 19 | time 96[s] | loss 0.29\n",
      "| epoch 25 | loss 0.29217\n",
      "| epoch 25 | train error 0.87013\n",
      "| epoch 25 | test error  0.89855\n",
      "| epoch 26 |  iter 1 / 19 | time 100[s] | loss 0.28\n",
      "| epoch 26 | loss 0.28207\n",
      "| epoch 26 | train error 0.83117\n",
      "| epoch 26 | test error  0.88406\n",
      "| epoch 27 |  iter 1 / 19 | time 104[s] | loss 0.26\n",
      "| epoch 27 | loss 0.25901\n",
      "| epoch 27 | train error 0.82468\n",
      "| epoch 27 | test error  0.91304\n",
      "| epoch 28 |  iter 1 / 19 | time 108[s] | loss 0.24\n",
      "| epoch 28 | loss 0.24371\n",
      "| epoch 28 | train error 0.84253\n",
      "| epoch 28 | test error  0.91304\n",
      "| epoch 29 |  iter 1 / 19 | time 112[s] | loss 0.23\n",
      "| epoch 29 | loss 0.23382\n",
      "| epoch 29 | train error 0.80844\n",
      "| epoch 29 | test error  0.91304\n",
      "| epoch 30 |  iter 1 / 19 | time 116[s] | loss 0.22\n",
      "| epoch 30 | loss 0.22416\n",
      "| epoch 30 | train error 0.81331\n",
      "| epoch 30 | test error  0.88406\n",
      "| epoch 31 |  iter 1 / 19 | time 120[s] | loss 0.20\n",
      "| epoch 31 | loss 0.20259\n",
      "| epoch 31 | train error 0.75812\n",
      "| epoch 31 | test error  0.91304\n",
      "| epoch 32 |  iter 1 / 19 | time 124[s] | loss 0.20\n",
      "| epoch 32 | loss 0.19707\n",
      "| epoch 32 | train error 0.74188\n",
      "| epoch 32 | test error  0.88406\n",
      "| epoch 33 |  iter 1 / 19 | time 128[s] | loss 0.19\n",
      "| epoch 33 | loss 0.19366\n",
      "| epoch 33 | train error 0.77435\n",
      "| epoch 33 | test error  0.86957\n",
      "| epoch 34 |  iter 1 / 19 | time 132[s] | loss 0.18\n",
      "| epoch 34 | loss 0.18457\n",
      "| epoch 34 | train error 0.79545\n",
      "| epoch 34 | test error  0.89855\n",
      "| epoch 35 |  iter 1 / 19 | time 136[s] | loss 0.18\n",
      "| epoch 35 | loss 0.17599\n",
      "| epoch 35 | train error 0.74188\n",
      "| epoch 35 | test error  0.85507\n",
      "| epoch 36 |  iter 1 / 19 | time 140[s] | loss 0.16\n",
      "| epoch 36 | loss 0.16398\n",
      "| epoch 36 | train error 0.72240\n",
      "| epoch 36 | test error  0.85507\n",
      "| epoch 37 |  iter 1 / 19 | time 144[s] | loss 0.16\n",
      "| epoch 37 | loss 0.16226\n",
      "| epoch 37 | train error 0.73377\n",
      "| epoch 37 | test error  0.86957\n",
      "| epoch 38 |  iter 1 / 19 | time 148[s] | loss 0.16\n",
      "| epoch 38 | loss 0.15641\n",
      "| epoch 38 | train error 0.65097\n",
      "| epoch 38 | test error  0.84058\n",
      "| epoch 39 |  iter 1 / 19 | time 153[s] | loss 0.15\n",
      "| epoch 39 | loss 0.14885\n",
      "| epoch 39 | train error 0.63799\n",
      "| epoch 39 | test error  0.82609\n",
      "| epoch 40 |  iter 1 / 19 | time 157[s] | loss 0.14\n",
      "| epoch 40 | loss 0.14183\n",
      "| epoch 40 | train error 0.64448\n",
      "| epoch 40 | test error  0.76812\n",
      "| epoch 41 |  iter 1 / 19 | time 161[s] | loss 0.14\n",
      "| epoch 41 | loss 0.13834\n",
      "| epoch 41 | train error 0.66721\n",
      "| epoch 41 | test error  0.81159\n",
      "| epoch 42 |  iter 1 / 19 | time 165[s] | loss 0.14\n",
      "| epoch 42 | loss 0.13789\n",
      "| epoch 42 | train error 0.59740\n",
      "| epoch 42 | test error  0.72464\n",
      "| epoch 43 |  iter 1 / 19 | time 169[s] | loss 0.12\n",
      "| epoch 43 | loss 0.12416\n",
      "| epoch 43 | train error 0.60227\n",
      "| epoch 43 | test error  0.73913\n",
      "| epoch 44 |  iter 1 / 19 | time 173[s] | loss 0.12\n",
      "| epoch 44 | loss 0.12132\n",
      "| epoch 44 | train error 0.64286\n",
      "| epoch 44 | test error  0.76812\n",
      "| epoch 45 |  iter 1 / 19 | time 177[s] | loss 0.12\n",
      "| epoch 45 | loss 0.12041\n",
      "| epoch 45 | train error 0.58117\n",
      "| epoch 45 | test error  0.72464\n",
      "| epoch 46 |  iter 1 / 19 | time 181[s] | loss 0.12\n",
      "| epoch 46 | loss 0.11614\n",
      "| epoch 46 | train error 0.59416\n",
      "| epoch 46 | test error  0.75362\n",
      "| epoch 47 |  iter 1 / 19 | time 185[s] | loss 0.11\n",
      "| epoch 47 | loss 0.10959\n",
      "| epoch 47 | train error 0.56331\n",
      "| epoch 47 | test error  0.65217\n",
      "| epoch 48 |  iter 1 / 19 | time 189[s] | loss 0.11\n",
      "| epoch 48 | loss 0.10609\n",
      "| epoch 48 | train error 0.58604\n",
      "| epoch 48 | test error  0.68116\n",
      "| epoch 49 |  iter 1 / 19 | time 193[s] | loss 0.11\n",
      "| epoch 49 | loss 0.10580\n",
      "| epoch 49 | train error 0.51299\n",
      "| epoch 49 | test error  0.62319\n",
      "| epoch 50 |  iter 1 / 19 | time 197[s] | loss 0.10\n",
      "| epoch 50 | loss 0.10052\n",
      "| epoch 50 | train error 0.51461\n",
      "| epoch 50 | test error  0.69565\n",
      "| epoch 51 |  iter 1 / 19 | time 201[s] | loss 0.10\n",
      "| epoch 51 | loss 0.09675\n",
      "| epoch 51 | train error 0.50974\n",
      "| epoch 51 | test error  0.65217\n",
      "| epoch 52 |  iter 1 / 19 | time 205[s] | loss 0.09\n",
      "| epoch 52 | loss 0.09338\n",
      "| epoch 52 | train error 0.51136\n",
      "| epoch 52 | test error  0.63768\n",
      "| epoch 53 |  iter 1 / 19 | time 209[s] | loss 0.10\n",
      "| epoch 53 | loss 0.09881\n",
      "| epoch 53 | train error 0.50812\n",
      "| epoch 53 | test error  0.62319\n",
      "| epoch 54 |  iter 1 / 19 | time 214[s] | loss 0.09\n",
      "| epoch 54 | loss 0.08803\n",
      "| epoch 54 | train error 0.52110\n",
      "| epoch 54 | test error  0.63768\n",
      "| epoch 55 |  iter 1 / 19 | time 218[s] | loss 0.09\n",
      "| epoch 55 | loss 0.08979\n",
      "| epoch 55 | train error 0.45130\n",
      "| epoch 55 | test error  0.59420\n",
      "| epoch 56 |  iter 1 / 19 | time 222[s] | loss 0.09\n",
      "| epoch 56 | loss 0.08733\n",
      "| epoch 56 | train error 0.45617\n",
      "| epoch 56 | test error  0.59420\n",
      "| epoch 57 |  iter 1 / 19 | time 226[s] | loss 0.08\n",
      "| epoch 57 | loss 0.08450\n",
      "| epoch 57 | train error 0.44481\n",
      "| epoch 57 | test error  0.63768\n",
      "| epoch 58 |  iter 1 / 19 | time 230[s] | loss 0.08\n"
     ]
    },
    {
     "name": "stdout",
     "output_type": "stream",
     "text": [
      "| epoch 58 | loss 0.07705\n",
      "| epoch 58 | train error 0.39448\n",
      "| epoch 58 | test error  0.57971\n",
      "| epoch 59 |  iter 1 / 19 | time 234[s] | loss 0.08\n",
      "| epoch 59 | loss 0.07706\n",
      "| epoch 59 | train error 0.39286\n",
      "| epoch 59 | test error  0.50725\n",
      "| epoch 60 |  iter 1 / 19 | time 238[s] | loss 0.07\n",
      "| epoch 60 | loss 0.07026\n",
      "| epoch 60 | train error 0.40584\n",
      "| epoch 60 | test error  0.55072\n",
      "| epoch 61 |  iter 1 / 19 | time 242[s] | loss 0.07\n",
      "| epoch 61 | loss 0.07398\n",
      "| epoch 61 | train error 0.41234\n",
      "| epoch 61 | test error  0.55072\n",
      "| epoch 62 |  iter 1 / 19 | time 246[s] | loss 0.07\n",
      "| epoch 62 | loss 0.07254\n",
      "| epoch 62 | train error 0.36851\n",
      "| epoch 62 | test error  0.49275\n",
      "| epoch 63 |  iter 1 / 19 | time 251[s] | loss 0.07\n",
      "| epoch 63 | loss 0.06764\n",
      "| epoch 63 | train error 0.34578\n",
      "| epoch 63 | test error  0.44928\n",
      "| epoch 64 |  iter 1 / 19 | time 255[s] | loss 0.07\n",
      "| epoch 64 | loss 0.06552\n",
      "| epoch 64 | train error 0.33604\n",
      "| epoch 64 | test error  0.47826\n",
      "| epoch 65 |  iter 1 / 19 | time 259[s] | loss 0.06\n",
      "| epoch 65 | loss 0.06248\n",
      "| epoch 65 | train error 0.33117\n",
      "| epoch 65 | test error  0.46377\n",
      "| epoch 66 |  iter 1 / 19 | time 263[s] | loss 0.06\n",
      "| epoch 66 | loss 0.05876\n",
      "| epoch 66 | train error 0.32630\n",
      "| epoch 66 | test error  0.49275\n",
      "| epoch 67 |  iter 1 / 19 | time 267[s] | loss 0.06\n",
      "| epoch 67 | loss 0.05681\n",
      "| epoch 67 | train error 0.35714\n",
      "| epoch 67 | test error  0.46377\n",
      "| epoch 68 |  iter 1 / 19 | time 271[s] | loss 0.06\n",
      "| epoch 68 | loss 0.05526\n",
      "| epoch 68 | train error 0.34416\n",
      "| epoch 68 | test error  0.50725\n",
      "| epoch 69 |  iter 1 / 19 | time 275[s] | loss 0.05\n",
      "| epoch 69 | loss 0.05483\n",
      "| epoch 69 | train error 0.28409\n",
      "| epoch 69 | test error  0.44928\n",
      "| epoch 70 |  iter 1 / 19 | time 279[s] | loss 0.05\n",
      "| epoch 70 | loss 0.05209\n",
      "| epoch 70 | train error 0.29221\n",
      "| epoch 70 | test error  0.42029\n",
      "| epoch 71 |  iter 1 / 19 | time 283[s] | loss 0.05\n",
      "| epoch 71 | loss 0.04997\n",
      "| epoch 71 | train error 0.26136\n",
      "| epoch 71 | test error  0.44928\n",
      "| epoch 72 |  iter 1 / 19 | time 287[s] | loss 0.05\n",
      "| epoch 72 | loss 0.04856\n",
      "| epoch 72 | train error 0.27273\n",
      "| epoch 72 | test error  0.44928\n",
      "| epoch 73 |  iter 1 / 19 | time 291[s] | loss 0.05\n",
      "| epoch 73 | loss 0.04724\n",
      "| epoch 73 | train error 0.25487\n",
      "| epoch 73 | test error  0.42029\n",
      "| epoch 74 |  iter 1 / 19 | time 295[s] | loss 0.05\n",
      "| epoch 74 | loss 0.04533\n",
      "| epoch 74 | train error 0.30032\n",
      "| epoch 74 | test error  0.46377\n",
      "| epoch 75 |  iter 1 / 19 | time 299[s] | loss 0.04\n",
      "| epoch 75 | loss 0.04464\n",
      "| epoch 75 | train error 0.26461\n",
      "| epoch 75 | test error  0.39130\n",
      "| epoch 76 |  iter 1 / 19 | time 303[s] | loss 0.04\n",
      "| epoch 76 | loss 0.04271\n",
      "| epoch 76 | train error 0.25649\n",
      "| epoch 76 | test error  0.43478\n",
      "| epoch 77 |  iter 1 / 19 | time 308[s] | loss 0.04\n",
      "| epoch 77 | loss 0.04378\n",
      "| epoch 77 | train error 0.24188\n",
      "| epoch 77 | test error  0.42029\n",
      "| epoch 78 |  iter 1 / 19 | time 312[s] | loss 0.04\n",
      "| epoch 78 | loss 0.04058\n",
      "| epoch 78 | train error 0.25812\n",
      "| epoch 78 | test error  0.36232\n",
      "| epoch 79 |  iter 1 / 19 | time 316[s] | loss 0.04\n",
      "| epoch 79 | loss 0.04219\n",
      "| epoch 79 | train error 0.23701\n",
      "| epoch 79 | test error  0.37681\n",
      "| epoch 80 |  iter 1 / 19 | time 320[s] | loss 0.04\n",
      "| epoch 80 | loss 0.03645\n",
      "| epoch 80 | train error 0.22565\n",
      "| epoch 80 | test error  0.31884\n",
      "| epoch 81 |  iter 1 / 19 | time 324[s] | loss 0.04\n",
      "| epoch 81 | loss 0.03655\n",
      "| epoch 81 | train error 0.23539\n",
      "| epoch 81 | test error  0.37681\n",
      "| epoch 82 |  iter 1 / 19 | time 328[s] | loss 0.04\n",
      "| epoch 82 | loss 0.03604\n",
      "| epoch 82 | train error 0.20617\n",
      "| epoch 82 | test error  0.34783\n",
      "| epoch 83 |  iter 1 / 19 | time 333[s] | loss 0.03\n",
      "| epoch 83 | loss 0.03234\n",
      "| epoch 83 | train error 0.23377\n",
      "| epoch 83 | test error  0.42029\n",
      "| epoch 84 |  iter 1 / 19 | time 337[s] | loss 0.03\n",
      "| epoch 84 | loss 0.03278\n",
      "| epoch 84 | train error 0.19156\n",
      "| epoch 84 | test error  0.36232\n",
      "| epoch 85 |  iter 1 / 19 | time 341[s] | loss 0.03\n",
      "| epoch 85 | loss 0.03237\n",
      "| epoch 85 | train error 0.17370\n",
      "| epoch 85 | test error  0.34783\n",
      "| epoch 86 |  iter 1 / 19 | time 346[s] | loss 0.03\n",
      "| epoch 86 | loss 0.03065\n",
      "| epoch 86 | train error 0.19318\n",
      "| epoch 86 | test error  0.28986\n",
      "| epoch 87 |  iter 1 / 19 | time 350[s] | loss 0.03\n",
      "| epoch 87 | loss 0.02977\n",
      "| epoch 87 | train error 0.17532\n",
      "| epoch 87 | test error  0.36232\n",
      "| epoch 88 |  iter 1 / 19 | time 354[s] | loss 0.03\n",
      "| epoch 88 | loss 0.02940\n",
      "| epoch 88 | train error 0.17045\n",
      "| epoch 88 | test error  0.28986\n",
      "| epoch 89 |  iter 1 / 19 | time 358[s] | loss 0.03\n",
      "| epoch 89 | loss 0.02699\n",
      "| epoch 89 | train error 0.16396\n",
      "| epoch 89 | test error  0.34783\n",
      "| epoch 90 |  iter 1 / 19 | time 362[s] | loss 0.03\n",
      "| epoch 90 | loss 0.02660\n",
      "| epoch 90 | train error 0.16071\n",
      "| epoch 90 | test error  0.33333\n",
      "| epoch 91 |  iter 1 / 19 | time 366[s] | loss 0.03\n",
      "| epoch 91 | loss 0.02559\n",
      "| epoch 91 | train error 0.13636\n",
      "| epoch 91 | test error  0.28986\n",
      "| epoch 92 |  iter 1 / 19 | time 370[s] | loss 0.02\n",
      "| epoch 92 | loss 0.02485\n",
      "| epoch 92 | train error 0.14935\n",
      "| epoch 92 | test error  0.30435\n",
      "| epoch 93 |  iter 1 / 19 | time 374[s] | loss 0.03\n",
      "| epoch 93 | loss 0.02578\n",
      "| epoch 93 | train error 0.17857\n",
      "| epoch 93 | test error  0.31884\n",
      "| epoch 94 |  iter 1 / 19 | time 378[s] | loss 0.03\n",
      "| epoch 94 | loss 0.02658\n",
      "| epoch 94 | train error 0.17532\n",
      "| epoch 94 | test error  0.27536\n",
      "| epoch 95 |  iter 1 / 19 | time 382[s] | loss 0.03\n",
      "| epoch 95 | loss 0.02728\n",
      "| epoch 95 | train error 0.15747\n",
      "| epoch 95 | test error  0.30435\n",
      "| epoch 96 |  iter 1 / 19 | time 386[s] | loss 0.02\n",
      "| epoch 96 | loss 0.02411\n",
      "| epoch 96 | train error 0.12500\n",
      "| epoch 96 | test error  0.26087\n",
      "| epoch 97 |  iter 1 / 19 | time 390[s] | loss 0.02\n",
      "| epoch 97 | loss 0.02282\n",
      "| epoch 97 | train error 0.12013\n",
      "| epoch 97 | test error  0.30435\n",
      "| epoch 98 |  iter 1 / 19 | time 394[s] | loss 0.02\n",
      "| epoch 98 | loss 0.02136\n",
      "| epoch 98 | train error 0.10552\n",
      "| epoch 98 | test error  0.28986\n",
      "| epoch 99 |  iter 1 / 19 | time 398[s] | loss 0.02\n",
      "| epoch 99 | loss 0.02010\n",
      "| epoch 99 | train error 0.13799\n",
      "| epoch 99 | test error  0.30435\n",
      "| epoch 100 |  iter 1 / 19 | time 402[s] | loss 0.02\n",
      "| epoch 100 | loss 0.01940\n",
      "| epoch 100 | train error 0.12175\n",
      "| epoch 100 | test error  0.26087\n"
     ]
    }
   ],
   "source": [
    "# Train\n",
    "trainer.fit(x_train[:, ::-1], t_train, x_test[:, ::-1], t_test,\n",
    "            max_epoch=max_epoch,\n",
    "            batch_size=batch_size,\n",
    "            max_grad=max_grad)"
   ]
  },
  {
   "cell_type": "markdown",
   "metadata": {},
   "source": [
    "### 推論"
   ]
  },
  {
   "cell_type": "code",
   "execution_count": 606,
   "metadata": {},
   "outputs": [],
   "source": [
    "# Inference\n",
    "start_id = seq.start_id\n",
    "sample_size = seq.t_length\n",
    "guess_train = model.generate(x_train[:, ::-1], start_id, sample_size)\n",
    "guess_test = model.generate(x_test[:, ::-1], start_id, sample_size)"
   ]
  },
  {
   "cell_type": "markdown",
   "metadata": {},
   "source": [
    "### 結果の保存"
   ]
  },
  {
   "cell_type": "code",
   "execution_count": 608,
   "metadata": {},
   "outputs": [],
   "source": [
    "# 保存ファイルのファイル名生成\n",
    "modelname = model.__class__.__name__\n",
    "timestamp = datetime.now().strftime(\"_%y%m%d_%H%M\")\n",
    "save_dir = result_dir / (dataset_name + timestamp)\n",
    "os.makedirs(save_dir, exist_ok=True)"
   ]
  },
  {
   "cell_type": "code",
   "execution_count": 609,
   "metadata": {},
   "outputs": [
    {
     "name": "stdout",
     "output_type": "stream",
     "text": [
      "Accuracy: 0.9025974025974026\n",
      "Accuracy: 0.7246376811594203\n"
     ]
    }
   ],
   "source": [
    "# Save result as csv\n",
    "result_train_csv = save_dir /  (\"result_\" + dataset_name + \"_\" + modelname + \"_train.csv\")\n",
    "result_test_csv = save_dir / (\"result_\" + dataset_name + \"_\" + modelname + \"_test.csv\")\n",
    "df_result_train = seq.result_to_csv(result_train_csv, x_train, t_train, guess_train, encoding=encoding)\n",
    "df_result_test = seq.result_to_csv(result_test_csv, x_test, t_test, guess_test, encoding=encoding)"
   ]
  },
  {
   "cell_type": "code",
   "execution_count": 610,
   "metadata": {},
   "outputs": [
    {
     "data": {
      "image/png": "[encoded data removed]",
      "text/plain": [
       "<Figure size 432x288 with 2 Axes>"
      ]
     },
     "metadata": {},
     "output_type": "display_data"
    }
   ],
   "source": [
    "# Plot learning curve and save it as png image\n",
    "image_path = save_dir / ('result_' + dataset_name + \"_\" + modelname + '.png')\n",
    "trainer.plot(image_path=image_path)"
   ]
  },
  {
   "cell_type": "code",
   "execution_count": 611,
   "metadata": {},
   "outputs": [],
   "source": [
    "# Save parameters\n",
    "pickle_path = model_dir / (dataset_name + \"_\" + modelname + '_epoch' + str(max_epoch) + timestamp + '.pkl')\n",
    "model.save_params(file_name=pickle_path)"
   ]
  },
  {
   "cell_type": "markdown",
   "metadata": {},
   "source": [
    "## 確信度の取得"
   ]
  },
  {
   "cell_type": "code",
   "execution_count": 177,
   "metadata": {},
   "outputs": [],
   "source": [
    "model.load_params(file_name=str(pickle_path))"
   ]
  },
  {
   "cell_type": "code",
   "execution_count": 484,
   "metadata": {
    "scrolled": true
   },
   "outputs": [],
   "source": [
    "# Inference with certainty factor\n",
    "start_id = seq.start_id\n",
    "sample_size = seq.t_length\n",
    "guess_train, cf_train = model.generate_with_cf(x_train[:, ::-1], start_id, sample_size)\n",
    "guess_test, cf_test = model.generate_with_cf(x_test[:, ::-1], start_id, sample_size)"
   ]
  },
  {
   "cell_type": "code",
   "execution_count": 485,
   "metadata": {},
   "outputs": [],
   "source": [
    "# 保存ファイルのファイル名生成\n",
    "modelname = model.__class__.__name__\n",
    "timestamp = datetime.now().strftime(\"_%y%m%d_%H%M\")\n",
    "save_dir = result_dir / (dataset_name + timestamp)\n",
    "os.makedirs(save_dir, exist_ok=True)"
   ]
  },
  {
   "cell_type": "code",
   "execution_count": 488,
   "metadata": {
    "scrolled": false
   },
   "outputs": [
    {
     "name": "stdout",
     "output_type": "stream",
     "text": [
      "Accuracy: 0.898471615720524\n",
      "Accuracy: 0.8627450980392157\n"
     ]
    }
   ],
   "source": [
    "# Save result as csv\n",
    "result_train_csv = save_dir /  (\"result_\" + dataset_name + \"_\" + modelname + \"_train.csv\")\n",
    "result_test_csv = save_dir / (\"result_\" + dataset_name + \"_\" + modelname + \"_test.csv\")\n",
    "df_result_train = seq.result_to_csv(result_train_csv, x_train, t_train, guess_train, cf=cf_train, encoding=encoding)\n",
    "df_result_test = seq.result_to_csv(result_test_csv, x_test, t_test, guess_test, cf=cf_test, encoding=encoding)"
   ]
  },
  {
   "cell_type": "code",
   "execution_count": 109,
   "metadata": {},
   "outputs": [],
   "source": [
    "def cf_filter(df):\n",
    "    for factor in np.arange(0.90, 1.00, 0.01):\n",
    "        print(\"cf={:.2f}\".format(factor))\n",
    "        print(\" correct   :\", df.query('correct == 1 and cf < {}'.format(factor)).shape[0])\n",
    "        print(\" incorrect :\", df.query('correct == 0 and cf < {}'.format(factor)).shape[0])"
   ]
  },
  {
   "cell_type": "code",
   "execution_count": 342,
   "metadata": {
    "scrolled": false
   },
   "outputs": [
    {
     "name": "stdout",
     "output_type": "stream",
     "text": [
      "cf=0.90\n",
      " correct   : 4\n",
      " incorrect : 5\n",
      "cf=0.91\n",
      " correct   : 4\n",
      " incorrect : 5\n",
      "cf=0.92\n",
      " correct   : 5\n",
      " incorrect : 5\n",
      "cf=0.93\n",
      " correct   : 7\n",
      " incorrect : 7\n",
      "cf=0.94\n",
      " correct   : 7\n",
      " incorrect : 7\n",
      "cf=0.95\n",
      " correct   : 12\n",
      " incorrect : 16\n",
      "cf=0.96\n",
      " correct   : 19\n",
      " incorrect : 20\n",
      "cf=0.97\n",
      " correct   : 40\n",
      " incorrect : 30\n",
      "cf=0.98\n",
      " correct   : 93\n",
      " incorrect : 56\n",
      "cf=0.99\n",
      " correct   : 223\n",
      " incorrect : 80\n"
     ]
    }
   ],
   "source": [
    "cf_filter(df_result_train)"
   ]
  },
  {
   "cell_type": "code",
   "execution_count": 277,
   "metadata": {
    "scrolled": true
   },
   "outputs": [
    {
     "name": "stdout",
     "output_type": "stream",
     "text": [
      "cf=0.90\n",
      " correct   : 0\n",
      " incorrect : 0\n",
      "cf=0.91\n",
      " correct   : 0\n",
      " incorrect : 0\n",
      "cf=0.92\n",
      " correct   : 0\n",
      " incorrect : 0\n",
      "cf=0.93\n",
      " correct   : 0\n",
      " incorrect : 0\n",
      "cf=0.94\n",
      " correct   : 0\n",
      " incorrect : 0\n",
      "cf=0.95\n",
      " correct   : 0\n",
      " incorrect : 0\n",
      "cf=0.96\n",
      " correct   : 0\n",
      " incorrect : 0\n",
      "cf=0.97\n",
      " correct   : 0\n",
      " incorrect : 0\n",
      "cf=0.98\n",
      " correct   : 0\n",
      " incorrect : 0\n",
      "cf=0.99\n",
      " correct   : 88\n",
      " incorrect : 14\n"
     ]
    }
   ],
   "source": [
    "cf_filter(df_result_test)"
   ]
  },
  {
   "cell_type": "code",
   "execution_count": 430,
   "metadata": {
    "scrolled": true
   },
   "outputs": [
    {
     "data": {
      "text/plain": [
       "1    823\n",
       "0     93\n",
       "Name: correct, dtype: int64"
      ]
     },
     "execution_count": 430,
     "metadata": {},
     "output_type": "execute_result"
    }
   ],
   "source": [
    "corrects = df_result_train['correct'].value_counts()\n",
    "corrects"
   ]
  },
  {
   "cell_type": "code",
   "execution_count": 196,
   "metadata": {},
   "outputs": [],
   "source": [
    "def accuracy(df, cf):\n",
    "    df_passed = df.query('cf > {}'.format(cf))\n",
    "    if len(df_passed) > 0:\n",
    "        nb_corrects = df_passed['correct'].value_counts()[1]\n",
    "        return nb_corrects / len(df_passed)\n",
    "    else:\n",
    "        return 0"
   ]
  },
  {
   "cell_type": "code",
   "execution_count": 135,
   "metadata": {},
   "outputs": [],
   "source": [
    "def passing_rate(df, cf):\n",
    "    nb_passing = len(df.query('cf >= {}'.format(cf)))\n",
    "    return nb_passing / len(df)"
   ]
  },
  {
   "cell_type": "code",
   "execution_count": 526,
   "metadata": {
    "scrolled": false
   },
   "outputs": [
    {
     "data": {
      "text/plain": [
       "0.9827586206896551"
      ]
     },
     "execution_count": 526,
     "metadata": {},
     "output_type": "execute_result"
    }
   ],
   "source": [
    "accuracy(df_result_test, 0.992)"
   ]
  },
  {
   "cell_type": "code",
   "execution_count": 527,
   "metadata": {},
   "outputs": [
    {
     "data": {
      "text/plain": [
       "0.5686274509803921"
      ]
     },
     "execution_count": 527,
     "metadata": {},
     "output_type": "execute_result"
    }
   ],
   "source": [
    "passing_rate(df_result_test, 0.992)"
   ]
  },
  {
   "cell_type": "code",
   "execution_count": 489,
   "metadata": {},
   "outputs": [],
   "source": [
    "def accuracy_by_cf(df):\n",
    "    acc_list = []\n",
    "    pr_list = []\n",
    "    for cf in np.arange(0.90, 1.00, 0.001):\n",
    "#         print(\"cf={:.2f}\".format(cf))\n",
    "        acc = accuracy(df, cf)\n",
    "        pr  = passing_rate(df, cf)\n",
    "#         print(\"  Accuracy     :\", acc)\n",
    "#         print(\"  Passing rate :\", pr)\n",
    "        acc_list.append(acc)\n",
    "        pr_list.append(pr)\n",
    "    return acc_list, pr_list"
   ]
  },
  {
   "cell_type": "code",
   "execution_count": 490,
   "metadata": {
    "scrolled": true
   },
   "outputs": [],
   "source": [
    "acc_train, pr_train = accuracy_by_cf(df_result_train)"
   ]
  },
  {
   "cell_type": "code",
   "execution_count": 491,
   "metadata": {},
   "outputs": [],
   "source": [
    "acc_test, pr_test = accuracy_by_cf(df_result_test)"
   ]
  },
  {
   "cell_type": "code",
   "execution_count": 469,
   "metadata": {},
   "outputs": [
    {
     "data": {
      "text/plain": [
       "[]"
      ]
     },
     "execution_count": 469,
     "metadata": {},
     "output_type": "execute_result"
    },
    {
     "data": {
      "image/png": "[encoded data removed]",
      "text/plain": [
       "<Figure size 432x288 with 1 Axes>"
      ]
     },
     "metadata": {
      "needs_background": "light"
     },
     "output_type": "display_data"
    }
   ],
   "source": [
    "x = np.arange(0.90, 1.00, 0.001)\n",
    "fig, ax = plt.subplots()\n",
    "color_acc = 'orange'\n",
    "color_pr = 'blue'\n",
    "ax.plot(x, acc_train, color=color_acc, label='train accuracy')\n",
    "ax.plot(x, pr_train, color=color_pr, label='train passing rate')\n",
    "ax.plot(x, acc_test, color=color_acc, linestyle='dashed', label='test accuracy')\n",
    "ax.plot(x, pr_test, color=color_pr, linestyle='dashed', label='test passing rate')\n",
    "ax.grid(True)\n",
    "plt.xlabel('certainty factor')\n",
    "ax.set_ylim(0.7, 1.01)\n",
    "ax.legend()\n",
    "plt.savefig('./accuracy_and_passing-rate.png')\n",
    "plt.plot()"
   ]
  },
  {
   "cell_type": "code",
   "execution_count": null,
   "metadata": {},
   "outputs": [],
   "source": []
  }
 ],
 "metadata": {
  "hide_input": false,
  "kernelspec": {
   "display_name": "Python 3",
   "language": "python",
   "name": "python3"
  },
  "language_info": {
   "codemirror_mode": {
    "name": "ipython",
    "version": 3
   },
   "file_extension": ".py",
   "mimetype": "text/x-python",
   "name": "python",
   "nbconvert_exporter": "python",
   "pygments_lexer": "ipython3",
   "version": "3.6.2"
  },
  "toc": {
   "base_numbering": 1,
   "nav_menu": {},
   "number_sections": true,
   "sideBar": true,
   "skip_h1_title": false,
   "title_cell": "Table of Contents",
   "title_sidebar": "Contents",
   "toc_cell": false,
   "toc_position": {},
   "toc_section_display": true,
   "toc_window_display": false
  }
 },
 "nbformat": 4,
 "nbformat_minor": 2
}
