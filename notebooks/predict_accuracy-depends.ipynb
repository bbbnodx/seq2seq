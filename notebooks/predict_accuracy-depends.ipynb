{
 "cells": [
  {
   "cell_type": "markdown",
   "metadata": {
    "toc": true
   },
   "source": [
    "<h1>Table of Contents<span class=\"tocSkip\"></span></h1>\n",
    "<div class=\"toc\"><ul class=\"toc-item\"><li><span><a href=\"#前処理\" data-toc-modified-id=\"前処理-1\" data-vivaldi-spatnav-clickable=\"1\">前処理</a></span><ul class=\"toc-item\"><li><span><a href=\"#データセット読み込みと文字IDベクトルへの変換\" data-toc-modified-id=\"データセット読み込みと文字IDベクトルへの変換-1.1\" data-vivaldi-spatnav-clickable=\"1\">データセット読み込みと文字IDベクトルへの変換</a></span></li><li><span><a href=\"#ハイパーパラメータ設定とデータ前処理\" data-toc-modified-id=\"ハイパーパラメータ設定とデータ前処理-1.2\" data-vivaldi-spatnav-clickable=\"1\">ハイパーパラメータ設定とデータ前処理</a></span></li><li><span><a href=\"#model,-optimizer,-trainerインスタンス作成\" data-toc-modified-id=\"model,-optimizer,-trainerインスタンス作成-1.3\" data-vivaldi-spatnav-clickable=\"1\">model, optimizer, trainerインスタンス作成</a></span></li></ul></li><li><span><a href=\"#学習実行\" data-toc-modified-id=\"学習実行-2\" data-vivaldi-spatnav-clickable=\"1\">学習実行</a></span></li><li><span><a href=\"#推論\" data-toc-modified-id=\"推論-3\" data-vivaldi-spatnav-clickable=\"1\">推論</a></span></li><li><span><a href=\"#結果の保存\" data-toc-modified-id=\"結果の保存-4\" data-vivaldi-spatnav-clickable=\"1\">結果の保存</a></span></li><li><span><a href=\"#確信度の取得\" data-toc-modified-id=\"確信度の取得-5\" data-vivaldi-spatnav-clickable=\"1\">確信度の取得</a></span></li></ul></div>"
   ]
  },
  {
   "cell_type": "markdown",
   "metadata": {},
   "source": [
    "# seq2seqモデルの学習と結果の保存"
   ]
  },
  {
   "cell_type": "markdown",
   "metadata": {},
   "source": [
    "ディレクトリ構成：  \n",
    "```\n",
    "./\n",
    "├dataset/\n",
    "│   └(読み込むCSVファイル)\n",
    "├models/\n",
    "│   └(モデルパラメータキャッシュファイル)\n",
    "├notebooks/\n",
    "│   └train_seq2seq.ipynb(このファイル)\n",
    "├results/\n",
    "│   └(実行結果CSVと学習曲線グラフ画像)\n",
    "└src/\n",
    "   ├common/\n",
    "   │ └(共用クラス、関数)\n",
    "   ├data/\n",
    "   │ └(データ読み書き用コード)\n",
    "   ├attention_layer.py\n",
    "   ├attention_seq2seq.py\n",
    "   ├peeky_seq2seq.py\n",
    "   └seq2seq.py\n",
    "```\n",
    "Cupyを利用するときは、`src/common/config.py`を編集して\n",
    "```python\n",
    "GPU = True\n",
    "```\n",
    "とする"
   ]
  },
  {
   "cell_type": "code",
   "execution_count": 13,
   "metadata": {
    "scrolled": true
   },
   "outputs": [
    {
     "name": "stdout",
     "output_type": "stream",
     "text": [
      "Once deleted, variables cannot be recovered. Proceed (y/[n])? y\n"
     ]
    }
   ],
   "source": [
    "# 変数の全消去\n",
    "%reset"
   ]
  },
  {
   "cell_type": "code",
   "execution_count": 1,
   "metadata": {},
   "outputs": [],
   "source": [
    "# coding: utf-8\n",
    "import sys\n",
    "sys.path.append(\"../src\")\n",
    "import os\n",
    "import numpy as np\n",
    "import pandas as pd\n",
    "import matplotlib.pyplot as plt\n",
    "from pathlib import Path\n",
    "from datetime import datetime\n",
    "from data.sequence import TextSequence\n",
    "from common.optimizer import Adam\n",
    "from common.trainer import Trainer\n",
    "from seq2seq import Seq2seq, Seq2seqBiLSTM\n",
    "from peeky_seq2seq import PeekySeq2seq, PeekySeq2seqBiLSTM\n",
    "from attention_seq2seq import AttentionSeq2seq, AttentionSeq2seqBiLSTM"
   ]
  },
  {
   "cell_type": "code",
   "execution_count": 2,
   "metadata": {},
   "outputs": [],
   "source": [
    "# matplotlibのインライン表示\n",
    "%matplotlib inline\n",
    "# モジュールの更新時に自動で再読み込み\n",
    "%reload_ext autoreload\n",
    "%autoreload 2"
   ]
  },
  {
   "cell_type": "code",
   "execution_count": 3,
   "metadata": {},
   "outputs": [],
   "source": [
    "# ディレクトリパスの設定\n",
    "dataset_dir =Path('../dataset')\n",
    "result_dir = Path('../results')\n",
    "model_dir = Path('../models')"
   ]
  },
  {
   "cell_type": "code",
   "execution_count": 4,
   "metadata": {},
   "outputs": [],
   "source": [
    "# ファイルパスの設定\n",
    "# 最初に全てのデータセットを読み込み、ボキャブラリ辞書を作成する\n",
    "vocab_csv = [dataset_dir / \"translator_gene-con_rev3.csv\", dataset_dir / \"translator_tori_rev2.csv\"]\n",
    "# source_csv = dataset_dir / \"translator_gene-con_rev3.csv\"\n",
    "source_csv = dataset_dir / \"translator_tori_rev2.csv\"\n",
    "dataset_name = source_csv.stem\n",
    "encoding = \"utf-8\""
   ]
  },
  {
   "cell_type": "markdown",
   "metadata": {},
   "source": [
    "## 前処理\n",
    "### データセット読み込みと文字IDベクトルへの変換"
   ]
  },
  {
   "cell_type": "code",
   "execution_count": 5,
   "metadata": {
    "scrolled": true
   },
   "outputs": [],
   "source": [
    "# 全てのデータセットを読み込み、Vocabularyを作成する\n",
    "seq = TextSequence()\n",
    "for path in vocab_csv:\n",
    "    seq.read_csv(path)\n",
    "char_to_id, id_to_char = seq.vocab"
   ]
  },
  {
   "cell_type": "code",
   "execution_count": 6,
   "metadata": {
    "scrolled": true
   },
   "outputs": [
    {
     "data": {
      "text/plain": [
       "(array([[  4,   8,  83, ...,   0,   0,   0],\n",
       "        [  4,   8,  83, ...,   0,   0,   0],\n",
       "        [  5,  22,  30, ...,  20,  19, 300],\n",
       "        ...,\n",
       "        [238, 188, 236, ...,   0,   0,   0],\n",
       "        [238, 188, 236, ...,   0,   0,   0],\n",
       "        [238, 188, 236, ...,   0,   0,   0]]),\n",
       " array([[  1, 248,  63, ...,   0,   0,   0],\n",
       "        [  1, 248,  63, ...,   0,   0,   0],\n",
       "        [  1, 298, 241, ...,   0,   0,   0],\n",
       "        ...,\n",
       "        [  1, 265, 238, ...,   0,   0,   0],\n",
       "        [  1, 265, 238, ...,   0,   0,   0],\n",
       "        [  1, 265, 238, ...,   0,   0,   0]]))"
      ]
     },
     "execution_count": 6,
     "metadata": {},
     "output_type": "execute_result"
    }
   ],
   "source": [
    "# 学習対象のデータセットを読み込み\n",
    "seq.read_csv(source_csv)"
   ]
  },
  {
   "cell_type": "markdown",
   "metadata": {},
   "source": [
    "### ハイパーパラメータ設定とデータ前処理"
   ]
  },
  {
   "cell_type": "code",
   "execution_count": 7,
   "metadata": {},
   "outputs": [],
   "source": [
    "# ハイパーパラメータ\n",
    "vocab_size = len(char_to_id)\n",
    "wordvec_size = 128\n",
    "hidden_size = 128\n",
    "batch_size = 64\n",
    "max_epoch = 150\n",
    "max_grad = 5.0"
   ]
  },
  {
   "cell_type": "code",
   "execution_count": 8,
   "metadata": {},
   "outputs": [
    {
     "data": {
      "text/plain": [
       "428"
      ]
     },
     "execution_count": 8,
     "metadata": {},
     "output_type": "execute_result"
    }
   ],
   "source": [
    "vocab_size"
   ]
  },
  {
   "cell_type": "code",
   "execution_count": 9,
   "metadata": {},
   "outputs": [],
   "source": [
    "# データセット分割\n",
    "x_train, x_test, t_train, t_test = seq.split_data(seed=1, test_size=0.3)"
   ]
  },
  {
   "cell_type": "markdown",
   "metadata": {},
   "source": [
    "## 学習実行"
   ]
  },
  {
   "cell_type": "code",
   "execution_count": 13,
   "metadata": {},
   "outputs": [],
   "source": [
    "# 保存ファイルのファイル名生成\n",
    "modelname = 'PeekySeq2seq'\n",
    "timestamp = datetime.now().strftime(\"_%y%m%d_%H%M\")\n",
    "save_dir = result_dir / (\"survey_acc_\" + dataset_name + timestamp)\n",
    "os.makedirs(save_dir, exist_ok=True)"
   ]
  },
  {
   "cell_type": "code",
   "execution_count": 14,
   "metadata": {},
   "outputs": [],
   "source": [
    "divisor = 5\n",
    "unit = len(x_train) // divisor"
   ]
  },
  {
   "cell_type": "code",
   "execution_count": 15,
   "metadata": {
    "scrolled": false
   },
   "outputs": [
    {
     "name": "stdout",
     "output_type": "stream",
     "text": [
      "Target dataset: translator_tori_rev2\n",
      "Start training:\n",
      "model = PeekySeq2seq\n",
      "optimizer = Adam\n",
      "batch size = 64\n",
      "train epochs = 150\n",
      "| epoch 1 | time/total 0/0[s] | loss = 6.05605\n",
      "| epoch 1 | time/total 0/0[s] | train error = 1.00000\n",
      "| epoch 1 | time/total 0/0[s] | test error  = 1.00000\n",
      "| epoch 2 | time/total 0/0[s] | loss = 6.01042\n",
      "| epoch 2 | time/total 0/0[s] | train error = 1.00000\n",
      "| epoch 2 | time/total 0/0[s] | test error  = 1.00000\n",
      "| epoch 3 | time/total 0/0[s] | loss = 5.94583\n",
      "| epoch 3 | time/total 0/1[s] | train error = 1.00000\n",
      "| epoch 3 | time/total 0/1[s] | test error  = 1.00000\n",
      "| epoch 4 | time/total 0/1[s] | loss = 5.83386\n",
      "| epoch 4 | time/total 0/1[s] | train error = 1.00000\n",
      "| epoch 4 | time/total 0/1[s] | test error  = 1.00000\n",
      "| epoch 5 | time/total 0/1[s] | loss = 5.60856\n",
      "| epoch 5 | time/total 0/1[s] | train error = 1.00000\n",
      "| epoch 5 | time/total 0/1[s] | test error  = 1.00000\n",
      "| epoch 6 | time/total 0/2[s] | loss = 5.12723\n",
      "| epoch 7 | time/total 0/2[s] | loss = 4.19006\n",
      "| epoch 8 | time/total 0/2[s] | loss = 3.15510\n",
      "| epoch 9 | time/total 0/2[s] | loss = 3.37157\n",
      "| epoch 10 | time/total 0/2[s] | loss = 3.23736\n",
      "| epoch 10 | time/total 0/2[s] | train error = 1.00000\n",
      "| epoch 10 | time/total 0/3[s] | test error  = 1.00000\n",
      "| epoch 11 | time/total 0/3[s] | loss = 3.06759\n",
      "| epoch 12 | time/total 0/3[s] | loss = 2.97319\n",
      "| epoch 13 | time/total 0/3[s] | loss = 2.87408\n",
      "| epoch 14 | time/total 0/3[s] | loss = 2.83891\n",
      "| epoch 15 | time/total 0/4[s] | loss = 2.87314\n",
      "| epoch 16 | time/total 0/4[s] | loss = 2.77420\n",
      "| epoch 17 | time/total 0/4[s] | loss = 2.71262\n",
      "| epoch 18 | time/total 0/4[s] | loss = 2.69716\n",
      "| epoch 19 | time/total 0/4[s] | loss = 2.66993\n",
      "| epoch 20 | time/total 0/4[s] | loss = 2.67149\n",
      "| epoch 20 | time/total 0/4[s] | train error = 1.00000\n",
      "| epoch 20 | time/total 0/5[s] | test error  = 1.00000\n",
      "| epoch 21 | time/total 0/5[s] | loss = 2.60156\n",
      "| epoch 22 | time/total 0/5[s] | loss = 2.67503\n",
      "| epoch 23 | time/total 0/5[s] | loss = 2.74800\n",
      "| epoch 24 | time/total 0/5[s] | loss = 2.67465\n",
      "| epoch 25 | time/total 0/6[s] | loss = 2.62126\n",
      "| epoch 26 | time/total 0/6[s] | loss = 2.54205\n",
      "| epoch 27 | time/total 0/6[s] | loss = 2.55393\n",
      "| epoch 28 | time/total 0/6[s] | loss = 2.43181\n",
      "| epoch 29 | time/total 0/6[s] | loss = 2.43052\n",
      "| epoch 30 | time/total 0/6[s] | loss = 2.39334\n",
      "| epoch 30 | time/total 0/6[s] | train error = 1.00000\n",
      "| epoch 30 | time/total 0/7[s] | test error  = 1.00000\n",
      "| epoch 31 | time/total 0/7[s] | loss = 2.32322\n",
      "| epoch 32 | time/total 0/7[s] | loss = 2.37520\n",
      "| epoch 33 | time/total 0/7[s] | loss = 2.23318\n",
      "| epoch 34 | time/total 0/7[s] | loss = 2.25228\n",
      "| epoch 35 | time/total 0/8[s] | loss = 2.13657\n",
      "| epoch 36 | time/total 0/8[s] | loss = 2.16547\n",
      "| epoch 37 | time/total 0/8[s] | loss = 2.12175\n",
      "| epoch 38 | time/total 0/8[s] | loss = 2.07808\n",
      "| epoch 39 | time/total 0/8[s] | loss = 2.01980\n",
      "| epoch 40 | time/total 0/8[s] | loss = 2.07391\n",
      "| epoch 40 | time/total 0/9[s] | train error = 1.00000\n",
      "| epoch 40 | time/total 0/9[s] | test error  = 1.00000\n",
      "| epoch 41 | time/total 0/9[s] | loss = 2.01822\n",
      "| epoch 42 | time/total 0/9[s] | loss = 1.94500\n",
      "| epoch 43 | time/total 0/9[s] | loss = 1.85765\n",
      "| epoch 44 | time/total 0/9[s] | loss = 1.97640\n",
      "| epoch 45 | time/total 0/10[s] | loss = 1.94898\n",
      "| epoch 46 | time/total 0/10[s] | loss = 1.88112\n",
      "| epoch 47 | time/total 0/10[s] | loss = 1.94901\n",
      "| epoch 48 | time/total 0/10[s] | loss = 1.88737\n",
      "| epoch 49 | time/total 0/10[s] | loss = 1.91597\n",
      "| epoch 50 | time/total 0/10[s] | loss = 1.91213\n",
      "| epoch 50 | time/total 0/11[s] | train error = 1.00000\n",
      "| epoch 50 | time/total 0/11[s] | test error  = 1.00000\n",
      "| epoch 51 | time/total 0/11[s] | loss = 1.81933\n",
      "| epoch 52 | time/total 0/11[s] | loss = 1.83867\n",
      "| epoch 53 | time/total 0/11[s] | loss = 1.84037\n",
      "| epoch 54 | time/total 0/11[s] | loss = 1.81508\n",
      "| epoch 55 | time/total 0/12[s] | loss = 1.77785\n",
      "| epoch 56 | time/total 0/12[s] | loss = 1.65752\n",
      "| epoch 57 | time/total 0/12[s] | loss = 1.73294\n",
      "| epoch 58 | time/total 0/12[s] | loss = 1.70410\n",
      "| epoch 59 | time/total 0/12[s] | loss = 1.67794\n",
      "| epoch 60 | time/total 0/13[s] | loss = 1.71268\n",
      "| epoch 60 | time/total 0/13[s] | train error = 1.00000\n",
      "| epoch 60 | time/total 0/13[s] | test error  = 1.00000\n",
      "| epoch 61 | time/total 0/13[s] | loss = 1.72783\n",
      "| epoch 62 | time/total 0/13[s] | loss = 1.68544\n",
      "| epoch 63 | time/total 0/13[s] | loss = 1.68107\n",
      "| epoch 64 | time/total 0/14[s] | loss = 1.61471\n",
      "| epoch 65 | time/total 0/14[s] | loss = 1.58729\n",
      "| epoch 66 | time/total 0/14[s] | loss = 1.60197\n",
      "| epoch 67 | time/total 0/14[s] | loss = 1.48948\n",
      "| epoch 68 | time/total 0/14[s] | loss = 1.60585\n",
      "| epoch 69 | time/total 0/14[s] | loss = 1.53645\n",
      "| epoch 70 | time/total 0/15[s] | loss = 1.44177\n",
      "| epoch 70 | time/total 0/15[s] | train error = 1.00000\n",
      "| epoch 70 | time/total 0/15[s] | test error  = 1.00000\n",
      "| epoch 71 | time/total 0/15[s] | loss = 1.46053\n",
      "| epoch 72 | time/total 0/15[s] | loss = 1.39624\n",
      "| epoch 73 | time/total 0/15[s] | loss = 1.34618\n",
      "| epoch 74 | time/total 0/16[s] | loss = 1.43907\n",
      "| epoch 75 | time/total 0/16[s] | loss = 1.38585\n",
      "| epoch 76 | time/total 0/16[s] | loss = 1.35567\n",
      "| epoch 77 | time/total 0/16[s] | loss = 1.39686\n",
      "| epoch 78 | time/total 0/16[s] | loss = 1.29794\n",
      "| epoch 79 | time/total 0/16[s] | loss = 1.25322\n",
      "| epoch 80 | time/total 0/17[s] | loss = 1.32587\n",
      "| epoch 80 | time/total 0/17[s] | train error = 1.00000\n",
      "| epoch 80 | time/total 0/17[s] | test error  = 1.00000\n",
      "| epoch 81 | time/total 0/17[s] | loss = 1.22323\n",
      "| epoch 82 | time/total 0/17[s] | loss = 1.27159\n",
      "| epoch 83 | time/total 0/17[s] | loss = 1.29829\n",
      "| epoch 84 | time/total 0/18[s] | loss = 1.16418\n",
      "| epoch 85 | time/total 0/18[s] | loss = 1.15320\n",
      "| epoch 86 | time/total 0/18[s] | loss = 1.19022\n",
      "| epoch 87 | time/total 0/18[s] | loss = 1.13523\n",
      "| epoch 88 | time/total 0/18[s] | loss = 1.09923\n",
      "| epoch 89 | time/total 0/19[s] | loss = 1.04717\n",
      "| epoch 90 | time/total 0/19[s] | loss = 1.10018\n",
      "| epoch 90 | time/total 0/19[s] | train error = 1.00000\n",
      "| epoch 90 | time/total 0/19[s] | test error  = 1.00000\n",
      "| epoch 91 | time/total 0/19[s] | loss = 1.09354\n",
      "| epoch 92 | time/total 0/19[s] | loss = 1.08492\n",
      "| epoch 93 | time/total 0/20[s] | loss = 1.00749\n",
      "| epoch 94 | time/total 0/20[s] | loss = 1.05250\n",
      "| epoch 95 | time/total 0/20[s] | loss = 0.95600\n",
      "| epoch 96 | time/total 0/20[s] | loss = 0.96610\n",
      "| epoch 97 | time/total 0/20[s] | loss = 0.91296\n",
      "| epoch 98 | time/total 0/20[s] | loss = 0.92220\n",
      "| epoch 99 | time/total 0/21[s] | loss = 0.90823\n",
      "| epoch 100 | time/total 0/21[s] | loss = 0.89991\n",
      "| epoch 100 | time/total 0/21[s] | train error = 1.00000\n",
      "| epoch 100 | time/total 0/21[s] | test error  = 1.00000\n",
      "| epoch 101 | time/total 0/21[s] | loss = 0.85921\n",
      "| epoch 102 | time/total 0/21[s] | loss = 0.91402\n",
      "| epoch 103 | time/total 0/22[s] | loss = 0.87980\n",
      "| epoch 104 | time/total 0/22[s] | loss = 0.87677\n",
      "| epoch 105 | time/total 0/22[s] | loss = 0.80759\n",
      "| epoch 106 | time/total 0/22[s] | loss = 0.82345\n",
      "| epoch 107 | time/total 0/22[s] | loss = 0.76129\n",
      "| epoch 108 | time/total 0/22[s] | loss = 0.73728\n",
      "| epoch 109 | time/total 0/23[s] | loss = 0.77558\n",
      "| epoch 110 | time/total 0/23[s] | loss = 0.72496\n",
      "| epoch 110 | time/total 0/23[s] | train error = 1.00000\n",
      "| epoch 110 | time/total 0/23[s] | test error  = 1.00000\n",
      "| epoch 111 | time/total 0/23[s] | loss = 0.68154\n",
      "| epoch 112 | time/total 0/23[s] | loss = 0.68090\n",
      "| epoch 113 | time/total 0/24[s] | loss = 0.68755\n",
      "| epoch 114 | time/total 0/24[s] | loss = 0.68784\n",
      "| epoch 115 | time/total 0/24[s] | loss = 0.69423\n",
      "| epoch 116 | time/total 0/24[s] | loss = 0.68055\n",
      "| epoch 117 | time/total 0/24[s] | loss = 0.60062\n",
      "| epoch 118 | time/total 0/25[s] | loss = 0.62683\n",
      "| epoch 119 | time/total 0/25[s] | loss = 0.58763\n",
      "| epoch 120 | time/total 0/25[s] | loss = 0.58050\n",
      "| epoch 120 | time/total 0/25[s] | train error = 0.94737\n",
      "| epoch 120 | time/total 0/25[s] | test error  = 0.98058\n",
      "| epoch 121 | time/total 0/25[s] | loss = 0.56848\n",
      "| epoch 122 | time/total 0/26[s] | loss = 0.54315\n",
      "| epoch 123 | time/total 0/26[s] | loss = 0.57817\n",
      "| epoch 124 | time/total 0/26[s] | loss = 0.53742\n",
      "| epoch 125 | time/total 0/26[s] | loss = 0.50035\n",
      "| epoch 126 | time/total 0/26[s] | loss = 0.46204\n",
      "| epoch 127 | time/total 0/26[s] | loss = 0.51829\n",
      "| epoch 128 | time/total 0/27[s] | loss = 0.52007\n"
     ]
    },
    {
     "name": "stdout",
     "output_type": "stream",
     "text": [
      "| epoch 129 | time/total 0/27[s] | loss = 0.51063\n",
      "| epoch 130 | time/total 0/27[s] | loss = 0.50721\n",
      "| epoch 130 | time/total 0/27[s] | train error = 0.91579\n",
      "| epoch 130 | time/total 0/27[s] | test error  = 0.96602\n",
      "| epoch 131 | time/total 0/27[s] | loss = 0.46084\n",
      "| epoch 132 | time/total 0/28[s] | loss = 0.46307\n",
      "| epoch 133 | time/total 0/28[s] | loss = 0.42028\n",
      "| epoch 134 | time/total 0/28[s] | loss = 0.42144\n",
      "| epoch 135 | time/total 0/28[s] | loss = 0.40738\n",
      "| epoch 136 | time/total 0/28[s] | loss = 0.42597\n",
      "| epoch 137 | time/total 0/29[s] | loss = 0.40054\n",
      "| epoch 138 | time/total 0/29[s] | loss = 0.39604\n",
      "| epoch 139 | time/total 0/29[s] | loss = 0.34662\n",
      "| epoch 140 | time/total 0/29[s] | loss = 0.39330\n",
      "| epoch 140 | time/total 0/29[s] | train error = 0.92632\n",
      "| epoch 140 | time/total 0/29[s] | test error  = 0.96602\n",
      "| epoch 141 | time/total 0/30[s] | loss = 0.35336\n",
      "| epoch 142 | time/total 0/30[s] | loss = 0.35873\n",
      "| epoch 143 | time/total 0/30[s] | loss = 0.36458\n",
      "| epoch 144 | time/total 0/30[s] | loss = 0.33955\n",
      "| epoch 145 | time/total 0/30[s] | loss = 0.31512\n",
      "| epoch 146 | time/total 0/30[s] | loss = 0.35700\n",
      "| epoch 147 | time/total 0/31[s] | loss = 0.30685\n",
      "| epoch 148 | time/total 0/31[s] | loss = 0.29759\n",
      "| epoch 149 | time/total 0/31[s] | loss = 0.35263\n",
      "| epoch 150 | time/total 0/31[s] | loss = 0.31042\n",
      "| epoch 150 | time/total 0/31[s] | train error = 0.86316\n",
      "| epoch 150 | time/total 0/31[s] | test error  = 0.90777\n",
      "Inference:\n",
      "Accuracy: 0.1368421052631579\n",
      "Accuracy: 0.09223300970873786\n",
      "Accuracy: 0.1368421052631579\n",
      "Accuracy: 0.09223300970873786\n"
     ]
    },
    {
     "data": {
      "image/png": "[encoded data removed]",
      "text/plain": [
       "<Figure size 432x288 with 2 Axes>"
      ]
     },
     "metadata": {},
     "output_type": "display_data"
    },
    {
     "name": "stdout",
     "output_type": "stream",
     "text": [
      "Start training:\n",
      "model = PeekySeq2seq\n",
      "optimizer = Adam\n",
      "batch size = 64\n",
      "train epochs = 150\n",
      "| epoch 1 | time/total 0/0[s] | loss = 6.04359\n",
      "| epoch 1 | time/total 0/0[s] | train error = 1.00000\n",
      "| epoch 1 | time/total 0/0[s] | test error  = 1.00000\n",
      "| epoch 2 | time/total 0/1[s] | loss = 5.95052\n",
      "| epoch 2 | time/total 0/1[s] | train error = 1.00000\n",
      "| epoch 2 | time/total 0/1[s] | test error  = 1.00000\n",
      "| epoch 3 | time/total 0/1[s] | loss = 5.70479\n",
      "| epoch 3 | time/total 0/1[s] | train error = 1.00000\n",
      "| epoch 3 | time/total 0/1[s] | test error  = 1.00000\n",
      "| epoch 4 | time/total 0/2[s] | loss = 4.72195\n",
      "| epoch 4 | time/total 0/2[s] | train error = 1.00000\n",
      "| epoch 4 | time/total 0/2[s] | test error  = 1.00000\n",
      "| epoch 5 | time/total 0/2[s] | loss = 3.39759\n",
      "| epoch 5 | time/total 0/3[s] | train error = 1.00000\n",
      "| epoch 5 | time/total 0/3[s] | test error  = 1.00000\n",
      "| epoch 6 | time/total 0/3[s] | loss = 3.16500\n",
      "| epoch 7 | time/total 0/3[s] | loss = 2.82917\n",
      "| epoch 8 | time/total 0/4[s] | loss = 2.91239\n",
      "| epoch 9 | time/total 0/4[s] | loss = 2.78753\n",
      "| epoch 10 | time/total 0/4[s] | loss = 2.77098\n",
      "| epoch 10 | time/total 0/5[s] | train error = 1.00000\n",
      "| epoch 10 | time/total 0/5[s] | test error  = 1.00000\n",
      "| epoch 11 | time/total 0/5[s] | loss = 2.56561\n",
      "| epoch 12 | time/total 0/6[s] | loss = 2.59824\n",
      "| epoch 13 | time/total 0/6[s] | loss = 2.58421\n",
      "| epoch 14 | time/total 0/6[s] | loss = 2.42139\n",
      "| epoch 15 | time/total 0/7[s] | loss = 2.40526\n",
      "| epoch 16 | time/total 0/7[s] | loss = 2.27075\n",
      "| epoch 17 | time/total 0/7[s] | loss = 2.18962\n",
      "| epoch 18 | time/total 0/8[s] | loss = 2.23540\n",
      "| epoch 19 | time/total 0/8[s] | loss = 2.11016\n",
      "| epoch 20 | time/total 0/8[s] | loss = 2.12414\n",
      "| epoch 20 | time/total 0/8[s] | train error = 1.00000\n",
      "| epoch 20 | time/total 0/9[s] | test error  = 1.00000\n",
      "| epoch 21 | time/total 0/9[s] | loss = 2.01213\n",
      "| epoch 22 | time/total 0/9[s] | loss = 2.02794\n",
      "| epoch 23 | time/total 0/10[s] | loss = 2.02200\n",
      "| epoch 24 | time/total 0/10[s] | loss = 1.92641\n",
      "| epoch 25 | time/total 0/10[s] | loss = 1.95360\n",
      "| epoch 26 | time/total 0/11[s] | loss = 1.90218\n",
      "| epoch 27 | time/total 0/11[s] | loss = 1.86623\n",
      "| epoch 28 | time/total 0/11[s] | loss = 1.76566\n",
      "| epoch 29 | time/total 0/12[s] | loss = 1.71776\n",
      "| epoch 30 | time/total 0/12[s] | loss = 1.69101\n",
      "| epoch 30 | time/total 0/12[s] | train error = 1.00000\n",
      "| epoch 30 | time/total 0/12[s] | test error  = 1.00000\n",
      "| epoch 31 | time/total 0/13[s] | loss = 1.65297\n",
      "| epoch 32 | time/total 0/13[s] | loss = 1.60793\n",
      "| epoch 33 | time/total 0/13[s] | loss = 1.59612\n",
      "| epoch 34 | time/total 0/14[s] | loss = 1.50674\n",
      "| epoch 35 | time/total 0/14[s] | loss = 1.48567\n",
      "| epoch 36 | time/total 0/14[s] | loss = 1.50568\n",
      "| epoch 37 | time/total 0/15[s] | loss = 1.46629\n",
      "| epoch 38 | time/total 0/15[s] | loss = 1.49883\n",
      "| epoch 39 | time/total 0/15[s] | loss = 1.40188\n",
      "| epoch 40 | time/total 0/16[s] | loss = 1.35181\n",
      "| epoch 40 | time/total 0/16[s] | train error = 1.00000\n",
      "| epoch 40 | time/total 0/16[s] | test error  = 1.00000\n",
      "| epoch 41 | time/total 0/16[s] | loss = 1.31887\n",
      "| epoch 42 | time/total 0/17[s] | loss = 1.23884\n",
      "| epoch 43 | time/total 0/17[s] | loss = 1.18899\n",
      "| epoch 44 | time/total 0/17[s] | loss = 1.11960\n",
      "| epoch 45 | time/total 0/18[s] | loss = 1.15049\n",
      "| epoch 46 | time/total 0/18[s] | loss = 1.08039\n",
      "| epoch 47 | time/total 0/18[s] | loss = 1.06396\n",
      "| epoch 48 | time/total 0/19[s] | loss = 0.96931\n",
      "| epoch 49 | time/total 0/19[s] | loss = 0.95490\n",
      "| epoch 50 | time/total 0/20[s] | loss = 0.86938\n",
      "| epoch 50 | time/total 0/20[s] | train error = 0.97368\n",
      "| epoch 50 | time/total 0/20[s] | test error  = 0.98058\n",
      "| epoch 51 | time/total 0/20[s] | loss = 0.97173\n",
      "| epoch 52 | time/total 0/21[s] | loss = 0.80978\n",
      "| epoch 53 | time/total 0/21[s] | loss = 0.84888\n",
      "| epoch 54 | time/total 0/21[s] | loss = 0.80263\n",
      "| epoch 55 | time/total 0/22[s] | loss = 0.75691\n",
      "| epoch 56 | time/total 0/22[s] | loss = 0.71946\n",
      "| epoch 57 | time/total 0/22[s] | loss = 0.69443\n",
      "| epoch 58 | time/total 0/23[s] | loss = 0.66558\n",
      "| epoch 59 | time/total 0/23[s] | loss = 0.61975\n",
      "| epoch 60 | time/total 0/23[s] | loss = 0.62727\n",
      "| epoch 60 | time/total 0/24[s] | train error = 0.91579\n",
      "| epoch 60 | time/total 0/24[s] | test error  = 0.95146\n",
      "| epoch 61 | time/total 0/24[s] | loss = 0.61176\n",
      "| epoch 62 | time/total 0/24[s] | loss = 0.56366\n",
      "| epoch 63 | time/total 0/25[s] | loss = 0.51367\n",
      "| epoch 64 | time/total 0/25[s] | loss = 0.47570\n",
      "| epoch 65 | time/total 0/26[s] | loss = 0.48898\n",
      "| epoch 66 | time/total 0/26[s] | loss = 0.43894\n",
      "| epoch 67 | time/total 0/26[s] | loss = 0.44565\n",
      "| epoch 68 | time/total 0/27[s] | loss = 0.41083\n",
      "| epoch 69 | time/total 0/27[s] | loss = 0.40402\n",
      "| epoch 70 | time/total 0/27[s] | loss = 0.39417\n",
      "| epoch 70 | time/total 0/27[s] | train error = 0.89474\n",
      "| epoch 70 | time/total 0/28[s] | test error  = 0.92718\n",
      "| epoch 71 | time/total 0/28[s] | loss = 0.36329\n",
      "| epoch 72 | time/total 0/28[s] | loss = 0.37863\n",
      "| epoch 73 | time/total 0/29[s] | loss = 0.34171\n",
      "| epoch 74 | time/total 0/29[s] | loss = 0.32293\n",
      "| epoch 75 | time/total 0/29[s] | loss = 0.30650\n",
      "| epoch 76 | time/total 0/30[s] | loss = 0.30583\n",
      "| epoch 77 | time/total 0/30[s] | loss = 0.30299\n",
      "| epoch 78 | time/total 0/30[s] | loss = 0.26806\n",
      "| epoch 79 | time/total 0/31[s] | loss = 0.29198\n",
      "| epoch 80 | time/total 0/31[s] | loss = 0.28781\n",
      "| epoch 80 | time/total 0/31[s] | train error = 0.79474\n",
      "| epoch 80 | time/total 0/32[s] | test error  = 0.84466\n",
      "| epoch 81 | time/total 0/32[s] | loss = 0.25786\n",
      "| epoch 82 | time/total 0/32[s] | loss = 0.23939\n",
      "| epoch 83 | time/total 0/33[s] | loss = 0.23238\n",
      "| epoch 84 | time/total 0/33[s] | loss = 0.24346\n",
      "| epoch 85 | time/total 0/33[s] | loss = 0.22408\n",
      "| epoch 86 | time/total 0/34[s] | loss = 0.22374\n",
      "| epoch 87 | time/total 0/34[s] | loss = 0.23537\n",
      "| epoch 88 | time/total 0/34[s] | loss = 0.21387\n",
      "| epoch 89 | time/total 0/35[s] | loss = 0.20516\n",
      "| epoch 90 | time/total 0/35[s] | loss = 0.18758\n",
      "| epoch 90 | time/total 0/35[s] | train error = 0.78421\n",
      "| epoch 90 | time/total 0/35[s] | test error  = 0.83010\n",
      "| epoch 91 | time/total 0/36[s] | loss = 0.18047\n",
      "| epoch 92 | time/total 0/36[s] | loss = 0.19344\n",
      "| epoch 93 | time/total 0/36[s] | loss = 0.18687\n",
      "| epoch 94 | time/total 0/37[s] | loss = 0.19418\n",
      "| epoch 95 | time/total 0/37[s] | loss = 0.17447\n",
      "| epoch 96 | time/total 0/38[s] | loss = 0.16854\n",
      "| epoch 97 | time/total 0/38[s] | loss = 0.17462\n",
      "| epoch 98 | time/total 0/38[s] | loss = 0.17624\n",
      "| epoch 99 | time/total 0/39[s] | loss = 0.16302\n",
      "| epoch 100 | time/total 0/39[s] | loss = 0.15757\n",
      "| epoch 100 | time/total 0/39[s] | train error = 0.71053\n",
      "| epoch 100 | time/total 0/39[s] | test error  = 0.78155\n",
      "| epoch 101 | time/total 0/40[s] | loss = 0.14893\n",
      "| epoch 102 | time/total 0/40[s] | loss = 0.15445\n",
      "| epoch 103 | time/total 0/40[s] | loss = 0.14700\n",
      "| epoch 104 | time/total 0/41[s] | loss = 0.14558\n",
      "| epoch 105 | time/total 0/41[s] | loss = 0.14714\n",
      "| epoch 106 | time/total 0/41[s] | loss = 0.13150\n",
      "| epoch 107 | time/total 0/42[s] | loss = 0.13962\n",
      "| epoch 108 | time/total 0/42[s] | loss = 0.13108\n",
      "| epoch 109 | time/total 0/42[s] | loss = 0.12102\n",
      "| epoch 110 | time/total 0/43[s] | loss = 0.12459\n",
      "| epoch 110 | time/total 0/43[s] | train error = 0.67368\n",
      "| epoch 110 | time/total 0/43[s] | test error  = 0.75243\n",
      "| epoch 111 | time/total 0/44[s] | loss = 0.12345\n",
      "| epoch 112 | time/total 0/44[s] | loss = 0.11944\n",
      "| epoch 113 | time/total 0/44[s] | loss = 0.11380\n",
      "| epoch 114 | time/total 0/45[s] | loss = 0.10878\n",
      "| epoch 115 | time/total 0/45[s] | loss = 0.10114\n",
      "| epoch 116 | time/total 0/45[s] | loss = 0.11260\n",
      "| epoch 117 | time/total 0/46[s] | loss = 0.10704\n",
      "| epoch 118 | time/total 0/46[s] | loss = 0.10754\n",
      "| epoch 119 | time/total 0/46[s] | loss = 0.10748\n",
      "| epoch 120 | time/total 0/47[s] | loss = 0.10343\n",
      "| epoch 120 | time/total 0/47[s] | train error = 0.58947\n",
      "| epoch 120 | time/total 0/47[s] | test error  = 0.72330\n",
      "| epoch 121 | time/total 0/47[s] | loss = 0.10175\n",
      "| epoch 122 | time/total 0/48[s] | loss = 0.09345\n",
      "| epoch 123 | time/total 0/48[s] | loss = 0.09688\n",
      "| epoch 124 | time/total 0/48[s] | loss = 0.09107\n",
      "| epoch 125 | time/total 0/49[s] | loss = 0.08543\n",
      "| epoch 126 | time/total 0/49[s] | loss = 0.08567\n",
      "| epoch 127 | time/total 0/49[s] | loss = 0.08367\n"
     ]
    },
    {
     "name": "stdout",
     "output_type": "stream",
     "text": [
      "| epoch 128 | time/total 0/50[s] | loss = 0.08774\n",
      "| epoch 129 | time/total 0/50[s] | loss = 0.08649\n",
      "| epoch 130 | time/total 0/50[s] | loss = 0.09171\n",
      "| epoch 130 | time/total 0/51[s] | train error = 0.49474\n",
      "| epoch 130 | time/total 0/51[s] | test error  = 0.69903\n",
      "| epoch 131 | time/total 0/51[s] | loss = 0.08244\n",
      "| epoch 132 | time/total 0/52[s] | loss = 0.07796\n",
      "| epoch 133 | time/total 0/52[s] | loss = 0.08004\n",
      "| epoch 134 | time/total 0/52[s] | loss = 0.07906\n",
      "| epoch 135 | time/total 0/53[s] | loss = 0.07573\n",
      "| epoch 136 | time/total 0/53[s] | loss = 0.07860\n",
      "| epoch 137 | time/total 0/53[s] | loss = 0.07628\n",
      "| epoch 138 | time/total 0/54[s] | loss = 0.08053\n",
      "| epoch 139 | time/total 0/54[s] | loss = 0.07341\n",
      "| epoch 140 | time/total 0/54[s] | loss = 0.07759\n",
      "| epoch 140 | time/total 0/55[s] | train error = 0.46842\n",
      "| epoch 140 | time/total 0/55[s] | test error  = 0.65534\n",
      "| epoch 141 | time/total 0/55[s] | loss = 0.07610\n",
      "| epoch 142 | time/total 0/55[s] | loss = 0.07428\n",
      "| epoch 143 | time/total 0/56[s] | loss = 0.07051\n",
      "| epoch 144 | time/total 0/56[s] | loss = 0.07164\n",
      "| epoch 145 | time/total 0/56[s] | loss = 0.06582\n",
      "| epoch 146 | time/total 0/57[s] | loss = 0.06790\n",
      "| epoch 147 | time/total 0/57[s] | loss = 0.06200\n",
      "| epoch 148 | time/total 0/58[s] | loss = 0.06754\n",
      "| epoch 149 | time/total 0/58[s] | loss = 0.06214\n",
      "| epoch 150 | time/total 0/58[s] | loss = 0.06458\n",
      "| epoch 150 | time/total 0/58[s] | train error = 0.37368\n",
      "| epoch 150 | time/total 0/59[s] | test error  = 0.62621\n",
      "Inference:\n",
      "Accuracy: 0.6263157894736842\n",
      "Accuracy: 0.3737864077669903\n",
      "Accuracy: 0.6263157894736842\n",
      "Accuracy: 0.3737864077669903\n"
     ]
    },
    {
     "data": {
      "image/png": "[encoded data removed]",
      "text/plain": [
       "<Figure size 432x288 with 2 Axes>"
      ]
     },
     "metadata": {},
     "output_type": "display_data"
    },
    {
     "name": "stdout",
     "output_type": "stream",
     "text": [
      "Start training:\n",
      "model = PeekySeq2seq\n",
      "optimizer = Adam\n",
      "batch size = 64\n",
      "train epochs = 150\n",
      "| epoch 1 | time/total 0/0[s] | loss = 5.98440\n",
      "| epoch 1 | time/total 0/0[s] | train error = 1.00000\n",
      "| epoch 1 | time/total 1/1[s] | test error  = 1.00000\n",
      "| epoch 2 | time/total 0/1[s] | loss = 4.79886\n",
      "| epoch 2 | time/total 0/2[s] | train error = 1.00000\n",
      "| epoch 2 | time/total 1/2[s] | test error  = 1.00000\n",
      "| epoch 3 | time/total 0/2[s] | loss = 3.29644\n",
      "| epoch 3 | time/total 0/3[s] | train error = 1.00000\n",
      "| epoch 3 | time/total 1/3[s] | test error  = 1.00000\n",
      "| epoch 4 | time/total 0/4[s] | loss = 2.87629\n",
      "| epoch 4 | time/total 0/4[s] | train error = 1.00000\n",
      "| epoch 4 | time/total 1/4[s] | test error  = 1.00000\n",
      "| epoch 5 | time/total 0/5[s] | loss = 2.65102\n",
      "| epoch 5 | time/total 1/5[s] | train error = 1.00000\n",
      "| epoch 5 | time/total 1/5[s] | test error  = 1.00000\n",
      "| epoch 6 | time/total 0/6[s] | loss = 2.52281\n",
      "| epoch 7 | time/total 0/7[s] | loss = 2.28790\n",
      "| epoch 8 | time/total 0/7[s] | loss = 2.22309\n",
      "| epoch 9 | time/total 0/8[s] | loss = 2.12613\n",
      "| epoch 10 | time/total 0/9[s] | loss = 2.07165\n",
      "| epoch 10 | time/total 1/9[s] | train error = 1.00000\n",
      "| epoch 10 | time/total 1/9[s] | test error  = 1.00000\n",
      "| epoch 11 | time/total 0/10[s] | loss = 1.99123\n",
      "| epoch 12 | time/total 0/11[s] | loss = 1.92829\n",
      "| epoch 13 | time/total 0/11[s] | loss = 1.83930\n",
      "| epoch 14 | time/total 0/12[s] | loss = 1.82299\n",
      "| epoch 15 | time/total 0/13[s] | loss = 1.74970\n",
      "| epoch 16 | time/total 0/14[s] | loss = 1.67832\n",
      "| epoch 17 | time/total 0/14[s] | loss = 1.62359\n",
      "| epoch 18 | time/total 0/15[s] | loss = 1.55348\n",
      "| epoch 19 | time/total 0/16[s] | loss = 1.48034\n",
      "| epoch 20 | time/total 0/16[s] | loss = 1.40391\n",
      "| epoch 20 | time/total 1/17[s] | train error = 1.00000\n",
      "| epoch 20 | time/total 1/17[s] | test error  = 1.00000\n",
      "| epoch 21 | time/total 0/18[s] | loss = 1.29638\n",
      "| epoch 22 | time/total 0/18[s] | loss = 1.22615\n",
      "| epoch 23 | time/total 0/19[s] | loss = 1.15058\n",
      "| epoch 24 | time/total 0/20[s] | loss = 1.05306\n",
      "| epoch 25 | time/total 0/20[s] | loss = 0.99000\n",
      "| epoch 26 | time/total 0/21[s] | loss = 0.89563\n",
      "| epoch 27 | time/total 0/22[s] | loss = 0.86259\n",
      "| epoch 28 | time/total 0/22[s] | loss = 0.77889\n",
      "| epoch 29 | time/total 0/23[s] | loss = 0.73696\n",
      "| epoch 30 | time/total 0/24[s] | loss = 0.66348\n",
      "| epoch 30 | time/total 0/24[s] | train error = 0.95789\n",
      "| epoch 30 | time/total 1/24[s] | test error  = 0.97573\n",
      "| epoch 31 | time/total 0/25[s] | loss = 0.63236\n",
      "| epoch 32 | time/total 0/26[s] | loss = 0.57791\n",
      "| epoch 33 | time/total 0/26[s] | loss = 0.54711\n",
      "| epoch 34 | time/total 0/27[s] | loss = 0.50079\n",
      "| epoch 35 | time/total 0/28[s] | loss = 0.47075\n",
      "| epoch 36 | time/total 0/29[s] | loss = 0.41662\n",
      "| epoch 37 | time/total 0/29[s] | loss = 0.41885\n",
      "| epoch 38 | time/total 0/30[s] | loss = 0.39154\n",
      "| epoch 39 | time/total 0/31[s] | loss = 0.35675\n",
      "| epoch 40 | time/total 0/32[s] | loss = 0.34122\n",
      "| epoch 40 | time/total 0/32[s] | train error = 0.91930\n",
      "| epoch 40 | time/total 1/32[s] | test error  = 0.94660\n",
      "| epoch 41 | time/total 0/33[s] | loss = 0.31841\n",
      "| epoch 42 | time/total 0/33[s] | loss = 0.30877\n",
      "| epoch 43 | time/total 0/34[s] | loss = 0.29830\n",
      "| epoch 44 | time/total 0/35[s] | loss = 0.26770\n",
      "| epoch 45 | time/total 0/36[s] | loss = 0.26912\n",
      "| epoch 46 | time/total 0/36[s] | loss = 0.24756\n",
      "| epoch 47 | time/total 0/37[s] | loss = 0.25067\n",
      "| epoch 48 | time/total 0/38[s] | loss = 0.23773\n",
      "| epoch 49 | time/total 0/39[s] | loss = 0.23005\n",
      "| epoch 50 | time/total 0/39[s] | loss = 0.21695\n",
      "| epoch 50 | time/total 1/40[s] | train error = 0.83509\n",
      "| epoch 50 | time/total 1/40[s] | test error  = 0.85437\n",
      "| epoch 51 | time/total 0/40[s] | loss = 0.20915\n",
      "| epoch 52 | time/total 0/41[s] | loss = 0.19952\n",
      "| epoch 53 | time/total 0/42[s] | loss = 0.18997\n",
      "| epoch 54 | time/total 0/43[s] | loss = 0.18160\n",
      "| epoch 55 | time/total 0/43[s] | loss = 0.18372\n",
      "| epoch 56 | time/total 0/44[s] | loss = 0.17697\n",
      "| epoch 57 | time/total 0/45[s] | loss = 0.16891\n",
      "| epoch 58 | time/total 0/45[s] | loss = 0.16339\n",
      "| epoch 59 | time/total 0/46[s] | loss = 0.16400\n",
      "| epoch 60 | time/total 0/47[s] | loss = 0.16230\n",
      "| epoch 60 | time/total 0/47[s] | train error = 0.77193\n",
      "| epoch 60 | time/total 1/47[s] | test error  = 0.81553\n",
      "| epoch 61 | time/total 0/48[s] | loss = 0.15888\n",
      "| epoch 62 | time/total 0/49[s] | loss = 0.15151\n",
      "| epoch 63 | time/total 0/49[s] | loss = 0.14648\n",
      "| epoch 64 | time/total 0/50[s] | loss = 0.13929\n",
      "| epoch 65 | time/total 0/51[s] | loss = 0.13439\n",
      "| epoch 66 | time/total 0/51[s] | loss = 0.13596\n",
      "| epoch 67 | time/total 0/52[s] | loss = 0.12778\n",
      "| epoch 68 | time/total 0/53[s] | loss = 0.15533\n",
      "| epoch 69 | time/total 0/54[s] | loss = 0.14883\n",
      "| epoch 70 | time/total 0/54[s] | loss = 0.14619\n",
      "| epoch 70 | time/total 0/54[s] | train error = 0.76491\n",
      "| epoch 70 | time/total 1/55[s] | test error  = 0.78641\n",
      "| epoch 71 | time/total 0/55[s] | loss = 0.14067\n",
      "| epoch 72 | time/total 0/56[s] | loss = 0.13018\n",
      "| epoch 73 | time/total 0/57[s] | loss = 0.12506\n",
      "| epoch 74 | time/total 0/58[s] | loss = 0.12162\n",
      "| epoch 75 | time/total 0/58[s] | loss = 0.12009\n",
      "| epoch 76 | time/total 0/59[s] | loss = 0.11568\n",
      "| epoch 77 | time/total 0/60[s] | loss = 0.11169\n",
      "| epoch 78 | time/total 0/60[s] | loss = 0.10672\n",
      "| epoch 79 | time/total 0/61[s] | loss = 0.10541\n",
      "| epoch 80 | time/total 0/62[s] | loss = 0.10001\n",
      "| epoch 80 | time/total 1/62[s] | train error = 0.68772\n",
      "| epoch 80 | time/total 1/62[s] | test error  = 0.76214\n",
      "| epoch 81 | time/total 0/63[s] | loss = 0.10355\n",
      "| epoch 82 | time/total 0/64[s] | loss = 0.09696\n",
      "| epoch 83 | time/total 0/64[s] | loss = 0.09516\n",
      "| epoch 84 | time/total 0/65[s] | loss = 0.09142\n",
      "| epoch 85 | time/total 0/66[s] | loss = 0.09936\n",
      "| epoch 86 | time/total 0/67[s] | loss = 0.09335\n",
      "| epoch 87 | time/total 0/67[s] | loss = 0.09063\n",
      "| epoch 88 | time/total 0/68[s] | loss = 0.08827\n",
      "| epoch 89 | time/total 0/69[s] | loss = 0.08523\n",
      "| epoch 90 | time/total 0/70[s] | loss = 0.08207\n",
      "| epoch 90 | time/total 1/70[s] | train error = 0.53333\n",
      "| epoch 90 | time/total 1/70[s] | test error  = 0.70388\n",
      "| epoch 91 | time/total 0/71[s] | loss = 0.08000\n",
      "| epoch 92 | time/total 0/71[s] | loss = 0.07979\n",
      "| epoch 93 | time/total 0/72[s] | loss = 0.07568\n",
      "| epoch 94 | time/total 0/73[s] | loss = 0.07311\n",
      "| epoch 95 | time/total 0/74[s] | loss = 0.07361\n",
      "| epoch 96 | time/total 0/74[s] | loss = 0.07283\n",
      "| epoch 97 | time/total 0/75[s] | loss = 0.06940\n",
      "| epoch 98 | time/total 0/76[s] | loss = 0.06751\n",
      "| epoch 99 | time/total 0/76[s] | loss = 0.06315\n",
      "| epoch 100 | time/total 0/77[s] | loss = 0.06436\n",
      "| epoch 100 | time/total 0/77[s] | train error = 0.48421\n",
      "| epoch 100 | time/total 1/78[s] | test error  = 0.65049\n",
      "| epoch 101 | time/total 0/78[s] | loss = 0.06511\n",
      "| epoch 102 | time/total 0/79[s] | loss = 0.06157\n",
      "| epoch 103 | time/total 0/80[s] | loss = 0.05970\n",
      "| epoch 104 | time/total 0/81[s] | loss = 0.05976\n",
      "| epoch 105 | time/total 0/81[s] | loss = 0.05774\n",
      "| epoch 106 | time/total 0/82[s] | loss = 0.05587\n",
      "| epoch 107 | time/total 0/83[s] | loss = 0.05527\n",
      "| epoch 108 | time/total 0/83[s] | loss = 0.05391\n",
      "| epoch 109 | time/total 0/84[s] | loss = 0.05146\n",
      "| epoch 110 | time/total 0/85[s] | loss = 0.05320\n",
      "| epoch 110 | time/total 0/85[s] | train error = 0.36842\n",
      "| epoch 110 | time/total 1/85[s] | test error  = 0.52913\n",
      "| epoch 111 | time/total 0/86[s] | loss = 0.05188\n",
      "| epoch 112 | time/total 0/87[s] | loss = 0.05008\n",
      "| epoch 113 | time/total 0/87[s] | loss = 0.04891\n",
      "| epoch 114 | time/total 0/88[s] | loss = 0.04967\n",
      "| epoch 115 | time/total 0/89[s] | loss = 0.04932\n",
      "| epoch 116 | time/total 0/90[s] | loss = 0.04632\n",
      "| epoch 117 | time/total 0/90[s] | loss = 0.04831\n",
      "| epoch 118 | time/total 0/91[s] | loss = 0.04502\n",
      "| epoch 119 | time/total 0/92[s] | loss = 0.04263\n",
      "| epoch 120 | time/total 0/92[s] | loss = 0.04288\n",
      "| epoch 120 | time/total 1/93[s] | train error = 0.27368\n",
      "| epoch 120 | time/total 1/93[s] | test error  = 0.48544\n",
      "| epoch 121 | time/total 0/94[s] | loss = 0.04236\n",
      "| epoch 122 | time/total 0/94[s] | loss = 0.04104\n",
      "| epoch 123 | time/total 0/95[s] | loss = 0.03958\n",
      "| epoch 124 | time/total 0/96[s] | loss = 0.03882\n",
      "| epoch 125 | time/total 0/97[s] | loss = 0.03856\n",
      "| epoch 126 | time/total 0/97[s] | loss = 0.03785\n",
      "| epoch 127 | time/total 0/98[s] | loss = 0.03738\n"
     ]
    },
    {
     "name": "stdout",
     "output_type": "stream",
     "text": [
      "| epoch 128 | time/total 0/99[s] | loss = 0.03702\n",
      "| epoch 129 | time/total 0/100[s] | loss = 0.03658\n",
      "| epoch 130 | time/total 0/100[s] | loss = 0.03497\n",
      "| epoch 130 | time/total 1/101[s] | train error = 0.21754\n",
      "| epoch 130 | time/total 1/101[s] | test error  = 0.48058\n",
      "| epoch 131 | time/total 0/101[s] | loss = 0.03388\n",
      "| epoch 132 | time/total 0/102[s] | loss = 0.03133\n",
      "| epoch 133 | time/total 0/103[s] | loss = 0.03136\n",
      "| epoch 134 | time/total 0/104[s] | loss = 0.03101\n",
      "| epoch 135 | time/total 0/104[s] | loss = 0.02996\n",
      "| epoch 136 | time/total 0/105[s] | loss = 0.02910\n",
      "| epoch 137 | time/total 0/106[s] | loss = 0.02807\n",
      "| epoch 138 | time/total 0/107[s] | loss = 0.02745\n",
      "| epoch 139 | time/total 0/107[s] | loss = 0.02576\n",
      "| epoch 140 | time/total 0/108[s] | loss = 0.02535\n",
      "| epoch 140 | time/total 1/108[s] | train error = 0.16491\n",
      "| epoch 140 | time/total 1/108[s] | test error  = 0.46117\n",
      "| epoch 141 | time/total 0/109[s] | loss = 0.02553\n",
      "| epoch 142 | time/total 0/110[s] | loss = 0.02451\n",
      "| epoch 143 | time/total 0/111[s] | loss = 0.02429\n",
      "| epoch 144 | time/total 0/111[s] | loss = 0.02334\n",
      "| epoch 145 | time/total 0/112[s] | loss = 0.02331\n",
      "| epoch 146 | time/total 0/113[s] | loss = 0.02289\n",
      "| epoch 147 | time/total 0/113[s] | loss = 0.02217\n",
      "| epoch 148 | time/total 0/114[s] | loss = 0.02271\n",
      "| epoch 149 | time/total 0/115[s] | loss = 0.02289\n",
      "| epoch 150 | time/total 0/116[s] | loss = 0.02127\n",
      "| epoch 150 | time/total 0/116[s] | train error = 0.12281\n",
      "| epoch 150 | time/total 1/116[s] | test error  = 0.42718\n",
      "Inference:\n",
      "Accuracy: 0.8771929824561403\n",
      "Accuracy: 0.5728155339805825\n",
      "Accuracy: 0.8771929824561403\n",
      "Accuracy: 0.5728155339805825\n"
     ]
    },
    {
     "data": {
      "image/png": "[encoded data removed]",
      "text/plain": [
       "<Figure size 432x288 with 2 Axes>"
      ]
     },
     "metadata": {},
     "output_type": "display_data"
    },
    {
     "name": "stdout",
     "output_type": "stream",
     "text": [
      "Start training:\n",
      "model = PeekySeq2seq\n",
      "optimizer = Adam\n",
      "batch size = 64\n",
      "train epochs = 150\n",
      "| epoch 1 | time/total 0/0[s] | loss = 5.91167\n",
      "| epoch 1 | time/total 1/1[s] | train error = 1.00000\n",
      "| epoch 1 | time/total 1/1[s] | test error  = 1.00000\n",
      "| epoch 2 | time/total 0/2[s] | loss = 3.90851\n",
      "| epoch 2 | time/total 1/2[s] | train error = 1.00000\n",
      "| epoch 2 | time/total 1/2[s] | test error  = 1.00000\n",
      "| epoch 3 | time/total 0/3[s] | loss = 2.96304\n",
      "| epoch 3 | time/total 1/3[s] | train error = 1.00000\n",
      "| epoch 3 | time/total 1/4[s] | test error  = 1.00000\n",
      "| epoch 4 | time/total 0/4[s] | loss = 2.77646\n",
      "| epoch 4 | time/total 1/5[s] | train error = 1.00000\n",
      "| epoch 4 | time/total 1/5[s] | test error  = 1.00000\n",
      "| epoch 5 | time/total 0/6[s] | loss = 2.64552\n",
      "| epoch 5 | time/total 1/6[s] | train error = 1.00000\n",
      "| epoch 5 | time/total 1/6[s] | test error  = 1.00000\n",
      "| epoch 6 | time/total 0/7[s] | loss = 2.46872\n",
      "| epoch 7 | time/total 0/8[s] | loss = 2.26886\n",
      "| epoch 8 | time/total 0/9[s] | loss = 2.15417\n",
      "| epoch 9 | time/total 0/10[s] | loss = 2.07624\n",
      "| epoch 10 | time/total 0/11[s] | loss = 1.96387\n",
      "| epoch 10 | time/total 1/11[s] | train error = 1.00000\n",
      "| epoch 10 | time/total 1/11[s] | test error  = 1.00000\n",
      "| epoch 11 | time/total 0/12[s] | loss = 1.87128\n",
      "| epoch 12 | time/total 0/13[s] | loss = 1.80216\n",
      "| epoch 13 | time/total 0/14[s] | loss = 1.72243\n",
      "| epoch 14 | time/total 0/15[s] | loss = 1.71285\n",
      "| epoch 15 | time/total 0/16[s] | loss = 1.66658\n",
      "| epoch 16 | time/total 0/16[s] | loss = 1.59173\n",
      "| epoch 17 | time/total 0/17[s] | loss = 1.46309\n",
      "| epoch 18 | time/total 0/18[s] | loss = 1.41177\n",
      "| epoch 19 | time/total 0/19[s] | loss = 1.35286\n",
      "| epoch 20 | time/total 0/20[s] | loss = 1.22017\n",
      "| epoch 20 | time/total 1/20[s] | train error = 1.00000\n",
      "| epoch 20 | time/total 1/20[s] | test error  = 1.00000\n",
      "| epoch 21 | time/total 0/21[s] | loss = 1.15839\n",
      "| epoch 22 | time/total 0/22[s] | loss = 1.04805\n",
      "| epoch 23 | time/total 0/23[s] | loss = 0.96961\n",
      "| epoch 24 | time/total 0/24[s] | loss = 0.85959\n",
      "| epoch 25 | time/total 0/25[s] | loss = 0.81221\n",
      "| epoch 26 | time/total 0/26[s] | loss = 0.74029\n",
      "| epoch 27 | time/total 0/26[s] | loss = 0.66517\n",
      "| epoch 28 | time/total 0/27[s] | loss = 0.60333\n",
      "| epoch 29 | time/total 0/28[s] | loss = 0.55352\n",
      "| epoch 30 | time/total 0/29[s] | loss = 0.50386\n",
      "| epoch 30 | time/total 1/29[s] | train error = 0.91316\n",
      "| epoch 30 | time/total 1/30[s] | test error  = 0.91262\n",
      "| epoch 31 | time/total 0/30[s] | loss = 0.45610\n",
      "| epoch 32 | time/total 0/31[s] | loss = 0.42928\n",
      "| epoch 33 | time/total 0/32[s] | loss = 0.40347\n",
      "| epoch 34 | time/total 0/33[s] | loss = 0.36551\n",
      "| epoch 35 | time/total 0/34[s] | loss = 0.34959\n",
      "| epoch 36 | time/total 0/35[s] | loss = 0.33234\n",
      "| epoch 37 | time/total 0/36[s] | loss = 0.31727\n",
      "| epoch 38 | time/total 0/37[s] | loss = 0.30473\n",
      "| epoch 39 | time/total 0/38[s] | loss = 0.28952\n",
      "| epoch 40 | time/total 0/38[s] | loss = 0.25942\n",
      "| epoch 40 | time/total 1/39[s] | train error = 0.89474\n",
      "| epoch 40 | time/total 1/39[s] | test error  = 0.86408\n",
      "| epoch 41 | time/total 0/40[s] | loss = 0.26473\n",
      "| epoch 42 | time/total 0/41[s] | loss = 0.24337\n",
      "| epoch 43 | time/total 0/42[s] | loss = 0.23190\n",
      "| epoch 44 | time/total 0/43[s] | loss = 0.22087\n",
      "| epoch 45 | time/total 0/44[s] | loss = 0.21050\n",
      "| epoch 46 | time/total 0/44[s] | loss = 0.20347\n",
      "| epoch 47 | time/total 0/45[s] | loss = 0.19477\n",
      "| epoch 48 | time/total 0/46[s] | loss = 0.19358\n",
      "| epoch 49 | time/total 0/47[s] | loss = 0.18832\n",
      "| epoch 50 | time/total 0/48[s] | loss = 0.17071\n",
      "| epoch 50 | time/total 1/48[s] | train error = 0.75789\n",
      "| epoch 50 | time/total 1/49[s] | test error  = 0.78641\n",
      "| epoch 51 | time/total 0/50[s] | loss = 0.17197\n",
      "| epoch 52 | time/total 0/50[s] | loss = 0.15017\n",
      "| epoch 53 | time/total 0/51[s] | loss = 0.16368\n",
      "| epoch 54 | time/total 0/52[s] | loss = 0.15519\n",
      "| epoch 55 | time/total 0/53[s] | loss = 0.14921\n",
      "| epoch 56 | time/total 0/54[s] | loss = 0.14604\n",
      "| epoch 57 | time/total 0/55[s] | loss = 0.14612\n",
      "| epoch 58 | time/total 0/56[s] | loss = 0.13875\n",
      "| epoch 59 | time/total 0/57[s] | loss = 0.13184\n",
      "| epoch 60 | time/total 0/58[s] | loss = 0.12389\n",
      "| epoch 60 | time/total 1/58[s] | train error = 0.59211\n",
      "| epoch 60 | time/total 1/58[s] | test error  = 0.68447\n",
      "| epoch 61 | time/total 0/59[s] | loss = 0.12485\n",
      "| epoch 62 | time/total 0/60[s] | loss = 0.12211\n",
      "| epoch 63 | time/total 0/61[s] | loss = 0.11692\n",
      "| epoch 64 | time/total 0/62[s] | loss = 0.10804\n",
      "| epoch 65 | time/total 0/63[s] | loss = 0.11222\n",
      "| epoch 66 | time/total 0/64[s] | loss = 0.11249\n",
      "| epoch 67 | time/total 0/64[s] | loss = 0.10964\n",
      "| epoch 68 | time/total 0/65[s] | loss = 0.10624\n",
      "| epoch 69 | time/total 0/66[s] | loss = 0.09949\n",
      "| epoch 70 | time/total 0/67[s] | loss = 0.09662\n",
      "| epoch 70 | time/total 1/67[s] | train error = 0.50263\n",
      "| epoch 70 | time/total 1/68[s] | test error  = 0.59709\n",
      "| epoch 71 | time/total 0/69[s] | loss = 0.09919\n",
      "| epoch 72 | time/total 0/69[s] | loss = 0.09362\n",
      "| epoch 73 | time/total 0/70[s] | loss = 0.09215\n",
      "| epoch 74 | time/total 0/71[s] | loss = 0.08973\n",
      "| epoch 75 | time/total 0/72[s] | loss = 0.09058\n",
      "| epoch 76 | time/total 0/73[s] | loss = 0.08123\n",
      "| epoch 77 | time/total 0/74[s] | loss = 0.08430\n",
      "| epoch 78 | time/total 0/75[s] | loss = 0.07654\n",
      "| epoch 79 | time/total 0/76[s] | loss = 0.07514\n",
      "| epoch 80 | time/total 0/76[s] | loss = 0.07455\n",
      "| epoch 80 | time/total 1/77[s] | train error = 0.37895\n",
      "| epoch 80 | time/total 1/77[s] | test error  = 0.52913\n",
      "| epoch 81 | time/total 0/78[s] | loss = 0.07098\n",
      "| epoch 82 | time/total 0/79[s] | loss = 0.07111\n",
      "| epoch 83 | time/total 0/80[s] | loss = 0.07121\n",
      "| epoch 84 | time/total 0/80[s] | loss = 0.06763\n",
      "| epoch 85 | time/total 0/81[s] | loss = 0.06756\n",
      "| epoch 86 | time/total 0/82[s] | loss = 0.05983\n",
      "| epoch 87 | time/total 0/83[s] | loss = 0.05748\n",
      "| epoch 88 | time/total 0/84[s] | loss = 0.06084\n",
      "| epoch 89 | time/total 0/85[s] | loss = 0.05746\n",
      "| epoch 90 | time/total 0/86[s] | loss = 0.05413\n",
      "| epoch 90 | time/total 1/86[s] | train error = 0.31842\n",
      "| epoch 90 | time/total 1/86[s] | test error  = 0.49515\n",
      "| epoch 91 | time/total 0/87[s] | loss = 0.05510\n",
      "| epoch 92 | time/total 0/88[s] | loss = 0.05532\n",
      "| epoch 93 | time/total 0/89[s] | loss = 0.05270\n",
      "| epoch 94 | time/total 0/90[s] | loss = 0.05118\n",
      "| epoch 95 | time/total 0/91[s] | loss = 0.05086\n",
      "| epoch 96 | time/total 0/91[s] | loss = 0.05010\n",
      "| epoch 97 | time/total 0/92[s] | loss = 0.04777\n",
      "| epoch 98 | time/total 0/93[s] | loss = 0.04740\n",
      "| epoch 99 | time/total 0/94[s] | loss = 0.04173\n",
      "| epoch 100 | time/total 0/95[s] | loss = 0.04336\n",
      "| epoch 100 | time/total 1/95[s] | train error = 0.26316\n",
      "| epoch 100 | time/total 1/96[s] | test error  = 0.41748\n",
      "| epoch 101 | time/total 0/96[s] | loss = 0.04341\n",
      "| epoch 102 | time/total 0/97[s] | loss = 0.04317\n",
      "| epoch 103 | time/total 0/98[s] | loss = 0.04333\n",
      "| epoch 104 | time/total 0/99[s] | loss = 0.04258\n",
      "| epoch 105 | time/total 0/100[s] | loss = 0.04265\n",
      "| epoch 106 | time/total 0/101[s] | loss = 0.03893\n",
      "| epoch 107 | time/total 0/102[s] | loss = 0.03677\n",
      "| epoch 108 | time/total 0/102[s] | loss = 0.03633\n",
      "| epoch 109 | time/total 0/103[s] | loss = 0.03325\n",
      "| epoch 110 | time/total 0/104[s] | loss = 0.03509\n",
      "| epoch 110 | time/total 1/105[s] | train error = 0.18947\n",
      "| epoch 110 | time/total 1/105[s] | test error  = 0.38835\n",
      "| epoch 111 | time/total 0/106[s] | loss = 0.03121\n",
      "| epoch 112 | time/total 0/107[s] | loss = 0.03214\n",
      "| epoch 113 | time/total 0/107[s] | loss = 0.03254\n",
      "| epoch 114 | time/total 0/108[s] | loss = 0.03142\n",
      "| epoch 115 | time/total 0/109[s] | loss = 0.03101\n",
      "| epoch 116 | time/total 0/110[s] | loss = 0.03107\n",
      "| epoch 117 | time/total 0/111[s] | loss = 0.03024\n",
      "| epoch 118 | time/total 0/112[s] | loss = 0.02979\n",
      "| epoch 119 | time/total 0/113[s] | loss = 0.02818\n",
      "| epoch 120 | time/total 0/114[s] | loss = 0.02788\n",
      "| epoch 120 | time/total 1/114[s] | train error = 0.11579\n",
      "| epoch 120 | time/total 1/114[s] | test error  = 0.37864\n",
      "| epoch 121 | time/total 0/115[s] | loss = 0.02583\n",
      "| epoch 122 | time/total 0/116[s] | loss = 0.02374\n",
      "| epoch 123 | time/total 0/117[s] | loss = 0.02588\n",
      "| epoch 124 | time/total 0/118[s] | loss = 0.02322\n",
      "| epoch 125 | time/total 0/119[s] | loss = 0.02372\n",
      "| epoch 126 | time/total 0/120[s] | loss = 0.02325\n",
      "| epoch 127 | time/total 0/120[s] | loss = 0.02122\n"
     ]
    },
    {
     "name": "stdout",
     "output_type": "stream",
     "text": [
      "| epoch 128 | time/total 0/121[s] | loss = 0.02150\n",
      "| epoch 129 | time/total 0/122[s] | loss = 0.02121\n",
      "| epoch 130 | time/total 0/123[s] | loss = 0.01993\n",
      "| epoch 130 | time/total 1/124[s] | train error = 0.07368\n",
      "| epoch 130 | time/total 1/124[s] | test error  = 0.36408\n",
      "| epoch 131 | time/total 0/125[s] | loss = 0.01985\n",
      "| epoch 132 | time/total 0/125[s] | loss = 0.01954\n",
      "| epoch 133 | time/total 0/126[s] | loss = 0.02032\n",
      "| epoch 134 | time/total 0/127[s] | loss = 0.01861\n",
      "| epoch 135 | time/total 0/128[s] | loss = 0.01860\n",
      "| epoch 136 | time/total 0/129[s] | loss = 0.01801\n",
      "| epoch 137 | time/total 0/130[s] | loss = 0.01690\n",
      "| epoch 138 | time/total 0/131[s] | loss = 0.01656\n",
      "| epoch 139 | time/total 0/132[s] | loss = 0.01707\n",
      "| epoch 140 | time/total 0/133[s] | loss = 0.01525\n",
      "| epoch 140 | time/total 1/133[s] | train error = 0.07368\n",
      "| epoch 140 | time/total 1/133[s] | test error  = 0.39320\n",
      "| epoch 141 | time/total 0/134[s] | loss = 0.01765\n",
      "| epoch 142 | time/total 0/135[s] | loss = 0.01663\n",
      "| epoch 143 | time/total 0/136[s] | loss = 0.01710\n",
      "| epoch 144 | time/total 0/137[s] | loss = 0.01610\n",
      "| epoch 145 | time/total 0/138[s] | loss = 0.01530\n",
      "| epoch 146 | time/total 0/138[s] | loss = 0.01579\n",
      "| epoch 147 | time/total 0/139[s] | loss = 0.01515\n",
      "| epoch 148 | time/total 0/140[s] | loss = 0.01500\n",
      "| epoch 149 | time/total 0/141[s] | loss = 0.01497\n",
      "| epoch 150 | time/total 0/142[s] | loss = 0.01391\n",
      "| epoch 150 | time/total 1/142[s] | train error = 0.02895\n",
      "| epoch 150 | time/total 1/142[s] | test error  = 0.32524\n",
      "Inference:\n",
      "Accuracy: 0.9710526315789474\n",
      "Accuracy: 0.6747572815533981\n",
      "Accuracy: 0.9710526315789474\n",
      "Accuracy: 0.6747572815533981\n"
     ]
    },
    {
     "data": {
      "image/png": "[encoded data removed]",
      "text/plain": [
       "<Figure size 432x288 with 2 Axes>"
      ]
     },
     "metadata": {},
     "output_type": "display_data"
    },
    {
     "name": "stdout",
     "output_type": "stream",
     "text": [
      "Start training:\n",
      "model = PeekySeq2seq\n",
      "optimizer = Adam\n",
      "batch size = 64\n",
      "train epochs = 150\n",
      "| epoch 1 | time/total 1/1[s] | loss = 5.65821\n",
      "| epoch 1 | time/total 1/1[s] | train error = 1.00000\n",
      "| epoch 1 | time/total 1/1[s] | test error  = 1.00000\n",
      "| epoch 2 | time/total 1/3[s] | loss = 3.13040\n",
      "| epoch 2 | time/total 1/3[s] | train error = 1.00000\n",
      "| epoch 2 | time/total 1/3[s] | test error  = 1.00000\n",
      "| epoch 3 | time/total 1/4[s] | loss = 2.75453\n",
      "| epoch 3 | time/total 1/5[s] | train error = 1.00000\n",
      "| epoch 3 | time/total 1/5[s] | test error  = 1.00000\n",
      "| epoch 4 | time/total 1/6[s] | loss = 2.51689\n",
      "| epoch 4 | time/total 1/7[s] | train error = 1.00000\n",
      "| epoch 4 | time/total 1/7[s] | test error  = 1.00000\n",
      "| epoch 5 | time/total 1/8[s] | loss = 2.27912\n",
      "| epoch 5 | time/total 1/9[s] | train error = 1.00000\n",
      "| epoch 5 | time/total 1/9[s] | test error  = 1.00000\n",
      "| epoch 6 | time/total 1/10[s] | loss = 2.14185\n",
      "| epoch 7 | time/total 1/11[s] | loss = 1.97653\n",
      "| epoch 8 | time/total 1/13[s] | loss = 1.87517\n",
      "| epoch 9 | time/total 1/14[s] | loss = 1.77575\n",
      "| epoch 10 | time/total 1/15[s] | loss = 1.67843\n",
      "| epoch 10 | time/total 1/15[s] | train error = 1.00000\n",
      "| epoch 10 | time/total 1/16[s] | test error  = 1.00000\n",
      "| epoch 11 | time/total 1/17[s] | loss = 1.56055\n",
      "| epoch 12 | time/total 1/18[s] | loss = 1.43067\n",
      "| epoch 13 | time/total 1/19[s] | loss = 1.29237\n",
      "| epoch 14 | time/total 1/21[s] | loss = 1.16278\n",
      "| epoch 15 | time/total 1/22[s] | loss = 1.04292\n",
      "| epoch 16 | time/total 1/23[s] | loss = 0.92428\n",
      "| epoch 17 | time/total 1/24[s] | loss = 0.80113\n",
      "| epoch 18 | time/total 1/26[s] | loss = 0.70589\n",
      "| epoch 19 | time/total 1/27[s] | loss = 0.63087\n",
      "| epoch 20 | time/total 1/28[s] | loss = 0.55665\n",
      "| epoch 20 | time/total 1/28[s] | train error = 0.93053\n",
      "| epoch 20 | time/total 1/29[s] | test error  = 0.93204\n",
      "| epoch 21 | time/total 1/30[s] | loss = 0.49878\n",
      "| epoch 22 | time/total 1/31[s] | loss = 0.44858\n",
      "| epoch 23 | time/total 1/32[s] | loss = 0.41592\n",
      "| epoch 24 | time/total 1/34[s] | loss = 0.37703\n",
      "| epoch 25 | time/total 1/35[s] | loss = 0.34183\n",
      "| epoch 26 | time/total 1/36[s] | loss = 0.31695\n",
      "| epoch 27 | time/total 1/37[s] | loss = 0.28852\n",
      "| epoch 28 | time/total 1/38[s] | loss = 0.27008\n",
      "| epoch 29 | time/total 1/40[s] | loss = 0.26351\n",
      "| epoch 30 | time/total 1/41[s] | loss = 0.24607\n",
      "| epoch 30 | time/total 1/41[s] | train error = 0.85895\n",
      "| epoch 30 | time/total 1/42[s] | test error  = 0.87379\n",
      "| epoch 31 | time/total 1/43[s] | loss = 0.22933\n",
      "| epoch 32 | time/total 1/44[s] | loss = 0.22287\n",
      "| epoch 33 | time/total 1/45[s] | loss = 0.20583\n",
      "| epoch 34 | time/total 1/46[s] | loss = 0.19866\n",
      "| epoch 35 | time/total 1/48[s] | loss = 0.18915\n",
      "| epoch 36 | time/total 1/49[s] | loss = 0.17664\n",
      "| epoch 37 | time/total 1/50[s] | loss = 0.17609\n",
      "| epoch 38 | time/total 1/51[s] | loss = 0.17099\n",
      "| epoch 39 | time/total 1/52[s] | loss = 0.16643\n",
      "| epoch 40 | time/total 1/54[s] | loss = 0.16118\n",
      "| epoch 40 | time/total 1/54[s] | train error = 0.79158\n",
      "| epoch 40 | time/total 1/54[s] | test error  = 0.84951\n",
      "| epoch 41 | time/total 1/56[s] | loss = 0.15607\n",
      "| epoch 42 | time/total 1/57[s] | loss = 0.14762\n",
      "| epoch 43 | time/total 1/58[s] | loss = 0.14085\n",
      "| epoch 44 | time/total 1/59[s] | loss = 0.13569\n",
      "| epoch 45 | time/total 1/60[s] | loss = 0.13224\n",
      "| epoch 46 | time/total 1/62[s] | loss = 0.12675\n",
      "| epoch 47 | time/total 1/63[s] | loss = 0.12303\n",
      "| epoch 48 | time/total 1/64[s] | loss = 0.12137\n",
      "| epoch 49 | time/total 1/65[s] | loss = 0.11661\n",
      "| epoch 50 | time/total 1/67[s] | loss = 0.10848\n",
      "| epoch 50 | time/total 1/67[s] | train error = 0.61474\n",
      "| epoch 50 | time/total 1/67[s] | test error  = 0.71359\n",
      "| epoch 51 | time/total 1/69[s] | loss = 0.10821\n",
      "| epoch 52 | time/total 1/70[s] | loss = 0.10416\n",
      "| epoch 53 | time/total 1/71[s] | loss = 0.09799\n",
      "| epoch 54 | time/total 1/72[s] | loss = 0.10197\n",
      "| epoch 55 | time/total 1/73[s] | loss = 0.09718\n",
      "| epoch 56 | time/total 1/75[s] | loss = 0.09411\n",
      "| epoch 57 | time/total 1/76[s] | loss = 0.09433\n",
      "| epoch 58 | time/total 1/77[s] | loss = 0.09027\n",
      "| epoch 59 | time/total 1/78[s] | loss = 0.08742\n",
      "| epoch 60 | time/total 1/80[s] | loss = 0.08247\n",
      "| epoch 60 | time/total 1/80[s] | train error = 0.51368\n",
      "| epoch 60 | time/total 1/80[s] | test error  = 0.59709\n",
      "| epoch 61 | time/total 1/82[s] | loss = 0.08186\n",
      "| epoch 62 | time/total 1/83[s] | loss = 0.08112\n",
      "| epoch 63 | time/total 1/84[s] | loss = 0.07935\n",
      "| epoch 64 | time/total 1/85[s] | loss = 0.07636\n",
      "| epoch 65 | time/total 1/87[s] | loss = 0.07395\n",
      "| epoch 66 | time/total 1/88[s] | loss = 0.07087\n",
      "| epoch 67 | time/total 1/89[s] | loss = 0.06907\n",
      "| epoch 68 | time/total 1/90[s] | loss = 0.06699\n",
      "| epoch 69 | time/total 1/91[s] | loss = 0.06277\n",
      "| epoch 70 | time/total 1/93[s] | loss = 0.06430\n",
      "| epoch 70 | time/total 1/93[s] | train error = 0.40632\n",
      "| epoch 70 | time/total 1/93[s] | test error  = 0.50971\n",
      "| epoch 71 | time/total 1/94[s] | loss = 0.06124\n",
      "| epoch 72 | time/total 1/96[s] | loss = 0.06047\n",
      "| epoch 73 | time/total 1/97[s] | loss = 0.05741\n",
      "| epoch 74 | time/total 1/98[s] | loss = 0.05634\n",
      "| epoch 75 | time/total 1/100[s] | loss = 0.05598\n",
      "| epoch 76 | time/total 1/101[s] | loss = 0.05266\n",
      "| epoch 77 | time/total 1/102[s] | loss = 0.05047\n",
      "| epoch 78 | time/total 1/103[s] | loss = 0.04793\n",
      "| epoch 79 | time/total 1/105[s] | loss = 0.04745\n",
      "| epoch 80 | time/total 1/106[s] | loss = 0.04561\n",
      "| epoch 80 | time/total 1/106[s] | train error = 0.31158\n",
      "| epoch 80 | time/total 1/107[s] | test error  = 0.45631\n",
      "| epoch 81 | time/total 1/108[s] | loss = 0.04620\n",
      "| epoch 82 | time/total 1/109[s] | loss = 0.04436\n",
      "| epoch 83 | time/total 1/110[s] | loss = 0.04260\n",
      "| epoch 84 | time/total 1/111[s] | loss = 0.03971\n",
      "| epoch 85 | time/total 1/113[s] | loss = 0.04029\n",
      "| epoch 86 | time/total 1/114[s] | loss = 0.03884\n",
      "| epoch 87 | time/total 1/115[s] | loss = 0.03588\n",
      "| epoch 88 | time/total 1/116[s] | loss = 0.03498\n",
      "| epoch 89 | time/total 1/118[s] | loss = 0.03385\n",
      "| epoch 90 | time/total 1/119[s] | loss = 0.03285\n",
      "| epoch 90 | time/total 1/119[s] | train error = 0.21895\n",
      "| epoch 90 | time/total 1/120[s] | test error  = 0.41748\n",
      "| epoch 91 | time/total 1/121[s] | loss = 0.03260\n",
      "| epoch 92 | time/total 1/122[s] | loss = 0.03218\n",
      "| epoch 93 | time/total 1/123[s] | loss = 0.03248\n",
      "| epoch 94 | time/total 1/125[s] | loss = 0.03052\n",
      "| epoch 95 | time/total 1/126[s] | loss = 0.03066\n",
      "| epoch 96 | time/total 1/127[s] | loss = 0.02954\n",
      "| epoch 97 | time/total 1/128[s] | loss = 0.03181\n",
      "| epoch 98 | time/total 1/129[s] | loss = 0.03165\n",
      "| epoch 99 | time/total 1/131[s] | loss = 0.02778\n",
      "| epoch 100 | time/total 1/132[s] | loss = 0.02635\n",
      "| epoch 100 | time/total 1/132[s] | train error = 0.14737\n",
      "| epoch 100 | time/total 1/133[s] | test error  = 0.32524\n",
      "| epoch 101 | time/total 1/134[s] | loss = 0.02486\n",
      "| epoch 102 | time/total 1/135[s] | loss = 0.02385\n",
      "| epoch 103 | time/total 1/136[s] | loss = 0.02273\n",
      "| epoch 104 | time/total 1/138[s] | loss = 0.02110\n",
      "| epoch 105 | time/total 1/139[s] | loss = 0.02047\n",
      "| epoch 106 | time/total 1/140[s] | loss = 0.01912\n",
      "| epoch 107 | time/total 1/141[s] | loss = 0.01983\n",
      "| epoch 108 | time/total 1/143[s] | loss = 0.01875\n",
      "| epoch 109 | time/total 1/144[s] | loss = 0.01876\n",
      "| epoch 110 | time/total 1/145[s] | loss = 0.01779\n",
      "| epoch 110 | time/total 1/145[s] | train error = 0.09474\n",
      "| epoch 110 | time/total 1/146[s] | test error  = 0.31553\n",
      "| epoch 111 | time/total 1/147[s] | loss = 0.01690\n",
      "| epoch 112 | time/total 1/148[s] | loss = 0.01666\n",
      "| epoch 113 | time/total 1/149[s] | loss = 0.01679\n",
      "| epoch 114 | time/total 1/151[s] | loss = 0.01664\n",
      "| epoch 115 | time/total 1/152[s] | loss = 0.01601\n",
      "| epoch 116 | time/total 1/153[s] | loss = 0.01572\n",
      "| epoch 117 | time/total 1/154[s] | loss = 0.01601\n",
      "| epoch 118 | time/total 1/156[s] | loss = 0.01629\n",
      "| epoch 119 | time/total 1/157[s] | loss = 0.01683\n",
      "| epoch 120 | time/total 1/158[s] | loss = 0.01723\n",
      "| epoch 120 | time/total 1/158[s] | train error = 0.14947\n",
      "| epoch 120 | time/total 1/159[s] | test error  = 0.33010\n",
      "| epoch 121 | time/total 1/160[s] | loss = 0.01929\n",
      "| epoch 122 | time/total 1/161[s] | loss = 0.01798\n",
      "| epoch 123 | time/total 1/162[s] | loss = 0.01826\n",
      "| epoch 124 | time/total 1/164[s] | loss = 0.01634\n",
      "| epoch 125 | time/total 1/165[s] | loss = 0.01523\n",
      "| epoch 126 | time/total 1/166[s] | loss = 0.01351\n"
     ]
    },
    {
     "name": "stdout",
     "output_type": "stream",
     "text": [
      "| epoch 127 | time/total 1/167[s] | loss = 0.01278\n",
      "| epoch 128 | time/total 1/169[s] | loss = 0.01208\n",
      "| epoch 129 | time/total 1/170[s] | loss = 0.01264\n",
      "| epoch 130 | time/total 1/171[s] | loss = 0.01155\n",
      "| epoch 130 | time/total 1/172[s] | train error = 0.07789\n",
      "| epoch 130 | time/total 1/172[s] | test error  = 0.27184\n",
      "| epoch 131 | time/total 1/173[s] | loss = 0.01197\n",
      "| epoch 132 | time/total 1/174[s] | loss = 0.01148\n",
      "| epoch 133 | time/total 1/175[s] | loss = 0.01277\n",
      "| epoch 134 | time/total 1/177[s] | loss = 0.01509\n",
      "| epoch 135 | time/total 1/178[s] | loss = 0.01419\n",
      "| epoch 136 | time/total 1/179[s] | loss = 0.01245\n",
      "| epoch 137 | time/total 1/180[s] | loss = 0.01234\n",
      "| epoch 138 | time/total 1/182[s] | loss = 0.01248\n",
      "| epoch 139 | time/total 1/183[s] | loss = 0.01095\n",
      "| epoch 140 | time/total 1/184[s] | loss = 0.01022\n",
      "| epoch 140 | time/total 1/185[s] | train error = 0.04842\n",
      "| epoch 140 | time/total 1/185[s] | test error  = 0.25728\n",
      "| epoch 141 | time/total 1/186[s] | loss = 0.00949\n",
      "| epoch 142 | time/total 1/187[s] | loss = 0.00880\n",
      "| epoch 143 | time/total 1/188[s] | loss = 0.00837\n",
      "| epoch 144 | time/total 1/190[s] | loss = 0.00783\n",
      "| epoch 145 | time/total 1/191[s] | loss = 0.00770\n",
      "| epoch 146 | time/total 1/192[s] | loss = 0.00733\n",
      "| epoch 147 | time/total 1/193[s] | loss = 0.00748\n",
      "| epoch 148 | time/total 1/195[s] | loss = 0.00753\n",
      "| epoch 149 | time/total 1/196[s] | loss = 0.00714\n",
      "| epoch 150 | time/total 1/197[s] | loss = 0.00700\n",
      "| epoch 150 | time/total 1/198[s] | train error = 0.02526\n",
      "| epoch 150 | time/total 1/198[s] | test error  = 0.25728\n",
      "Inference:\n",
      "Accuracy: 0.9747368421052631\n",
      "Accuracy: 0.7427184466019418\n",
      "Accuracy: 0.9747368421052631\n",
      "Accuracy: 0.7427184466019418\n"
     ]
    },
    {
     "data": {
      "image/png": "[encoded data removed]",
      "text/plain": [
       "<Figure size 432x288 with 2 Axes>"
      ]
     },
     "metadata": {},
     "output_type": "display_data"
    }
   ],
   "source": [
    "print(\"Target dataset:\", dataset_name)\n",
    "start_id = seq.start_id\n",
    "sample_size = seq.sample_size\n",
    "for i in range(1, divisor+1):\n",
    "    x_train_part = x_train[:i*unit]\n",
    "    t_train_part = t_train[:i*unit]\n",
    "    # Model, Optimizer, Trainerの初期化\n",
    "    model = PeekySeq2seq(vocab_size, wordvec_size, hidden_size)\n",
    "    optimizer = Adam(lr=0.002)\n",
    "    trainer = Trainer(model, optimizer)\n",
    "    # Train\n",
    "    trainer.fit(x_train_part, t_train_part, x_test, t_test,\n",
    "                max_epoch=max_epoch,\n",
    "                batch_size=batch_size,\n",
    "                max_grad=max_grad)\n",
    "    # Inference\n",
    "    print(\"Inference:\")\n",
    "    guess_train = model.generate(x_train_part, start_id, sample_size)\n",
    "    guess_test = model.generate(x_test, start_id, sample_size)\n",
    "    # Save result as csv\n",
    "    result_train_csv = save_dir /  (\"result_{}per{}_{}_{}_train.csv\".format(i, divisor, dataset_name, modelname))\n",
    "    result_test_csv = save_dir / (\"result_{}per{}_{}_{}_test.csv\".format(i, divisor, dataset_name, modelname))\n",
    "    df_result_train = seq.result_to_csv(result_train_csv, x_train_part, t_train_part, guess_train, encoding=encoding)\n",
    "    df_result_test = seq.result_to_csv(result_test_csv, x_test, t_test, guess_test, encoding=encoding)\n",
    "    # Save result as csv as utf-8 with BOM\n",
    "    result_train_csv = save_dir /  (\"result_{}per{}_{}_{}_train_bom.csv\".format(i, divisor, dataset_name, modelname))\n",
    "    result_test_csv = save_dir / (\"result_{}per{}_{}_{}_test_bom.csv\".format(i, divisor, dataset_name, modelname))\n",
    "    df_result_train = seq.result_to_csv(result_train_csv, x_train_part, t_train_part, guess_train, encoding=\"utf_8_sig\")\n",
    "    df_result_test = seq.result_to_csv(result_test_csv, x_test, t_test, guess_test, encoding=\"utf_8_sig\")\n",
    "    # Plot learning curve and save it as png image\n",
    "    image_path = save_dir / (\"result_{}per{}_{}_{}.png\".format(i, divisor, dataset_name, modelname))\n",
    "    trainer.plot(image_path=image_path, log_scale=False)"
   ]
  },
  {
   "cell_type": "markdown",
   "metadata": {},
   "source": [
    "## ゼネコン向けデータセットの精度予測"
   ]
  },
  {
   "cell_type": "code",
   "execution_count": 28,
   "metadata": {},
   "outputs": [],
   "source": [
    "from sklearn.linear_model import LinearRegression"
   ]
  },
  {
   "cell_type": "code",
   "execution_count": 74,
   "metadata": {},
   "outputs": [],
   "source": [
    "x_g = np.arange(unit, unit*divisor+1, unit).reshape(-1, 1)"
   ]
  },
  {
   "cell_type": "code",
   "execution_count": 75,
   "metadata": {},
   "outputs": [],
   "source": [
    "y_g = np.array([0.29794, 0.69322, 0.81711, 0.89381, 0.9174])"
   ]
  },
  {
   "cell_type": "code",
   "execution_count": 83,
   "metadata": {},
   "outputs": [],
   "source": [
    "# def sigmoid(x):\n",
    "#     return 1 / (1 - np.exp(-x))"
   ]
  },
  {
   "cell_type": "code",
   "execution_count": 76,
   "metadata": {},
   "outputs": [],
   "source": [
    "model_g = LinearRegression(fit_intercept=True)"
   ]
  },
  {
   "cell_type": "code",
   "execution_count": 77,
   "metadata": {},
   "outputs": [],
   "source": [
    "x_inv = 1 / x_g"
   ]
  },
  {
   "cell_type": "code",
   "execution_count": 79,
   "metadata": {},
   "outputs": [
    {
     "data": {
      "text/plain": [
       "LinearRegression(copy_X=True, fit_intercept=True, n_jobs=None,\n",
       "         normalize=False)"
      ]
     },
     "execution_count": 79,
     "metadata": {},
     "output_type": "execute_result"
    }
   ],
   "source": [
    "model_g.fit(x_inv, y_g)"
   ]
  },
  {
   "cell_type": "code",
   "execution_count": 80,
   "metadata": {
    "scrolled": true
   },
   "outputs": [
    {
     "data": {
      "text/plain": [
       "array([-123.5215595])"
      ]
     },
     "execution_count": 80,
     "metadata": {},
     "output_type": "execute_result"
    }
   ],
   "source": [
    "model_g.coef_"
   ]
  },
  {
   "cell_type": "code",
   "execution_count": 81,
   "metadata": {},
   "outputs": [],
   "source": [
    "x_hat = np.arange(100, 2000).reshape(-1, 1)"
   ]
  },
  {
   "cell_type": "code",
   "execution_count": 121,
   "metadata": {
    "scrolled": false
   },
   "outputs": [
    {
     "data": {
      "image/png": "[encoded data removed]",
      "text/plain": [
       "<Figure size 432x288 with 1 Axes>"
      ]
     },
     "metadata": {
      "needs_background": "light"
     },
     "output_type": "display_data"
    }
   ],
   "source": [
    "plt.scatter(x_g, y_g, color='gold', label='gene-con')\n",
    "plt.plot(x_hat, model_g.predict(1 / x_hat)-0.025, color='gold', linestyle='--')\n",
    "plt.axhline(y=1, linestyle='--', color='red')\n",
    "plt.ylim((0.0, 1.05))\n",
    "plt.xlabel('the number of data')\n",
    "plt.ylabel('test accuracy')\n",
    "plt.legend()\n",
    "plt.savefig(result_dir / \"predict_accuracy_gene-con.png\")"
   ]
  },
  {
   "cell_type": "markdown",
   "metadata": {},
   "source": [
    "## トリデータセットの精度予測"
   ]
  },
  {
   "cell_type": "code",
   "execution_count": 18,
   "metadata": {},
   "outputs": [],
   "source": [
    "from sklearn.linear_model import LinearRegression"
   ]
  },
  {
   "cell_type": "code",
   "execution_count": 84,
   "metadata": {},
   "outputs": [],
   "source": [
    "x_t = np.arange(unit, unit*divisor+1, unit).reshape(-1, 1)"
   ]
  },
  {
   "cell_type": "code",
   "execution_count": 85,
   "metadata": {},
   "outputs": [],
   "source": [
    "y_t = np.array([0.092233, 0.373786, 0.572816, 0.674757, 0.742718])"
   ]
  },
  {
   "cell_type": "code",
   "execution_count": 83,
   "metadata": {},
   "outputs": [],
   "source": [
    "# def sigmoid(x):\n",
    "#     return 1 / (1 - np.exp(-x))"
   ]
  },
  {
   "cell_type": "code",
   "execution_count": 86,
   "metadata": {},
   "outputs": [],
   "source": [
    "model_t = LinearRegression(fit_intercept=True)"
   ]
  },
  {
   "cell_type": "code",
   "execution_count": 60,
   "metadata": {},
   "outputs": [],
   "source": [
    "x_inv = np.c_[1 / x, np.sqrt(x)]"
   ]
  },
  {
   "cell_type": "code",
   "execution_count": 87,
   "metadata": {},
   "outputs": [],
   "source": [
    "x_log = np.c_[np.log(x_t), x_t]"
   ]
  },
  {
   "cell_type": "code",
   "execution_count": 88,
   "metadata": {
    "scrolled": true
   },
   "outputs": [
    {
     "data": {
      "text/plain": [
       "LinearRegression(copy_X=True, fit_intercept=True, n_jobs=None,\n",
       "         normalize=False)"
      ]
     },
     "execution_count": 88,
     "metadata": {},
     "output_type": "execute_result"
    }
   ],
   "source": [
    "model_t.fit(x_log, y_t)"
   ]
  },
  {
   "cell_type": "code",
   "execution_count": 89,
   "metadata": {
    "scrolled": true
   },
   "outputs": [
    {
     "data": {
      "text/plain": [
       "array([ 4.76704984e-01, -2.76778805e-04])"
      ]
     },
     "execution_count": 89,
     "metadata": {},
     "output_type": "execute_result"
    }
   ],
   "source": [
    "model.coef_"
   ]
  },
  {
   "cell_type": "code",
   "execution_count": 47,
   "metadata": {},
   "outputs": [],
   "source": [
    "x_hat = np.arange(100, 2000).reshape(-1, 1)"
   ]
  },
  {
   "cell_type": "code",
   "execution_count": 122,
   "metadata": {
    "scrolled": false
   },
   "outputs": [
    {
     "data": {
      "image/png": "[encoded data removed]",
      "text/plain": [
       "<Figure size 432x288 with 1 Axes>"
      ]
     },
     "metadata": {
      "needs_background": "light"
     },
     "output_type": "display_data"
    }
   ],
   "source": [
    "plt.scatter(x_t, y_t, color='orange', label='tori')\n",
    "plt.plot(x_hat, model_t.predict(np.c_[np.log(x_hat), x_hat])-0.025, color='orange', linestyle='--')\n",
    "plt.axhline(y=1, linestyle='--', color='red')\n",
    "plt.ylim((0.0, 1.05))\n",
    "plt.xlabel('the number of data')\n",
    "plt.ylabel('test accuracy')\n",
    "plt.legend()\n",
    "plt.savefig(result_dir / \"predict_accuracy_tori.png\")"
   ]
  },
  {
   "cell_type": "code",
   "execution_count": 91,
   "metadata": {},
   "outputs": [
    {
     "data": {
      "text/plain": [
       "Text(0, 0.5, 'test accuracy')"
      ]
     },
     "execution_count": 91,
     "metadata": {},
     "output_type": "execute_result"
    },
    {
     "data": {
      "image/png": "[encoded data removed]",
      "text/plain": [
       "<Figure size 432x288 with 1 Axes>"
      ]
     },
     "metadata": {
      "needs_background": "light"
     },
     "output_type": "display_data"
    }
   ],
   "source": [
    "plt.scatter(x_t, y_t, color='orange')\n",
    "plt.scatter(x_g, y_g, color='yellow')\n",
    "plt.plot(x_hat, model_t.predict(np.c_[np.log(x_hat), x_hat])-0.025)\n",
    "plt.axhline(y=1, linestyle='--', color='red')\n",
    "plt.ylim((0.0, 1.05))\n",
    "plt.xlabel('the number of data')\n",
    "plt.ylabel('test accuracy')"
   ]
  },
  {
   "cell_type": "code",
   "execution_count": 92,
   "metadata": {},
   "outputs": [],
   "source": [
    "x = np.r_[x_g, x_t]"
   ]
  },
  {
   "cell_type": "code",
   "execution_count": 94,
   "metadata": {},
   "outputs": [],
   "source": [
    "y = np.r_[y_g, y_t]"
   ]
  },
  {
   "cell_type": "code",
   "execution_count": 95,
   "metadata": {},
   "outputs": [],
   "source": [
    "x_inverse = 1 / x"
   ]
  },
  {
   "cell_type": "code",
   "execution_count": 96,
   "metadata": {},
   "outputs": [],
   "source": [
    "model = LinearRegression(fit_intercept=True)"
   ]
  },
  {
   "cell_type": "code",
   "execution_count": 97,
   "metadata": {},
   "outputs": [
    {
     "data": {
      "text/plain": [
       "LinearRegression(copy_X=True, fit_intercept=True, n_jobs=None,\n",
       "         normalize=False)"
      ]
     },
     "execution_count": 97,
     "metadata": {},
     "output_type": "execute_result"
    }
   ],
   "source": [
    "model.fit(x_inverse, y)"
   ]
  },
  {
   "cell_type": "code",
   "execution_count": 98,
   "metadata": {},
   "outputs": [
    {
     "data": {
      "text/plain": [
       "array([-92.42496957])"
      ]
     },
     "execution_count": 98,
     "metadata": {},
     "output_type": "execute_result"
    }
   ],
   "source": [
    "model.coef_"
   ]
  },
  {
   "cell_type": "code",
   "execution_count": 109,
   "metadata": {},
   "outputs": [
    {
     "data": {
      "text/plain": [
       "array([0.91707847])"
      ]
     },
     "execution_count": 109,
     "metadata": {},
     "output_type": "execute_result"
    }
   ],
   "source": [
    "model.predict([[1/2000]])"
   ]
  },
  {
   "cell_type": "code",
   "execution_count": 117,
   "metadata": {},
   "outputs": [
    {
     "data": {
      "image/png": "[encoded data removed]",
      "text/plain": [
       "<Figure size 432x288 with 1 Axes>"
      ]
     },
     "metadata": {
      "needs_background": "light"
     },
     "output_type": "display_data"
    }
   ],
   "source": [
    "plt.scatter(x_t, y_t, color='orange', label='tori')\n",
    "plt.scatter(x_g, y_g, color='gold', label='gene-con')\n",
    "# plt.plot(x_hat, model.predict(1 / x_hat))\n",
    "plt.plot(x_hat, model_g.predict(1 / x_hat)-0.025, color='gold', linestyle='--')\n",
    "plt.plot(x_hat, model_t.predict(np.c_[np.log(x_hat), x_hat])-0.025, color='orange', linestyle='--')\n",
    "plt.axhline(y=1, linestyle='--', color='red')\n",
    "plt.ylim((0.0, 1.05))\n",
    "plt.xlabel('the number of data')\n",
    "plt.ylabel('test accuracy')\n",
    "plt.legend()\n",
    "plt.savefig(result_dir / \"predict_accuracy.png\")"
   ]
  },
  {
   "cell_type": "code",
   "execution_count": 116,
   "metadata": {},
   "outputs": [
    {
     "data": {
      "image/png": "[encoded data removed]",
      "text/plain": [
       "<Figure size 432x288 with 1 Axes>"
      ]
     },
     "metadata": {
      "needs_background": "light"
     },
     "output_type": "display_data"
    }
   ],
   "source": [
    "plt.scatter(x_t, y_t, color='orange', label='tori')\n",
    "plt.scatter(x_g, y_g, color='gold', label='gene-con')\n",
    "plt.plot(x_hat, model.predict(1 / x_hat), linestyle='--')\n",
    "# plt.plot(x_hat, model_g.predict(1 / x_hat)-0.025, color='gold', linestyle='--')\n",
    "# plt.plot(x_hat, model_t.predict(np.c_[np.log(x_hat), x_hat])-0.025, color='orange', linestyle='--')\n",
    "plt.axhline(y=1, linestyle='--', color='red')\n",
    "plt.ylim((0.0, 1.05))\n",
    "plt.xlabel('the number of data')\n",
    "plt.ylabel('test accuracy')\n",
    "plt.legend()\n",
    "plt.savefig(result_dir / \"predict_accuracy_total.png\")"
   ]
  },
  {
   "cell_type": "code",
   "execution_count": null,
   "metadata": {},
   "outputs": [],
   "source": []
  }
 ],
 "metadata": {
  "hide_input": false,
  "kernelspec": {
   "display_name": "Python 3",
   "language": "python",
   "name": "python3"
  },
  "language_info": {
   "codemirror_mode": {
    "name": "ipython",
    "version": 3
   },
   "file_extension": ".py",
   "mimetype": "text/x-python",
   "name": "python",
   "nbconvert_exporter": "python",
   "pygments_lexer": "ipython3",
   "version": "3.7.1"
  },
  "toc": {
   "base_numbering": 1,
   "nav_menu": {},
   "number_sections": false,
   "sideBar": true,
   "skip_h1_title": true,
   "title_cell": "Table of Contents",
   "title_sidebar": "Contents",
   "toc_cell": true,
   "toc_position": {},
   "toc_section_display": true,
   "toc_window_display": true
  }
 },
 "nbformat": 4,
 "nbformat_minor": 2
}
