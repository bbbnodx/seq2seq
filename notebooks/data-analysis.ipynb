{
 "cells": [
  {
   "cell_type": "code",
   "execution_count": 37,
   "metadata": {},
   "outputs": [],
   "source": [
    "# coding: utf-8\n",
    "import sys\n",
    "sys.path.append(\"../src\")\n",
    "import os\n",
    "import numpy as np\n",
    "import pandas as pd\n",
    "import matplotlib.pyplot as plt\n",
    "from pathlib import Path\n",
    "from data.sequence import TextSequence"
   ]
  },
  {
   "cell_type": "code",
   "execution_count": 38,
   "metadata": {},
   "outputs": [],
   "source": [
    "# matplotlibのインライン表示\n",
    "%matplotlib inline\n",
    "# モジュールの更新時に自動で再読み込み\n",
    "%reload_ext autoreload\n",
    "%autoreload 2"
   ]
  },
  {
   "cell_type": "code",
   "execution_count": 39,
   "metadata": {},
   "outputs": [],
   "source": [
    "# ディレクトリパスの設定\n",
    "dataset_dir =Path('../dataset')\n",
    "result_dir = Path('../results')\n",
    "model_dir = Path('../models')"
   ]
  },
  {
   "cell_type": "code",
   "execution_count": 4,
   "metadata": {},
   "outputs": [],
   "source": [
    "# ファイルパスの設定\n",
    "vocab_csv = [dataset_dir /  \"interpretation_train43_and_test40_rev2.csv\", dataset_dir / \"interpretation_excel_concat_trim.csv\"]\n",
    "source_csv = dataset_dir / \"interpretation_train43_and_test40_rev2.csv\"\n",
    "# source_csv = dataset_dir / \"interpretation_excel_concat_trim.csv\"\n",
    "dataset_name = source_csv.stem\n",
    "encoding = \"utf-8\""
   ]
  },
  {
   "cell_type": "code",
   "execution_count": 5,
   "metadata": {},
   "outputs": [],
   "source": [
    "rev2_csv = dataset_dir / \"interpretation_train43_and_test40_rev2.csv\"\n",
    "rev3_csv = dataset_dir / \"interpretation_train43_and_test40_rev3.csv\""
   ]
  },
  {
   "cell_type": "code",
   "execution_count": 6,
   "metadata": {},
   "outputs": [],
   "source": [
    "rev2 = pd.read_csv(rev2_csv)"
   ]
  },
  {
   "cell_type": "code",
   "execution_count": 7,
   "metadata": {},
   "outputs": [],
   "source": [
    "rev3 = pd.read_csv(rev3_csv)"
   ]
  },
  {
   "cell_type": "code",
   "execution_count": 8,
   "metadata": {},
   "outputs": [
    {
     "data": {
      "text/html": [
       "<div>\n",
       "<style scoped>\n",
       "    .dataframe tbody tr th:only-of-type {\n",
       "        vertical-align: middle;\n",
       "    }\n",
       "\n",
       "    .dataframe tbody tr th {\n",
       "        vertical-align: top;\n",
       "    }\n",
       "\n",
       "    .dataframe thead th {\n",
       "        text-align: right;\n",
       "    }\n",
       "</style>\n",
       "<table border=\"1\" class=\"dataframe\">\n",
       "  <thead>\n",
       "    <tr style=\"text-align: right;\">\n",
       "      <th></th>\n",
       "      <th>x</th>\n",
       "      <th>y</th>\n",
       "    </tr>\n",
       "  </thead>\n",
       "  <tbody>\n",
       "    <tr>\n",
       "      <th>0</th>\n",
       "      <td>強化ガラスt8</td>\n",
       "      <td>PT8</td>\n",
       "    </tr>\n",
       "    <tr>\n",
       "      <th>1</th>\n",
       "      <td>部強化ガラスt8</td>\n",
       "      <td>PT8</td>\n",
       "    </tr>\n",
       "    <tr>\n",
       "      <th>2</th>\n",
       "      <td>上下2辺固定部強化ガラスt15(ガラス間は突付ツール納め)</td>\n",
       "      <td>PT15</td>\n",
       "    </tr>\n",
       "    <tr>\n",
       "      <th>3</th>\n",
       "      <td>上下2辺固定部強化ガラスt15(ガラス間は突付ツール納め)</td>\n",
       "      <td>PT15</td>\n",
       "    </tr>\n",
       "    <tr>\n",
       "      <th>4</th>\n",
       "      <td>耐熱強化ガラスt10</td>\n",
       "      <td>FR10</td>\n",
       "    </tr>\n",
       "  </tbody>\n",
       "</table>\n",
       "</div>"
      ],
      "text/plain": [
       "                               x     y\n",
       "0                        強化ガラスt8   PT8\n",
       "1                       部強化ガラスt8   PT8\n",
       "2  上下2辺固定部強化ガラスt15(ガラス間は突付ツール納め)  PT15\n",
       "3  上下2辺固定部強化ガラスt15(ガラス間は突付ツール納め)  PT15\n",
       "4                     耐熱強化ガラスt10  FR10"
      ]
     },
     "execution_count": 8,
     "metadata": {},
     "output_type": "execute_result"
    }
   ],
   "source": [
    "rev2.head()"
   ]
  },
  {
   "cell_type": "code",
   "execution_count": 9,
   "metadata": {},
   "outputs": [
    {
     "data": {
      "text/html": [
       "<div>\n",
       "<style scoped>\n",
       "    .dataframe tbody tr th:only-of-type {\n",
       "        vertical-align: middle;\n",
       "    }\n",
       "\n",
       "    .dataframe tbody tr th {\n",
       "        vertical-align: top;\n",
       "    }\n",
       "\n",
       "    .dataframe thead th {\n",
       "        text-align: right;\n",
       "    }\n",
       "</style>\n",
       "<table border=\"1\" class=\"dataframe\">\n",
       "  <thead>\n",
       "    <tr style=\"text-align: right;\">\n",
       "      <th></th>\n",
       "      <th>x</th>\n",
       "      <th>y</th>\n",
       "    </tr>\n",
       "  </thead>\n",
       "  <tbody>\n",
       "    <tr>\n",
       "      <th>0</th>\n",
       "      <td>(1階)LOWE50+A6+PA6.0(2.3階)LoWE50+A6+FR50(防火設備)</td>\n",
       "      <td>LowE5+A6+F6K LowE5+A6+FR5</td>\n",
       "    </tr>\n",
       "    <tr>\n",
       "      <th>1</th>\n",
       "      <td>(1階)LOWE50+A6+PA6.0(2.3階)LoWE50+A6+FR50(防火設備)</td>\n",
       "      <td>LowE5+A6+F6K LowE5+A6+FR5</td>\n",
       "    </tr>\n",
       "    <tr>\n",
       "      <th>2</th>\n",
       "      <td>(A1タイプ)LOWE5.0+A6+FL60(Jタイプ洋室)LowE5.O+Ae+PW8(防...</td>\n",
       "      <td>LowE5+A6+FL6 LowE5+A6+PW6.8 LowE5+A6+FR5</td>\n",
       "    </tr>\n",
       "    <tr>\n",
       "      <th>3</th>\n",
       "      <td>(A1タイプ)LOWE5.0+A6+FL60(Jタイプ洋室)LowE5.O+Ae+PW8(防...</td>\n",
       "      <td>LowE5+A6+FL6 LowE5+A6+PW6.8 LowE5+A6+FR5</td>\n",
       "    </tr>\n",
       "    <tr>\n",
       "      <th>4</th>\n",
       "      <td>(A1タイプ)LOWE5.0+A6+FL60(Jタイプ洋室)LowE5.O+Ae+PW8(防...</td>\n",
       "      <td>LowE5+A6+FL6 LowE5+A6+PW6.8 LowE5+A6+FR5</td>\n",
       "    </tr>\n",
       "  </tbody>\n",
       "</table>\n",
       "</div>"
      ],
      "text/plain": [
       "                                                   x  \\\n",
       "0      (1階)LOWE50+A6+PA6.0(2.3階)LoWE50+A6+FR50(防火設備)   \n",
       "1      (1階)LOWE50+A6+PA6.0(2.3階)LoWE50+A6+FR50(防火設備)   \n",
       "2  (A1タイプ)LOWE5.0+A6+FL60(Jタイプ洋室)LowE5.O+Ae+PW8(防...   \n",
       "3  (A1タイプ)LOWE5.0+A6+FL60(Jタイプ洋室)LowE5.O+Ae+PW8(防...   \n",
       "4  (A1タイプ)LOWE5.0+A6+FL60(Jタイプ洋室)LowE5.O+Ae+PW8(防...   \n",
       "\n",
       "                                          y  \n",
       "0                 LowE5+A6+F6K LowE5+A6+FR5  \n",
       "1                 LowE5+A6+F6K LowE5+A6+FR5  \n",
       "2  LowE5+A6+FL6 LowE5+A6+PW6.8 LowE5+A6+FR5  \n",
       "3  LowE5+A6+FL6 LowE5+A6+PW6.8 LowE5+A6+FR5  \n",
       "4  LowE5+A6+FL6 LowE5+A6+PW6.8 LowE5+A6+FR5  "
      ]
     },
     "execution_count": 9,
     "metadata": {},
     "output_type": "execute_result"
    }
   ],
   "source": [
    "rev3.head()"
   ]
  },
  {
   "cell_type": "code",
   "execution_count": 33,
   "metadata": {},
   "outputs": [],
   "source": [
    "joined = rev2.set_index('x').join(rev3.set_index('x'), how='inner', on='x', lsuffix='_rev2')"
   ]
  },
  {
   "cell_type": "code",
   "execution_count": 36,
   "metadata": {},
   "outputs": [],
   "source": [
    "del joined"
   ]
  },
  {
   "cell_type": "code",
   "execution_count": 26,
   "metadata": {},
   "outputs": [
    {
     "data": {
      "text/plain": [
       "pandas.core.frame.DataFrame"
      ]
     },
     "execution_count": 26,
     "metadata": {},
     "output_type": "execute_result"
    }
   ],
   "source": [
    "rev3.set_index('x')"
   ]
  },
  {
   "cell_type": "code",
   "execution_count": null,
   "metadata": {},
   "outputs": [],
   "source": []
  }
 ],
 "metadata": {
  "hide_input": false,
  "kernelspec": {
   "display_name": "Python 3",
   "language": "python",
   "name": "python3"
  },
  "language_info": {
   "codemirror_mode": {
    "name": "ipython",
    "version": 3
   },
   "file_extension": ".py",
   "mimetype": "text/x-python",
   "name": "python",
   "nbconvert_exporter": "python",
   "pygments_lexer": "ipython3",
   "version": "3.6.2"
  },
  "toc": {
   "base_numbering": 1,
   "nav_menu": {},
   "number_sections": true,
   "sideBar": true,
   "skip_h1_title": false,
   "title_cell": "Table of Contents",
   "title_sidebar": "Contents",
   "toc_cell": false,
   "toc_position": {},
   "toc_section_display": true,
   "toc_window_display": false
  }
 },
 "nbformat": 4,
 "nbformat_minor": 2
}
