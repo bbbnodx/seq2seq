{
 "cells": [
  {
   "cell_type": "markdown",
   "metadata": {
    "toc": true
   },
   "source": [
    "<h1>Table of Contents<span class=\"tocSkip\"></span></h1>\n",
    "<div class=\"toc\"><ul class=\"toc-item\"><li><span><a href=\"#前処理\" data-toc-modified-id=\"前処理-1\" data-vivaldi-spatnav-clickable=\"1\">前処理</a></span><ul class=\"toc-item\"><li><span><a href=\"#データセット読み込みと文字IDベクトルへの変換\" data-toc-modified-id=\"データセット読み込みと文字IDベクトルへの変換-1.1\" data-vivaldi-spatnav-clickable=\"1\">データセット読み込みと文字IDベクトルへの変換</a></span></li><li><span><a href=\"#ハイパーパラメータ設定とデータ前処理\" data-toc-modified-id=\"ハイパーパラメータ設定とデータ前処理-1.2\" data-vivaldi-spatnav-clickable=\"1\">ハイパーパラメータ設定とデータ前処理</a></span></li><li><span><a href=\"#model,-optimizer,-trainerインスタンス作成\" data-toc-modified-id=\"model,-optimizer,-trainerインスタンス作成-1.3\" data-vivaldi-spatnav-clickable=\"1\">model, optimizer, trainerインスタンス作成</a></span></li></ul></li><li><span><a href=\"#学習実行\" data-toc-modified-id=\"学習実行-2\" data-vivaldi-spatnav-clickable=\"1\">学習実行</a></span></li><li><span><a href=\"#推論\" data-toc-modified-id=\"推論-3\" data-vivaldi-spatnav-clickable=\"1\">推論</a></span></li><li><span><a href=\"#結果の保存\" data-toc-modified-id=\"結果の保存-4\" data-vivaldi-spatnav-clickable=\"1\">結果の保存</a></span></li><li><span><a href=\"#確信度の取得\" data-toc-modified-id=\"確信度の取得-5\" data-vivaldi-spatnav-clickable=\"1\">確信度の取得</a></span></li></ul></div>"
   ]
  },
  {
   "cell_type": "markdown",
   "metadata": {},
   "source": [
    "# seq2seqモデルの学習と結果の保存"
   ]
  },
  {
   "cell_type": "markdown",
   "metadata": {},
   "source": [
    "ディレクトリ構成：  \n",
    "```\n",
    "./\n",
    "├dataset/\n",
    "│   └(読み込むCSVファイル)\n",
    "├models/\n",
    "│   └(モデルパラメータキャッシュファイル)\n",
    "├notebooks/\n",
    "│   └train_seq2seq.ipynb(このファイル)\n",
    "├results/\n",
    "│   └(実行結果CSVと学習曲線グラフ画像)\n",
    "└src/\n",
    "   ├common/\n",
    "   │ └(共用クラス、関数)\n",
    "   ├data/\n",
    "   │ └(データ読み書き用コード)\n",
    "   ├attention_layer.py\n",
    "   ├attention_seq2seq.py\n",
    "   ├peeky_seq2seq.py\n",
    "   └seq2seq.py\n",
    "```"
   ]
  },
  {
   "cell_type": "code",
   "execution_count": 109,
   "metadata": {},
   "outputs": [
    {
     "name": "stdout",
     "output_type": "stream",
     "text": [
      "Once deleted, variables cannot be recovered. Proceed (y/[n])? y\n"
     ]
    }
   ],
   "source": [
    "# 変数の全消去\n",
    "%reset"
   ]
  },
  {
   "cell_type": "code",
   "execution_count": 1,
   "metadata": {},
   "outputs": [],
   "source": [
    "# coding: utf-8\n",
    "import sys\n",
    "sys.path.append(\"../src\")\n",
    "import os\n",
    "import numpy as np\n",
    "import pandas as pd\n",
    "import matplotlib.pyplot as plt\n",
    "from pathlib import Path\n",
    "from datetime import datetime\n",
    "from data.sequence import TextSequence\n",
    "from common.optimizer import Adam\n",
    "from common.trainer import Trainer\n",
    "from common.util import eval_seq2seq\n",
    "from seq2seq import Seq2seq, Seq2seqBiLSTM\n",
    "from peeky_seq2seq import PeekySeq2seq, PeekySeq2seqBiLSTM\n",
    "from attention_seq2seq import AttentionSeq2seq, AttentionSeq2seqBiLSTM"
   ]
  },
  {
   "cell_type": "code",
   "execution_count": 2,
   "metadata": {},
   "outputs": [],
   "source": [
    "# matplotlibのインライン表示\n",
    "%matplotlib inline\n",
    "# モジュールの更新時に自動で再読み込み\n",
    "%reload_ext autoreload\n",
    "%autoreload 2"
   ]
  },
  {
   "cell_type": "code",
   "execution_count": 3,
   "metadata": {},
   "outputs": [],
   "source": [
    "# ディレクトリパスの設定\n",
    "dataset_dir =Path('../dataset')\n",
    "result_dir = Path('../results')\n",
    "model_dir = Path('../models')"
   ]
  },
  {
   "cell_type": "code",
   "execution_count": 4,
   "metadata": {},
   "outputs": [],
   "source": [
    "# ファイルパスの設定\n",
    "vocab_csv = [dataset_dir / \"interpretation_train43_and_test40_rev3.csv\", dataset_dir / \"interpretation_excel_concat_rev2.csv\"]\n",
    "source_csv = dataset_dir / \"interpretation_train43_and_test40_rev3.csv\"\n",
    "# source_csv = dataset_dir / \"interpretation_excel_concat_rev2.csv\"\n",
    "dataset_name = source_csv.stem\n",
    "encoding = \"utf-8\""
   ]
  },
  {
   "cell_type": "code",
   "execution_count": 583,
   "metadata": {},
   "outputs": [],
   "source": [
    "# 最初から訓練データとテストデータが分かれているときはこっち\n",
    "source_csv = dataset_dir /\"interpretation_excel.csv\"  # 結果ファイル名に用いる\n",
    "train_csv = dataset_dir / \"interpretation_excel_train_trim.csv\"\n",
    "test_csv = dataset_dir / \"interpretation_excel_validation_trim.csv\""
   ]
  },
  {
   "cell_type": "markdown",
   "metadata": {},
   "source": [
    "## 前処理\n",
    "### データセット読み込みと文字IDベクトルへの変換"
   ]
  },
  {
   "cell_type": "code",
   "execution_count": 5,
   "metadata": {
    "scrolled": false
   },
   "outputs": [],
   "source": [
    "# 全てのデータセットを読み込み、Vocabularyを作成する\n",
    "seq = TextSequence()\n",
    "for path in vocab_csv:\n",
    "    seq.read_csv(path)\n",
    "char_to_id, id_to_char = seq.vocab"
   ]
  },
  {
   "cell_type": "code",
   "execution_count": 6,
   "metadata": {
    "scrolled": true
   },
   "outputs": [
    {
     "data": {
      "text/plain": [
       "(array([[  4,   5,   6, ...,   0,   0,   0],\n",
       "        [  4,   5,   6, ...,   0,   0,   0],\n",
       "        [  4,  15,   5, ...,  26,  27,   7],\n",
       "        ...,\n",
       "        [123, 124,  24, ...,   0,   0,   0],\n",
       "        [123, 124,  24, ...,   0,   0,   0],\n",
       "        [123, 124,  24, ...,   0,   0,   0]]),\n",
       " array([[ 1,  8, 21, ...,  0,  0,  0],\n",
       "        [ 1,  8, 21, ...,  0,  0,  0],\n",
       "        [ 1,  8, 21, ..., 23, 12,  2],\n",
       "        ...,\n",
       "        [ 1, 17, 10, ...,  0,  0,  0],\n",
       "        [ 1, 17, 10, ...,  0,  0,  0],\n",
       "        [ 1, 17, 10, ...,  0,  0,  0]]))"
      ]
     },
     "execution_count": 6,
     "metadata": {},
     "output_type": "execute_result"
    }
   ],
   "source": [
    "# 学習対象のデータセットを読み込み\n",
    "seq.read_csv(source_csv)"
   ]
  },
  {
   "cell_type": "code",
   "execution_count": 25,
   "metadata": {},
   "outputs": [
    {
     "ename": "NameError",
     "evalue": "name 'train_csv' is not defined",
     "output_type": "error",
     "traceback": [
      "\u001b[1;31m---------------------------------------------------------------------------\u001b[0m",
      "\u001b[1;31mNameError\u001b[0m                                 Traceback (most recent call last)",
      "\u001b[1;32m<ipython-input-25-e5a86900c53d>\u001b[0m in \u001b[0;36m<module>\u001b[1;34m\u001b[0m\n\u001b[0;32m      1\u001b[0m \u001b[1;31m# 最初から訓練データとテストデータが分かれているときはこっち\u001b[0m\u001b[1;33m\u001b[0m\u001b[1;33m\u001b[0m\u001b[1;33m\u001b[0m\u001b[0m\n\u001b[0;32m      2\u001b[0m \u001b[0mseq\u001b[0m \u001b[1;33m=\u001b[0m \u001b[0mTextSequence\u001b[0m\u001b[1;33m(\u001b[0m\u001b[1;33m)\u001b[0m\u001b[1;33m\u001b[0m\u001b[1;33m\u001b[0m\u001b[0m\n\u001b[1;32m----> 3\u001b[1;33m \u001b[0mseq\u001b[0m\u001b[1;33m.\u001b[0m\u001b[0mread_csv\u001b[0m\u001b[1;33m(\u001b[0m\u001b[0mtrain_csv\u001b[0m\u001b[1;33m)\u001b[0m\u001b[1;33m\u001b[0m\u001b[1;33m\u001b[0m\u001b[0m\n\u001b[0m\u001b[0;32m      4\u001b[0m \u001b[0mx_train\u001b[0m\u001b[1;33m,\u001b[0m \u001b[0mt_train\u001b[0m \u001b[1;33m=\u001b[0m \u001b[0mseq\u001b[0m\u001b[1;33m.\u001b[0m\u001b[0mshuffle\u001b[0m\u001b[1;33m(\u001b[0m\u001b[0mseed\u001b[0m\u001b[1;33m=\u001b[0m\u001b[1;36m1\u001b[0m\u001b[1;33m)\u001b[0m\u001b[1;33m\u001b[0m\u001b[1;33m\u001b[0m\u001b[0m\n\u001b[0;32m      5\u001b[0m \u001b[0mseq\u001b[0m\u001b[1;33m.\u001b[0m\u001b[0mread_csv\u001b[0m\u001b[1;33m(\u001b[0m\u001b[0mtest_csv\u001b[0m\u001b[1;33m,\u001b[0m \u001b[0mvocab_init\u001b[0m\u001b[1;33m=\u001b[0m\u001b[1;32mFalse\u001b[0m\u001b[1;33m)\u001b[0m\u001b[1;33m\u001b[0m\u001b[1;33m\u001b[0m\u001b[0m\n",
      "\u001b[1;31mNameError\u001b[0m: name 'train_csv' is not defined"
     ]
    }
   ],
   "source": [
    "# 最初から訓練データとテストデータが分かれているときはこっち\n",
    "seq = TextSequence()\n",
    "seq.read_csv(train_csv)\n",
    "x_train, t_train = seq.shuffle(seed=1)\n",
    "seq.read_csv(test_csv, vocab_init=False)\n",
    "x_test, t_test = seq.shuffle(seed=1)\n",
    "char_to_id, id_to_char = seq.vocab"
   ]
  },
  {
   "cell_type": "markdown",
   "metadata": {},
   "source": [
    "### ハイパーパラメータ設定とデータ前処理"
   ]
  },
  {
   "cell_type": "code",
   "execution_count": 10,
   "metadata": {},
   "outputs": [],
   "source": [
    "# ハイパーパラメータ\n",
    "vocab_size = len(char_to_id)\n",
    "wordvec_size = 128\n",
    "hidden_size = 128\n",
    "batch_size = 32\n",
    "max_epoch = 100\n",
    "max_grad = 5.0"
   ]
  },
  {
   "cell_type": "code",
   "execution_count": 8,
   "metadata": {},
   "outputs": [
    {
     "data": {
      "text/plain": [
       "428"
      ]
     },
     "execution_count": 8,
     "metadata": {},
     "output_type": "execute_result"
    }
   ],
   "source": [
    "vocab_size"
   ]
  },
  {
   "cell_type": "code",
   "execution_count": 9,
   "metadata": {},
   "outputs": [],
   "source": [
    "# データセット分割\n",
    "x_train, x_test, t_train, t_test = seq.split_data(seed=1, test_size=0.1)"
   ]
  },
  {
   "cell_type": "markdown",
   "metadata": {},
   "source": [
    "### model, optimizer, trainerインスタンス作成"
   ]
  },
  {
   "cell_type": "code",
   "execution_count": 12,
   "metadata": {},
   "outputs": [],
   "source": [
    "# モデル選択\n",
    "# model = Seq2seq(vocab_size, wordvec_size, hidden_size, ignore_index=seq.PAD_id)\n",
    "model = PeekySeq2seq(vocab_size, wordvec_size, hidden_size, ignore_index=seq.PAD_id)\n",
    "# model = AttentionSeq2seq(vocab_size, wordvec_size, hidden_size, ignore_index=seq.PAD_id)\n",
    "# model = Seq2seqBiLSTM(vocab_size, wordvec_size, hidden_size, ignore_index=seq.PAD_id)\n",
    "# model = PeekySeq2seqBiLSTM(vocab_size, wordvec_size, hidden_size, ignore_index=seq.PAD_id)\n",
    "# model = AttentionSeq2seqBiLSTM(vocab_size, wordvec_size, hidden_size, ignore_index=seq.PAD_id)"
   ]
  },
  {
   "cell_type": "code",
   "execution_count": 13,
   "metadata": {},
   "outputs": [],
   "source": [
    "# OptimizerとTrainerインスタンスの初期化\n",
    "optimizer = Adam()\n",
    "trainer = Trainer(model, optimizer)"
   ]
  },
  {
   "cell_type": "markdown",
   "metadata": {},
   "source": [
    "## 学習実行"
   ]
  },
  {
   "cell_type": "code",
   "execution_count": 14,
   "metadata": {
    "scrolled": false
   },
   "outputs": [
    {
     "name": "stdout",
     "output_type": "stream",
     "text": [
      "Target dataset:  interpretation_train43_and_test40_rev3\n",
      "Start training:\n",
      "model = PeekySeq2seq\n",
      "optimizer = Adam\n",
      "batch size = 32\n",
      "train epochs = 100\n",
      "| epoch 1 | time/total 7/7[s] | loss = 3.10640\n",
      "| epoch 1 | time/total 10/10[s] | train error = 1.00000\n",
      "| epoch 1 | time/total 11/11[s] | test error  = 1.00000\n",
      "| epoch 2 | time/total 7/18[s] | loss = 1.23393\n",
      "| epoch 2 | time/total 10/21[s] | train error = 1.00000\n",
      "| epoch 2 | time/total 10/21[s] | test error  = 1.00000\n",
      "| epoch 3 | time/total 7/29[s] | loss = 0.95056\n",
      "| epoch 3 | time/total 10/32[s] | train error = 1.00000\n",
      "| epoch 3 | time/total 10/32[s] | test error  = 1.00000\n",
      "| epoch 4 | time/total 7/40[s] | loss = 0.81592\n",
      "| epoch 4 | time/total 10/43[s] | train error = 1.00000\n",
      "| epoch 4 | time/total 11/44[s] | test error  = 1.00000\n",
      "| epoch 5 | time/total 7/51[s] | loss = 0.68799\n",
      "| epoch 5 | time/total 11/55[s] | train error = 0.93406\n",
      "| epoch 5 | time/total 11/55[s] | test error  = 0.90265\n",
      "| epoch 6 | time/total 7/63[s] | loss = 0.54342\n",
      "| epoch 7 | time/total 7/70[s] | loss = 0.41703\n",
      "| epoch 8 | time/total 7/78[s] | loss = 0.34011\n",
      "| epoch 9 | time/total 7/85[s] | loss = 0.29165\n",
      "| epoch 10 | time/total 7/93[s] | loss = 0.25480\n",
      "| epoch 10 | time/total 10/96[s] | train error = 0.87106\n",
      "| epoch 10 | time/total 11/96[s] | test error  = 0.88496\n",
      "| epoch 11 | time/total 7/104[s] | loss = 0.22899\n",
      "| epoch 12 | time/total 7/111[s] | loss = 0.20490\n",
      "| epoch 13 | time/total 7/119[s] | loss = 0.18594\n",
      "| epoch 14 | time/total 7/126[s] | loss = 0.16667\n",
      "| epoch 15 | time/total 7/134[s] | loss = 0.15094\n",
      "| epoch 16 | time/total 7/141[s] | loss = 0.14154\n",
      "| epoch 17 | time/total 7/149[s] | loss = 0.13112\n",
      "| epoch 18 | time/total 7/156[s] | loss = 0.12047\n",
      "| epoch 19 | time/total 7/164[s] | loss = 0.11067\n",
      "| epoch 20 | time/total 7/171[s] | loss = 0.10122\n",
      "| epoch 20 | time/total 10/174[s] | train error = 0.52461\n",
      "| epoch 20 | time/total 11/175[s] | test error  = 0.60177\n",
      "| epoch 21 | time/total 7/182[s] | loss = 0.09222\n",
      "| epoch 22 | time/total 7/190[s] | loss = 0.08791\n",
      "| epoch 23 | time/total 7/197[s] | loss = 0.07920\n",
      "| epoch 24 | time/total 7/205[s] | loss = 0.07367\n",
      "| epoch 25 | time/total 7/213[s] | loss = 0.06733\n",
      "| epoch 26 | time/total 8/221[s] | loss = 0.06418\n",
      "| epoch 27 | time/total 7/228[s] | loss = 0.05845\n",
      "| epoch 28 | time/total 7/236[s] | loss = 0.05885\n",
      "| epoch 29 | time/total 7/244[s] | loss = 0.06384\n",
      "| epoch 30 | time/total 7/252[s] | loss = 0.05103\n",
      "| epoch 30 | time/total 10/255[s] | train error = 0.28150\n",
      "| epoch 30 | time/total 11/255[s] | test error  = 0.33628\n",
      "| epoch 31 | time/total 7/263[s] | loss = 0.04499\n",
      "| epoch 32 | time/total 7/271[s] | loss = 0.04171\n",
      "| epoch 33 | time/total 7/278[s] | loss = 0.03821\n",
      "| epoch 34 | time/total 7/286[s] | loss = 0.03688\n",
      "| epoch 35 | time/total 7/294[s] | loss = 0.03362\n",
      "| epoch 36 | time/total 7/301[s] | loss = 0.03634\n",
      "| epoch 37 | time/total 7/309[s] | loss = 0.03050\n",
      "| epoch 38 | time/total 7/317[s] | loss = 0.02726\n",
      "| epoch 39 | time/total 7/325[s] | loss = 0.02477\n",
      "| epoch 40 | time/total 7/332[s] | loss = 0.02365\n",
      "| epoch 40 | time/total 10/336[s] | train error = 0.10630\n",
      "| epoch 40 | time/total 11/336[s] | test error  = 0.19469\n",
      "| epoch 41 | time/total 7/344[s] | loss = 0.02188\n",
      "| epoch 42 | time/total 7/351[s] | loss = 0.02035\n",
      "| epoch 43 | time/total 7/359[s] | loss = 0.02026\n",
      "| epoch 44 | time/total 7/366[s] | loss = 0.01942\n",
      "| epoch 45 | time/total 7/373[s] | loss = 0.01800\n",
      "| epoch 46 | time/total 7/381[s] | loss = 0.01618\n",
      "| epoch 47 | time/total 7/389[s] | loss = 0.01559\n",
      "| epoch 48 | time/total 7/397[s] | loss = 0.01381\n",
      "| epoch 49 | time/total 7/404[s] | loss = 0.01583\n",
      "| epoch 50 | time/total 7/412[s] | loss = 0.01492\n",
      "| epoch 50 | time/total 10/415[s] | train error = 0.07972\n",
      "| epoch 50 | time/total 11/415[s] | test error  = 0.18584\n",
      "| epoch 51 | time/total 7/423[s] | loss = 0.01305\n",
      "| epoch 52 | time/total 7/430[s] | loss = 0.01172\n",
      "| epoch 53 | time/total 7/438[s] | loss = 0.01174\n",
      "| epoch 54 | time/total 7/446[s] | loss = 0.01617\n",
      "| epoch 55 | time/total 7/453[s] | loss = 0.01416\n",
      "| epoch 56 | time/total 7/461[s] | loss = 0.01086\n",
      "| epoch 57 | time/total 7/468[s] | loss = 0.00921\n",
      "| epoch 58 | time/total 7/476[s] | loss = 0.00880\n",
      "| epoch 59 | time/total 7/484[s] | loss = 0.00895\n",
      "| epoch 60 | time/total 7/492[s] | loss = 0.00980\n",
      "| epoch 60 | time/total 11/495[s] | train error = 0.05610\n",
      "| epoch 60 | time/total 11/496[s] | test error  = 0.14159\n",
      "| epoch 61 | time/total 7/504[s] | loss = 0.01079\n",
      "| epoch 62 | time/total 7/511[s] | loss = 0.00787\n",
      "| epoch 63 | time/total 7/519[s] | loss = 0.00654\n",
      "| epoch 64 | time/total 7/526[s] | loss = 0.00599\n",
      "| epoch 65 | time/total 7/534[s] | loss = 0.00569\n",
      "| epoch 66 | time/total 7/541[s] | loss = 0.00530\n",
      "| epoch 67 | time/total 7/549[s] | loss = 0.00496\n",
      "| epoch 68 | time/total 7/556[s] | loss = 0.00469\n",
      "| epoch 69 | time/total 7/564[s] | loss = 0.00481\n",
      "| epoch 70 | time/total 7/571[s] | loss = 0.00458\n",
      "| epoch 70 | time/total 10/574[s] | train error = 0.01280\n",
      "| epoch 70 | time/total 11/575[s] | test error  = 0.09735\n",
      "| epoch 71 | time/total 7/582[s] | loss = 0.00445\n",
      "| epoch 72 | time/total 7/590[s] | loss = 0.00392\n",
      "| epoch 73 | time/total 7/597[s] | loss = 0.00438\n",
      "| epoch 74 | time/total 7/604[s] | loss = 0.00580\n",
      "| epoch 75 | time/total 7/612[s] | loss = 0.00653\n",
      "| epoch 76 | time/total 7/619[s] | loss = 0.00696\n",
      "| epoch 77 | time/total 7/627[s] | loss = 0.00538\n",
      "| epoch 78 | time/total 7/634[s] | loss = 0.00405\n",
      "| epoch 79 | time/total 7/642[s] | loss = 0.00332\n",
      "| epoch 80 | time/total 7/649[s] | loss = 0.00308\n",
      "| epoch 80 | time/total 10/653[s] | train error = 0.00492\n",
      "| epoch 80 | time/total 11/653[s] | test error  = 0.03540\n",
      "| epoch 81 | time/total 7/660[s] | loss = 0.00283\n",
      "| epoch 82 | time/total 7/668[s] | loss = 0.00259\n",
      "| epoch 83 | time/total 7/675[s] | loss = 0.00250\n",
      "| epoch 84 | time/total 7/683[s] | loss = 0.00230\n",
      "| epoch 85 | time/total 7/690[s] | loss = 0.00227\n",
      "| epoch 86 | time/total 7/698[s] | loss = 0.00209\n",
      "| epoch 87 | time/total 7/705[s] | loss = 0.00202\n",
      "| epoch 88 | time/total 7/713[s] | loss = 0.00191\n",
      "| epoch 89 | time/total 7/720[s] | loss = 0.00190\n",
      "| epoch 90 | time/total 7/728[s] | loss = 0.00178\n",
      "| epoch 90 | time/total 10/731[s] | train error = 0.00098\n",
      "| epoch 90 | time/total 11/731[s] | test error  = 0.04425\n",
      "| epoch 91 | time/total 7/739[s] | loss = 0.00156\n",
      "| epoch 92 | time/total 7/746[s] | loss = 0.00175\n",
      "| epoch 93 | time/total 7/754[s] | loss = 0.00401\n",
      "| epoch 94 | time/total 7/762[s] | loss = 0.00593\n",
      "| epoch 95 | time/total 7/769[s] | loss = 0.00598\n",
      "| epoch 96 | time/total 7/776[s] | loss = 0.00651\n",
      "| epoch 97 | time/total 7/784[s] | loss = 0.00473\n",
      "| epoch 98 | time/total 7/791[s] | loss = 0.00396\n",
      "| epoch 99 | time/total 7/799[s] | loss = 0.00308\n",
      "| epoch 100 | time/total 7/806[s] | loss = 0.00248\n",
      "| epoch 100 | time/total 10/810[s] | train error = 0.00197\n",
      "| epoch 100 | time/total 11/810[s] | test error  = 0.04425\n"
     ]
    }
   ],
   "source": [
    "# Train\n",
    "print(\"Target dataset: \", dataset_name)\n",
    "trainer.fit(x_train, t_train, x_test, t_test,\n",
    "            max_epoch=max_epoch,\n",
    "            batch_size=batch_size,\n",
    "            max_grad=max_grad)"
   ]
  },
  {
   "cell_type": "markdown",
   "metadata": {},
   "source": [
    "## 推論"
   ]
  },
  {
   "cell_type": "code",
   "execution_count": 15,
   "metadata": {
    "scrolled": false
   },
   "outputs": [],
   "source": [
    "# Inference\n",
    "start_id = seq.start_id\n",
    "sample_size = seq.sample_size\n",
    "guess_train = model.generate(x_train, start_id, sample_size)\n",
    "guess_test = model.generate(x_test, start_id, sample_size)"
   ]
  },
  {
   "cell_type": "markdown",
   "metadata": {},
   "source": [
    "## 結果の保存"
   ]
  },
  {
   "cell_type": "code",
   "execution_count": 16,
   "metadata": {},
   "outputs": [],
   "source": [
    "# 保存ファイルのファイル名生成\n",
    "modelname = model.__class__.__name__\n",
    "timestamp = datetime.now().strftime(\"_%y%m%d_%H%M\")\n",
    "save_dir = result_dir / (dataset_name + timestamp)\n",
    "os.makedirs(save_dir, exist_ok=True)"
   ]
  },
  {
   "cell_type": "code",
   "execution_count": 17,
   "metadata": {},
   "outputs": [
    {
     "name": "stdout",
     "output_type": "stream",
     "text": [
      "Accuracy: 0.9980314960629921\n",
      "Accuracy: 0.9557522123893806\n"
     ]
    }
   ],
   "source": [
    "# Save result as csv\n",
    "result_train_csv = save_dir /  (\"result_\" + dataset_name + \"_\" + modelname + \"_train.csv\")\n",
    "result_test_csv = save_dir / (\"result_\" + dataset_name + \"_\" + modelname + \"_test.csv\")\n",
    "df_result_train = seq.result_to_csv(result_train_csv, x_train, t_train, guess_train, encoding=encoding)\n",
    "df_result_test = seq.result_to_csv(result_test_csv, x_test, t_test, guess_test, encoding=encoding)"
   ]
  },
  {
   "cell_type": "code",
   "execution_count": 18,
   "metadata": {},
   "outputs": [
    {
     "name": "stdout",
     "output_type": "stream",
     "text": [
      "Accuracy: 0.9980314960629921\n",
      "Accuracy: 0.9557522123893806\n"
     ]
    }
   ],
   "source": [
    "# Save result as csv as utf-8 with BOM\n",
    "result_train_csv = save_dir /  (\"result_\" + dataset_name + \"_\" + modelname + \"_train_bom.csv\")\n",
    "result_test_csv = save_dir / (\"result_\" + dataset_name + \"_\" + modelname + \"_test_bom.csv\")\n",
    "df_result_train = seq.result_to_csv(result_train_csv, x_train, t_train, guess_train, encoding=\"utf_8_sig\")\n",
    "df_result_test = seq.result_to_csv(result_test_csv, x_test, t_test, guess_test, encoding=\"utf_8_sig\")"
   ]
  },
  {
   "cell_type": "code",
   "execution_count": 19,
   "metadata": {
    "scrolled": true
   },
   "outputs": [
    {
     "data": {
      "text/plain": [
       "41"
      ]
     },
     "execution_count": 19,
     "metadata": {},
     "output_type": "execute_result"
    }
   ],
   "source": [
    "sample_size"
   ]
  },
  {
   "cell_type": "code",
   "execution_count": 20,
   "metadata": {
    "scrolled": true
   },
   "outputs": [
    {
     "data": {
      "image/png": "[encoded data removed]",
      "text/plain": [
       "<Figure size 432x288 with 2 Axes>"
      ]
     },
     "metadata": {},
     "output_type": "display_data"
    }
   ],
   "source": [
    "# Plot learning curve and save it as png image\n",
    "image_path = save_dir / ('result_' + dataset_name + \"_\" + modelname + '.png')\n",
    "trainer.plot(image_path=image_path, log_scale=False)"
   ]
  },
  {
   "cell_type": "code",
   "execution_count": 21,
   "metadata": {},
   "outputs": [],
   "source": [
    "# Save parameters\n",
    "pickle_path = model_dir / (dataset_name + \"_\" + modelname + '_V' + str(vocab_size) + '_D' + str(wordvec_size) + '_H' + str(hidden_size) + timestamp + '.pkl')\n",
    "model.save_params(file_name=pickle_path)"
   ]
  },
  {
   "cell_type": "code",
   "execution_count": 23,
   "metadata": {},
   "outputs": [],
   "source": [
    "target_csv = dataset_dir / \"Test.csv\""
   ]
  },
  {
   "cell_type": "code",
   "execution_count": 24,
   "metadata": {},
   "outputs": [],
   "source": [
    "# 推論対象のデータセットを読み込み\n",
    "x_target, t_target = seq.read_csv(target_csv, vocab_update=False)"
   ]
  },
  {
   "cell_type": "code",
   "execution_count": 25,
   "metadata": {},
   "outputs": [],
   "source": [
    "guess = model.generate(x_target, start_id, sample_size)"
   ]
  },
  {
   "cell_type": "code",
   "execution_count": 27,
   "metadata": {},
   "outputs": [
    {
     "name": "stdout",
     "output_type": "stream",
     "text": [
      "Accuracy: 0.5652173913043478\n"
     ]
    }
   ],
   "source": [
    "result_train_csv = save_dir /  (\"result_\" + target_csv.stem + \"_\" + modelname + \"_bom.csv\")\n",
    "df_result = seq.result_to_csv(result_train_csv, x_target, t_target, guess, encoding=\"utf_8_sig\")"
   ]
  },
  {
   "cell_type": "markdown",
   "metadata": {},
   "source": [
    "## 確信度の取得"
   ]
  },
  {
   "cell_type": "code",
   "execution_count": 177,
   "metadata": {},
   "outputs": [],
   "source": [
    "model.load_params(file_name=str(pickle_path))"
   ]
  },
  {
   "cell_type": "code",
   "execution_count": 484,
   "metadata": {
    "scrolled": true
   },
   "outputs": [],
   "source": [
    "# Inference with certainty factor\n",
    "start_id = seq.start_id\n",
    "sample_size = seq.sample_size\n",
    "guess_train, cf_train = model.generate_with_cf(x_train, start_id, sample_size)\n",
    "guess_test, cf_test = model.generate_with_cf(x_test, start_id, sample_size)"
   ]
  },
  {
   "cell_type": "code",
   "execution_count": 485,
   "metadata": {},
   "outputs": [],
   "source": [
    "# 保存ファイルのファイル名生成\n",
    "modelname = model.__class__.__name__\n",
    "timestamp = datetime.now().strftime(\"_%y%m%d_%H%M\")\n",
    "save_dir = result_dir / (dataset_name + timestamp)\n",
    "os.makedirs(save_dir, exist_ok=True)"
   ]
  },
  {
   "cell_type": "code",
   "execution_count": 488,
   "metadata": {
    "scrolled": false
   },
   "outputs": [
    {
     "name": "stdout",
     "output_type": "stream",
     "text": [
      "Accuracy: 0.898471615720524\n",
      "Accuracy: 0.8627450980392157\n"
     ]
    }
   ],
   "source": [
    "# Save result as csv\n",
    "result_train_csv = save_dir /  (\"result_\" + dataset_name + \"_\" + modelname + \"_train.csv\")\n",
    "result_test_csv = save_dir / (\"result_\" + dataset_name + \"_\" + modelname + \"_test.csv\")\n",
    "df_result_train = seq.result_to_csv(result_train_csv, x_train, t_train, guess_train, cf=cf_train, encoding=encoding)\n",
    "df_result_test = seq.result_to_csv(result_test_csv, x_test, t_test, guess_test, cf=cf_test, encoding=encoding)"
   ]
  },
  {
   "cell_type": "code",
   "execution_count": 109,
   "metadata": {},
   "outputs": [],
   "source": [
    "def cf_filter(df):\n",
    "    for factor in np.arange(0.90, 1.00, 0.01):\n",
    "        print(\"cf={:.2f}\".format(factor))\n",
    "        print(\" correct   :\", df.query('correct == 1 and cf < {}'.format(factor)).shape[0])\n",
    "        print(\" incorrect :\", df.query('correct == 0 and cf < {}'.format(factor)).shape[0])"
   ]
  },
  {
   "cell_type": "code",
   "execution_count": 342,
   "metadata": {
    "scrolled": false
   },
   "outputs": [
    {
     "name": "stdout",
     "output_type": "stream",
     "text": [
      "cf=0.90\n",
      " correct   : 4\n",
      " incorrect : 5\n",
      "cf=0.91\n",
      " correct   : 4\n",
      " incorrect : 5\n",
      "cf=0.92\n",
      " correct   : 5\n",
      " incorrect : 5\n",
      "cf=0.93\n",
      " correct   : 7\n",
      " incorrect : 7\n",
      "cf=0.94\n",
      " correct   : 7\n",
      " incorrect : 7\n",
      "cf=0.95\n",
      " correct   : 12\n",
      " incorrect : 16\n",
      "cf=0.96\n",
      " correct   : 19\n",
      " incorrect : 20\n",
      "cf=0.97\n",
      " correct   : 40\n",
      " incorrect : 30\n",
      "cf=0.98\n",
      " correct   : 93\n",
      " incorrect : 56\n",
      "cf=0.99\n",
      " correct   : 223\n",
      " incorrect : 80\n"
     ]
    }
   ],
   "source": [
    "cf_filter(df_result_train)"
   ]
  },
  {
   "cell_type": "code",
   "execution_count": 277,
   "metadata": {
    "scrolled": true
   },
   "outputs": [
    {
     "name": "stdout",
     "output_type": "stream",
     "text": [
      "cf=0.90\n",
      " correct   : 0\n",
      " incorrect : 0\n",
      "cf=0.91\n",
      " correct   : 0\n",
      " incorrect : 0\n",
      "cf=0.92\n",
      " correct   : 0\n",
      " incorrect : 0\n",
      "cf=0.93\n",
      " correct   : 0\n",
      " incorrect : 0\n",
      "cf=0.94\n",
      " correct   : 0\n",
      " incorrect : 0\n",
      "cf=0.95\n",
      " correct   : 0\n",
      " incorrect : 0\n",
      "cf=0.96\n",
      " correct   : 0\n",
      " incorrect : 0\n",
      "cf=0.97\n",
      " correct   : 0\n",
      " incorrect : 0\n",
      "cf=0.98\n",
      " correct   : 0\n",
      " incorrect : 0\n",
      "cf=0.99\n",
      " correct   : 88\n",
      " incorrect : 14\n"
     ]
    }
   ],
   "source": [
    "cf_filter(df_result_test)"
   ]
  },
  {
   "cell_type": "code",
   "execution_count": 430,
   "metadata": {
    "scrolled": true
   },
   "outputs": [
    {
     "data": {
      "text/plain": [
       "1    823\n",
       "0     93\n",
       "Name: correct, dtype: int64"
      ]
     },
     "execution_count": 430,
     "metadata": {},
     "output_type": "execute_result"
    }
   ],
   "source": [
    "corrects = df_result_train['correct'].value_counts()\n",
    "corrects"
   ]
  },
  {
   "cell_type": "code",
   "execution_count": 196,
   "metadata": {},
   "outputs": [],
   "source": [
    "def accuracy(df, cf):\n",
    "    df_passed = df.query('cf > {}'.format(cf))\n",
    "    if len(df_passed) > 0:\n",
    "        nb_corrects = df_passed['correct'].value_counts()[1]\n",
    "        return nb_corrects / len(df_passed)\n",
    "    else:\n",
    "        return 0"
   ]
  },
  {
   "cell_type": "code",
   "execution_count": 135,
   "metadata": {},
   "outputs": [],
   "source": [
    "def passing_rate(df, cf):\n",
    "    nb_passing = len(df.query('cf >= {}'.format(cf)))\n",
    "    return nb_passing / len(df)"
   ]
  },
  {
   "cell_type": "code",
   "execution_count": 526,
   "metadata": {
    "scrolled": false
   },
   "outputs": [
    {
     "data": {
      "text/plain": [
       "0.9827586206896551"
      ]
     },
     "execution_count": 526,
     "metadata": {},
     "output_type": "execute_result"
    }
   ],
   "source": [
    "accuracy(df_result_test, 0.992)"
   ]
  },
  {
   "cell_type": "code",
   "execution_count": 527,
   "metadata": {},
   "outputs": [
    {
     "data": {
      "text/plain": [
       "0.5686274509803921"
      ]
     },
     "execution_count": 527,
     "metadata": {},
     "output_type": "execute_result"
    }
   ],
   "source": [
    "passing_rate(df_result_test, 0.992)"
   ]
  },
  {
   "cell_type": "code",
   "execution_count": 489,
   "metadata": {},
   "outputs": [],
   "source": [
    "def accuracy_by_cf(df):\n",
    "    acc_list = []\n",
    "    pr_list = []\n",
    "    for cf in np.arange(0.90, 1.00, 0.001):\n",
    "#         print(\"cf={:.2f}\".format(cf))\n",
    "        acc = accuracy(df, cf)\n",
    "        pr  = passing_rate(df, cf)\n",
    "#         print(\"  Accuracy     :\", acc)\n",
    "#         print(\"  Passing rate :\", pr)\n",
    "        acc_list.append(acc)\n",
    "        pr_list.append(pr)\n",
    "    return acc_list, pr_list"
   ]
  },
  {
   "cell_type": "code",
   "execution_count": 490,
   "metadata": {
    "scrolled": true
   },
   "outputs": [],
   "source": [
    "acc_train, pr_train = accuracy_by_cf(df_result_train)"
   ]
  },
  {
   "cell_type": "code",
   "execution_count": 491,
   "metadata": {},
   "outputs": [],
   "source": [
    "acc_test, pr_test = accuracy_by_cf(df_result_test)"
   ]
  },
  {
   "cell_type": "code",
   "execution_count": 469,
   "metadata": {},
   "outputs": [
    {
     "data": {
      "text/plain": [
       "[]"
      ]
     },
     "execution_count": 469,
     "metadata": {},
     "output_type": "execute_result"
    },
    {
     "data": {
      "image/png": "[encoded data removed]",
      "text/plain": [
       "<Figure size 432x288 with 1 Axes>"
      ]
     },
     "metadata": {
      "needs_background": "light"
     },
     "output_type": "display_data"
    }
   ],
   "source": [
    "x = np.arange(0.90, 1.00, 0.001)\n",
    "fig, ax = plt.subplots()\n",
    "color_acc = 'orange'\n",
    "color_pr = 'blue'\n",
    "ax.plot(x, acc_train, color=color_acc, label='train accuracy')\n",
    "ax.plot(x, pr_train, color=color_pr, label='train passing rate')\n",
    "ax.plot(x, acc_test, color=color_acc, linestyle='dashed', label='test accuracy')\n",
    "ax.plot(x, pr_test, color=color_pr, linestyle='dashed', label='test passing rate')\n",
    "ax.grid(True)\n",
    "plt.xlabel('certainty factor')\n",
    "ax.set_ylim(0.7, 1.01)\n",
    "ax.legend()\n",
    "plt.savefig('./accuracy_and_passing-rate.png')\n",
    "plt.plot()"
   ]
  },
  {
   "cell_type": "code",
   "execution_count": null,
   "metadata": {},
   "outputs": [],
   "source": []
  }
 ],
 "metadata": {
  "hide_input": false,
  "kernelspec": {
   "display_name": "Python 3",
   "language": "python",
   "name": "python3"
  },
  "language_info": {
   "codemirror_mode": {
    "name": "ipython",
    "version": 3
   },
   "file_extension": ".py",
   "mimetype": "text/x-python",
   "name": "python",
   "nbconvert_exporter": "python",
   "pygments_lexer": "ipython3",
   "version": "3.6.2"
  },
  "toc": {
   "base_numbering": 1,
   "nav_menu": {},
   "number_sections": false,
   "sideBar": true,
   "skip_h1_title": true,
   "title_cell": "Table of Contents",
   "title_sidebar": "Contents",
   "toc_cell": true,
   "toc_position": {},
   "toc_section_display": true,
   "toc_window_display": true
  }
 },
 "nbformat": 4,
 "nbformat_minor": 2
}
