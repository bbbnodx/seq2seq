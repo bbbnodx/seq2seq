{
 "cells": [
  {
   "cell_type": "markdown",
   "metadata": {
    "toc": true
   },
   "source": [
    "<h1>Table of Contents<span class=\"tocSkip\"></span></h1>\n",
    "<div class=\"toc\"><ul class=\"toc-item\"><li><span><a href=\"#前処理\" data-toc-modified-id=\"前処理-1\" data-vivaldi-spatnav-clickable=\"1\">前処理</a></span><ul class=\"toc-item\"><li><span><a href=\"#データセット読み込みと文字IDベクトルへの変換\" data-toc-modified-id=\"データセット読み込みと文字IDベクトルへの変換-1.1\" data-vivaldi-spatnav-clickable=\"1\">データセット読み込みと文字IDベクトルへの変換</a></span></li><li><span><a href=\"#ハイパーパラメータ設定とデータ前処理\" data-toc-modified-id=\"ハイパーパラメータ設定とデータ前処理-1.2\" data-vivaldi-spatnav-clickable=\"1\">ハイパーパラメータ設定とデータ前処理</a></span></li><li><span><a href=\"#model,-optimizer,-trainerインスタンス作成\" data-toc-modified-id=\"model,-optimizer,-trainerインスタンス作成-1.3\" data-vivaldi-spatnav-clickable=\"1\">model, optimizer, trainerインスタンス作成</a></span></li></ul></li><li><span><a href=\"#学習実行\" data-toc-modified-id=\"学習実行-2\" data-vivaldi-spatnav-clickable=\"1\">学習実行</a></span></li><li><span><a href=\"#推論\" data-toc-modified-id=\"推論-3\" data-vivaldi-spatnav-clickable=\"1\">推論</a></span></li><li><span><a href=\"#結果の保存\" data-toc-modified-id=\"結果の保存-4\" data-vivaldi-spatnav-clickable=\"1\">結果の保存</a></span></li><li><span><a href=\"#確信度の取得\" data-toc-modified-id=\"確信度の取得-5\" data-vivaldi-spatnav-clickable=\"1\">確信度の取得</a></span></li></ul></div>"
   ]
  },
  {
   "cell_type": "markdown",
   "metadata": {},
   "source": [
    "# seq2seqモデルの学習と結果の保存"
   ]
  },
  {
   "cell_type": "markdown",
   "metadata": {},
   "source": [
    "ディレクトリ構成：  \n",
    "```\n",
    "./\n",
    "├dataset/\n",
    "│   └(読み込むCSVファイル)\n",
    "├models/\n",
    "│   └(モデルパラメータキャッシュファイル)\n",
    "├notebooks/\n",
    "│   └train_seq2seq.ipynb(このファイル)\n",
    "├results/\n",
    "│   └(実行結果CSVと学習曲線グラフ画像)\n",
    "└src/\n",
    "   ├common/\n",
    "   │ └(共用クラス、関数)\n",
    "   ├data/\n",
    "   │ └(データ読み書き用コード)\n",
    "   ├attention_layer.py\n",
    "   ├attention_seq2seq.py\n",
    "   ├peeky_seq2seq.py\n",
    "   └seq2seq.py\n",
    "```"
   ]
  },
  {
   "cell_type": "code",
   "execution_count": 109,
   "metadata": {},
   "outputs": [
    {
     "name": "stdout",
     "output_type": "stream",
     "text": [
      "Once deleted, variables cannot be recovered. Proceed (y/[n])? y\n"
     ]
    }
   ],
   "source": [
    "# 変数の全消去\n",
    "%reset"
   ]
  },
  {
   "cell_type": "code",
   "execution_count": 1,
   "metadata": {},
   "outputs": [],
   "source": [
    "# coding: utf-8\n",
    "import sys\n",
    "sys.path.append(\"../src\")\n",
    "import os\n",
    "import numpy as np\n",
    "import pandas as pd\n",
    "import matplotlib.pyplot as plt\n",
    "from pathlib import Path\n",
    "from datetime import datetime\n",
    "from data.sequence import TextSequence\n",
    "from common.optimizer import Adam\n",
    "from common.trainer import Trainer\n",
    "from seq2seq import Seq2seq, Seq2seqBiLSTM\n",
    "from peeky_seq2seq import PeekySeq2seq, PeekySeq2seqBiLSTM\n",
    "from attention_seq2seq import AttentionSeq2seq, AttentionSeq2seqBiLSTM"
   ]
  },
  {
   "cell_type": "code",
   "execution_count": 2,
   "metadata": {},
   "outputs": [],
   "source": [
    "# matplotlibのインライン表示\n",
    "%matplotlib inline\n",
    "# モジュールの更新時に自動で再読み込み\n",
    "%reload_ext autoreload\n",
    "%autoreload 2"
   ]
  },
  {
   "cell_type": "code",
   "execution_count": 3,
   "metadata": {},
   "outputs": [],
   "source": [
    "# ディレクトリパスの設定\n",
    "dataset_dir =Path('../dataset')\n",
    "result_dir = Path('../results')\n",
    "model_dir = Path('../models')"
   ]
  },
  {
   "cell_type": "code",
   "execution_count": 4,
   "metadata": {},
   "outputs": [],
   "source": [
    "# ファイルパスの設定\n",
    "# 最初に全てのデータセットを読み込み、ボキャブラリ辞書を作成する\n",
    "vocab_csv = [dataset_dir / \"translator_gene-con_rev3.csv\", dataset_dir / \"translator_tori_rev2.csv\"]\n",
    "source_csv = dataset_dir / \"translator_gene-con_rev3.csv\"\n",
    "# source_csv = dataset_dir / \"translator_tori_rev2.csv\"\n",
    "dataset_name = source_csv.stem\n",
    "encoding = \"utf-8\""
   ]
  },
  {
   "cell_type": "markdown",
   "metadata": {},
   "source": [
    "## 前処理\n",
    "### データセット読み込みと文字IDベクトルへの変換"
   ]
  },
  {
   "cell_type": "code",
   "execution_count": 5,
   "metadata": {
    "scrolled": false
   },
   "outputs": [],
   "source": [
    "# 全てのデータセットを読み込み、Vocabularyを作成する\n",
    "seq = TextSequence()\n",
    "for path in vocab_csv:\n",
    "    seq.read_csv(path)\n",
    "char_to_id, id_to_char = seq.vocab"
   ]
  },
  {
   "cell_type": "code",
   "execution_count": 6,
   "metadata": {
    "scrolled": true
   },
   "outputs": [
    {
     "data": {
      "text/plain": [
       "(array([[  4,   5,   6, ...,   0,   0,   0],\n",
       "        [  4,   5,   6, ...,   0,   0,   0],\n",
       "        [  4,  15,   5, ...,  26,  27,   7],\n",
       "        ...,\n",
       "        [123, 124,  24, ...,   0,   0,   0],\n",
       "        [123, 124,  24, ...,   0,   0,   0],\n",
       "        [123, 124,  24, ...,   0,   0,   0]]),\n",
       " array([[ 1,  8, 21, ...,  0,  0,  0],\n",
       "        [ 1,  8, 21, ...,  0,  0,  0],\n",
       "        [ 1,  8, 21, ..., 23, 12,  2],\n",
       "        ...,\n",
       "        [ 1, 17, 10, ...,  0,  0,  0],\n",
       "        [ 1, 17, 10, ...,  0,  0,  0],\n",
       "        [ 1, 17, 10, ...,  0,  0,  0]]))"
      ]
     },
     "execution_count": 6,
     "metadata": {},
     "output_type": "execute_result"
    }
   ],
   "source": [
    "# 学習対象のデータセットを読み込み\n",
    "seq.read_csv(source_csv)"
   ]
  },
  {
   "cell_type": "markdown",
   "metadata": {},
   "source": [
    "### ハイパーパラメータ設定とデータ前処理"
   ]
  },
  {
   "cell_type": "code",
   "execution_count": 7,
   "metadata": {},
   "outputs": [],
   "source": [
    "# ハイパーパラメータ\n",
    "vocab_size = len(char_to_id)\n",
    "wordvec_size = 128\n",
    "hidden_size = 128\n",
    "batch_size = 32\n",
    "max_epoch = 150\n",
    "max_grad = 5.0"
   ]
  },
  {
   "cell_type": "code",
   "execution_count": 8,
   "metadata": {},
   "outputs": [
    {
     "data": {
      "text/plain": [
       "428"
      ]
     },
     "execution_count": 8,
     "metadata": {},
     "output_type": "execute_result"
    }
   ],
   "source": [
    "vocab_size"
   ]
  },
  {
   "cell_type": "code",
   "execution_count": 9,
   "metadata": {},
   "outputs": [],
   "source": [
    "# データセット分割\n",
    "x_train, x_test, t_train, t_test = seq.split_data(seed=1, test_size=0.1)"
   ]
  },
  {
   "cell_type": "markdown",
   "metadata": {},
   "source": [
    "### model, optimizer, trainerインスタンス作成"
   ]
  },
  {
   "cell_type": "code",
   "execution_count": 10,
   "metadata": {},
   "outputs": [],
   "source": [
    "# モデル選択\n",
    "# model = Seq2seq(vocab_size, wordvec_size, hidden_size)\n",
    "model = PeekySeq2seq(vocab_size, wordvec_size, hidden_size)\n",
    "# model = AttentionSeq2seq(vocab_size, wordvec_size, hidden_size)\n",
    "# model = Seq2seqBiLSTM(vocab_size, wordvec_size, hidden_size)\n",
    "# model = PeekySeq2seqBiLSTM(vocab_size, wordvec_size, hidden_size)\n",
    "# model = AttentionSeq2seqBiLSTM(vocab_size, wordvec_size, hidden_size)"
   ]
  },
  {
   "cell_type": "code",
   "execution_count": 11,
   "metadata": {},
   "outputs": [],
   "source": [
    "# OptimizerとTrainerインスタンスの初期化\n",
    "optimizer = Adam()\n",
    "trainer = Trainer(model, optimizer)"
   ]
  },
  {
   "cell_type": "markdown",
   "metadata": {},
   "source": [
    "## 学習実行"
   ]
  },
  {
   "cell_type": "code",
   "execution_count": 12,
   "metadata": {
    "scrolled": false
   },
   "outputs": [
    {
     "name": "stdout",
     "output_type": "stream",
     "text": [
      "Target dataset: translator_gene-con_rev3\n",
      "Start training:\n",
      "model = PeekySeq2seq\n",
      "optimizer = Adam\n",
      "batch size = 32\n",
      "train epochs = 150\n",
      "| epoch 1 | time/total 7/7[s] | loss = 3.28555\n",
      "| epoch 1 | time/total 10/10[s] | train error = 1.00000\n",
      "| epoch 1 | time/total 11/11[s] | test error  = 1.00000\n",
      "| epoch 2 | time/total 7/19[s] | loss = 1.19909\n",
      "| epoch 2 | time/total 10/22[s] | train error = 1.00000\n",
      "| epoch 2 | time/total 11/22[s] | test error  = 1.00000\n",
      "| epoch 3 | time/total 7/30[s] | loss = 0.93291\n",
      "| epoch 3 | time/total 10/33[s] | train error = 1.00000\n",
      "| epoch 3 | time/total 11/34[s] | test error  = 1.00000\n",
      "| epoch 4 | time/total 7/41[s] | loss = 0.80377\n",
      "| epoch 4 | time/total 11/45[s] | train error = 1.00000\n",
      "| epoch 4 | time/total 11/45[s] | test error  = 1.00000\n",
      "| epoch 5 | time/total 7/53[s] | loss = 0.66310\n",
      "| epoch 5 | time/total 11/56[s] | train error = 0.93406\n",
      "| epoch 5 | time/total 11/57[s] | test error  = 0.90265\n",
      "| epoch 6 | time/total 7/64[s] | loss = 0.52690\n",
      "| epoch 7 | time/total 7/72[s] | loss = 0.41646\n",
      "| epoch 8 | time/total 8/80[s] | loss = 0.34969\n",
      "| epoch 9 | time/total 7/88[s] | loss = 0.29789\n",
      "| epoch 10 | time/total 7/95[s] | loss = 0.26252\n",
      "| epoch 10 | time/total 10/99[s] | train error = 0.80906\n",
      "| epoch 10 | time/total 11/99[s] | test error  = 0.85841\n",
      "| epoch 11 | time/total 7/107[s] | loss = 0.22877\n",
      "| epoch 12 | time/total 7/115[s] | loss = 0.20316\n",
      "| epoch 13 | time/total 7/122[s] | loss = 0.17992\n",
      "| epoch 14 | time/total 7/130[s] | loss = 0.17106\n",
      "| epoch 15 | time/total 7/138[s] | loss = 0.15783\n",
      "| epoch 16 | time/total 7/145[s] | loss = 0.14517\n",
      "| epoch 17 | time/total 7/153[s] | loss = 0.13190\n",
      "| epoch 18 | time/total 7/161[s] | loss = 0.12728\n",
      "| epoch 19 | time/total 7/168[s] | loss = 0.11516\n",
      "| epoch 20 | time/total 7/176[s] | loss = 0.10500\n",
      "| epoch 20 | time/total 10/179[s] | train error = 0.61614\n",
      "| epoch 20 | time/total 11/180[s] | test error  = 0.69912\n",
      "| epoch 21 | time/total 7/187[s] | loss = 0.09697\n",
      "| epoch 22 | time/total 8/195[s] | loss = 0.09027\n",
      "| epoch 23 | time/total 7/203[s] | loss = 0.08335\n",
      "| epoch 24 | time/total 8/211[s] | loss = 0.07765\n",
      "| epoch 25 | time/total 7/219[s] | loss = 0.07258\n",
      "| epoch 26 | time/total 7/227[s] | loss = 0.07003\n",
      "| epoch 27 | time/total 8/235[s] | loss = 0.06416\n",
      "| epoch 28 | time/total 7/243[s] | loss = 0.06101\n",
      "| epoch 29 | time/total 7/251[s] | loss = 0.05786\n",
      "| epoch 30 | time/total 7/258[s] | loss = 0.05344\n",
      "| epoch 30 | time/total 10/262[s] | train error = 0.34252\n",
      "| epoch 30 | time/total 11/262[s] | test error  = 0.43363\n",
      "| epoch 31 | time/total 7/270[s] | loss = 0.04962\n",
      "| epoch 32 | time/total 7/277[s] | loss = 0.04413\n",
      "| epoch 33 | time/total 7/285[s] | loss = 0.04435\n",
      "| epoch 34 | time/total 7/293[s] | loss = 0.04271\n",
      "| epoch 35 | time/total 7/301[s] | loss = 0.03847\n",
      "| epoch 36 | time/total 8/309[s] | loss = 0.03666\n",
      "| epoch 37 | time/total 8/317[s] | loss = 0.03289\n",
      "| epoch 38 | time/total 7/325[s] | loss = 0.03281\n",
      "| epoch 39 | time/total 7/333[s] | loss = 0.03067\n",
      "| epoch 40 | time/total 7/340[s] | loss = 0.02933\n",
      "| epoch 40 | time/total 10/344[s] | train error = 0.17323\n",
      "| epoch 40 | time/total 11/344[s] | test error  = 0.28319\n",
      "| epoch 41 | time/total 7/352[s] | loss = 0.02692\n",
      "| epoch 42 | time/total 7/360[s] | loss = 0.02660\n",
      "| epoch 43 | time/total 7/367[s] | loss = 0.02410\n",
      "| epoch 44 | time/total 7/375[s] | loss = 0.02227\n",
      "| epoch 45 | time/total 7/383[s] | loss = 0.02071\n",
      "| epoch 46 | time/total 7/390[s] | loss = 0.02141\n",
      "| epoch 47 | time/total 7/398[s] | loss = 0.01740\n",
      "| epoch 48 | time/total 7/406[s] | loss = 0.01682\n",
      "| epoch 49 | time/total 7/414[s] | loss = 0.01867\n",
      "| epoch 50 | time/total 7/421[s] | loss = 0.01689\n",
      "| epoch 50 | time/total 11/425[s] | train error = 0.07874\n",
      "| epoch 50 | time/total 11/425[s] | test error  = 0.16814\n",
      "| epoch 51 | time/total 8/433[s] | loss = 0.01431\n",
      "| epoch 52 | time/total 7/441[s] | loss = 0.01345\n",
      "| epoch 53 | time/total 7/449[s] | loss = 0.01267\n",
      "| epoch 54 | time/total 7/457[s] | loss = 0.01298\n",
      "| epoch 55 | time/total 7/464[s] | loss = 0.01149\n",
      "| epoch 56 | time/total 7/472[s] | loss = 0.01079\n",
      "| epoch 57 | time/total 7/480[s] | loss = 0.00984\n",
      "| epoch 58 | time/total 7/488[s] | loss = 0.00915\n",
      "| epoch 59 | time/total 7/495[s] | loss = 0.00839\n",
      "| epoch 60 | time/total 8/504[s] | loss = 0.01041\n",
      "| epoch 60 | time/total 11/507[s] | train error = 0.14961\n",
      "| epoch 60 | time/total 12/507[s] | test error  = 0.23894\n",
      "| epoch 61 | time/total 7/515[s] | loss = 0.01971\n",
      "| epoch 62 | time/total 7/523[s] | loss = 0.01690\n",
      "| epoch 63 | time/total 8/531[s] | loss = 0.01077\n",
      "| epoch 64 | time/total 7/539[s] | loss = 0.00793\n",
      "| epoch 65 | time/total 7/547[s] | loss = 0.00683\n",
      "| epoch 66 | time/total 7/555[s] | loss = 0.00623\n",
      "| epoch 67 | time/total 7/563[s] | loss = 0.00571\n",
      "| epoch 68 | time/total 7/570[s] | loss = 0.00530\n",
      "| epoch 69 | time/total 7/578[s] | loss = 0.00527\n",
      "| epoch 70 | time/total 7/586[s] | loss = 0.00486\n",
      "| epoch 70 | time/total 11/589[s] | train error = 0.00984\n",
      "| epoch 70 | time/total 11/590[s] | test error  = 0.07965\n",
      "| epoch 71 | time/total 7/598[s] | loss = 0.00455\n",
      "| epoch 72 | time/total 7/606[s] | loss = 0.00449\n",
      "| epoch 73 | time/total 7/614[s] | loss = 0.00414\n",
      "| epoch 74 | time/total 7/622[s] | loss = 0.00389\n",
      "| epoch 75 | time/total 7/630[s] | loss = 0.00358\n",
      "| epoch 76 | time/total 7/637[s] | loss = 0.00355\n",
      "| epoch 77 | time/total 7/645[s] | loss = 0.00337\n",
      "| epoch 78 | time/total 7/653[s] | loss = 0.00317\n",
      "| epoch 79 | time/total 7/661[s] | loss = 0.00294\n",
      "| epoch 80 | time/total 7/669[s] | loss = 0.00287\n",
      "| epoch 80 | time/total 11/672[s] | train error = 0.00492\n",
      "| epoch 80 | time/total 11/672[s] | test error  = 0.06195\n",
      "| epoch 81 | time/total 7/680[s] | loss = 0.00282\n",
      "| epoch 82 | time/total 7/688[s] | loss = 0.00277\n",
      "| epoch 83 | time/total 7/696[s] | loss = 0.00254\n",
      "| epoch 84 | time/total 7/704[s] | loss = 0.00247\n",
      "| epoch 85 | time/total 7/711[s] | loss = 0.00268\n",
      "| epoch 86 | time/total 7/719[s] | loss = 0.00315\n",
      "| epoch 87 | time/total 7/727[s] | loss = 0.00267\n",
      "| epoch 88 | time/total 7/735[s] | loss = 0.00308\n",
      "| epoch 89 | time/total 7/742[s] | loss = 0.00931\n",
      "| epoch 90 | time/total 7/750[s] | loss = 0.00822\n",
      "| epoch 90 | time/total 11/753[s] | train error = 0.03642\n",
      "| epoch 90 | time/total 11/754[s] | test error  = 0.10619\n",
      "| epoch 91 | time/total 7/762[s] | loss = 0.00657\n",
      "| epoch 92 | time/total 7/769[s] | loss = 0.00621\n",
      "| epoch 93 | time/total 7/777[s] | loss = 0.00393\n",
      "| epoch 94 | time/total 8/786[s] | loss = 0.00270\n",
      "| epoch 95 | time/total 7/794[s] | loss = 0.00241\n",
      "| epoch 96 | time/total 8/802[s] | loss = 0.00250\n",
      "| epoch 97 | time/total 7/810[s] | loss = 0.00205\n",
      "| epoch 98 | time/total 7/817[s] | loss = 0.00177\n",
      "| epoch 99 | time/total 7/825[s] | loss = 0.00156\n",
      "| epoch 100 | time/total 7/833[s] | loss = 0.00145\n",
      "| epoch 100 | time/total 11/836[s] | train error = 0.00098\n",
      "| epoch 100 | time/total 11/837[s] | test error  = 0.05310\n",
      "| epoch 101 | time/total 7/845[s] | loss = 0.00138\n",
      "| epoch 102 | time/total 7/852[s] | loss = 0.00124\n",
      "| epoch 103 | time/total 7/860[s] | loss = 0.00130\n",
      "| epoch 104 | time/total 7/868[s] | loss = 0.00124\n",
      "| epoch 105 | time/total 7/876[s] | loss = 0.00115\n",
      "| epoch 106 | time/total 8/884[s] | loss = 0.00114\n",
      "| epoch 107 | time/total 7/892[s] | loss = 0.00109\n",
      "| epoch 108 | time/total 7/899[s] | loss = 0.00106\n",
      "| epoch 109 | time/total 7/907[s] | loss = 0.00103\n",
      "| epoch 110 | time/total 7/915[s] | loss = 0.00099\n",
      "| epoch 110 | time/total 10/918[s] | train error = 0.00098\n",
      "| epoch 110 | time/total 11/918[s] | test error  = 0.05310\n",
      "| epoch 111 | time/total 7/926[s] | loss = 0.00097\n",
      "| epoch 112 | time/total 7/934[s] | loss = 0.00092\n",
      "| epoch 113 | time/total 7/942[s] | loss = 0.00090\n",
      "| epoch 114 | time/total 7/949[s] | loss = 0.00088\n",
      "| epoch 115 | time/total 7/957[s] | loss = 0.00085\n",
      "| epoch 116 | time/total 7/965[s] | loss = 0.00083\n",
      "| epoch 117 | time/total 7/972[s] | loss = 0.00083\n",
      "| epoch 118 | time/total 7/980[s] | loss = 0.00080\n",
      "| epoch 119 | time/total 7/988[s] | loss = 0.00079\n",
      "| epoch 120 | time/total 7/996[s] | loss = 0.00075\n",
      "| epoch 120 | time/total 11/999[s] | train error = 0.00098\n",
      "| epoch 120 | time/total 11/999[s] | test error  = 0.04425\n",
      "| epoch 121 | time/total 7/1007[s] | loss = 0.00073\n",
      "| epoch 122 | time/total 7/1015[s] | loss = 0.00071\n",
      "| epoch 123 | time/total 7/1023[s] | loss = 0.00071\n"
     ]
    },
    {
     "name": "stdout",
     "output_type": "stream",
     "text": [
      "| epoch 124 | time/total 7/1031[s] | loss = 0.00072\n",
      "| epoch 125 | time/total 7/1039[s] | loss = 0.00069\n",
      "| epoch 126 | time/total 7/1047[s] | loss = 0.00078\n",
      "| epoch 127 | time/total 8/1055[s] | loss = 0.00070\n",
      "| epoch 128 | time/total 7/1063[s] | loss = 0.00069\n",
      "| epoch 129 | time/total 7/1070[s] | loss = 0.00071\n",
      "| epoch 130 | time/total 7/1078[s] | loss = 0.00063\n",
      "| epoch 130 | time/total 11/1081[s] | train error = 0.00098\n",
      "| epoch 130 | time/total 11/1082[s] | test error  = 0.04425\n",
      "| epoch 131 | time/total 7/1089[s] | loss = 0.00060\n",
      "| epoch 132 | time/total 8/1098[s] | loss = 0.00056\n",
      "| epoch 133 | time/total 7/1105[s] | loss = 0.00056\n",
      "| epoch 134 | time/total 7/1113[s] | loss = 0.00056\n",
      "| epoch 135 | time/total 8/1121[s] | loss = 0.00051\n",
      "| epoch 136 | time/total 7/1129[s] | loss = 0.00051\n",
      "| epoch 137 | time/total 7/1137[s] | loss = 0.00053\n",
      "| epoch 138 | time/total 7/1144[s] | loss = 0.00056\n",
      "| epoch 139 | time/total 7/1152[s] | loss = 0.00050\n",
      "| epoch 140 | time/total 7/1160[s] | loss = 0.00048\n",
      "| epoch 140 | time/total 11/1163[s] | train error = 0.00098\n",
      "| epoch 140 | time/total 11/1164[s] | test error  = 0.04425\n",
      "| epoch 141 | time/total 7/1172[s] | loss = 0.00048\n",
      "| epoch 142 | time/total 7/1179[s] | loss = 0.00049\n",
      "| epoch 143 | time/total 7/1187[s] | loss = 0.00046\n",
      "| epoch 144 | time/total 7/1195[s] | loss = 0.00045\n",
      "| epoch 145 | time/total 7/1203[s] | loss = 0.00045\n",
      "| epoch 146 | time/total 8/1211[s] | loss = 0.00040\n",
      "| epoch 147 | time/total 7/1219[s] | loss = 0.00042\n",
      "| epoch 148 | time/total 7/1227[s] | loss = 0.00042\n",
      "| epoch 149 | time/total 7/1234[s] | loss = 0.00040\n",
      "| epoch 150 | time/total 7/1242[s] | loss = 0.00039\n",
      "| epoch 150 | time/total 11/1245[s] | train error = 0.00098\n",
      "| epoch 150 | time/total 11/1246[s] | test error  = 0.04425\n"
     ]
    }
   ],
   "source": [
    "# Train\n",
    "print(\"Target dataset:\", dataset_name)\n",
    "trainer.fit(x_train, t_train, x_test, t_test,\n",
    "            max_epoch=max_epoch,\n",
    "            batch_size=batch_size,\n",
    "            max_grad=max_grad)"
   ]
  },
  {
   "cell_type": "markdown",
   "metadata": {},
   "source": [
    "## 推論"
   ]
  },
  {
   "cell_type": "code",
   "execution_count": 13,
   "metadata": {
    "scrolled": false
   },
   "outputs": [],
   "source": [
    "# Inference\n",
    "start_id = seq.start_id\n",
    "sample_size = seq.sample_size\n",
    "guess_train = model.generate(x_train, start_id, sample_size)\n",
    "guess_test = model.generate(x_test, start_id, sample_size)"
   ]
  },
  {
   "cell_type": "markdown",
   "metadata": {},
   "source": [
    "## 結果の保存"
   ]
  },
  {
   "cell_type": "code",
   "execution_count": 14,
   "metadata": {},
   "outputs": [],
   "source": [
    "# 保存ファイルのファイル名生成\n",
    "modelname = model.__class__.__name__\n",
    "timestamp = datetime.now().strftime(\"_%y%m%d_%H%M\")\n",
    "save_dir = result_dir / (dataset_name + timestamp)\n",
    "os.makedirs(save_dir, exist_ok=True)"
   ]
  },
  {
   "cell_type": "code",
   "execution_count": 15,
   "metadata": {},
   "outputs": [
    {
     "name": "stdout",
     "output_type": "stream",
     "text": [
      "Accuracy: 0.9990157480314961\n",
      "Accuracy: 0.9557522123893806\n"
     ]
    }
   ],
   "source": [
    "# Save result as csv\n",
    "result_train_csv = save_dir /  (\"result_\" + dataset_name + \"_\" + modelname + \"_train.csv\")\n",
    "result_test_csv = save_dir / (\"result_\" + dataset_name + \"_\" + modelname + \"_test.csv\")\n",
    "df_result_train = seq.result_to_csv(result_train_csv, x_train, t_train, guess_train, encoding=encoding)\n",
    "df_result_test = seq.result_to_csv(result_test_csv, x_test, t_test, guess_test, encoding=encoding)"
   ]
  },
  {
   "cell_type": "code",
   "execution_count": 16,
   "metadata": {},
   "outputs": [
    {
     "name": "stdout",
     "output_type": "stream",
     "text": [
      "Accuracy: 0.9990157480314961\n",
      "Accuracy: 0.9557522123893806\n"
     ]
    }
   ],
   "source": [
    "# Save result as csv as utf-8 with BOM\n",
    "# Excelで文字化けさせたくない場合はこっちで保存\n",
    "result_train_csv = save_dir /  (\"result_\" + dataset_name + \"_\" + modelname + \"_train_bom.csv\")\n",
    "result_test_csv = save_dir / (\"result_\" + dataset_name + \"_\" + modelname + \"_test_bom.csv\")\n",
    "df_result_train = seq.result_to_csv(result_train_csv, x_train, t_train, guess_train, encoding=\"utf_8_sig\")\n",
    "df_result_test = seq.result_to_csv(result_test_csv, x_test, t_test, guess_test, encoding=\"utf_8_sig\")"
   ]
  },
  {
   "cell_type": "code",
   "execution_count": 17,
   "metadata": {
    "scrolled": true
   },
   "outputs": [
    {
     "data": {
      "text/plain": [
       "41"
      ]
     },
     "execution_count": 17,
     "metadata": {},
     "output_type": "execute_result"
    }
   ],
   "source": [
    "sample_size"
   ]
  },
  {
   "cell_type": "code",
   "execution_count": 18,
   "metadata": {
    "scrolled": true
   },
   "outputs": [
    {
     "data": {
      "image/png": "[encoded data removed]",
      "text/plain": [
       "<Figure size 432x288 with 2 Axes>"
      ]
     },
     "metadata": {},
     "output_type": "display_data"
    }
   ],
   "source": [
    "# Plot learning curve and save it as png image\n",
    "image_path = save_dir / ('result_' + dataset_name + \"_\" + modelname + '.png')\n",
    "trainer.plot(image_path=image_path, log_scale=False)"
   ]
  },
  {
   "cell_type": "code",
   "execution_count": 19,
   "metadata": {},
   "outputs": [],
   "source": [
    "# Save parameters\n",
    "pickle_path = model_dir / (dataset_name + \"_\" + modelname + '_V' + str(vocab_size) + '_D' + str(wordvec_size) + '_H' + str(hidden_size) + timestamp + '.pkl')\n",
    "model.save_params(file_name=pickle_path)"
   ]
  },
  {
   "cell_type": "markdown",
   "metadata": {},
   "source": [
    "### 訓練したモデルで別のファイルの推論"
   ]
  },
  {
   "cell_type": "code",
   "execution_count": 20,
   "metadata": {},
   "outputs": [],
   "source": [
    "target_csv = dataset_dir / \"190219)agc-evaluation.csv\""
   ]
  },
  {
   "cell_type": "code",
   "execution_count": 21,
   "metadata": {},
   "outputs": [],
   "source": [
    "# 推論対象のデータセットを読み込み\n",
    "x_target, t_target = seq.read_csv(target_csv, vocab_update=False)"
   ]
  },
  {
   "cell_type": "code",
   "execution_count": 22,
   "metadata": {},
   "outputs": [],
   "source": [
    "guess = model.generate(x_target, start_id, sample_size)"
   ]
  },
  {
   "cell_type": "code",
   "execution_count": 23,
   "metadata": {},
   "outputs": [
    {
     "name": "stdout",
     "output_type": "stream",
     "text": [
      "Accuracy: 0.6086956521739131\n"
     ]
    }
   ],
   "source": [
    "save_dir = result_dir / (target_csv.stem + timestamp)\n",
    "os.makedirs(save_dir, exist_ok=True)\n",
    "result_train_csv = save_dir /  (\"result_\" + target_csv.stem + \"_\" + modelname + \"_bom.csv\")\n",
    "df_result = seq.result_to_csv(result_train_csv, x_target, t_target, guess, encoding=\"utf_8_sig\")"
   ]
  },
  {
   "cell_type": "markdown",
   "metadata": {},
   "source": [
    "## 確信度の取得"
   ]
  },
  {
   "cell_type": "code",
   "execution_count": 177,
   "metadata": {},
   "outputs": [],
   "source": [
    "# モデルパラメータをファイルから読み込み\n",
    "model.load_params(file_name=str(pickle_path))"
   ]
  },
  {
   "cell_type": "code",
   "execution_count": 484,
   "metadata": {
    "scrolled": true
   },
   "outputs": [],
   "source": [
    "# Inference with certainty factor\n",
    "start_id = seq.start_id\n",
    "sample_size = seq.sample_size\n",
    "guess_train, cf_train = model.generate_with_cf(x_train, start_id, sample_size)\n",
    "guess_test, cf_test = model.generate_with_cf(x_test, start_id, sample_size)"
   ]
  },
  {
   "cell_type": "code",
   "execution_count": 485,
   "metadata": {},
   "outputs": [],
   "source": [
    "# 保存ファイルのファイル名生成\n",
    "modelname = model.__class__.__name__\n",
    "timestamp = datetime.now().strftime(\"_%y%m%d_%H%M\")\n",
    "save_dir = result_dir / (dataset_name + timestamp)\n",
    "os.makedirs(save_dir, exist_ok=True)"
   ]
  },
  {
   "cell_type": "code",
   "execution_count": 488,
   "metadata": {
    "scrolled": false
   },
   "outputs": [
    {
     "name": "stdout",
     "output_type": "stream",
     "text": [
      "Accuracy: 0.898471615720524\n",
      "Accuracy: 0.8627450980392157\n"
     ]
    }
   ],
   "source": [
    "# Save result as csv\n",
    "result_train_csv = save_dir /  (\"result_\" + dataset_name + \"_\" + modelname + \"_train.csv\")\n",
    "result_test_csv = save_dir / (\"result_\" + dataset_name + \"_\" + modelname + \"_test.csv\")\n",
    "df_result_train = seq.result_to_csv(result_train_csv, x_train, t_train, guess_train, cf=cf_train, encoding=encoding)\n",
    "df_result_test = seq.result_to_csv(result_test_csv, x_test, t_test, guess_test, cf=cf_test, encoding=encoding)"
   ]
  },
  {
   "cell_type": "code",
   "execution_count": 109,
   "metadata": {},
   "outputs": [],
   "source": [
    "def cf_filter(df):\n",
    "    for factor in np.arange(0.90, 1.00, 0.01):\n",
    "        print(\"cf={:.2f}\".format(factor))\n",
    "        print(\" correct   :\", df.query('correct == 1 and cf < {}'.format(factor)).shape[0])\n",
    "        print(\" incorrect :\", df.query('correct == 0 and cf < {}'.format(factor)).shape[0])"
   ]
  },
  {
   "cell_type": "code",
   "execution_count": 342,
   "metadata": {
    "scrolled": false
   },
   "outputs": [
    {
     "name": "stdout",
     "output_type": "stream",
     "text": [
      "cf=0.90\n",
      " correct   : 4\n",
      " incorrect : 5\n",
      "cf=0.91\n",
      " correct   : 4\n",
      " incorrect : 5\n",
      "cf=0.92\n",
      " correct   : 5\n",
      " incorrect : 5\n",
      "cf=0.93\n",
      " correct   : 7\n",
      " incorrect : 7\n",
      "cf=0.94\n",
      " correct   : 7\n",
      " incorrect : 7\n",
      "cf=0.95\n",
      " correct   : 12\n",
      " incorrect : 16\n",
      "cf=0.96\n",
      " correct   : 19\n",
      " incorrect : 20\n",
      "cf=0.97\n",
      " correct   : 40\n",
      " incorrect : 30\n",
      "cf=0.98\n",
      " correct   : 93\n",
      " incorrect : 56\n",
      "cf=0.99\n",
      " correct   : 223\n",
      " incorrect : 80\n"
     ]
    }
   ],
   "source": [
    "cf_filter(df_result_train)"
   ]
  },
  {
   "cell_type": "code",
   "execution_count": 277,
   "metadata": {
    "scrolled": true
   },
   "outputs": [
    {
     "name": "stdout",
     "output_type": "stream",
     "text": [
      "cf=0.90\n",
      " correct   : 0\n",
      " incorrect : 0\n",
      "cf=0.91\n",
      " correct   : 0\n",
      " incorrect : 0\n",
      "cf=0.92\n",
      " correct   : 0\n",
      " incorrect : 0\n",
      "cf=0.93\n",
      " correct   : 0\n",
      " incorrect : 0\n",
      "cf=0.94\n",
      " correct   : 0\n",
      " incorrect : 0\n",
      "cf=0.95\n",
      " correct   : 0\n",
      " incorrect : 0\n",
      "cf=0.96\n",
      " correct   : 0\n",
      " incorrect : 0\n",
      "cf=0.97\n",
      " correct   : 0\n",
      " incorrect : 0\n",
      "cf=0.98\n",
      " correct   : 0\n",
      " incorrect : 0\n",
      "cf=0.99\n",
      " correct   : 88\n",
      " incorrect : 14\n"
     ]
    }
   ],
   "source": [
    "cf_filter(df_result_test)"
   ]
  },
  {
   "cell_type": "code",
   "execution_count": 430,
   "metadata": {
    "scrolled": true
   },
   "outputs": [
    {
     "data": {
      "text/plain": [
       "1    823\n",
       "0     93\n",
       "Name: correct, dtype: int64"
      ]
     },
     "execution_count": 430,
     "metadata": {},
     "output_type": "execute_result"
    }
   ],
   "source": [
    "corrects = df_result_train['correct'].value_counts()\n",
    "corrects"
   ]
  },
  {
   "cell_type": "code",
   "execution_count": 196,
   "metadata": {},
   "outputs": [],
   "source": [
    "def accuracy(df, cf):\n",
    "    df_passed = df.query('cf > {}'.format(cf))\n",
    "    if len(df_passed) > 0:\n",
    "        nb_corrects = df_passed['correct'].value_counts()[1]\n",
    "        return nb_corrects / len(df_passed)\n",
    "    else:\n",
    "        return 0"
   ]
  },
  {
   "cell_type": "code",
   "execution_count": 135,
   "metadata": {},
   "outputs": [],
   "source": [
    "def passing_rate(df, cf):\n",
    "    nb_passing = len(df.query('cf >= {}'.format(cf)))\n",
    "    return nb_passing / len(df)"
   ]
  },
  {
   "cell_type": "code",
   "execution_count": 526,
   "metadata": {
    "scrolled": false
   },
   "outputs": [
    {
     "data": {
      "text/plain": [
       "0.9827586206896551"
      ]
     },
     "execution_count": 526,
     "metadata": {},
     "output_type": "execute_result"
    }
   ],
   "source": [
    "accuracy(df_result_test, 0.992)"
   ]
  },
  {
   "cell_type": "code",
   "execution_count": 527,
   "metadata": {},
   "outputs": [
    {
     "data": {
      "text/plain": [
       "0.5686274509803921"
      ]
     },
     "execution_count": 527,
     "metadata": {},
     "output_type": "execute_result"
    }
   ],
   "source": [
    "passing_rate(df_result_test, 0.992)"
   ]
  },
  {
   "cell_type": "code",
   "execution_count": 489,
   "metadata": {},
   "outputs": [],
   "source": [
    "def accuracy_by_cf(df):\n",
    "    acc_list = []\n",
    "    pr_list = []\n",
    "    for cf in np.arange(0.90, 1.00, 0.001):\n",
    "#         print(\"cf={:.2f}\".format(cf))\n",
    "        acc = accuracy(df, cf)\n",
    "        pr  = passing_rate(df, cf)\n",
    "#         print(\"  Accuracy     :\", acc)\n",
    "#         print(\"  Passing rate :\", pr)\n",
    "        acc_list.append(acc)\n",
    "        pr_list.append(pr)\n",
    "    return acc_list, pr_list"
   ]
  },
  {
   "cell_type": "code",
   "execution_count": 490,
   "metadata": {
    "scrolled": true
   },
   "outputs": [],
   "source": [
    "acc_train, pr_train = accuracy_by_cf(df_result_train)"
   ]
  },
  {
   "cell_type": "code",
   "execution_count": 491,
   "metadata": {},
   "outputs": [],
   "source": [
    "acc_test, pr_test = accuracy_by_cf(df_result_test)"
   ]
  },
  {
   "cell_type": "code",
   "execution_count": 469,
   "metadata": {},
   "outputs": [
    {
     "data": {
      "text/plain": [
       "[]"
      ]
     },
     "execution_count": 469,
     "metadata": {},
     "output_type": "execute_result"
    },
    {
     "data": {
      "image/png": "[encoded data removed]",
      "text/plain": [
       "<Figure size 432x288 with 1 Axes>"
      ]
     },
     "metadata": {
      "needs_background": "light"
     },
     "output_type": "display_data"
    }
   ],
   "source": [
    "x = np.arange(0.90, 1.00, 0.001)\n",
    "fig, ax = plt.subplots()\n",
    "color_acc = 'orange'\n",
    "color_pr = 'blue'\n",
    "ax.plot(x, acc_train, color=color_acc, label='train accuracy')\n",
    "ax.plot(x, pr_train, color=color_pr, label='train passing rate')\n",
    "ax.plot(x, acc_test, color=color_acc, linestyle='dashed', label='test accuracy')\n",
    "ax.plot(x, pr_test, color=color_pr, linestyle='dashed', label='test passing rate')\n",
    "ax.grid(True)\n",
    "plt.xlabel('certainty factor')\n",
    "ax.set_ylim(0.7, 1.01)\n",
    "ax.legend()\n",
    "plt.savefig('./accuracy_and_passing-rate.png')\n",
    "plt.plot()"
   ]
  },
  {
   "cell_type": "code",
   "execution_count": null,
   "metadata": {},
   "outputs": [],
   "source": []
  }
 ],
 "metadata": {
  "hide_input": false,
  "kernelspec": {
   "display_name": "Python 3",
   "language": "python",
   "name": "python3"
  },
  "language_info": {
   "codemirror_mode": {
    "name": "ipython",
    "version": 3
   },
   "file_extension": ".py",
   "mimetype": "text/x-python",
   "name": "python",
   "nbconvert_exporter": "python",
   "pygments_lexer": "ipython3",
   "version": "3.6.2"
  },
  "toc": {
   "base_numbering": 1,
   "nav_menu": {},
   "number_sections": false,
   "sideBar": true,
   "skip_h1_title": true,
   "title_cell": "Table of Contents",
   "title_sidebar": "Contents",
   "toc_cell": true,
   "toc_position": {},
   "toc_section_display": true,
   "toc_window_display": true
  }
 },
 "nbformat": 4,
 "nbformat_minor": 2
}
