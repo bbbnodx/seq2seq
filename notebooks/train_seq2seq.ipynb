{
 "cells": [
  {
   "cell_type": "markdown",
   "metadata": {
    "toc": true
   },
   "source": [
    "<h1>Table of Contents<span class=\"tocSkip\"></span></h1>\n",
    "<div class=\"toc\"><ul class=\"toc-item\"><li><span><a href=\"#前処理\" data-toc-modified-id=\"前処理-1\" data-vivaldi-spatnav-clickable=\"1\">前処理</a></span><ul class=\"toc-item\"><li><span><a href=\"#データセット読み込みと文字IDベクトルへの変換\" data-toc-modified-id=\"データセット読み込みと文字IDベクトルへの変換-1.1\" data-vivaldi-spatnav-clickable=\"1\">データセット読み込みと文字IDベクトルへの変換</a></span></li><li><span><a href=\"#ハイパーパラメータ設定とデータ前処理\" data-toc-modified-id=\"ハイパーパラメータ設定とデータ前処理-1.2\" data-vivaldi-spatnav-clickable=\"1\">ハイパーパラメータ設定とデータ前処理</a></span></li><li><span><a href=\"#model,-optimizer,-trainerインスタンス作成\" data-toc-modified-id=\"model,-optimizer,-trainerインスタンス作成-1.3\" data-vivaldi-spatnav-clickable=\"1\">model, optimizer, trainerインスタンス作成</a></span></li></ul></li><li><span><a href=\"#学習実行\" data-toc-modified-id=\"学習実行-2\" data-vivaldi-spatnav-clickable=\"1\">学習実行</a></span></li><li><span><a href=\"#推論\" data-toc-modified-id=\"推論-3\" data-vivaldi-spatnav-clickable=\"1\">推論</a></span></li><li><span><a href=\"#結果の保存\" data-toc-modified-id=\"結果の保存-4\" data-vivaldi-spatnav-clickable=\"1\">結果の保存</a></span></li><li><span><a href=\"#確信度の取得\" data-toc-modified-id=\"確信度の取得-5\" data-vivaldi-spatnav-clickable=\"1\">確信度の取得</a></span></li></ul></div>"
   ]
  },
  {
   "cell_type": "markdown",
   "metadata": {},
   "source": [
    "# seq2seqモデルの学習と結果の保存"
   ]
  },
  {
   "cell_type": "markdown",
   "metadata": {},
   "source": [
    "ディレクトリ構成：  \n",
    "```\n",
    "./\n",
    "├dataset/\n",
    "│   └(読み込むCSVファイル)\n",
    "├models/\n",
    "│   └(モデルパラメータキャッシュファイル)\n",
    "├notebooks/\n",
    "│   └train_seq2seq.ipynb(このファイル)\n",
    "├results/\n",
    "│   └(実行結果CSVと学習曲線グラフ画像)\n",
    "└src/\n",
    "   ├common/\n",
    "   │ └(共用クラス、関数)\n",
    "   ├data/\n",
    "   │ └(データ読み書き用コード)\n",
    "   ├attention_layer.py\n",
    "   ├attention_seq2seq.py\n",
    "   ├peeky_seq2seq.py\n",
    "   └seq2seq.py\n",
    "```"
   ]
  },
  {
   "cell_type": "code",
   "execution_count": 109,
   "metadata": {},
   "outputs": [
    {
     "name": "stdout",
     "output_type": "stream",
     "text": [
      "Once deleted, variables cannot be recovered. Proceed (y/[n])? y\n"
     ]
    }
   ],
   "source": [
    "# 変数の全消去\n",
    "%reset"
   ]
  },
  {
   "cell_type": "code",
   "execution_count": 1,
   "metadata": {},
   "outputs": [],
   "source": [
    "# coding: utf-8\n",
    "import sys\n",
    "sys.path.append(\"../src\")\n",
    "import os\n",
    "import numpy as np\n",
    "import pandas as pd\n",
    "import matplotlib.pyplot as plt\n",
    "from pathlib import Path\n",
    "from datetime import datetime\n",
    "from data.sequence import TextSequence\n",
    "from common.optimizer import Adam\n",
    "from common.trainer import Trainer\n",
    "from common.util import eval_seq2seq\n",
    "from seq2seq import Seq2seq, Seq2seqBiLSTM\n",
    "from peeky_seq2seq import PeekySeq2seq, PeekySeq2seqBiLSTM\n",
    "from attention_seq2seq import AttentionSeq2seq, AttentionSeq2seqBiLSTM"
   ]
  },
  {
   "cell_type": "code",
   "execution_count": 2,
   "metadata": {},
   "outputs": [],
   "source": [
    "# matplotlibのインライン表示\n",
    "%matplotlib inline\n",
    "# モジュールの更新時に自動で再読み込み\n",
    "%reload_ext autoreload\n",
    "%autoreload 2"
   ]
  },
  {
   "cell_type": "code",
   "execution_count": 3,
   "metadata": {},
   "outputs": [],
   "source": [
    "# ディレクトリパスの設定\n",
    "dataset_dir =Path('../dataset')\n",
    "result_dir = Path('../results')\n",
    "model_dir = Path('../models')"
   ]
  },
  {
   "cell_type": "code",
   "execution_count": 4,
   "metadata": {},
   "outputs": [],
   "source": [
    "# ファイルパスの設定\n",
    "vocab_csv = [dataset_dir /  \"interpretation_train43_and_test40_rev3.csv\", dataset_dir / \"interpretation_excel_concat_rev2.csv\"]\n",
    "source_csv = dataset_dir / \"interpretation_train43_and_test40_rev3.csv\"\n",
    "# source_csv = dataset_dir / \"interpretation_excel_concat_trim.csv\"\n",
    "dataset_name = source_csv.stem\n",
    "encoding = \"utf-8\""
   ]
  },
  {
   "cell_type": "code",
   "execution_count": 583,
   "metadata": {},
   "outputs": [],
   "source": [
    "# 最初から訓練データとテストデータが分かれているときはこっち\n",
    "source_csv = dataset_dir /\"interpretation_excel.csv\"  # 結果ファイル名に用いる\n",
    "train_csv = dataset_dir / \"interpretation_excel_train_trim.csv\"\n",
    "test_csv = dataset_dir / \"interpretation_excel_validation_trim.csv\""
   ]
  },
  {
   "cell_type": "markdown",
   "metadata": {},
   "source": [
    "## 前処理\n",
    "### データセット読み込みと文字IDベクトルへの変換"
   ]
  },
  {
   "cell_type": "code",
   "execution_count": 5,
   "metadata": {
    "scrolled": true
   },
   "outputs": [],
   "source": [
    "# 全てのデータセットを読み込み、Vocabularyを作成する\n",
    "seq = TextSequence()\n",
    "for path in vocab_csv:\n",
    "    seq.read_csv(path)\n",
    "char_to_id, id_to_char = seq.vocab"
   ]
  },
  {
   "cell_type": "code",
   "execution_count": 6,
   "metadata": {},
   "outputs": [
    {
     "data": {
      "text/plain": [
       "(array([[  1,   2,   3, ...,   0,   0,   0],\n",
       "        [  1,   2,   3, ...,   0,   0,   0],\n",
       "        [  1,  12,   2, ...,  23,  24,   4],\n",
       "        ...,\n",
       "        [120, 121,  21, ...,   0,   0,   0],\n",
       "        [120, 121,  21, ...,   0,   0,   0],\n",
       "        [120, 121,  21, ...,   0,   0,   0]]),\n",
       " array([[25,  5, 18, ...,  0,  0,  0],\n",
       "        [25,  5, 18, ...,  0,  0,  0],\n",
       "        [25,  5, 18, ..., 19, 20,  9],\n",
       "        ...,\n",
       "        [25, 14,  7, ...,  0,  0,  0],\n",
       "        [25, 14,  7, ...,  0,  0,  0],\n",
       "        [25, 14,  7, ...,  0,  0,  0]]))"
      ]
     },
     "execution_count": 6,
     "metadata": {},
     "output_type": "execute_result"
    }
   ],
   "source": [
    "# 学習対象のデータセットを読み込み\n",
    "seq.read_csv(source_csv)"
   ]
  },
  {
   "cell_type": "code",
   "execution_count": 25,
   "metadata": {},
   "outputs": [
    {
     "ename": "NameError",
     "evalue": "name 'train_csv' is not defined",
     "output_type": "error",
     "traceback": [
      "\u001b[1;31m---------------------------------------------------------------------------\u001b[0m",
      "\u001b[1;31mNameError\u001b[0m                                 Traceback (most recent call last)",
      "\u001b[1;32m<ipython-input-25-e5a86900c53d>\u001b[0m in \u001b[0;36m<module>\u001b[1;34m\u001b[0m\n\u001b[0;32m      1\u001b[0m \u001b[1;31m# 最初から訓練データとテストデータが分かれているときはこっち\u001b[0m\u001b[1;33m\u001b[0m\u001b[1;33m\u001b[0m\u001b[1;33m\u001b[0m\u001b[0m\n\u001b[0;32m      2\u001b[0m \u001b[0mseq\u001b[0m \u001b[1;33m=\u001b[0m \u001b[0mTextSequence\u001b[0m\u001b[1;33m(\u001b[0m\u001b[1;33m)\u001b[0m\u001b[1;33m\u001b[0m\u001b[1;33m\u001b[0m\u001b[0m\n\u001b[1;32m----> 3\u001b[1;33m \u001b[0mseq\u001b[0m\u001b[1;33m.\u001b[0m\u001b[0mread_csv\u001b[0m\u001b[1;33m(\u001b[0m\u001b[0mtrain_csv\u001b[0m\u001b[1;33m)\u001b[0m\u001b[1;33m\u001b[0m\u001b[1;33m\u001b[0m\u001b[0m\n\u001b[0m\u001b[0;32m      4\u001b[0m \u001b[0mx_train\u001b[0m\u001b[1;33m,\u001b[0m \u001b[0mt_train\u001b[0m \u001b[1;33m=\u001b[0m \u001b[0mseq\u001b[0m\u001b[1;33m.\u001b[0m\u001b[0mshuffle\u001b[0m\u001b[1;33m(\u001b[0m\u001b[0mseed\u001b[0m\u001b[1;33m=\u001b[0m\u001b[1;36m1\u001b[0m\u001b[1;33m)\u001b[0m\u001b[1;33m\u001b[0m\u001b[1;33m\u001b[0m\u001b[0m\n\u001b[0;32m      5\u001b[0m \u001b[0mseq\u001b[0m\u001b[1;33m.\u001b[0m\u001b[0mread_csv\u001b[0m\u001b[1;33m(\u001b[0m\u001b[0mtest_csv\u001b[0m\u001b[1;33m,\u001b[0m \u001b[0mvocab_init\u001b[0m\u001b[1;33m=\u001b[0m\u001b[1;32mFalse\u001b[0m\u001b[1;33m)\u001b[0m\u001b[1;33m\u001b[0m\u001b[1;33m\u001b[0m\u001b[0m\n",
      "\u001b[1;31mNameError\u001b[0m: name 'train_csv' is not defined"
     ]
    }
   ],
   "source": [
    "# 最初から訓練データとテストデータが分かれているときはこっち\n",
    "seq = TextSequence()\n",
    "seq.read_csv(train_csv)\n",
    "x_train, t_train = seq.shuffle(seed=1)\n",
    "seq.read_csv(test_csv, vocab_init=False)\n",
    "x_test, t_test = seq.shuffle(seed=1)\n",
    "char_to_id, id_to_char = seq.vocab"
   ]
  },
  {
   "cell_type": "markdown",
   "metadata": {},
   "source": [
    "### ハイパーパラメータ設定とデータ前処理"
   ]
  },
  {
   "cell_type": "code",
   "execution_count": 7,
   "metadata": {},
   "outputs": [],
   "source": [
    "# ハイパーパラメータ\n",
    "vocab_size = len(char_to_id)\n",
    "wordvec_size = 128\n",
    "hidden_size = 128\n",
    "batch_size = 32\n",
    "max_epoch = 100\n",
    "max_grad = 5.0"
   ]
  },
  {
   "cell_type": "code",
   "execution_count": 8,
   "metadata": {},
   "outputs": [
    {
     "data": {
      "text/plain": [
       "425"
      ]
     },
     "execution_count": 8,
     "metadata": {},
     "output_type": "execute_result"
    }
   ],
   "source": [
    "vocab_size"
   ]
  },
  {
   "cell_type": "code",
   "execution_count": 9,
   "metadata": {},
   "outputs": [],
   "source": [
    "# データセット分割\n",
    "x_train, x_test, t_train, t_test = seq.split_data(seed=1, test_size=0.1)"
   ]
  },
  {
   "cell_type": "markdown",
   "metadata": {},
   "source": [
    "### model, optimizer, trainerインスタンス作成"
   ]
  },
  {
   "cell_type": "code",
   "execution_count": 32,
   "metadata": {},
   "outputs": [],
   "source": [
    "# モデル選択\n",
    "# model = Seq2seq(vocab_size, wordvec_size, hidden_size)\n",
    "# model = PeekySeq2seq(vocab_size, wordvec_size, hidden_size)\n",
    "model = AttentionSeq2seq(vocab_size, wordvec_size, hidden_size)\n",
    "# model = Seq2seqBiLSTM(vocab_size, wordvec_size, hidden_size)\n",
    "# model = PeekySeq2seqBiLSTM(vocab_size, wordvec_size, hidden_size)\n",
    "# model = AttentionSeq2seqBiLSTM(vocab_size, wordvec_size, hidden_size)"
   ]
  },
  {
   "cell_type": "code",
   "execution_count": 33,
   "metadata": {},
   "outputs": [],
   "source": [
    "# OptimizerとTrainerインスタンスの初期化\n",
    "optimizer = Adam()\n",
    "trainer = Trainer(model, optimizer)"
   ]
  },
  {
   "cell_type": "markdown",
   "metadata": {},
   "source": [
    "## 学習実行"
   ]
  },
  {
   "cell_type": "code",
   "execution_count": 34,
   "metadata": {
    "scrolled": false
   },
   "outputs": [
    {
     "name": "stdout",
     "output_type": "stream",
     "text": [
      "| epoch 1 | time/total 16/16[s] | loss 3.48838\n",
      "| epoch 1 | time/total 21/21[s] | train error 1.00000\n",
      "| epoch 1 | time/total 22/22[s] | test error  1.00000\n",
      "| epoch 2 | time/total 17/39[s] | loss 1.15331\n",
      "| epoch 2 | time/total 22/44[s] | train error 1.00000\n",
      "| epoch 2 | time/total 22/44[s] | test error  1.00000\n",
      "| epoch 3 | time/total 17/61[s] | loss 1.04382\n",
      "| epoch 3 | time/total 21/66[s] | train error 1.00000\n",
      "| epoch 3 | time/total 22/67[s] | test error  1.00000\n",
      "| epoch 4 | time/total 17/84[s] | loss 0.92591\n",
      "| epoch 4 | time/total 22/90[s] | train error 1.00000\n",
      "| epoch 4 | time/total 23/90[s] | test error  1.00000\n",
      "| epoch 5 | time/total 19/110[s] | loss 0.83168\n",
      "| epoch 5 | time/total 24/115[s] | train error 1.00000\n",
      "| epoch 5 | time/total 25/116[s] | test error  1.00000\n",
      "| epoch 6 | time/total 19/136[s] | loss 0.73769\n",
      "| epoch 7 | time/total 17/154[s] | loss 0.63588\n",
      "| epoch 8 | time/total 17/172[s] | loss 0.53945\n",
      "| epoch 9 | time/total 17/189[s] | loss 0.42934\n",
      "| epoch 10 | time/total 17/207[s] | loss 0.34885\n",
      "| epoch 10 | time/total 22/212[s] | train error 0.93406\n",
      "| epoch 10 | time/total 23/213[s] | test error  0.90265\n",
      "| epoch 11 | time/total 17/231[s] | loss 0.30064\n",
      "| epoch 12 | time/total 17/248[s] | loss 0.26428\n",
      "| epoch 13 | time/total 17/266[s] | loss 0.23564\n",
      "| epoch 14 | time/total 17/283[s] | loss 0.21898\n",
      "| epoch 15 | time/total 17/301[s] | loss 0.20278\n",
      "| epoch 16 | time/total 17/318[s] | loss 0.19045\n",
      "| epoch 17 | time/total 17/336[s] | loss 0.17573\n",
      "| epoch 18 | time/total 17/354[s] | loss 0.16340\n",
      "| epoch 19 | time/total 17/371[s] | loss 0.15256\n",
      "| epoch 20 | time/total 17/389[s] | loss 0.14507\n",
      "| epoch 20 | time/total 22/394[s] | train error 0.78346\n",
      "| epoch 20 | time/total 23/395[s] | test error  0.76991\n",
      "| epoch 21 | time/total 17/412[s] | loss 0.13689\n",
      "| epoch 22 | time/total 17/430[s] | loss 0.12817\n",
      "| epoch 23 | time/total 17/448[s] | loss 0.12076\n",
      "| epoch 24 | time/total 17/465[s] | loss 0.11241\n",
      "| epoch 25 | time/total 17/483[s] | loss 0.10681\n",
      "| epoch 26 | time/total 17/501[s] | loss 0.10032\n",
      "| epoch 27 | time/total 17/518[s] | loss 0.09333\n",
      "| epoch 28 | time/total 17/536[s] | loss 0.08829\n",
      "| epoch 29 | time/total 17/554[s] | loss 0.08407\n",
      "| epoch 30 | time/total 17/571[s] | loss 0.07813\n",
      "| epoch 30 | time/total 22/576[s] | train error 0.56299\n",
      "| epoch 30 | time/total 23/577[s] | test error  0.65487\n",
      "| epoch 31 | time/total 17/595[s] | loss 0.07591\n",
      "| epoch 32 | time/total 17/613[s] | loss 0.06953\n",
      "| epoch 33 | time/total 17/630[s] | loss 0.06617\n",
      "| epoch 34 | time/total 17/648[s] | loss 0.06366\n",
      "| epoch 35 | time/total 17/666[s] | loss 0.06633\n",
      "| epoch 36 | time/total 17/683[s] | loss 0.06280\n",
      "| epoch 37 | time/total 17/701[s] | loss 0.05714\n",
      "| epoch 38 | time/total 17/719[s] | loss 0.05333\n",
      "| epoch 39 | time/total 17/736[s] | loss 0.05045\n",
      "| epoch 40 | time/total 17/754[s] | loss 0.04611\n",
      "| epoch 40 | time/total 22/759[s] | train error 0.31496\n",
      "| epoch 40 | time/total 23/760[s] | test error  0.38938\n",
      "| epoch 41 | time/total 17/777[s] | loss 0.04149\n",
      "| epoch 42 | time/total 17/795[s] | loss 0.03782\n",
      "| epoch 43 | time/total 17/813[s] | loss 0.03500\n",
      "| epoch 44 | time/total 17/831[s] | loss 0.03227\n",
      "| epoch 45 | time/total 17/848[s] | loss 0.03022\n",
      "| epoch 46 | time/total 17/866[s] | loss 0.02605\n",
      "| epoch 47 | time/total 17/883[s] | loss 0.02518\n",
      "| epoch 48 | time/total 17/901[s] | loss 0.02352\n",
      "| epoch 49 | time/total 17/919[s] | loss 0.02280\n",
      "| epoch 50 | time/total 17/936[s] | loss 0.02093\n",
      "| epoch 50 | time/total 22/942[s] | train error 0.11614\n",
      "| epoch 50 | time/total 23/942[s] | test error  0.21239\n",
      "| epoch 51 | time/total 17/960[s] | loss 0.02004\n",
      "| epoch 52 | time/total 17/978[s] | loss 0.01874\n",
      "| epoch 53 | time/total 17/996[s] | loss 0.01741\n",
      "| epoch 54 | time/total 17/1013[s] | loss 0.01658\n",
      "| epoch 55 | time/total 17/1031[s] | loss 0.01911\n",
      "| epoch 56 | time/total 17/1049[s] | loss 0.01618\n",
      "| epoch 57 | time/total 18/1067[s] | loss 0.01512\n",
      "| epoch 58 | time/total 17/1085[s] | loss 0.01373\n",
      "| epoch 59 | time/total 17/1102[s] | loss 0.01257\n",
      "| epoch 60 | time/total 17/1120[s] | loss 0.01133\n",
      "| epoch 60 | time/total 22/1125[s] | train error 0.07087\n",
      "| epoch 60 | time/total 23/1126[s] | test error  0.16814\n",
      "| epoch 61 | time/total 17/1144[s] | loss 0.01178\n",
      "| epoch 62 | time/total 17/1162[s] | loss 0.01104\n",
      "| epoch 63 | time/total 17/1179[s] | loss 0.01075\n",
      "| epoch 64 | time/total 17/1197[s] | loss 0.01055\n",
      "| epoch 65 | time/total 17/1215[s] | loss 0.01046\n",
      "| epoch 66 | time/total 17/1233[s] | loss 0.00871\n",
      "| epoch 67 | time/total 17/1250[s] | loss 0.00791\n",
      "| epoch 68 | time/total 17/1268[s] | loss 0.00769\n",
      "| epoch 69 | time/total 17/1286[s] | loss 0.00737\n",
      "| epoch 70 | time/total 17/1304[s] | loss 0.00662\n",
      "| epoch 70 | time/total 23/1309[s] | train error 0.02559\n",
      "| epoch 70 | time/total 23/1309[s] | test error  0.07965\n",
      "| epoch 71 | time/total 17/1327[s] | loss 0.00657\n",
      "| epoch 72 | time/total 17/1345[s] | loss 0.00661\n",
      "| epoch 73 | time/total 17/1363[s] | loss 0.00778\n",
      "| epoch 74 | time/total 17/1380[s] | loss 0.00698\n",
      "| epoch 75 | time/total 18/1399[s] | loss 0.00648\n",
      "| epoch 76 | time/total 17/1416[s] | loss 0.00599\n",
      "| epoch 77 | time/total 17/1434[s] | loss 0.00635\n",
      "| epoch 78 | time/total 17/1452[s] | loss 0.00536\n",
      "| epoch 79 | time/total 17/1470[s] | loss 0.00485\n",
      "| epoch 80 | time/total 17/1487[s] | loss 0.00427\n",
      "| epoch 80 | time/total 22/1493[s] | train error 0.01476\n",
      "| epoch 80 | time/total 23/1493[s] | test error  0.06195\n",
      "| epoch 81 | time/total 18/1512[s] | loss 0.00390\n",
      "| epoch 82 | time/total 17/1529[s] | loss 0.00385\n",
      "| epoch 83 | time/total 17/1547[s] | loss 0.00375\n",
      "| epoch 84 | time/total 17/1565[s] | loss 0.00357\n",
      "| epoch 85 | time/total 17/1583[s] | loss 0.00363\n",
      "| epoch 86 | time/total 17/1600[s] | loss 0.00335\n",
      "| epoch 87 | time/total 17/1618[s] | loss 0.00321\n",
      "| epoch 88 | time/total 17/1636[s] | loss 0.00304\n",
      "| epoch 89 | time/total 17/1653[s] | loss 0.00284\n",
      "| epoch 90 | time/total 17/1671[s] | loss 0.00268\n",
      "| epoch 90 | time/total 23/1676[s] | train error 0.00886\n",
      "| epoch 90 | time/total 23/1677[s] | test error  0.05310\n",
      "| epoch 91 | time/total 18/1695[s] | loss 0.00259\n",
      "| epoch 92 | time/total 17/1713[s] | loss 0.00251\n",
      "| epoch 93 | time/total 17/1731[s] | loss 0.00245\n",
      "| epoch 94 | time/total 17/1749[s] | loss 0.00232\n",
      "| epoch 95 | time/total 17/1766[s] | loss 0.00219\n",
      "| epoch 96 | time/total 17/1784[s] | loss 0.00194\n",
      "| epoch 97 | time/total 17/1802[s] | loss 0.00202\n",
      "| epoch 98 | time/total 17/1819[s] | loss 0.00194\n",
      "| epoch 99 | time/total 17/1837[s] | loss 0.00185\n",
      "| epoch 100 | time/total 17/1855[s] | loss 0.00168\n",
      "| epoch 100 | time/total 22/1860[s] | train error 0.00394\n",
      "| epoch 100 | time/total 23/1860[s] | test error  0.03540\n"
     ]
    }
   ],
   "source": [
    "# Train\n",
    "trainer.fit(x_train, t_train, x_test, t_test,\n",
    "            max_epoch=max_epoch,\n",
    "            batch_size=batch_size,\n",
    "            max_grad=max_grad)"
   ]
  },
  {
   "cell_type": "markdown",
   "metadata": {},
   "source": [
    "## 推論"
   ]
  },
  {
   "cell_type": "code",
   "execution_count": 35,
   "metadata": {
    "scrolled": false
   },
   "outputs": [],
   "source": [
    "# Inference\n",
    "start_id = seq.start_id\n",
    "sample_size = seq.t_length\n",
    "guess_train = model.generate(x_train, start_id, sample_size)\n",
    "guess_test = model.generate(x_test, start_id, sample_size)"
   ]
  },
  {
   "cell_type": "markdown",
   "metadata": {},
   "source": [
    "## 結果の保存"
   ]
  },
  {
   "cell_type": "code",
   "execution_count": 36,
   "metadata": {},
   "outputs": [],
   "source": [
    "# 保存ファイルのファイル名生成\n",
    "modelname = model.__class__.__name__\n",
    "timestamp = datetime.now().strftime(\"_%y%m%d_%H%M\")\n",
    "save_dir = result_dir / (dataset_name + timestamp)\n",
    "os.makedirs(save_dir, exist_ok=True)"
   ]
  },
  {
   "cell_type": "code",
   "execution_count": 37,
   "metadata": {},
   "outputs": [
    {
     "name": "stdout",
     "output_type": "stream",
     "text": [
      "Accuracy: 0.9960629921259843\n",
      "Accuracy: 0.9646017699115044\n"
     ]
    }
   ],
   "source": [
    "# Save result as csv\n",
    "result_train_csv = save_dir /  (\"result_\" + dataset_name + \"_\" + modelname + \"_train.csv\")\n",
    "result_test_csv = save_dir / (\"result_\" + dataset_name + \"_\" + modelname + \"_test.csv\")\n",
    "df_result_train = seq.result_to_csv(result_train_csv, x_train, t_train, guess_train, encoding=encoding)\n",
    "df_result_test = seq.result_to_csv(result_test_csv, x_test, t_test, guess_test, encoding=encoding)"
   ]
  },
  {
   "cell_type": "code",
   "execution_count": 38,
   "metadata": {},
   "outputs": [
    {
     "name": "stdout",
     "output_type": "stream",
     "text": [
      "Accuracy: 0.9960629921259843\n",
      "Accuracy: 0.9646017699115044\n"
     ]
    }
   ],
   "source": [
    "# Save result as csv as utf-8 with BOM\n",
    "result_train_csv = save_dir /  (\"result_\" + dataset_name + \"_\" + modelname + \"_train_bom.csv\")\n",
    "result_test_csv = save_dir / (\"result_\" + dataset_name + \"_\" + modelname + \"_test_bom.csv\")\n",
    "df_result_train = seq.result_to_csv(result_train_csv, x_train, t_train, guess_train, encoding=\"utf_8_sig\")\n",
    "df_result_test = seq.result_to_csv(result_test_csv, x_test, t_test, guess_test, encoding=\"utf_8_sig\")"
   ]
  },
  {
   "cell_type": "code",
   "execution_count": 39,
   "metadata": {
    "scrolled": true
   },
   "outputs": [
    {
     "data": {
      "text/plain": [
       "40"
      ]
     },
     "execution_count": 39,
     "metadata": {},
     "output_type": "execute_result"
    }
   ],
   "source": [
    "sample_size"
   ]
  },
  {
   "cell_type": "code",
   "execution_count": 41,
   "metadata": {
    "scrolled": true
   },
   "outputs": [
    {
     "data": {
      "image/png": "[encoded data removed]",
      "text/plain": [
       "<Figure size 432x288 with 2 Axes>"
      ]
     },
     "metadata": {},
     "output_type": "display_data"
    }
   ],
   "source": [
    "# Plot learning curve and save it as png image\n",
    "image_path = save_dir / ('result_' + dataset_name + \"_\" + modelname + '.png')\n",
    "trainer.plot(image_path=image_path, log_scale=False)"
   ]
  },
  {
   "cell_type": "code",
   "execution_count": 42,
   "metadata": {},
   "outputs": [],
   "source": [
    "# Save parameters\n",
    "pickle_path = model_dir / (dataset_name + \"_\" + modelname + '_V' + str(vocab_size) + '_D' + str(wordvec_size) + '_H' + str(hidden_size) + timestamp + '.pkl')\n",
    "model.save_params(file_name=pickle_path)"
   ]
  },
  {
   "cell_type": "markdown",
   "metadata": {},
   "source": [
    "## 確信度の取得"
   ]
  },
  {
   "cell_type": "code",
   "execution_count": 177,
   "metadata": {},
   "outputs": [],
   "source": [
    "model.load_params(file_name=str(pickle_path))"
   ]
  },
  {
   "cell_type": "code",
   "execution_count": 484,
   "metadata": {
    "scrolled": true
   },
   "outputs": [],
   "source": [
    "# Inference with certainty factor\n",
    "start_id = seq.start_id\n",
    "sample_size = seq.t_length\n",
    "guess_train, cf_train = model.generate_with_cf(x_train, start_id, sample_size)\n",
    "guess_test, cf_test = model.generate_with_cf(x_test, start_id, sample_size)"
   ]
  },
  {
   "cell_type": "code",
   "execution_count": 485,
   "metadata": {},
   "outputs": [],
   "source": [
    "# 保存ファイルのファイル名生成\n",
    "modelname = model.__class__.__name__\n",
    "timestamp = datetime.now().strftime(\"_%y%m%d_%H%M\")\n",
    "save_dir = result_dir / (dataset_name + timestamp)\n",
    "os.makedirs(save_dir, exist_ok=True)"
   ]
  },
  {
   "cell_type": "code",
   "execution_count": 488,
   "metadata": {
    "scrolled": false
   },
   "outputs": [
    {
     "name": "stdout",
     "output_type": "stream",
     "text": [
      "Accuracy: 0.898471615720524\n",
      "Accuracy: 0.8627450980392157\n"
     ]
    }
   ],
   "source": [
    "# Save result as csv\n",
    "result_train_csv = save_dir /  (\"result_\" + dataset_name + \"_\" + modelname + \"_train.csv\")\n",
    "result_test_csv = save_dir / (\"result_\" + dataset_name + \"_\" + modelname + \"_test.csv\")\n",
    "df_result_train = seq.result_to_csv(result_train_csv, x_train, t_train, guess_train, cf=cf_train, encoding=encoding)\n",
    "df_result_test = seq.result_to_csv(result_test_csv, x_test, t_test, guess_test, cf=cf_test, encoding=encoding)"
   ]
  },
  {
   "cell_type": "code",
   "execution_count": 109,
   "metadata": {},
   "outputs": [],
   "source": [
    "def cf_filter(df):\n",
    "    for factor in np.arange(0.90, 1.00, 0.01):\n",
    "        print(\"cf={:.2f}\".format(factor))\n",
    "        print(\" correct   :\", df.query('correct == 1 and cf < {}'.format(factor)).shape[0])\n",
    "        print(\" incorrect :\", df.query('correct == 0 and cf < {}'.format(factor)).shape[0])"
   ]
  },
  {
   "cell_type": "code",
   "execution_count": 342,
   "metadata": {
    "scrolled": false
   },
   "outputs": [
    {
     "name": "stdout",
     "output_type": "stream",
     "text": [
      "cf=0.90\n",
      " correct   : 4\n",
      " incorrect : 5\n",
      "cf=0.91\n",
      " correct   : 4\n",
      " incorrect : 5\n",
      "cf=0.92\n",
      " correct   : 5\n",
      " incorrect : 5\n",
      "cf=0.93\n",
      " correct   : 7\n",
      " incorrect : 7\n",
      "cf=0.94\n",
      " correct   : 7\n",
      " incorrect : 7\n",
      "cf=0.95\n",
      " correct   : 12\n",
      " incorrect : 16\n",
      "cf=0.96\n",
      " correct   : 19\n",
      " incorrect : 20\n",
      "cf=0.97\n",
      " correct   : 40\n",
      " incorrect : 30\n",
      "cf=0.98\n",
      " correct   : 93\n",
      " incorrect : 56\n",
      "cf=0.99\n",
      " correct   : 223\n",
      " incorrect : 80\n"
     ]
    }
   ],
   "source": [
    "cf_filter(df_result_train)"
   ]
  },
  {
   "cell_type": "code",
   "execution_count": 277,
   "metadata": {
    "scrolled": true
   },
   "outputs": [
    {
     "name": "stdout",
     "output_type": "stream",
     "text": [
      "cf=0.90\n",
      " correct   : 0\n",
      " incorrect : 0\n",
      "cf=0.91\n",
      " correct   : 0\n",
      " incorrect : 0\n",
      "cf=0.92\n",
      " correct   : 0\n",
      " incorrect : 0\n",
      "cf=0.93\n",
      " correct   : 0\n",
      " incorrect : 0\n",
      "cf=0.94\n",
      " correct   : 0\n",
      " incorrect : 0\n",
      "cf=0.95\n",
      " correct   : 0\n",
      " incorrect : 0\n",
      "cf=0.96\n",
      " correct   : 0\n",
      " incorrect : 0\n",
      "cf=0.97\n",
      " correct   : 0\n",
      " incorrect : 0\n",
      "cf=0.98\n",
      " correct   : 0\n",
      " incorrect : 0\n",
      "cf=0.99\n",
      " correct   : 88\n",
      " incorrect : 14\n"
     ]
    }
   ],
   "source": [
    "cf_filter(df_result_test)"
   ]
  },
  {
   "cell_type": "code",
   "execution_count": 430,
   "metadata": {
    "scrolled": true
   },
   "outputs": [
    {
     "data": {
      "text/plain": [
       "1    823\n",
       "0     93\n",
       "Name: correct, dtype: int64"
      ]
     },
     "execution_count": 430,
     "metadata": {},
     "output_type": "execute_result"
    }
   ],
   "source": [
    "corrects = df_result_train['correct'].value_counts()\n",
    "corrects"
   ]
  },
  {
   "cell_type": "code",
   "execution_count": 196,
   "metadata": {},
   "outputs": [],
   "source": [
    "def accuracy(df, cf):\n",
    "    df_passed = df.query('cf > {}'.format(cf))\n",
    "    if len(df_passed) > 0:\n",
    "        nb_corrects = df_passed['correct'].value_counts()[1]\n",
    "        return nb_corrects / len(df_passed)\n",
    "    else:\n",
    "        return 0"
   ]
  },
  {
   "cell_type": "code",
   "execution_count": 135,
   "metadata": {},
   "outputs": [],
   "source": [
    "def passing_rate(df, cf):\n",
    "    nb_passing = len(df.query('cf >= {}'.format(cf)))\n",
    "    return nb_passing / len(df)"
   ]
  },
  {
   "cell_type": "code",
   "execution_count": 526,
   "metadata": {
    "scrolled": false
   },
   "outputs": [
    {
     "data": {
      "text/plain": [
       "0.9827586206896551"
      ]
     },
     "execution_count": 526,
     "metadata": {},
     "output_type": "execute_result"
    }
   ],
   "source": [
    "accuracy(df_result_test, 0.992)"
   ]
  },
  {
   "cell_type": "code",
   "execution_count": 527,
   "metadata": {},
   "outputs": [
    {
     "data": {
      "text/plain": [
       "0.5686274509803921"
      ]
     },
     "execution_count": 527,
     "metadata": {},
     "output_type": "execute_result"
    }
   ],
   "source": [
    "passing_rate(df_result_test, 0.992)"
   ]
  },
  {
   "cell_type": "code",
   "execution_count": 489,
   "metadata": {},
   "outputs": [],
   "source": [
    "def accuracy_by_cf(df):\n",
    "    acc_list = []\n",
    "    pr_list = []\n",
    "    for cf in np.arange(0.90, 1.00, 0.001):\n",
    "#         print(\"cf={:.2f}\".format(cf))\n",
    "        acc = accuracy(df, cf)\n",
    "        pr  = passing_rate(df, cf)\n",
    "#         print(\"  Accuracy     :\", acc)\n",
    "#         print(\"  Passing rate :\", pr)\n",
    "        acc_list.append(acc)\n",
    "        pr_list.append(pr)\n",
    "    return acc_list, pr_list"
   ]
  },
  {
   "cell_type": "code",
   "execution_count": 490,
   "metadata": {
    "scrolled": true
   },
   "outputs": [],
   "source": [
    "acc_train, pr_train = accuracy_by_cf(df_result_train)"
   ]
  },
  {
   "cell_type": "code",
   "execution_count": 491,
   "metadata": {},
   "outputs": [],
   "source": [
    "acc_test, pr_test = accuracy_by_cf(df_result_test)"
   ]
  },
  {
   "cell_type": "code",
   "execution_count": 469,
   "metadata": {},
   "outputs": [
    {
     "data": {
      "text/plain": [
       "[]"
      ]
     },
     "execution_count": 469,
     "metadata": {},
     "output_type": "execute_result"
    },
    {
     "data": {
      "image/png": "[encoded data removed]",
      "text/plain": [
       "<Figure size 432x288 with 1 Axes>"
      ]
     },
     "metadata": {
      "needs_background": "light"
     },
     "output_type": "display_data"
    }
   ],
   "source": [
    "x = np.arange(0.90, 1.00, 0.001)\n",
    "fig, ax = plt.subplots()\n",
    "color_acc = 'orange'\n",
    "color_pr = 'blue'\n",
    "ax.plot(x, acc_train, color=color_acc, label='train accuracy')\n",
    "ax.plot(x, pr_train, color=color_pr, label='train passing rate')\n",
    "ax.plot(x, acc_test, color=color_acc, linestyle='dashed', label='test accuracy')\n",
    "ax.plot(x, pr_test, color=color_pr, linestyle='dashed', label='test passing rate')\n",
    "ax.grid(True)\n",
    "plt.xlabel('certainty factor')\n",
    "ax.set_ylim(0.7, 1.01)\n",
    "ax.legend()\n",
    "plt.savefig('./accuracy_and_passing-rate.png')\n",
    "plt.plot()"
   ]
  },
  {
   "cell_type": "code",
   "execution_count": null,
   "metadata": {},
   "outputs": [],
   "source": []
  }
 ],
 "metadata": {
  "hide_input": false,
  "kernelspec": {
   "display_name": "Python 3",
   "language": "python",
   "name": "python3"
  },
  "language_info": {
   "codemirror_mode": {
    "name": "ipython",
    "version": 3
   },
   "file_extension": ".py",
   "mimetype": "text/x-python",
   "name": "python",
   "nbconvert_exporter": "python",
   "pygments_lexer": "ipython3",
   "version": "3.7.1"
  },
  "toc": {
   "base_numbering": 1,
   "nav_menu": {},
   "number_sections": false,
   "sideBar": true,
   "skip_h1_title": true,
   "title_cell": "Table of Contents",
   "title_sidebar": "Contents",
   "toc_cell": true,
   "toc_position": {},
   "toc_section_display": true,
   "toc_window_display": true
  }
 },
 "nbformat": 4,
 "nbformat_minor": 2
}
