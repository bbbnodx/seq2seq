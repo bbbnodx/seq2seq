{
 "cells": [
  {
   "cell_type": "markdown",
   "metadata": {
    "toc": true
   },
   "source": [
    "<h1>Table of Contents<span class=\"tocSkip\"></span></h1>\n",
    "<div class=\"toc\"><ul class=\"toc-item\"><li><span><a href=\"#前処理\" data-toc-modified-id=\"前処理-1\" data-vivaldi-spatnav-clickable=\"1\">前処理</a></span><ul class=\"toc-item\"><li><span><a href=\"#データセット読み込みと文字IDベクトルへの変換\" data-toc-modified-id=\"データセット読み込みと文字IDベクトルへの変換-1.1\" data-vivaldi-spatnav-clickable=\"1\">データセット読み込みと文字IDベクトルへの変換</a></span></li><li><span><a href=\"#ハイパーパラメータ設定とデータ前処理\" data-toc-modified-id=\"ハイパーパラメータ設定とデータ前処理-1.2\" data-vivaldi-spatnav-clickable=\"1\">ハイパーパラメータ設定とデータ前処理</a></span></li><li><span><a href=\"#model,-optimizer,-trainerインスタンス作成\" data-toc-modified-id=\"model,-optimizer,-trainerインスタンス作成-1.3\" data-vivaldi-spatnav-clickable=\"1\">model, optimizer, trainerインスタンス作成</a></span></li></ul></li><li><span><a href=\"#学習実行\" data-toc-modified-id=\"学習実行-2\" data-vivaldi-spatnav-clickable=\"1\">学習実行</a></span></li><li><span><a href=\"#推論\" data-toc-modified-id=\"推論-3\" data-vivaldi-spatnav-clickable=\"1\">推論</a></span></li><li><span><a href=\"#結果の保存\" data-toc-modified-id=\"結果の保存-4\" data-vivaldi-spatnav-clickable=\"1\">結果の保存</a></span></li><li><span><a href=\"#確信度の取得\" data-toc-modified-id=\"確信度の取得-5\" data-vivaldi-spatnav-clickable=\"1\">確信度の取得</a></span></li></ul></div>"
   ]
  },
  {
   "cell_type": "markdown",
   "metadata": {},
   "source": [
    "# seq2seqモデルの学習と結果の保存"
   ]
  },
  {
   "cell_type": "markdown",
   "metadata": {},
   "source": [
    "ディレクトリ構成：  \n",
    "```\n",
    "./\n",
    "├dataset/\n",
    "│   └(読み込むCSVファイル)\n",
    "├models/\n",
    "│   └(モデルパラメータキャッシュファイル)\n",
    "├notebooks/\n",
    "│   └train_seq2seq.ipynb(このファイル)\n",
    "├results/\n",
    "│   └(実行結果CSVと学習曲線グラフ画像)\n",
    "└src/\n",
    "   ├common/\n",
    "   │ └(共用クラス、関数)\n",
    "   ├data/\n",
    "   │ └(データ読み書き用コード)\n",
    "   ├attention_layer.py\n",
    "   ├attention_seq2seq.py\n",
    "   ├peeky_seq2seq.py\n",
    "   └seq2seq.py\n",
    "```"
   ]
  },
  {
   "cell_type": "code",
   "execution_count": 109,
   "metadata": {},
   "outputs": [
    {
     "name": "stdout",
     "output_type": "stream",
     "text": [
      "Once deleted, variables cannot be recovered. Proceed (y/[n])? y\n"
     ]
    }
   ],
   "source": [
    "# 変数の全消去\n",
    "%reset"
   ]
  },
  {
   "cell_type": "code",
   "execution_count": 1,
   "metadata": {},
   "outputs": [],
   "source": [
    "# coding: utf-8\n",
    "import sys\n",
    "sys.path.append(\"../src\")\n",
    "import os\n",
    "import numpy as np\n",
    "import pandas as pd\n",
    "import matplotlib.pyplot as plt\n",
    "from pathlib import Path\n",
    "from datetime import datetime\n",
    "from data.sequence import TextSequence\n",
    "from common.optimizer import Adam\n",
    "from common.trainer import Trainer\n",
    "from common.util import eval_seq2seq\n",
    "from seq2seq import Seq2seq, Seq2seqBiLSTM\n",
    "from peeky_seq2seq import PeekySeq2seq, PeekySeq2seqBiLSTM\n",
    "from attention_seq2seq import AttentionSeq2seq, AttentionSeq2seqBiLSTM"
   ]
  },
  {
   "cell_type": "code",
   "execution_count": 2,
   "metadata": {},
   "outputs": [],
   "source": [
    "# matplotlibのインライン表示\n",
    "%matplotlib inline\n",
    "# モジュールの更新時に自動で再読み込み\n",
    "%reload_ext autoreload\n",
    "%autoreload 2"
   ]
  },
  {
   "cell_type": "code",
   "execution_count": 3,
   "metadata": {},
   "outputs": [],
   "source": [
    "# ディレクトリパスの設定\n",
    "dataset_dir =Path('../dataset')\n",
    "result_dir = Path('../results')\n",
    "model_dir = Path('../models')"
   ]
  },
  {
   "cell_type": "code",
   "execution_count": 27,
   "metadata": {},
   "outputs": [],
   "source": [
    "# ファイルパスの設定\n",
    "vocab_csv = [dataset_dir / \"interpretation_train43_and_test40_rev3.csv\", dataset_dir / \"interpretation_excel_concat_rev2.csv\"]\n",
    "# source_csv = dataset_dir / \"interpretation_train43_and_test40_rev3.csv\"\n",
    "source_csv = dataset_dir / \"interpretation_excel_concat_rev2.csv\"\n",
    "dataset_name = source_csv.stem\n",
    "encoding = \"utf-8\""
   ]
  },
  {
   "cell_type": "code",
   "execution_count": 583,
   "metadata": {},
   "outputs": [],
   "source": [
    "# 最初から訓練データとテストデータが分かれているときはこっち\n",
    "source_csv = dataset_dir /\"interpretation_excel.csv\"  # 結果ファイル名に用いる\n",
    "train_csv = dataset_dir / \"interpretation_excel_train_trim.csv\"\n",
    "test_csv = dataset_dir / \"interpretation_excel_validation_trim.csv\""
   ]
  },
  {
   "cell_type": "markdown",
   "metadata": {},
   "source": [
    "## 前処理\n",
    "### データセット読み込みと文字IDベクトルへの変換"
   ]
  },
  {
   "cell_type": "code",
   "execution_count": 28,
   "metadata": {
    "scrolled": false
   },
   "outputs": [],
   "source": [
    "# 全てのデータセットを読み込み、Vocabularyを作成する\n",
    "seq = TextSequence()\n",
    "for path in vocab_csv:\n",
    "    seq.read_csv(path)\n",
    "char_to_id, id_to_char = seq.vocab"
   ]
  },
  {
   "cell_type": "code",
   "execution_count": 29,
   "metadata": {
    "scrolled": true
   },
   "outputs": [
    {
     "data": {
      "text/plain": [
       "(array([[  4,   8,  83, ...,   0,   0,   0],\n",
       "        [  4,   8,  83, ...,   0,   0,   0],\n",
       "        [  5,  22,  30, ...,  20,  19, 300],\n",
       "        ...,\n",
       "        [238, 188, 236, ...,   0,   0,   0],\n",
       "        [238, 188, 236, ...,   0,   0,   0],\n",
       "        [238, 188, 236, ...,   0,   0,   0]]),\n",
       " array([[  1, 248,  63, ...,   0,   0,   0],\n",
       "        [  1, 248,  63, ...,   0,   0,   0],\n",
       "        [  1, 298, 241, ...,   0,   0,   0],\n",
       "        ...,\n",
       "        [  1, 265, 238, ...,   0,   0,   0],\n",
       "        [  1, 265, 238, ...,   0,   0,   0],\n",
       "        [  1, 265, 238, ...,   0,   0,   0]]))"
      ]
     },
     "execution_count": 29,
     "metadata": {},
     "output_type": "execute_result"
    }
   ],
   "source": [
    "# 学習対象のデータセットを読み込み\n",
    "seq.read_csv(source_csv)"
   ]
  },
  {
   "cell_type": "code",
   "execution_count": 25,
   "metadata": {},
   "outputs": [
    {
     "ename": "NameError",
     "evalue": "name 'train_csv' is not defined",
     "output_type": "error",
     "traceback": [
      "\u001b[1;31m---------------------------------------------------------------------------\u001b[0m",
      "\u001b[1;31mNameError\u001b[0m                                 Traceback (most recent call last)",
      "\u001b[1;32m<ipython-input-25-e5a86900c53d>\u001b[0m in \u001b[0;36m<module>\u001b[1;34m\u001b[0m\n\u001b[0;32m      1\u001b[0m \u001b[1;31m# 最初から訓練データとテストデータが分かれているときはこっち\u001b[0m\u001b[1;33m\u001b[0m\u001b[1;33m\u001b[0m\u001b[1;33m\u001b[0m\u001b[0m\n\u001b[0;32m      2\u001b[0m \u001b[0mseq\u001b[0m \u001b[1;33m=\u001b[0m \u001b[0mTextSequence\u001b[0m\u001b[1;33m(\u001b[0m\u001b[1;33m)\u001b[0m\u001b[1;33m\u001b[0m\u001b[1;33m\u001b[0m\u001b[0m\n\u001b[1;32m----> 3\u001b[1;33m \u001b[0mseq\u001b[0m\u001b[1;33m.\u001b[0m\u001b[0mread_csv\u001b[0m\u001b[1;33m(\u001b[0m\u001b[0mtrain_csv\u001b[0m\u001b[1;33m)\u001b[0m\u001b[1;33m\u001b[0m\u001b[1;33m\u001b[0m\u001b[0m\n\u001b[0m\u001b[0;32m      4\u001b[0m \u001b[0mx_train\u001b[0m\u001b[1;33m,\u001b[0m \u001b[0mt_train\u001b[0m \u001b[1;33m=\u001b[0m \u001b[0mseq\u001b[0m\u001b[1;33m.\u001b[0m\u001b[0mshuffle\u001b[0m\u001b[1;33m(\u001b[0m\u001b[0mseed\u001b[0m\u001b[1;33m=\u001b[0m\u001b[1;36m1\u001b[0m\u001b[1;33m)\u001b[0m\u001b[1;33m\u001b[0m\u001b[1;33m\u001b[0m\u001b[0m\n\u001b[0;32m      5\u001b[0m \u001b[0mseq\u001b[0m\u001b[1;33m.\u001b[0m\u001b[0mread_csv\u001b[0m\u001b[1;33m(\u001b[0m\u001b[0mtest_csv\u001b[0m\u001b[1;33m,\u001b[0m \u001b[0mvocab_init\u001b[0m\u001b[1;33m=\u001b[0m\u001b[1;32mFalse\u001b[0m\u001b[1;33m)\u001b[0m\u001b[1;33m\u001b[0m\u001b[1;33m\u001b[0m\u001b[0m\n",
      "\u001b[1;31mNameError\u001b[0m: name 'train_csv' is not defined"
     ]
    }
   ],
   "source": [
    "# 最初から訓練データとテストデータが分かれているときはこっち\n",
    "seq = TextSequence()\n",
    "seq.read_csv(train_csv)\n",
    "x_train, t_train = seq.shuffle(seed=1)\n",
    "seq.read_csv(test_csv, vocab_init=False)\n",
    "x_test, t_test = seq.shuffle(seed=1)\n",
    "char_to_id, id_to_char = seq.vocab"
   ]
  },
  {
   "cell_type": "markdown",
   "metadata": {},
   "source": [
    "### ハイパーパラメータ設定とデータ前処理"
   ]
  },
  {
   "cell_type": "code",
   "execution_count": 50,
   "metadata": {},
   "outputs": [],
   "source": [
    "# ハイパーパラメータ\n",
    "vocab_size = len(char_to_id)\n",
    "wordvec_size = 128\n",
    "hidden_size = 128\n",
    "batch_size = 32\n",
    "max_epoch = 200\n",
    "max_grad = 5.0"
   ]
  },
  {
   "cell_type": "code",
   "execution_count": 31,
   "metadata": {},
   "outputs": [
    {
     "data": {
      "text/plain": [
       "428"
      ]
     },
     "execution_count": 31,
     "metadata": {},
     "output_type": "execute_result"
    }
   ],
   "source": [
    "vocab_size"
   ]
  },
  {
   "cell_type": "code",
   "execution_count": 32,
   "metadata": {},
   "outputs": [],
   "source": [
    "# データセット分割\n",
    "x_train, x_test, t_train, t_test = seq.split_data(seed=1, test_size=0.1)"
   ]
  },
  {
   "cell_type": "markdown",
   "metadata": {},
   "source": [
    "### model, optimizer, trainerインスタンス作成"
   ]
  },
  {
   "cell_type": "code",
   "execution_count": 54,
   "metadata": {},
   "outputs": [],
   "source": [
    "# モデル選択\n",
    "# model = Seq2seq(vocab_size, wordvec_size, hidden_size, ignore_index=seq.PAD_id)\n",
    "model = PeekySeq2seq(vocab_size, wordvec_size, hidden_size, ignore_index=seq.PAD_id)\n",
    "# model = AttentionSeq2seq(vocab_size, wordvec_size, hidden_size, ignore_index=seq.PAD_id)\n",
    "# model = Seq2seqBiLSTM(vocab_size, wordvec_size, hidden_size, ignore_index=seq.PAD_id)\n",
    "# model = PeekySeq2seqBiLSTM(vocab_size, wordvec_size, hidden_size, ignore_index=seq.PAD_id)\n",
    "# model = AttentionSeq2seqBiLSTM(vocab_size, wordvec_size, hidden_size, ignore_index=seq.PAD_id)"
   ]
  },
  {
   "cell_type": "code",
   "execution_count": 55,
   "metadata": {},
   "outputs": [],
   "source": [
    "# OptimizerとTrainerインスタンスの初期化\n",
    "optimizer = Adam()\n",
    "trainer = Trainer(model, optimizer)"
   ]
  },
  {
   "cell_type": "markdown",
   "metadata": {},
   "source": [
    "## 学習実行"
   ]
  },
  {
   "cell_type": "code",
   "execution_count": 56,
   "metadata": {
    "scrolled": false
   },
   "outputs": [
    {
     "name": "stdout",
     "output_type": "stream",
     "text": [
      "Target dataset:  interpretation_excel_concat_rev2\n",
      "Start training:\n",
      "model = PeekySeq2seq\n",
      "optimizer = Adam\n",
      "batch size = 32\n",
      "train epochs = 200\n",
      "| epoch 1 | time/total 3/3[s] | loss = 4.90400\n",
      "| epoch 1 | time/total 5/5[s] | train error = 1.00000\n",
      "| epoch 1 | time/total 5/5[s] | test error  = 1.00000\n",
      "| epoch 2 | time/total 3/9[s] | loss = 2.80264\n",
      "| epoch 2 | time/total 5/10[s] | train error = 1.00000\n",
      "| epoch 2 | time/total 5/10[s] | test error  = 1.00000\n",
      "| epoch 3 | time/total 3/14[s] | loss = 2.36214\n",
      "| epoch 3 | time/total 5/15[s] | train error = 1.00000\n",
      "| epoch 3 | time/total 5/16[s] | test error  = 1.00000\n",
      "| epoch 4 | time/total 3/19[s] | loss = 2.03672\n",
      "| epoch 4 | time/total 5/21[s] | train error = 1.00000\n",
      "| epoch 4 | time/total 5/21[s] | test error  = 1.00000\n",
      "| epoch 5 | time/total 3/24[s] | loss = 1.83692\n",
      "| epoch 5 | time/total 5/26[s] | train error = 1.00000\n",
      "| epoch 5 | time/total 5/26[s] | test error  = 1.00000\n",
      "| epoch 6 | time/total 3/30[s] | loss = 1.63327\n",
      "| epoch 7 | time/total 3/33[s] | loss = 1.44613\n",
      "| epoch 8 | time/total 3/37[s] | loss = 1.27624\n",
      "| epoch 9 | time/total 3/41[s] | loss = 1.13244\n",
      "| epoch 10 | time/total 3/44[s] | loss = 0.99121\n",
      "| epoch 10 | time/total 5/46[s] | train error = 1.00000\n",
      "| epoch 10 | time/total 5/46[s] | test error  = 1.00000\n",
      "| epoch 11 | time/total 3/50[s] | loss = 0.87321\n",
      "| epoch 12 | time/total 3/53[s] | loss = 0.75745\n",
      "| epoch 13 | time/total 3/57[s] | loss = 0.65459\n",
      "| epoch 14 | time/total 3/60[s] | loss = 0.56863\n",
      "| epoch 15 | time/total 3/64[s] | loss = 0.48223\n",
      "| epoch 16 | time/total 3/67[s] | loss = 0.42303\n",
      "| epoch 17 | time/total 3/71[s] | loss = 0.37166\n",
      "| epoch 18 | time/total 3/75[s] | loss = 0.33663\n",
      "| epoch 19 | time/total 3/78[s] | loss = 0.29895\n",
      "| epoch 20 | time/total 3/82[s] | loss = 0.27240\n",
      "| epoch 20 | time/total 5/83[s] | train error = 0.85065\n",
      "| epoch 20 | time/total 5/83[s] | test error  = 0.89855\n",
      "| epoch 21 | time/total 3/87[s] | loss = 0.24961\n",
      "| epoch 22 | time/total 3/91[s] | loss = 0.23145\n",
      "| epoch 23 | time/total 3/94[s] | loss = 0.21373\n",
      "| epoch 24 | time/total 3/98[s] | loss = 0.20119\n",
      "| epoch 25 | time/total 3/101[s] | loss = 0.18888\n",
      "| epoch 26 | time/total 3/105[s] | loss = 0.17846\n",
      "| epoch 27 | time/total 3/109[s] | loss = 0.16772\n",
      "| epoch 28 | time/total 3/112[s] | loss = 0.15775\n",
      "| epoch 29 | time/total 3/116[s] | loss = 0.15381\n",
      "| epoch 30 | time/total 3/120[s] | loss = 0.15217\n",
      "| epoch 30 | time/total 5/121[s] | train error = 0.66558\n",
      "| epoch 30 | time/total 5/122[s] | test error  = 0.73913\n",
      "| epoch 31 | time/total 3/125[s] | loss = 0.13611\n",
      "| epoch 32 | time/total 3/129[s] | loss = 0.12596\n",
      "| epoch 33 | time/total 3/133[s] | loss = 0.12186\n",
      "| epoch 34 | time/total 3/136[s] | loss = 0.11551\n",
      "| epoch 35 | time/total 3/140[s] | loss = 0.11331\n",
      "| epoch 36 | time/total 3/144[s] | loss = 0.10532\n",
      "| epoch 37 | time/total 3/147[s] | loss = 0.10577\n",
      "| epoch 38 | time/total 3/151[s] | loss = 0.10027\n",
      "| epoch 39 | time/total 3/155[s] | loss = 0.09123\n",
      "| epoch 40 | time/total 3/158[s] | loss = 0.08740\n",
      "| epoch 40 | time/total 5/160[s] | train error = 0.44156\n",
      "| epoch 40 | time/total 5/160[s] | test error  = 0.47826\n",
      "| epoch 41 | time/total 3/164[s] | loss = 0.08119\n",
      "| epoch 42 | time/total 3/168[s] | loss = 0.07833\n",
      "| epoch 43 | time/total 3/172[s] | loss = 0.07306\n",
      "| epoch 44 | time/total 3/175[s] | loss = 0.07974\n",
      "| epoch 45 | time/total 3/179[s] | loss = 0.07306\n",
      "| epoch 46 | time/total 3/183[s] | loss = 0.06763\n",
      "| epoch 47 | time/total 3/186[s] | loss = 0.06332\n",
      "| epoch 48 | time/total 3/190[s] | loss = 0.06260\n",
      "| epoch 49 | time/total 3/194[s] | loss = 0.05969\n",
      "| epoch 50 | time/total 3/198[s] | loss = 0.05823\n",
      "| epoch 50 | time/total 5/199[s] | train error = 0.33279\n",
      "| epoch 50 | time/total 5/199[s] | test error  = 0.36232\n",
      "| epoch 51 | time/total 3/203[s] | loss = 0.05415\n",
      "| epoch 52 | time/total 3/207[s] | loss = 0.05079\n",
      "| epoch 53 | time/total 3/210[s] | loss = 0.04870\n",
      "| epoch 54 | time/total 3/214[s] | loss = 0.04613\n",
      "| epoch 55 | time/total 3/217[s] | loss = 0.04395\n",
      "| epoch 56 | time/total 3/221[s] | loss = 0.04349\n",
      "| epoch 57 | time/total 3/225[s] | loss = 0.05148\n",
      "| epoch 58 | time/total 3/228[s] | loss = 0.04956\n",
      "| epoch 59 | time/total 3/232[s] | loss = 0.04701\n",
      "| epoch 60 | time/total 3/236[s] | loss = 0.04093\n",
      "| epoch 60 | time/total 5/237[s] | train error = 0.20779\n",
      "| epoch 60 | time/total 5/238[s] | test error  = 0.30435\n",
      "| epoch 61 | time/total 3/241[s] | loss = 0.03688\n",
      "| epoch 62 | time/total 3/245[s] | loss = 0.03345\n",
      "| epoch 63 | time/total 3/249[s] | loss = 0.03441\n",
      "| epoch 64 | time/total 3/252[s] | loss = 0.03335\n",
      "| epoch 65 | time/total 3/256[s] | loss = 0.03135\n",
      "| epoch 66 | time/total 3/260[s] | loss = 0.02984\n",
      "| epoch 67 | time/total 3/263[s] | loss = 0.02844\n",
      "| epoch 68 | time/total 3/267[s] | loss = 0.02603\n",
      "| epoch 69 | time/total 3/271[s] | loss = 0.02399\n",
      "| epoch 70 | time/total 3/274[s] | loss = 0.02336\n",
      "| epoch 70 | time/total 5/276[s] | train error = 0.11364\n",
      "| epoch 70 | time/total 5/276[s] | test error  = 0.23188\n",
      "| epoch 71 | time/total 3/280[s] | loss = 0.02236\n",
      "| epoch 72 | time/total 3/283[s] | loss = 0.02172\n",
      "| epoch 73 | time/total 3/287[s] | loss = 0.02180\n",
      "| epoch 74 | time/total 3/291[s] | loss = 0.02160\n",
      "| epoch 75 | time/total 3/295[s] | loss = 0.01959\n",
      "| epoch 76 | time/total 3/298[s] | loss = 0.01853\n",
      "| epoch 77 | time/total 3/302[s] | loss = 0.01880\n",
      "| epoch 78 | time/total 3/306[s] | loss = 0.01956\n",
      "| epoch 79 | time/total 3/310[s] | loss = 0.02372\n",
      "| epoch 80 | time/total 3/313[s] | loss = 0.03209\n",
      "| epoch 80 | time/total 5/315[s] | train error = 0.17695\n",
      "| epoch 80 | time/total 5/315[s] | test error  = 0.26087\n",
      "| epoch 81 | time/total 3/319[s] | loss = 0.02739\n",
      "| epoch 82 | time/total 3/322[s] | loss = 0.02160\n",
      "| epoch 83 | time/total 3/326[s] | loss = 0.01814\n",
      "| epoch 84 | time/total 3/330[s] | loss = 0.01583\n",
      "| epoch 85 | time/total 3/334[s] | loss = 0.01574\n",
      "| epoch 86 | time/total 3/337[s] | loss = 0.01520\n",
      "| epoch 87 | time/total 3/341[s] | loss = 0.01387\n",
      "| epoch 88 | time/total 3/344[s] | loss = 0.01277\n",
      "| epoch 89 | time/total 3/348[s] | loss = 0.01213\n",
      "| epoch 90 | time/total 3/352[s] | loss = 0.01248\n",
      "| epoch 90 | time/total 5/353[s] | train error = 0.07630\n",
      "| epoch 90 | time/total 5/353[s] | test error  = 0.23188\n",
      "| epoch 91 | time/total 3/357[s] | loss = 0.01257\n",
      "| epoch 92 | time/total 3/361[s] | loss = 0.01213\n",
      "| epoch 93 | time/total 3/365[s] | loss = 0.01148\n",
      "| epoch 94 | time/total 3/369[s] | loss = 0.01043\n",
      "| epoch 95 | time/total 3/372[s] | loss = 0.01001\n",
      "| epoch 96 | time/total 3/376[s] | loss = 0.01040\n",
      "| epoch 97 | time/total 3/380[s] | loss = 0.01113\n",
      "| epoch 98 | time/total 3/383[s] | loss = 0.01295\n",
      "| epoch 99 | time/total 3/387[s] | loss = 0.01262\n",
      "| epoch 100 | time/total 3/390[s] | loss = 0.01095\n",
      "| epoch 100 | time/total 5/392[s] | train error = 0.06818\n",
      "| epoch 100 | time/total 5/392[s] | test error  = 0.18841\n",
      "| epoch 101 | time/total 3/396[s] | loss = 0.01016\n",
      "| epoch 102 | time/total 4/400[s] | loss = 0.00939\n",
      "| epoch 103 | time/total 3/404[s] | loss = 0.00858\n",
      "| epoch 104 | time/total 3/407[s] | loss = 0.00774\n",
      "| epoch 105 | time/total 3/411[s] | loss = 0.00742\n",
      "| epoch 106 | time/total 3/415[s] | loss = 0.00706\n",
      "| epoch 107 | time/total 3/419[s] | loss = 0.00683\n",
      "| epoch 108 | time/total 3/423[s] | loss = 0.00643\n",
      "| epoch 109 | time/total 3/426[s] | loss = 0.00660\n",
      "| epoch 110 | time/total 3/430[s] | loss = 0.00729\n",
      "| epoch 110 | time/total 5/432[s] | train error = 0.02110\n",
      "| epoch 110 | time/total 5/432[s] | test error  = 0.17391\n",
      "| epoch 111 | time/total 3/436[s] | loss = 0.00705\n",
      "| epoch 112 | time/total 3/440[s] | loss = 0.00851\n",
      "| epoch 113 | time/total 3/443[s] | loss = 0.01369\n",
      "| epoch 114 | time/total 3/447[s] | loss = 0.01421\n",
      "| epoch 115 | time/total 3/451[s] | loss = 0.01294\n",
      "| epoch 116 | time/total 3/455[s] | loss = 0.00927\n",
      "| epoch 117 | time/total 3/458[s] | loss = 0.00905\n",
      "| epoch 118 | time/total 3/462[s] | loss = 0.00704\n",
      "| epoch 119 | time/total 3/466[s] | loss = 0.00663\n",
      "| epoch 120 | time/total 3/470[s] | loss = 0.00602\n",
      "| epoch 120 | time/total 5/471[s] | train error = 0.02273\n",
      "| epoch 120 | time/total 5/471[s] | test error  = 0.18841\n",
      "| epoch 121 | time/total 3/475[s] | loss = 0.00528\n",
      "| epoch 122 | time/total 3/479[s] | loss = 0.00526\n",
      "| epoch 123 | time/total 3/482[s] | loss = 0.00521\n"
     ]
    },
    {
     "name": "stdout",
     "output_type": "stream",
     "text": [
      "| epoch 124 | time/total 3/486[s] | loss = 0.00477\n",
      "| epoch 125 | time/total 3/490[s] | loss = 0.00447\n",
      "| epoch 126 | time/total 3/493[s] | loss = 0.00436\n",
      "| epoch 127 | time/total 3/497[s] | loss = 0.00393\n",
      "| epoch 128 | time/total 3/501[s] | loss = 0.00392\n",
      "| epoch 129 | time/total 3/504[s] | loss = 0.00370\n",
      "| epoch 130 | time/total 3/508[s] | loss = 0.00655\n",
      "| epoch 130 | time/total 5/509[s] | train error = 0.04383\n",
      "| epoch 130 | time/total 5/509[s] | test error  = 0.20290\n",
      "| epoch 131 | time/total 3/513[s] | loss = 0.00914\n",
      "| epoch 132 | time/total 3/517[s] | loss = 0.00843\n",
      "| epoch 133 | time/total 3/520[s] | loss = 0.01502\n",
      "| epoch 134 | time/total 3/524[s] | loss = 0.01855\n",
      "| epoch 135 | time/total 3/528[s] | loss = 0.01426\n",
      "| epoch 136 | time/total 3/532[s] | loss = 0.01038\n",
      "| epoch 137 | time/total 3/536[s] | loss = 0.00863\n",
      "| epoch 138 | time/total 3/539[s] | loss = 0.00598\n",
      "| epoch 139 | time/total 3/543[s] | loss = 0.00479\n",
      "| epoch 140 | time/total 3/546[s] | loss = 0.00411\n",
      "| epoch 140 | time/total 5/548[s] | train error = 0.01299\n",
      "| epoch 140 | time/total 5/548[s] | test error  = 0.18841\n",
      "| epoch 141 | time/total 3/552[s] | loss = 0.00362\n",
      "| epoch 142 | time/total 3/555[s] | loss = 0.00324\n"
     ]
    },
    {
     "ename": "KeyboardInterrupt",
     "evalue": "",
     "output_type": "error",
     "traceback": [
      "\u001b[0;31m---------------------------------------------------------------------------\u001b[0m",
      "\u001b[0;31mKeyboardInterrupt\u001b[0m                         Traceback (most recent call last)",
      "\u001b[0;32m<ipython-input-56-c49c017168ee>\u001b[0m in \u001b[0;36m<module>\u001b[0;34m\u001b[0m\n\u001b[1;32m      4\u001b[0m             \u001b[0mmax_epoch\u001b[0m\u001b[0;34m=\u001b[0m\u001b[0mmax_epoch\u001b[0m\u001b[0;34m,\u001b[0m\u001b[0;34m\u001b[0m\u001b[0m\n\u001b[1;32m      5\u001b[0m             \u001b[0mbatch_size\u001b[0m\u001b[0;34m=\u001b[0m\u001b[0mbatch_size\u001b[0m\u001b[0;34m,\u001b[0m\u001b[0;34m\u001b[0m\u001b[0m\n\u001b[0;32m----> 6\u001b[0;31m             max_grad=max_grad)\n\u001b[0m",
      "\u001b[0;32m~/seq2seq/src/common/trainer.py\u001b[0m in \u001b[0;36mfit\u001b[0;34m(self, x_train, t_train, x_test, t_test, max_epoch, batch_size, max_grad, eval_interval)\u001b[0m\n\u001b[1;32m     43\u001b[0m \u001b[0;34m\u001b[0m\u001b[0m\n\u001b[1;32m     44\u001b[0m                 \u001b[0;31m# 勾配を求め、パラメータを更新\u001b[0m\u001b[0;34m\u001b[0m\u001b[0;34m\u001b[0m\u001b[0m\n\u001b[0;32m---> 45\u001b[0;31m                 \u001b[0mloss\u001b[0m \u001b[0;34m=\u001b[0m \u001b[0mmodel\u001b[0m\u001b[0;34m.\u001b[0m\u001b[0mforward\u001b[0m\u001b[0;34m(\u001b[0m\u001b[0mbatch_x\u001b[0m\u001b[0;34m,\u001b[0m \u001b[0mbatch_t\u001b[0m\u001b[0;34m)\u001b[0m\u001b[0;34m\u001b[0m\u001b[0m\n\u001b[0m\u001b[1;32m     46\u001b[0m                 \u001b[0mmodel\u001b[0m\u001b[0;34m.\u001b[0m\u001b[0mbackward\u001b[0m\u001b[0;34m(\u001b[0m\u001b[0;34m)\u001b[0m\u001b[0;34m\u001b[0m\u001b[0m\n\u001b[1;32m     47\u001b[0m                 \u001b[0mparams\u001b[0m\u001b[0;34m,\u001b[0m \u001b[0mgrads\u001b[0m \u001b[0;34m=\u001b[0m \u001b[0mremove_duplicate\u001b[0m\u001b[0;34m(\u001b[0m\u001b[0mmodel\u001b[0m\u001b[0;34m.\u001b[0m\u001b[0mparams\u001b[0m\u001b[0;34m,\u001b[0m \u001b[0mmodel\u001b[0m\u001b[0;34m.\u001b[0m\u001b[0mgrads\u001b[0m\u001b[0;34m)\u001b[0m  \u001b[0;31m# 共有された重みを1つに集約\u001b[0m\u001b[0;34m\u001b[0m\u001b[0m\n",
      "\u001b[0;32m~/seq2seq/src/seq2seq.py\u001b[0m in \u001b[0;36mforward\u001b[0;34m(self, xs, ts)\u001b[0m\n\u001b[1;32m    263\u001b[0m         \u001b[0mdecoder_xs\u001b[0m\u001b[0;34m,\u001b[0m \u001b[0mdecoder_ts\u001b[0m \u001b[0;34m=\u001b[0m \u001b[0mts\u001b[0m\u001b[0;34m[\u001b[0m\u001b[0;34m:\u001b[0m\u001b[0;34m,\u001b[0m \u001b[0;34m:\u001b[0m\u001b[0;34m-\u001b[0m\u001b[0;36m1\u001b[0m\u001b[0;34m]\u001b[0m\u001b[0;34m,\u001b[0m \u001b[0mts\u001b[0m\u001b[0;34m[\u001b[0m\u001b[0;34m:\u001b[0m\u001b[0;34m,\u001b[0m \u001b[0;36m1\u001b[0m\u001b[0;34m:\u001b[0m\u001b[0;34m]\u001b[0m\u001b[0;34m\u001b[0m\u001b[0m\n\u001b[1;32m    264\u001b[0m \u001b[0;34m\u001b[0m\u001b[0m\n\u001b[0;32m--> 265\u001b[0;31m         \u001b[0mh\u001b[0m \u001b[0;34m=\u001b[0m \u001b[0mself\u001b[0m\u001b[0;34m.\u001b[0m\u001b[0mencoder\u001b[0m\u001b[0;34m.\u001b[0m\u001b[0mforward\u001b[0m\u001b[0;34m(\u001b[0m\u001b[0mencoder_xs\u001b[0m\u001b[0;34m)\u001b[0m\u001b[0;34m\u001b[0m\u001b[0m\n\u001b[0m\u001b[1;32m    266\u001b[0m         \u001b[0mscore\u001b[0m \u001b[0;34m=\u001b[0m \u001b[0mself\u001b[0m\u001b[0;34m.\u001b[0m\u001b[0mdecoder\u001b[0m\u001b[0;34m.\u001b[0m\u001b[0mforward\u001b[0m\u001b[0;34m(\u001b[0m\u001b[0mdecoder_xs\u001b[0m\u001b[0;34m,\u001b[0m \u001b[0mh\u001b[0m\u001b[0;34m)\u001b[0m\u001b[0;34m\u001b[0m\u001b[0m\n\u001b[1;32m    267\u001b[0m         \u001b[0mloss\u001b[0m \u001b[0;34m=\u001b[0m \u001b[0mself\u001b[0m\u001b[0;34m.\u001b[0m\u001b[0mloss\u001b[0m\u001b[0;34m.\u001b[0m\u001b[0mforward\u001b[0m\u001b[0;34m(\u001b[0m\u001b[0mscore\u001b[0m\u001b[0;34m,\u001b[0m \u001b[0mdecoder_ts\u001b[0m\u001b[0;34m)\u001b[0m\u001b[0;34m\u001b[0m\u001b[0m\n",
      "\u001b[0;32m~/seq2seq/src/seq2seq.py\u001b[0m in \u001b[0;36mforward\u001b[0;34m(self, xs)\u001b[0m\n\u001b[1;32m     58\u001b[0m     \u001b[0;32mdef\u001b[0m \u001b[0mforward\u001b[0m\u001b[0;34m(\u001b[0m\u001b[0mself\u001b[0m\u001b[0;34m,\u001b[0m \u001b[0mxs\u001b[0m\u001b[0;34m)\u001b[0m\u001b[0;34m:\u001b[0m\u001b[0;34m\u001b[0m\u001b[0m\n\u001b[1;32m     59\u001b[0m         \u001b[0mxs\u001b[0m \u001b[0;34m=\u001b[0m \u001b[0mself\u001b[0m\u001b[0;34m.\u001b[0m\u001b[0membed\u001b[0m\u001b[0;34m.\u001b[0m\u001b[0mforward\u001b[0m\u001b[0;34m(\u001b[0m\u001b[0mxs\u001b[0m\u001b[0;34m)\u001b[0m\u001b[0;34m\u001b[0m\u001b[0m\n\u001b[0;32m---> 60\u001b[0;31m         \u001b[0mhs\u001b[0m \u001b[0;34m=\u001b[0m \u001b[0mself\u001b[0m\u001b[0;34m.\u001b[0m\u001b[0mlstm\u001b[0m\u001b[0;34m.\u001b[0m\u001b[0mforward\u001b[0m\u001b[0;34m(\u001b[0m\u001b[0mxs\u001b[0m\u001b[0;34m)\u001b[0m\u001b[0;34m\u001b[0m\u001b[0m\n\u001b[0m\u001b[1;32m     61\u001b[0m         \u001b[0mself\u001b[0m\u001b[0;34m.\u001b[0m\u001b[0mhs\u001b[0m \u001b[0;34m=\u001b[0m \u001b[0mhs\u001b[0m\u001b[0;34m\u001b[0m\u001b[0m\n\u001b[1;32m     62\u001b[0m         \u001b[0;31m# 最後の隠れ状態を返す\u001b[0m\u001b[0;34m\u001b[0m\u001b[0;34m\u001b[0m\u001b[0m\n",
      "\u001b[0;32m~/seq2seq/src/common/time_layers.py\u001b[0m in \u001b[0;36mforward\u001b[0;34m(self, xs)\u001b[0m\n\u001b[1;32m    190\u001b[0m \u001b[0;34m\u001b[0m\u001b[0m\n\u001b[1;32m    191\u001b[0m         \u001b[0;32mfor\u001b[0m \u001b[0mt\u001b[0m \u001b[0;32min\u001b[0m \u001b[0mrange\u001b[0m\u001b[0;34m(\u001b[0m\u001b[0mT\u001b[0m\u001b[0;34m)\u001b[0m\u001b[0;34m:\u001b[0m\u001b[0;34m\u001b[0m\u001b[0m\n\u001b[0;32m--> 192\u001b[0;31m             \u001b[0mlayer\u001b[0m \u001b[0;34m=\u001b[0m \u001b[0mLSTM\u001b[0m\u001b[0;34m(\u001b[0m\u001b[0;34m*\u001b[0m\u001b[0mself\u001b[0m\u001b[0;34m.\u001b[0m\u001b[0mparams\u001b[0m\u001b[0;34m)\u001b[0m\u001b[0;34m\u001b[0m\u001b[0m\n\u001b[0m\u001b[1;32m    193\u001b[0m             \u001b[0mself\u001b[0m\u001b[0;34m.\u001b[0m\u001b[0mh\u001b[0m\u001b[0;34m,\u001b[0m \u001b[0mself\u001b[0m\u001b[0;34m.\u001b[0m\u001b[0mc\u001b[0m \u001b[0;34m=\u001b[0m \u001b[0mlayer\u001b[0m\u001b[0;34m.\u001b[0m\u001b[0mforward\u001b[0m\u001b[0;34m(\u001b[0m\u001b[0mxs\u001b[0m\u001b[0;34m[\u001b[0m\u001b[0;34m:\u001b[0m\u001b[0;34m,\u001b[0m \u001b[0mt\u001b[0m\u001b[0;34m,\u001b[0m \u001b[0;34m:\u001b[0m\u001b[0;34m]\u001b[0m\u001b[0;34m,\u001b[0m \u001b[0mself\u001b[0m\u001b[0;34m.\u001b[0m\u001b[0mh\u001b[0m\u001b[0;34m,\u001b[0m \u001b[0mself\u001b[0m\u001b[0;34m.\u001b[0m\u001b[0mc\u001b[0m\u001b[0;34m)\u001b[0m\u001b[0;34m\u001b[0m\u001b[0m\n\u001b[1;32m    194\u001b[0m             \u001b[0mhs\u001b[0m\u001b[0;34m[\u001b[0m\u001b[0;34m:\u001b[0m\u001b[0;34m,\u001b[0m \u001b[0mt\u001b[0m\u001b[0;34m,\u001b[0m \u001b[0;34m:\u001b[0m\u001b[0;34m]\u001b[0m \u001b[0;34m=\u001b[0m \u001b[0mself\u001b[0m\u001b[0;34m.\u001b[0m\u001b[0mh\u001b[0m\u001b[0;34m\u001b[0m\u001b[0m\n",
      "\u001b[0;32m~/seq2seq/src/common/time_layers.py\u001b[0m in \u001b[0;36m__init__\u001b[0;34m(self, Wx, Wh, b)\u001b[0m\n\u001b[1;32m    105\u001b[0m         '''\n\u001b[1;32m    106\u001b[0m         \u001b[0mself\u001b[0m\u001b[0;34m.\u001b[0m\u001b[0mparams\u001b[0m \u001b[0;34m=\u001b[0m \u001b[0;34m[\u001b[0m\u001b[0mWx\u001b[0m\u001b[0;34m,\u001b[0m \u001b[0mWh\u001b[0m\u001b[0;34m,\u001b[0m \u001b[0mb\u001b[0m\u001b[0;34m]\u001b[0m\u001b[0;34m\u001b[0m\u001b[0m\n\u001b[0;32m--> 107\u001b[0;31m         \u001b[0mself\u001b[0m\u001b[0;34m.\u001b[0m\u001b[0mgrads\u001b[0m \u001b[0;34m=\u001b[0m \u001b[0;34m[\u001b[0m\u001b[0mnp\u001b[0m\u001b[0;34m.\u001b[0m\u001b[0mzeros_like\u001b[0m\u001b[0;34m(\u001b[0m\u001b[0mWx\u001b[0m\u001b[0;34m)\u001b[0m\u001b[0;34m,\u001b[0m \u001b[0mnp\u001b[0m\u001b[0;34m.\u001b[0m\u001b[0mzeros_like\u001b[0m\u001b[0;34m(\u001b[0m\u001b[0mWh\u001b[0m\u001b[0;34m)\u001b[0m\u001b[0;34m,\u001b[0m \u001b[0mnp\u001b[0m\u001b[0;34m.\u001b[0m\u001b[0mzeros_like\u001b[0m\u001b[0;34m(\u001b[0m\u001b[0mb\u001b[0m\u001b[0;34m)\u001b[0m\u001b[0;34m]\u001b[0m\u001b[0;34m\u001b[0m\u001b[0m\n\u001b[0m\u001b[1;32m    108\u001b[0m         \u001b[0mself\u001b[0m\u001b[0;34m.\u001b[0m\u001b[0mcache\u001b[0m \u001b[0;34m=\u001b[0m \u001b[0;32mNone\u001b[0m\u001b[0;34m\u001b[0m\u001b[0m\n\u001b[1;32m    109\u001b[0m \u001b[0;34m\u001b[0m\u001b[0m\n",
      "\u001b[0;32m/usr/local/var/pyenv/versions/3.6.2/lib/python3.6/site-packages/numpy/core/numeric.py\u001b[0m in \u001b[0;36mzeros_like\u001b[0;34m(a, dtype, order, subok)\u001b[0m\n\u001b[1;32m    140\u001b[0m     \u001b[0;31m# needed instead of a 0 to get same result as zeros for for string dtypes\u001b[0m\u001b[0;34m\u001b[0m\u001b[0;34m\u001b[0m\u001b[0m\n\u001b[1;32m    141\u001b[0m     \u001b[0mz\u001b[0m \u001b[0;34m=\u001b[0m \u001b[0mzeros\u001b[0m\u001b[0;34m(\u001b[0m\u001b[0;36m1\u001b[0m\u001b[0;34m,\u001b[0m \u001b[0mdtype\u001b[0m\u001b[0;34m=\u001b[0m\u001b[0mres\u001b[0m\u001b[0;34m.\u001b[0m\u001b[0mdtype\u001b[0m\u001b[0;34m)\u001b[0m\u001b[0;34m\u001b[0m\u001b[0m\n\u001b[0;32m--> 142\u001b[0;31m     \u001b[0mmultiarray\u001b[0m\u001b[0;34m.\u001b[0m\u001b[0mcopyto\u001b[0m\u001b[0;34m(\u001b[0m\u001b[0mres\u001b[0m\u001b[0;34m,\u001b[0m \u001b[0mz\u001b[0m\u001b[0;34m,\u001b[0m \u001b[0mcasting\u001b[0m\u001b[0;34m=\u001b[0m\u001b[0;34m'unsafe'\u001b[0m\u001b[0;34m)\u001b[0m\u001b[0;34m\u001b[0m\u001b[0m\n\u001b[0m\u001b[1;32m    143\u001b[0m     \u001b[0;32mreturn\u001b[0m \u001b[0mres\u001b[0m\u001b[0;34m\u001b[0m\u001b[0m\n\u001b[1;32m    144\u001b[0m \u001b[0;34m\u001b[0m\u001b[0m\n",
      "\u001b[0;31mKeyboardInterrupt\u001b[0m: "
     ]
    }
   ],
   "source": [
    "# Train\n",
    "print(\"Target dataset: \", dataset_name)\n",
    "trainer.fit(x_train, t_train, x_test, t_test,\n",
    "            max_epoch=max_epoch,\n",
    "            batch_size=batch_size,\n",
    "            max_grad=max_grad)"
   ]
  },
  {
   "cell_type": "markdown",
   "metadata": {},
   "source": [
    "## 推論"
   ]
  },
  {
   "cell_type": "code",
   "execution_count": 40,
   "metadata": {
    "scrolled": false
   },
   "outputs": [],
   "source": [
    "# Inference\n",
    "start_id = seq.start_id\n",
    "sample_size = seq.sample_size\n",
    "guess_train = model.generate(x_train, start_id, sample_size)\n",
    "guess_test = model.generate(x_test, start_id, sample_size)"
   ]
  },
  {
   "cell_type": "markdown",
   "metadata": {},
   "source": [
    "## 結果の保存"
   ]
  },
  {
   "cell_type": "code",
   "execution_count": 41,
   "metadata": {},
   "outputs": [],
   "source": [
    "# 保存ファイルのファイル名生成\n",
    "modelname = model.__class__.__name__\n",
    "timestamp = datetime.now().strftime(\"_%y%m%d_%H%M\")\n",
    "save_dir = result_dir / (dataset_name + timestamp)\n",
    "os.makedirs(save_dir, exist_ok=True)"
   ]
  },
  {
   "cell_type": "code",
   "execution_count": 42,
   "metadata": {},
   "outputs": [
    {
     "name": "stdout",
     "output_type": "stream",
     "text": [
      "Accuracy: 0.9561688311688312\n",
      "Accuracy: 0.8260869565217391\n"
     ]
    }
   ],
   "source": [
    "# Save result as csv\n",
    "result_train_csv = save_dir /  (\"result_\" + dataset_name + \"_\" + modelname + \"_train.csv\")\n",
    "result_test_csv = save_dir / (\"result_\" + dataset_name + \"_\" + modelname + \"_test.csv\")\n",
    "df_result_train = seq.result_to_csv(result_train_csv, x_train, t_train, guess_train, encoding=encoding)\n",
    "df_result_test = seq.result_to_csv(result_test_csv, x_test, t_test, guess_test, encoding=encoding)"
   ]
  },
  {
   "cell_type": "code",
   "execution_count": 43,
   "metadata": {},
   "outputs": [
    {
     "name": "stdout",
     "output_type": "stream",
     "text": [
      "Accuracy: 0.9561688311688312\n",
      "Accuracy: 0.8260869565217391\n"
     ]
    }
   ],
   "source": [
    "# Save result as csv as utf-8 with BOM\n",
    "result_train_csv = save_dir /  (\"result_\" + dataset_name + \"_\" + modelname + \"_train_bom.csv\")\n",
    "result_test_csv = save_dir / (\"result_\" + dataset_name + \"_\" + modelname + \"_test_bom.csv\")\n",
    "df_result_train = seq.result_to_csv(result_train_csv, x_train, t_train, guess_train, encoding=\"utf_8_sig\")\n",
    "df_result_test = seq.result_to_csv(result_test_csv, x_test, t_test, guess_test, encoding=\"utf_8_sig\")"
   ]
  },
  {
   "cell_type": "code",
   "execution_count": 44,
   "metadata": {
    "scrolled": true
   },
   "outputs": [
    {
     "data": {
      "text/plain": [
       "40"
      ]
     },
     "execution_count": 44,
     "metadata": {},
     "output_type": "execute_result"
    }
   ],
   "source": [
    "sample_size"
   ]
  },
  {
   "cell_type": "code",
   "execution_count": 45,
   "metadata": {
    "scrolled": true
   },
   "outputs": [
    {
     "data": {
      "image/png": "[encoded data removed]",
      "text/plain": [
       "<Figure size 432x288 with 2 Axes>"
      ]
     },
     "metadata": {},
     "output_type": "display_data"
    }
   ],
   "source": [
    "# Plot learning curve and save it as png image\n",
    "image_path = save_dir / ('result_' + dataset_name + \"_\" + modelname + '.png')\n",
    "trainer.plot(image_path=image_path, log_scale=False)"
   ]
  },
  {
   "cell_type": "code",
   "execution_count": 46,
   "metadata": {},
   "outputs": [],
   "source": [
    "# Save parameters\n",
    "pickle_path = model_dir / (dataset_name + \"_\" + modelname + '_V' + str(vocab_size) + '_D' + str(wordvec_size) + '_H' + str(hidden_size) + timestamp + '.pkl')\n",
    "model.save_params(file_name=pickle_path)"
   ]
  },
  {
   "cell_type": "markdown",
   "metadata": {},
   "source": [
    "## 確信度の取得"
   ]
  },
  {
   "cell_type": "code",
   "execution_count": 177,
   "metadata": {},
   "outputs": [],
   "source": [
    "model.load_params(file_name=str(pickle_path))"
   ]
  },
  {
   "cell_type": "code",
   "execution_count": 484,
   "metadata": {
    "scrolled": true
   },
   "outputs": [],
   "source": [
    "# Inference with certainty factor\n",
    "start_id = seq.start_id\n",
    "sample_size = seq.sample_size\n",
    "guess_train, cf_train = model.generate_with_cf(x_train, start_id, sample_size)\n",
    "guess_test, cf_test = model.generate_with_cf(x_test, start_id, sample_size)"
   ]
  },
  {
   "cell_type": "code",
   "execution_count": 485,
   "metadata": {},
   "outputs": [],
   "source": [
    "# 保存ファイルのファイル名生成\n",
    "modelname = model.__class__.__name__\n",
    "timestamp = datetime.now().strftime(\"_%y%m%d_%H%M\")\n",
    "save_dir = result_dir / (dataset_name + timestamp)\n",
    "os.makedirs(save_dir, exist_ok=True)"
   ]
  },
  {
   "cell_type": "code",
   "execution_count": 488,
   "metadata": {
    "scrolled": false
   },
   "outputs": [
    {
     "name": "stdout",
     "output_type": "stream",
     "text": [
      "Accuracy: 0.898471615720524\n",
      "Accuracy: 0.8627450980392157\n"
     ]
    }
   ],
   "source": [
    "# Save result as csv\n",
    "result_train_csv = save_dir /  (\"result_\" + dataset_name + \"_\" + modelname + \"_train.csv\")\n",
    "result_test_csv = save_dir / (\"result_\" + dataset_name + \"_\" + modelname + \"_test.csv\")\n",
    "df_result_train = seq.result_to_csv(result_train_csv, x_train, t_train, guess_train, cf=cf_train, encoding=encoding)\n",
    "df_result_test = seq.result_to_csv(result_test_csv, x_test, t_test, guess_test, cf=cf_test, encoding=encoding)"
   ]
  },
  {
   "cell_type": "code",
   "execution_count": 109,
   "metadata": {},
   "outputs": [],
   "source": [
    "def cf_filter(df):\n",
    "    for factor in np.arange(0.90, 1.00, 0.01):\n",
    "        print(\"cf={:.2f}\".format(factor))\n",
    "        print(\" correct   :\", df.query('correct == 1 and cf < {}'.format(factor)).shape[0])\n",
    "        print(\" incorrect :\", df.query('correct == 0 and cf < {}'.format(factor)).shape[0])"
   ]
  },
  {
   "cell_type": "code",
   "execution_count": 342,
   "metadata": {
    "scrolled": false
   },
   "outputs": [
    {
     "name": "stdout",
     "output_type": "stream",
     "text": [
      "cf=0.90\n",
      " correct   : 4\n",
      " incorrect : 5\n",
      "cf=0.91\n",
      " correct   : 4\n",
      " incorrect : 5\n",
      "cf=0.92\n",
      " correct   : 5\n",
      " incorrect : 5\n",
      "cf=0.93\n",
      " correct   : 7\n",
      " incorrect : 7\n",
      "cf=0.94\n",
      " correct   : 7\n",
      " incorrect : 7\n",
      "cf=0.95\n",
      " correct   : 12\n",
      " incorrect : 16\n",
      "cf=0.96\n",
      " correct   : 19\n",
      " incorrect : 20\n",
      "cf=0.97\n",
      " correct   : 40\n",
      " incorrect : 30\n",
      "cf=0.98\n",
      " correct   : 93\n",
      " incorrect : 56\n",
      "cf=0.99\n",
      " correct   : 223\n",
      " incorrect : 80\n"
     ]
    }
   ],
   "source": [
    "cf_filter(df_result_train)"
   ]
  },
  {
   "cell_type": "code",
   "execution_count": 277,
   "metadata": {
    "scrolled": true
   },
   "outputs": [
    {
     "name": "stdout",
     "output_type": "stream",
     "text": [
      "cf=0.90\n",
      " correct   : 0\n",
      " incorrect : 0\n",
      "cf=0.91\n",
      " correct   : 0\n",
      " incorrect : 0\n",
      "cf=0.92\n",
      " correct   : 0\n",
      " incorrect : 0\n",
      "cf=0.93\n",
      " correct   : 0\n",
      " incorrect : 0\n",
      "cf=0.94\n",
      " correct   : 0\n",
      " incorrect : 0\n",
      "cf=0.95\n",
      " correct   : 0\n",
      " incorrect : 0\n",
      "cf=0.96\n",
      " correct   : 0\n",
      " incorrect : 0\n",
      "cf=0.97\n",
      " correct   : 0\n",
      " incorrect : 0\n",
      "cf=0.98\n",
      " correct   : 0\n",
      " incorrect : 0\n",
      "cf=0.99\n",
      " correct   : 88\n",
      " incorrect : 14\n"
     ]
    }
   ],
   "source": [
    "cf_filter(df_result_test)"
   ]
  },
  {
   "cell_type": "code",
   "execution_count": 430,
   "metadata": {
    "scrolled": true
   },
   "outputs": [
    {
     "data": {
      "text/plain": [
       "1    823\n",
       "0     93\n",
       "Name: correct, dtype: int64"
      ]
     },
     "execution_count": 430,
     "metadata": {},
     "output_type": "execute_result"
    }
   ],
   "source": [
    "corrects = df_result_train['correct'].value_counts()\n",
    "corrects"
   ]
  },
  {
   "cell_type": "code",
   "execution_count": 196,
   "metadata": {},
   "outputs": [],
   "source": [
    "def accuracy(df, cf):\n",
    "    df_passed = df.query('cf > {}'.format(cf))\n",
    "    if len(df_passed) > 0:\n",
    "        nb_corrects = df_passed['correct'].value_counts()[1]\n",
    "        return nb_corrects / len(df_passed)\n",
    "    else:\n",
    "        return 0"
   ]
  },
  {
   "cell_type": "code",
   "execution_count": 135,
   "metadata": {},
   "outputs": [],
   "source": [
    "def passing_rate(df, cf):\n",
    "    nb_passing = len(df.query('cf >= {}'.format(cf)))\n",
    "    return nb_passing / len(df)"
   ]
  },
  {
   "cell_type": "code",
   "execution_count": 526,
   "metadata": {
    "scrolled": false
   },
   "outputs": [
    {
     "data": {
      "text/plain": [
       "0.9827586206896551"
      ]
     },
     "execution_count": 526,
     "metadata": {},
     "output_type": "execute_result"
    }
   ],
   "source": [
    "accuracy(df_result_test, 0.992)"
   ]
  },
  {
   "cell_type": "code",
   "execution_count": 527,
   "metadata": {},
   "outputs": [
    {
     "data": {
      "text/plain": [
       "0.5686274509803921"
      ]
     },
     "execution_count": 527,
     "metadata": {},
     "output_type": "execute_result"
    }
   ],
   "source": [
    "passing_rate(df_result_test, 0.992)"
   ]
  },
  {
   "cell_type": "code",
   "execution_count": 489,
   "metadata": {},
   "outputs": [],
   "source": [
    "def accuracy_by_cf(df):\n",
    "    acc_list = []\n",
    "    pr_list = []\n",
    "    for cf in np.arange(0.90, 1.00, 0.001):\n",
    "#         print(\"cf={:.2f}\".format(cf))\n",
    "        acc = accuracy(df, cf)\n",
    "        pr  = passing_rate(df, cf)\n",
    "#         print(\"  Accuracy     :\", acc)\n",
    "#         print(\"  Passing rate :\", pr)\n",
    "        acc_list.append(acc)\n",
    "        pr_list.append(pr)\n",
    "    return acc_list, pr_list"
   ]
  },
  {
   "cell_type": "code",
   "execution_count": 490,
   "metadata": {
    "scrolled": true
   },
   "outputs": [],
   "source": [
    "acc_train, pr_train = accuracy_by_cf(df_result_train)"
   ]
  },
  {
   "cell_type": "code",
   "execution_count": 491,
   "metadata": {},
   "outputs": [],
   "source": [
    "acc_test, pr_test = accuracy_by_cf(df_result_test)"
   ]
  },
  {
   "cell_type": "code",
   "execution_count": 469,
   "metadata": {},
   "outputs": [
    {
     "data": {
      "text/plain": [
       "[]"
      ]
     },
     "execution_count": 469,
     "metadata": {},
     "output_type": "execute_result"
    },
    {
     "data": {
      "image/png": "[encoded data removed]",
      "text/plain": [
       "<Figure size 432x288 with 1 Axes>"
      ]
     },
     "metadata": {
      "needs_background": "light"
     },
     "output_type": "display_data"
    }
   ],
   "source": [
    "x = np.arange(0.90, 1.00, 0.001)\n",
    "fig, ax = plt.subplots()\n",
    "color_acc = 'orange'\n",
    "color_pr = 'blue'\n",
    "ax.plot(x, acc_train, color=color_acc, label='train accuracy')\n",
    "ax.plot(x, pr_train, color=color_pr, label='train passing rate')\n",
    "ax.plot(x, acc_test, color=color_acc, linestyle='dashed', label='test accuracy')\n",
    "ax.plot(x, pr_test, color=color_pr, linestyle='dashed', label='test passing rate')\n",
    "ax.grid(True)\n",
    "plt.xlabel('certainty factor')\n",
    "ax.set_ylim(0.7, 1.01)\n",
    "ax.legend()\n",
    "plt.savefig('./accuracy_and_passing-rate.png')\n",
    "plt.plot()"
   ]
  },
  {
   "cell_type": "code",
   "execution_count": null,
   "metadata": {},
   "outputs": [],
   "source": []
  }
 ],
 "metadata": {
  "hide_input": false,
  "kernelspec": {
   "display_name": "Python 3",
   "language": "python",
   "name": "python3"
  },
  "language_info": {
   "codemirror_mode": {
    "name": "ipython",
    "version": 3
   },
   "file_extension": ".py",
   "mimetype": "text/x-python",
   "name": "python",
   "nbconvert_exporter": "python",
   "pygments_lexer": "ipython3",
   "version": "3.6.2"
  },
  "toc": {
   "base_numbering": 1,
   "nav_menu": {},
   "number_sections": false,
   "sideBar": true,
   "skip_h1_title": true,
   "title_cell": "Table of Contents",
   "title_sidebar": "Contents",
   "toc_cell": true,
   "toc_position": {},
   "toc_section_display": true,
   "toc_window_display": true
  }
 },
 "nbformat": 4,
 "nbformat_minor": 2
}
