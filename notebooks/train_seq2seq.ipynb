{
 "cells": [
  {
   "cell_type": "markdown",
   "metadata": {
    "toc": true
   },
   "source": [
    "<h1>Table of Contents<span class=\"tocSkip\"></span></h1>\n",
    "<div class=\"toc\"><ul class=\"toc-item\"><li><span><a href=\"#前処理\" data-toc-modified-id=\"前処理-1\" data-vivaldi-spatnav-clickable=\"1\">前処理</a></span><ul class=\"toc-item\"><li><span><a href=\"#データセット読み込みと文字IDベクトルへの変換\" data-toc-modified-id=\"データセット読み込みと文字IDベクトルへの変換-1.1\" data-vivaldi-spatnav-clickable=\"1\">データセット読み込みと文字IDベクトルへの変換</a></span></li><li><span><a href=\"#ハイパーパラメータ設定とデータ前処理\" data-toc-modified-id=\"ハイパーパラメータ設定とデータ前処理-1.2\" data-vivaldi-spatnav-clickable=\"1\">ハイパーパラメータ設定とデータ前処理</a></span></li><li><span><a href=\"#model,-optimizer,-trainerインスタンス作成\" data-toc-modified-id=\"model,-optimizer,-trainerインスタンス作成-1.3\" data-vivaldi-spatnav-clickable=\"1\">model, optimizer, trainerインスタンス作成</a></span></li></ul></li><li><span><a href=\"#学習実行\" data-toc-modified-id=\"学習実行-2\" data-vivaldi-spatnav-clickable=\"1\">学習実行</a></span></li><li><span><a href=\"#推論\" data-toc-modified-id=\"推論-3\" data-vivaldi-spatnav-clickable=\"1\">推論</a></span></li><li><span><a href=\"#結果の保存\" data-toc-modified-id=\"結果の保存-4\" data-vivaldi-spatnav-clickable=\"1\">結果の保存</a></span></li><li><span><a href=\"#確信度の取得\" data-toc-modified-id=\"確信度の取得-5\" data-vivaldi-spatnav-clickable=\"1\">確信度の取得</a></span></li></ul></div>"
   ]
  },
  {
   "cell_type": "markdown",
   "metadata": {},
   "source": [
    "# seq2seqモデルの学習と結果の保存"
   ]
  },
  {
   "cell_type": "markdown",
   "metadata": {},
   "source": [
    "ディレクトリ構成：  \n",
    "```\n",
    "./\n",
    "├dataset/\n",
    "│   └(読み込むCSVファイル)\n",
    "├models/\n",
    "│   └(モデルパラメータキャッシュファイル)\n",
    "├notebooks/\n",
    "│   └train_seq2seq.ipynb(このファイル)\n",
    "├results/\n",
    "│   └(実行結果CSVと学習曲線グラフ画像)\n",
    "└src/\n",
    "   ├common/\n",
    "   │ └(共用クラス、関数)\n",
    "   ├data/\n",
    "   │ └(データ読み書き用コード)\n",
    "   ├attention_layer.py\n",
    "   ├attention_seq2seq.py\n",
    "   ├peeky_seq2seq.py\n",
    "   └seq2seq.py\n",
    "```"
   ]
  },
  {
   "cell_type": "code",
   "execution_count": 109,
   "metadata": {},
   "outputs": [
    {
     "name": "stdout",
     "output_type": "stream",
     "text": [
      "Once deleted, variables cannot be recovered. Proceed (y/[n])? y\n"
     ]
    }
   ],
   "source": [
    "# 変数の全消去\n",
    "%reset"
   ]
  },
  {
   "cell_type": "code",
   "execution_count": 1,
   "metadata": {},
   "outputs": [],
   "source": [
    "# coding: utf-8\n",
    "import sys\n",
    "sys.path.append(\"../src\")\n",
    "import os\n",
    "import numpy as np\n",
    "import pandas as pd\n",
    "import matplotlib.pyplot as plt\n",
    "from pathlib import Path\n",
    "from datetime import datetime\n",
    "from data.sequence import TextSequence\n",
    "from common.optimizer import Adam\n",
    "from common.trainer import Trainer\n",
    "from common.util import eval_seq2seq\n",
    "from seq2seq import Seq2seq, Seq2seqBiLSTM\n",
    "from peeky_seq2seq import PeekySeq2seq, PeekySeq2seqBiLSTM\n",
    "from attention_seq2seq import AttentionSeq2seq, AttentionSeq2seqBiLSTM"
   ]
  },
  {
   "cell_type": "code",
   "execution_count": 2,
   "metadata": {},
   "outputs": [],
   "source": [
    "# matplotlibのインライン表示\n",
    "%matplotlib inline\n",
    "# モジュールの更新時に自動で再読み込み\n",
    "%reload_ext autoreload\n",
    "%autoreload 2"
   ]
  },
  {
   "cell_type": "code",
   "execution_count": 3,
   "metadata": {},
   "outputs": [],
   "source": [
    "# ディレクトリパスの設定\n",
    "dataset_dir =Path('../dataset')\n",
    "result_dir = Path('../results')\n",
    "model_dir = Path('../models')"
   ]
  },
  {
   "cell_type": "code",
   "execution_count": 4,
   "metadata": {},
   "outputs": [],
   "source": [
    "# ファイルパスの設定\n",
    "vocab_csv = [dataset_dir / \"interpretation_train43_and_test40_rev4.csv\", dataset_dir / \"interpretation_excel_concat_rev2.csv\"]\n",
    "source_csv = dataset_dir / \"interpretation_train43_and_test40_rev4.csv\"\n",
    "# source_csv = dataset_dir / \"interpretation_excel_concat_rev2.csv\"\n",
    "dataset_name = source_csv.stem\n",
    "encoding = \"utf-8\""
   ]
  },
  {
   "cell_type": "code",
   "execution_count": 583,
   "metadata": {},
   "outputs": [],
   "source": [
    "# 最初から訓練データとテストデータが分かれているときはこっち\n",
    "source_csv = dataset_dir /\"interpretation_excel.csv\"  # 結果ファイル名に用いる\n",
    "train_csv = dataset_dir / \"interpretation_excel_train_trim.csv\"\n",
    "test_csv = dataset_dir / \"interpretation_excel_validation_trim.csv\""
   ]
  },
  {
   "cell_type": "markdown",
   "metadata": {},
   "source": [
    "## 前処理\n",
    "### データセット読み込みと文字IDベクトルへの変換"
   ]
  },
  {
   "cell_type": "code",
   "execution_count": 30,
   "metadata": {
    "scrolled": false
   },
   "outputs": [],
   "source": [
    "# 全てのデータセットを読み込み、Vocabularyを作成する\n",
    "seq = TextSequence()\n",
    "for path in vocab_csv:\n",
    "    seq.read_csv(path)\n",
    "char_to_id, id_to_char = seq.vocab"
   ]
  },
  {
   "cell_type": "code",
   "execution_count": 31,
   "metadata": {
    "scrolled": true
   },
   "outputs": [
    {
     "data": {
      "text/plain": [
       "(array([[  4,   5,   6, ...,   0,   0,   0],\n",
       "        [  4,   5,   6, ...,   0,   0,   0],\n",
       "        [  4,  15,   5, ...,  26,  27,   7],\n",
       "        ...,\n",
       "        [123, 124,  24, ...,   0,   0,   0],\n",
       "        [123, 124,  24, ...,   0,   0,   0],\n",
       "        [123, 124,  24, ...,   0,   0,   0]]),\n",
       " array([[ 1,  8, 21, ...,  0,  0,  0],\n",
       "        [ 1,  8, 21, ...,  0,  0,  0],\n",
       "        [ 1,  8, 21, ..., 23, 12,  2],\n",
       "        ...,\n",
       "        [ 1, 17, 10, ...,  0,  0,  0],\n",
       "        [ 1, 17, 10, ...,  0,  0,  0],\n",
       "        [ 1, 17, 10, ...,  0,  0,  0]]))"
      ]
     },
     "execution_count": 31,
     "metadata": {},
     "output_type": "execute_result"
    }
   ],
   "source": [
    "# 学習対象のデータセットを読み込み\n",
    "seq.read_csv(source_csv)"
   ]
  },
  {
   "cell_type": "code",
   "execution_count": 25,
   "metadata": {},
   "outputs": [
    {
     "ename": "NameError",
     "evalue": "name 'train_csv' is not defined",
     "output_type": "error",
     "traceback": [
      "\u001b[1;31m---------------------------------------------------------------------------\u001b[0m",
      "\u001b[1;31mNameError\u001b[0m                                 Traceback (most recent call last)",
      "\u001b[1;32m<ipython-input-25-e5a86900c53d>\u001b[0m in \u001b[0;36m<module>\u001b[1;34m\u001b[0m\n\u001b[0;32m      1\u001b[0m \u001b[1;31m# 最初から訓練データとテストデータが分かれているときはこっち\u001b[0m\u001b[1;33m\u001b[0m\u001b[1;33m\u001b[0m\u001b[1;33m\u001b[0m\u001b[0m\n\u001b[0;32m      2\u001b[0m \u001b[0mseq\u001b[0m \u001b[1;33m=\u001b[0m \u001b[0mTextSequence\u001b[0m\u001b[1;33m(\u001b[0m\u001b[1;33m)\u001b[0m\u001b[1;33m\u001b[0m\u001b[1;33m\u001b[0m\u001b[0m\n\u001b[1;32m----> 3\u001b[1;33m \u001b[0mseq\u001b[0m\u001b[1;33m.\u001b[0m\u001b[0mread_csv\u001b[0m\u001b[1;33m(\u001b[0m\u001b[0mtrain_csv\u001b[0m\u001b[1;33m)\u001b[0m\u001b[1;33m\u001b[0m\u001b[1;33m\u001b[0m\u001b[0m\n\u001b[0m\u001b[0;32m      4\u001b[0m \u001b[0mx_train\u001b[0m\u001b[1;33m,\u001b[0m \u001b[0mt_train\u001b[0m \u001b[1;33m=\u001b[0m \u001b[0mseq\u001b[0m\u001b[1;33m.\u001b[0m\u001b[0mshuffle\u001b[0m\u001b[1;33m(\u001b[0m\u001b[0mseed\u001b[0m\u001b[1;33m=\u001b[0m\u001b[1;36m1\u001b[0m\u001b[1;33m)\u001b[0m\u001b[1;33m\u001b[0m\u001b[1;33m\u001b[0m\u001b[0m\n\u001b[0;32m      5\u001b[0m \u001b[0mseq\u001b[0m\u001b[1;33m.\u001b[0m\u001b[0mread_csv\u001b[0m\u001b[1;33m(\u001b[0m\u001b[0mtest_csv\u001b[0m\u001b[1;33m,\u001b[0m \u001b[0mvocab_init\u001b[0m\u001b[1;33m=\u001b[0m\u001b[1;32mFalse\u001b[0m\u001b[1;33m)\u001b[0m\u001b[1;33m\u001b[0m\u001b[1;33m\u001b[0m\u001b[0m\n",
      "\u001b[1;31mNameError\u001b[0m: name 'train_csv' is not defined"
     ]
    }
   ],
   "source": [
    "# 最初から訓練データとテストデータが分かれているときはこっち\n",
    "seq = TextSequence()\n",
    "seq.read_csv(train_csv)\n",
    "x_train, t_train = seq.shuffle(seed=1)\n",
    "seq.read_csv(test_csv, vocab_init=False)\n",
    "x_test, t_test = seq.shuffle(seed=1)\n",
    "char_to_id, id_to_char = seq.vocab"
   ]
  },
  {
   "cell_type": "markdown",
   "metadata": {},
   "source": [
    "### ハイパーパラメータ設定とデータ前処理"
   ]
  },
  {
   "cell_type": "code",
   "execution_count": 32,
   "metadata": {},
   "outputs": [],
   "source": [
    "# ハイパーパラメータ\n",
    "vocab_size = len(char_to_id)\n",
    "wordvec_size = 128\n",
    "hidden_size = 128\n",
    "batch_size = 32\n",
    "max_epoch = 150\n",
    "max_grad = 5.0"
   ]
  },
  {
   "cell_type": "code",
   "execution_count": 33,
   "metadata": {},
   "outputs": [
    {
     "data": {
      "text/plain": [
       "428"
      ]
     },
     "execution_count": 33,
     "metadata": {},
     "output_type": "execute_result"
    }
   ],
   "source": [
    "vocab_size"
   ]
  },
  {
   "cell_type": "code",
   "execution_count": 34,
   "metadata": {},
   "outputs": [],
   "source": [
    "# データセット分割\n",
    "x_train, x_test, t_train, t_test = seq.split_data(seed=1, test_size=0.1)"
   ]
  },
  {
   "cell_type": "markdown",
   "metadata": {},
   "source": [
    "### model, optimizer, trainerインスタンス作成"
   ]
  },
  {
   "cell_type": "code",
   "execution_count": 35,
   "metadata": {},
   "outputs": [],
   "source": [
    "# モデル選択\n",
    "# model = Seq2seq(vocab_size, wordvec_size, hidden_size, ignore_index=seq.PAD_id)\n",
    "# model = PeekySeq2seq(vocab_size, wordvec_size, hidden_size, ignore_index=seq.PAD_id)\n",
    "# model = AttentionSeq2seq(vocab_size, wordvec_size, hidden_size, ignore_index=seq.PAD_id)\n",
    "# model = Seq2seqBiLSTM(vocab_size, wordvec_size, hidden_size, ignore_index=seq.PAD_id)\n",
    "# model = PeekySeq2seqBiLSTM(vocab_size, wordvec_size, hidden_size, ignore_index=seq.PAD_id)\n",
    "model = AttentionSeq2seqBiLSTM(vocab_size, wordvec_size, hidden_size, ignore_index=seq.PAD_id)"
   ]
  },
  {
   "cell_type": "code",
   "execution_count": 36,
   "metadata": {},
   "outputs": [],
   "source": [
    "# OptimizerとTrainerインスタンスの初期化\n",
    "optimizer = Adam()\n",
    "trainer = Trainer(model, optimizer)"
   ]
  },
  {
   "cell_type": "markdown",
   "metadata": {},
   "source": [
    "## 学習実行"
   ]
  },
  {
   "cell_type": "code",
   "execution_count": 37,
   "metadata": {
    "scrolled": false
   },
   "outputs": [
    {
     "name": "stdout",
     "output_type": "stream",
     "text": [
      "Target dataset: interpretation_train43_and_test40_rev4\n",
      "Start training:\n",
      "model = AttentionSeq2seqBiLSTM\n",
      "optimizer = Adam\n",
      "batch size = 32\n",
      "train epochs = 150\n",
      "| epoch 1 | time/total 11/11[s] | loss = 3.83444\n",
      "| epoch 1 | time/total 15/15[s] | train error = 1.00000\n",
      "| epoch 1 | time/total 15/15[s] | test error  = 1.00000\n",
      "| epoch 2 | time/total 12/27[s] | loss = 1.24881\n",
      "| epoch 2 | time/total 16/31[s] | train error = 1.00000\n",
      "| epoch 2 | time/total 16/32[s] | test error  = 1.00000\n",
      "| epoch 3 | time/total 11/44[s] | loss = 1.13468\n",
      "| epoch 3 | time/total 15/48[s] | train error = 1.00000\n",
      "| epoch 3 | time/total 16/48[s] | test error  = 1.00000\n",
      "| epoch 4 | time/total 11/59[s] | loss = 1.01185\n",
      "| epoch 4 | time/total 15/63[s] | train error = 1.00000\n",
      "| epoch 4 | time/total 15/64[s] | test error  = 1.00000\n",
      "| epoch 5 | time/total 11/75[s] | loss = 0.92940\n",
      "| epoch 5 | time/total 15/79[s] | train error = 1.00000\n",
      "| epoch 5 | time/total 15/79[s] | test error  = 1.00000\n",
      "| epoch 6 | time/total 11/91[s] | loss = 0.84840\n",
      "| epoch 7 | time/total 11/102[s] | loss = 0.77795\n",
      "| epoch 8 | time/total 11/113[s] | loss = 0.68357\n",
      "| epoch 9 | time/total 11/124[s] | loss = 0.58806\n",
      "| epoch 10 | time/total 11/135[s] | loss = 0.47116\n",
      "| epoch 10 | time/total 15/139[s] | train error = 0.93242\n",
      "| epoch 10 | time/total 15/140[s] | test error  = 0.92105\n",
      "| epoch 11 | time/total 11/152[s] | loss = 0.38496\n",
      "| epoch 12 | time/total 12/164[s] | loss = 0.31395\n",
      "| epoch 13 | time/total 11/175[s] | loss = 0.26257\n",
      "| epoch 14 | time/total 11/186[s] | loss = 0.22160\n",
      "| epoch 15 | time/total 11/198[s] | loss = 0.19148\n",
      "| epoch 16 | time/total 11/209[s] | loss = 0.16948\n",
      "| epoch 17 | time/total 11/220[s] | loss = 0.15336\n",
      "| epoch 18 | time/total 11/231[s] | loss = 0.13777\n",
      "| epoch 19 | time/total 11/242[s] | loss = 0.12521\n",
      "| epoch 20 | time/total 11/253[s] | loss = 0.11410\n",
      "| epoch 20 | time/total 15/257[s] | train error = 0.62782\n",
      "| epoch 20 | time/total 15/258[s] | test error  = 0.65789\n",
      "| epoch 21 | time/total 11/269[s] | loss = 0.10461\n",
      "| epoch 22 | time/total 11/280[s] | loss = 0.09410\n",
      "| epoch 23 | time/total 11/291[s] | loss = 0.08832\n",
      "| epoch 24 | time/total 11/302[s] | loss = 0.08100\n",
      "| epoch 25 | time/total 11/313[s] | loss = 0.07268\n",
      "| epoch 26 | time/total 11/325[s] | loss = 0.06742\n",
      "| epoch 27 | time/total 11/336[s] | loss = 0.06481\n",
      "| epoch 28 | time/total 11/348[s] | loss = 0.05890\n",
      "| epoch 29 | time/total 11/359[s] | loss = 0.05693\n",
      "| epoch 30 | time/total 11/370[s] | loss = 0.05402\n",
      "| epoch 30 | time/total 14/374[s] | train error = 0.30656\n",
      "| epoch 30 | time/total 15/375[s] | test error  = 0.40351\n",
      "| epoch 31 | time/total 11/386[s] | loss = 0.04909\n",
      "| epoch 32 | time/total 11/397[s] | loss = 0.04621\n",
      "| epoch 33 | time/total 11/408[s] | loss = 0.04304\n",
      "| epoch 34 | time/total 11/420[s] | loss = 0.04308\n",
      "| epoch 35 | time/total 11/431[s] | loss = 0.03860\n",
      "| epoch 36 | time/total 11/442[s] | loss = 0.03616\n",
      "| epoch 37 | time/total 11/453[s] | loss = 0.03417\n",
      "| epoch 38 | time/total 11/465[s] | loss = 0.03161\n",
      "| epoch 39 | time/total 11/476[s] | loss = 0.03052\n",
      "| epoch 40 | time/total 11/487[s] | loss = 0.02822\n",
      "| epoch 40 | time/total 15/491[s] | train error = 0.17728\n",
      "| epoch 40 | time/total 15/492[s] | test error  = 0.20175\n",
      "| epoch 41 | time/total 11/503[s] | loss = 0.02689\n",
      "| epoch 42 | time/total 11/514[s] | loss = 0.02663\n",
      "| epoch 43 | time/total 11/525[s] | loss = 0.02503\n",
      "| epoch 44 | time/total 11/536[s] | loss = 0.02463\n",
      "| epoch 45 | time/total 11/548[s] | loss = 0.02203\n",
      "| epoch 46 | time/total 11/559[s] | loss = 0.02132\n",
      "| epoch 47 | time/total 11/570[s] | loss = 0.02006\n",
      "| epoch 48 | time/total 11/581[s] | loss = 0.02151\n",
      "| epoch 49 | time/total 11/592[s] | loss = 0.01908\n",
      "| epoch 50 | time/total 11/604[s] | loss = 0.02342\n",
      "| epoch 50 | time/total 15/608[s] | train error = 0.15475\n",
      "| epoch 50 | time/total 16/608[s] | test error  = 0.20175\n",
      "| epoch 51 | time/total 11/620[s] | loss = 0.01911\n",
      "| epoch 52 | time/total 11/632[s] | loss = 0.01894\n",
      "| epoch 53 | time/total 11/643[s] | loss = 0.01447\n",
      "| epoch 54 | time/total 11/655[s] | loss = 0.01253\n",
      "| epoch 55 | time/total 11/666[s] | loss = 0.01162\n",
      "| epoch 56 | time/total 11/677[s] | loss = 0.01093\n",
      "| epoch 57 | time/total 11/689[s] | loss = 0.01009\n",
      "| epoch 58 | time/total 11/700[s] | loss = 0.00963\n",
      "| epoch 59 | time/total 11/711[s] | loss = 0.00911\n",
      "| epoch 60 | time/total 11/723[s] | loss = 0.00901\n",
      "| epoch 60 | time/total 15/727[s] | train error = 0.05289\n",
      "| epoch 60 | time/total 15/727[s] | test error  = 0.12281\n",
      "| epoch 61 | time/total 11/739[s] | loss = 0.00833\n",
      "| epoch 62 | time/total 11/750[s] | loss = 0.00756\n",
      "| epoch 63 | time/total 11/761[s] | loss = 0.00723\n",
      "| epoch 64 | time/total 11/773[s] | loss = 0.00695\n",
      "| epoch 65 | time/total 11/784[s] | loss = 0.00630\n",
      "| epoch 66 | time/total 11/796[s] | loss = 0.00609\n",
      "| epoch 67 | time/total 11/807[s] | loss = 0.00606\n",
      "| epoch 68 | time/total 11/818[s] | loss = 0.00618\n",
      "| epoch 69 | time/total 11/830[s] | loss = 0.00538\n",
      "| epoch 70 | time/total 11/841[s] | loss = 0.00532\n",
      "| epoch 70 | time/total 15/846[s] | train error = 0.03036\n",
      "| epoch 70 | time/total 16/846[s] | test error  = 0.09649\n",
      "| epoch 71 | time/total 11/857[s] | loss = 0.00581\n",
      "| epoch 72 | time/total 11/869[s] | loss = 0.00737\n",
      "| epoch 73 | time/total 11/880[s] | loss = 0.01328\n",
      "| epoch 74 | time/total 11/891[s] | loss = 0.01155\n",
      "| epoch 75 | time/total 11/903[s] | loss = 0.00868\n",
      "| epoch 76 | time/total 11/914[s] | loss = 0.00717\n",
      "| epoch 77 | time/total 11/925[s] | loss = 0.00632\n",
      "| epoch 78 | time/total 11/937[s] | loss = 0.00525\n",
      "| epoch 79 | time/total 11/948[s] | loss = 0.00464\n",
      "| epoch 80 | time/total 11/959[s] | loss = 0.00441\n",
      "| epoch 80 | time/total 15/963[s] | train error = 0.03036\n",
      "| epoch 80 | time/total 15/964[s] | test error  = 0.09649\n",
      "| epoch 81 | time/total 11/975[s] | loss = 0.00377\n",
      "| epoch 82 | time/total 11/986[s] | loss = 0.00351\n",
      "| epoch 83 | time/total 11/998[s] | loss = 0.00354\n",
      "| epoch 84 | time/total 11/1009[s] | loss = 0.00340\n",
      "| epoch 85 | time/total 11/1020[s] | loss = 0.00310\n",
      "| epoch 86 | time/total 11/1032[s] | loss = 0.00426\n",
      "| epoch 87 | time/total 11/1043[s] | loss = 0.00318\n",
      "| epoch 88 | time/total 11/1054[s] | loss = 0.00290\n",
      "| epoch 89 | time/total 11/1066[s] | loss = 0.00254\n",
      "| epoch 90 | time/total 11/1077[s] | loss = 0.00249\n",
      "| epoch 90 | time/total 15/1081[s] | train error = 0.00979\n",
      "| epoch 90 | time/total 15/1081[s] | test error  = 0.07895\n",
      "| epoch 91 | time/total 11/1093[s] | loss = 0.00226\n",
      "| epoch 92 | time/total 11/1104[s] | loss = 0.00230\n",
      "| epoch 93 | time/total 11/1115[s] | loss = 0.00260\n",
      "| epoch 94 | time/total 11/1127[s] | loss = 0.00236\n",
      "| epoch 95 | time/total 11/1138[s] | loss = 0.00207\n",
      "| epoch 96 | time/total 11/1149[s] | loss = 0.00202\n",
      "| epoch 97 | time/total 11/1161[s] | loss = 0.00213\n",
      "| epoch 98 | time/total 12/1173[s] | loss = 0.00260\n",
      "| epoch 99 | time/total 11/1185[s] | loss = 0.00247\n",
      "| epoch 100 | time/total 11/1196[s] | loss = 0.01016\n",
      "| epoch 100 | time/total 15/1200[s] | train error = 0.09990\n",
      "| epoch 100 | time/total 15/1201[s] | test error  = 0.13158\n",
      "| epoch 101 | time/total 11/1212[s] | loss = 0.01065\n",
      "| epoch 102 | time/total 11/1224[s] | loss = 0.00725\n",
      "| epoch 103 | time/total 11/1235[s] | loss = 0.00531\n",
      "| epoch 104 | time/total 11/1247[s] | loss = 0.00363\n",
      "| epoch 105 | time/total 11/1258[s] | loss = 0.00271\n",
      "| epoch 106 | time/total 11/1270[s] | loss = 0.00241\n",
      "| epoch 107 | time/total 11/1281[s] | loss = 0.00185\n",
      "| epoch 108 | time/total 11/1293[s] | loss = 0.00173\n",
      "| epoch 109 | time/total 11/1305[s] | loss = 0.00193\n",
      "| epoch 110 | time/total 11/1317[s] | loss = 0.00158\n",
      "| epoch 110 | time/total 15/1321[s] | train error = 0.00784\n",
      "| epoch 110 | time/total 16/1321[s] | test error  = 0.07895\n",
      "| epoch 111 | time/total 11/1333[s] | loss = 0.00146\n",
      "| epoch 112 | time/total 11/1344[s] | loss = 0.00142\n",
      "| epoch 113 | time/total 11/1356[s] | loss = 0.00141\n",
      "| epoch 114 | time/total 11/1367[s] | loss = 0.00135\n",
      "| epoch 115 | time/total 11/1379[s] | loss = 0.00129\n",
      "| epoch 116 | time/total 11/1390[s] | loss = 0.00172\n",
      "| epoch 117 | time/total 11/1402[s] | loss = 0.00144\n",
      "| epoch 118 | time/total 11/1413[s] | loss = 0.00120\n",
      "| epoch 119 | time/total 11/1424[s] | loss = 0.00119\n",
      "| epoch 120 | time/total 11/1436[s] | loss = 0.00106\n",
      "| epoch 120 | time/total 15/1440[s] | train error = 0.01077\n"
     ]
    },
    {
     "name": "stdout",
     "output_type": "stream",
     "text": [
      "| epoch 120 | time/total 16/1440[s] | test error  = 0.07018\n",
      "| epoch 121 | time/total 11/1452[s] | loss = 0.00613\n",
      "| epoch 122 | time/total 11/1463[s] | loss = 0.00338\n",
      "| epoch 123 | time/total 11/1475[s] | loss = 0.00343\n",
      "| epoch 124 | time/total 11/1486[s] | loss = 0.00250\n",
      "| epoch 125 | time/total 11/1498[s] | loss = 0.00143\n",
      "| epoch 126 | time/total 11/1509[s] | loss = 0.00122\n",
      "| epoch 127 | time/total 11/1521[s] | loss = 0.00112\n",
      "| epoch 128 | time/total 11/1532[s] | loss = 0.00118\n",
      "| epoch 129 | time/total 11/1544[s] | loss = 0.00101\n",
      "| epoch 130 | time/total 11/1555[s] | loss = 0.00098\n",
      "| epoch 130 | time/total 15/1559[s] | train error = 0.00294\n",
      "| epoch 130 | time/total 15/1559[s] | test error  = 0.06140\n",
      "| epoch 131 | time/total 11/1571[s] | loss = 0.00091\n",
      "| epoch 132 | time/total 11/1582[s] | loss = 0.00086\n",
      "| epoch 133 | time/total 11/1593[s] | loss = 0.00081\n",
      "| epoch 134 | time/total 11/1605[s] | loss = 0.00079\n",
      "| epoch 135 | time/total 11/1616[s] | loss = 0.00075\n",
      "| epoch 136 | time/total 11/1627[s] | loss = 0.00074\n",
      "| epoch 137 | time/total 11/1639[s] | loss = 0.00071\n",
      "| epoch 138 | time/total 11/1650[s] | loss = 0.00069\n",
      "| epoch 139 | time/total 11/1661[s] | loss = 0.00067\n",
      "| epoch 140 | time/total 11/1673[s] | loss = 0.00066\n",
      "| epoch 140 | time/total 15/1677[s] | train error = 0.00196\n",
      "| epoch 140 | time/total 15/1677[s] | test error  = 0.06140\n",
      "| epoch 141 | time/total 11/1689[s] | loss = 0.00064\n",
      "| epoch 142 | time/total 11/1700[s] | loss = 0.00064\n",
      "| epoch 143 | time/total 11/1711[s] | loss = 0.00060\n",
      "| epoch 144 | time/total 11/1723[s] | loss = 0.00060\n",
      "| epoch 145 | time/total 11/1734[s] | loss = 0.00060\n",
      "| epoch 146 | time/total 11/1745[s] | loss = 0.00044\n",
      "| epoch 147 | time/total 11/1756[s] | loss = 0.00058\n",
      "| epoch 148 | time/total 11/1768[s] | loss = 0.00058\n",
      "| epoch 149 | time/total 11/1779[s] | loss = 0.00056\n",
      "| epoch 150 | time/total 11/1791[s] | loss = 0.00055\n",
      "| epoch 150 | time/total 15/1794[s] | train error = 0.00196\n",
      "| epoch 150 | time/total 15/1795[s] | test error  = 0.06140\n"
     ]
    }
   ],
   "source": [
    "# Train\n",
    "print(\"Target dataset:\", dataset_name)\n",
    "trainer.fit(x_train, t_train, x_test, t_test,\n",
    "            max_epoch=max_epoch,\n",
    "            batch_size=batch_size,\n",
    "            max_grad=max_grad)"
   ]
  },
  {
   "cell_type": "markdown",
   "metadata": {},
   "source": [
    "## 推論"
   ]
  },
  {
   "cell_type": "code",
   "execution_count": 13,
   "metadata": {
    "scrolled": false
   },
   "outputs": [],
   "source": [
    "# Inference\n",
    "start_id = seq.start_id\n",
    "sample_size = seq.sample_size\n",
    "guess_train = model.generate(x_train, start_id, sample_size)\n",
    "guess_test = model.generate(x_test, start_id, sample_size)"
   ]
  },
  {
   "cell_type": "markdown",
   "metadata": {},
   "source": [
    "## 結果の保存"
   ]
  },
  {
   "cell_type": "code",
   "execution_count": 14,
   "metadata": {},
   "outputs": [],
   "source": [
    "# 保存ファイルのファイル名生成\n",
    "modelname = model.__class__.__name__\n",
    "timestamp = datetime.now().strftime(\"_%y%m%d_%H%M\")\n",
    "save_dir = result_dir / (dataset_name + timestamp)\n",
    "os.makedirs(save_dir, exist_ok=True)"
   ]
  },
  {
   "cell_type": "code",
   "execution_count": 15,
   "metadata": {},
   "outputs": [
    {
     "name": "stdout",
     "output_type": "stream",
     "text": [
      "Accuracy: 0.9980411361410382\n",
      "Accuracy: 0.956140350877193\n"
     ]
    }
   ],
   "source": [
    "# Save result as csv\n",
    "result_train_csv = save_dir /  (\"result_\" + dataset_name + \"_\" + modelname + \"_train.csv\")\n",
    "result_test_csv = save_dir / (\"result_\" + dataset_name + \"_\" + modelname + \"_test.csv\")\n",
    "df_result_train = seq.result_to_csv(result_train_csv, x_train, t_train, guess_train, encoding=encoding)\n",
    "df_result_test = seq.result_to_csv(result_test_csv, x_test, t_test, guess_test, encoding=encoding)"
   ]
  },
  {
   "cell_type": "code",
   "execution_count": 16,
   "metadata": {},
   "outputs": [
    {
     "name": "stdout",
     "output_type": "stream",
     "text": [
      "Accuracy: 0.9980411361410382\n",
      "Accuracy: 0.956140350877193\n"
     ]
    }
   ],
   "source": [
    "# Save result as csv as utf-8 with BOM\n",
    "result_train_csv = save_dir /  (\"result_\" + dataset_name + \"_\" + modelname + \"_train_bom.csv\")\n",
    "result_test_csv = save_dir / (\"result_\" + dataset_name + \"_\" + modelname + \"_test_bom.csv\")\n",
    "df_result_train = seq.result_to_csv(result_train_csv, x_train, t_train, guess_train, encoding=\"utf_8_sig\")\n",
    "df_result_test = seq.result_to_csv(result_test_csv, x_test, t_test, guess_test, encoding=\"utf_8_sig\")"
   ]
  },
  {
   "cell_type": "code",
   "execution_count": 17,
   "metadata": {
    "scrolled": true
   },
   "outputs": [
    {
     "data": {
      "text/plain": [
       "41"
      ]
     },
     "execution_count": 17,
     "metadata": {},
     "output_type": "execute_result"
    }
   ],
   "source": [
    "sample_size"
   ]
  },
  {
   "cell_type": "code",
   "execution_count": 18,
   "metadata": {
    "scrolled": true
   },
   "outputs": [
    {
     "data": {
      "image/png": "[encoded data removed]",
      "text/plain": [
       "<Figure size 432x288 with 2 Axes>"
      ]
     },
     "metadata": {},
     "output_type": "display_data"
    }
   ],
   "source": [
    "# Plot learning curve and save it as png image\n",
    "image_path = save_dir / ('result_' + dataset_name + \"_\" + modelname + '.png')\n",
    "trainer.plot(image_path=image_path, log_scale=False)"
   ]
  },
  {
   "cell_type": "code",
   "execution_count": 19,
   "metadata": {},
   "outputs": [],
   "source": [
    "# Save parameters\n",
    "pickle_path = model_dir / (dataset_name + \"_\" + modelname + '_V' + str(vocab_size) + '_D' + str(wordvec_size) + '_H' + str(hidden_size) + timestamp + '.pkl')\n",
    "model.save_params(file_name=pickle_path)"
   ]
  },
  {
   "cell_type": "code",
   "execution_count": 20,
   "metadata": {},
   "outputs": [],
   "source": [
    "target_csv = dataset_dir / \"190219)agc-evaluation.csv\""
   ]
  },
  {
   "cell_type": "code",
   "execution_count": 21,
   "metadata": {},
   "outputs": [],
   "source": [
    "# 推論対象のデータセットを読み込み\n",
    "x_target, t_target = seq.read_csv(target_csv, vocab_update=False)"
   ]
  },
  {
   "cell_type": "code",
   "execution_count": 22,
   "metadata": {},
   "outputs": [],
   "source": [
    "guess = model.generate(x_target, start_id, sample_size)"
   ]
  },
  {
   "cell_type": "code",
   "execution_count": 23,
   "metadata": {},
   "outputs": [
    {
     "name": "stdout",
     "output_type": "stream",
     "text": [
      "Accuracy: 0.15217391304347827\n"
     ]
    }
   ],
   "source": [
    "save_dir = result_dir / (target_csv.stem + timestamp)\n",
    "os.makedirs(save_dir, exist_ok=True)\n",
    "result_train_csv = save_dir /  (\"result_\" + target_csv.stem + \"_\" + modelname + \"_bom.csv\")\n",
    "df_result = seq.result_to_csv(result_train_csv, x_target, t_target, guess, encoding=\"utf_8_sig\")"
   ]
  },
  {
   "cell_type": "markdown",
   "metadata": {},
   "source": [
    "## 確信度の取得"
   ]
  },
  {
   "cell_type": "code",
   "execution_count": 177,
   "metadata": {},
   "outputs": [],
   "source": [
    "model.load_params(file_name=str(pickle_path))"
   ]
  },
  {
   "cell_type": "code",
   "execution_count": 484,
   "metadata": {
    "scrolled": true
   },
   "outputs": [],
   "source": [
    "# Inference with certainty factor\n",
    "start_id = seq.start_id\n",
    "sample_size = seq.sample_size\n",
    "guess_train, cf_train = model.generate_with_cf(x_train, start_id, sample_size)\n",
    "guess_test, cf_test = model.generate_with_cf(x_test, start_id, sample_size)"
   ]
  },
  {
   "cell_type": "code",
   "execution_count": 485,
   "metadata": {},
   "outputs": [],
   "source": [
    "# 保存ファイルのファイル名生成\n",
    "modelname = model.__class__.__name__\n",
    "timestamp = datetime.now().strftime(\"_%y%m%d_%H%M\")\n",
    "save_dir = result_dir / (dataset_name + timestamp)\n",
    "os.makedirs(save_dir, exist_ok=True)"
   ]
  },
  {
   "cell_type": "code",
   "execution_count": 488,
   "metadata": {
    "scrolled": false
   },
   "outputs": [
    {
     "name": "stdout",
     "output_type": "stream",
     "text": [
      "Accuracy: 0.898471615720524\n",
      "Accuracy: 0.8627450980392157\n"
     ]
    }
   ],
   "source": [
    "# Save result as csv\n",
    "result_train_csv = save_dir /  (\"result_\" + dataset_name + \"_\" + modelname + \"_train.csv\")\n",
    "result_test_csv = save_dir / (\"result_\" + dataset_name + \"_\" + modelname + \"_test.csv\")\n",
    "df_result_train = seq.result_to_csv(result_train_csv, x_train, t_train, guess_train, cf=cf_train, encoding=encoding)\n",
    "df_result_test = seq.result_to_csv(result_test_csv, x_test, t_test, guess_test, cf=cf_test, encoding=encoding)"
   ]
  },
  {
   "cell_type": "code",
   "execution_count": 109,
   "metadata": {},
   "outputs": [],
   "source": [
    "def cf_filter(df):\n",
    "    for factor in np.arange(0.90, 1.00, 0.01):\n",
    "        print(\"cf={:.2f}\".format(factor))\n",
    "        print(\" correct   :\", df.query('correct == 1 and cf < {}'.format(factor)).shape[0])\n",
    "        print(\" incorrect :\", df.query('correct == 0 and cf < {}'.format(factor)).shape[0])"
   ]
  },
  {
   "cell_type": "code",
   "execution_count": 342,
   "metadata": {
    "scrolled": false
   },
   "outputs": [
    {
     "name": "stdout",
     "output_type": "stream",
     "text": [
      "cf=0.90\n",
      " correct   : 4\n",
      " incorrect : 5\n",
      "cf=0.91\n",
      " correct   : 4\n",
      " incorrect : 5\n",
      "cf=0.92\n",
      " correct   : 5\n",
      " incorrect : 5\n",
      "cf=0.93\n",
      " correct   : 7\n",
      " incorrect : 7\n",
      "cf=0.94\n",
      " correct   : 7\n",
      " incorrect : 7\n",
      "cf=0.95\n",
      " correct   : 12\n",
      " incorrect : 16\n",
      "cf=0.96\n",
      " correct   : 19\n",
      " incorrect : 20\n",
      "cf=0.97\n",
      " correct   : 40\n",
      " incorrect : 30\n",
      "cf=0.98\n",
      " correct   : 93\n",
      " incorrect : 56\n",
      "cf=0.99\n",
      " correct   : 223\n",
      " incorrect : 80\n"
     ]
    }
   ],
   "source": [
    "cf_filter(df_result_train)"
   ]
  },
  {
   "cell_type": "code",
   "execution_count": 277,
   "metadata": {
    "scrolled": true
   },
   "outputs": [
    {
     "name": "stdout",
     "output_type": "stream",
     "text": [
      "cf=0.90\n",
      " correct   : 0\n",
      " incorrect : 0\n",
      "cf=0.91\n",
      " correct   : 0\n",
      " incorrect : 0\n",
      "cf=0.92\n",
      " correct   : 0\n",
      " incorrect : 0\n",
      "cf=0.93\n",
      " correct   : 0\n",
      " incorrect : 0\n",
      "cf=0.94\n",
      " correct   : 0\n",
      " incorrect : 0\n",
      "cf=0.95\n",
      " correct   : 0\n",
      " incorrect : 0\n",
      "cf=0.96\n",
      " correct   : 0\n",
      " incorrect : 0\n",
      "cf=0.97\n",
      " correct   : 0\n",
      " incorrect : 0\n",
      "cf=0.98\n",
      " correct   : 0\n",
      " incorrect : 0\n",
      "cf=0.99\n",
      " correct   : 88\n",
      " incorrect : 14\n"
     ]
    }
   ],
   "source": [
    "cf_filter(df_result_test)"
   ]
  },
  {
   "cell_type": "code",
   "execution_count": 430,
   "metadata": {
    "scrolled": true
   },
   "outputs": [
    {
     "data": {
      "text/plain": [
       "1    823\n",
       "0     93\n",
       "Name: correct, dtype: int64"
      ]
     },
     "execution_count": 430,
     "metadata": {},
     "output_type": "execute_result"
    }
   ],
   "source": [
    "corrects = df_result_train['correct'].value_counts()\n",
    "corrects"
   ]
  },
  {
   "cell_type": "code",
   "execution_count": 196,
   "metadata": {},
   "outputs": [],
   "source": [
    "def accuracy(df, cf):\n",
    "    df_passed = df.query('cf > {}'.format(cf))\n",
    "    if len(df_passed) > 0:\n",
    "        nb_corrects = df_passed['correct'].value_counts()[1]\n",
    "        return nb_corrects / len(df_passed)\n",
    "    else:\n",
    "        return 0"
   ]
  },
  {
   "cell_type": "code",
   "execution_count": 135,
   "metadata": {},
   "outputs": [],
   "source": [
    "def passing_rate(df, cf):\n",
    "    nb_passing = len(df.query('cf >= {}'.format(cf)))\n",
    "    return nb_passing / len(df)"
   ]
  },
  {
   "cell_type": "code",
   "execution_count": 526,
   "metadata": {
    "scrolled": false
   },
   "outputs": [
    {
     "data": {
      "text/plain": [
       "0.9827586206896551"
      ]
     },
     "execution_count": 526,
     "metadata": {},
     "output_type": "execute_result"
    }
   ],
   "source": [
    "accuracy(df_result_test, 0.992)"
   ]
  },
  {
   "cell_type": "code",
   "execution_count": 527,
   "metadata": {},
   "outputs": [
    {
     "data": {
      "text/plain": [
       "0.5686274509803921"
      ]
     },
     "execution_count": 527,
     "metadata": {},
     "output_type": "execute_result"
    }
   ],
   "source": [
    "passing_rate(df_result_test, 0.992)"
   ]
  },
  {
   "cell_type": "code",
   "execution_count": 489,
   "metadata": {},
   "outputs": [],
   "source": [
    "def accuracy_by_cf(df):\n",
    "    acc_list = []\n",
    "    pr_list = []\n",
    "    for cf in np.arange(0.90, 1.00, 0.001):\n",
    "#         print(\"cf={:.2f}\".format(cf))\n",
    "        acc = accuracy(df, cf)\n",
    "        pr  = passing_rate(df, cf)\n",
    "#         print(\"  Accuracy     :\", acc)\n",
    "#         print(\"  Passing rate :\", pr)\n",
    "        acc_list.append(acc)\n",
    "        pr_list.append(pr)\n",
    "    return acc_list, pr_list"
   ]
  },
  {
   "cell_type": "code",
   "execution_count": 490,
   "metadata": {
    "scrolled": true
   },
   "outputs": [],
   "source": [
    "acc_train, pr_train = accuracy_by_cf(df_result_train)"
   ]
  },
  {
   "cell_type": "code",
   "execution_count": 491,
   "metadata": {},
   "outputs": [],
   "source": [
    "acc_test, pr_test = accuracy_by_cf(df_result_test)"
   ]
  },
  {
   "cell_type": "code",
   "execution_count": 469,
   "metadata": {},
   "outputs": [
    {
     "data": {
      "text/plain": [
       "[]"
      ]
     },
     "execution_count": 469,
     "metadata": {},
     "output_type": "execute_result"
    },
    {
     "data": {
      "image/png": "[encoded data removed]",
      "text/plain": [
       "<Figure size 432x288 with 1 Axes>"
      ]
     },
     "metadata": {
      "needs_background": "light"
     },
     "output_type": "display_data"
    }
   ],
   "source": [
    "x = np.arange(0.90, 1.00, 0.001)\n",
    "fig, ax = plt.subplots()\n",
    "color_acc = 'orange'\n",
    "color_pr = 'blue'\n",
    "ax.plot(x, acc_train, color=color_acc, label='train accuracy')\n",
    "ax.plot(x, pr_train, color=color_pr, label='train passing rate')\n",
    "ax.plot(x, acc_test, color=color_acc, linestyle='dashed', label='test accuracy')\n",
    "ax.plot(x, pr_test, color=color_pr, linestyle='dashed', label='test passing rate')\n",
    "ax.grid(True)\n",
    "plt.xlabel('certainty factor')\n",
    "ax.set_ylim(0.7, 1.01)\n",
    "ax.legend()\n",
    "plt.savefig('./accuracy_and_passing-rate.png')\n",
    "plt.plot()"
   ]
  },
  {
   "cell_type": "code",
   "execution_count": null,
   "metadata": {},
   "outputs": [],
   "source": []
  }
 ],
 "metadata": {
  "hide_input": false,
  "kernelspec": {
   "display_name": "Python 3",
   "language": "python",
   "name": "python3"
  },
  "language_info": {
   "codemirror_mode": {
    "name": "ipython",
    "version": 3
   },
   "file_extension": ".py",
   "mimetype": "text/x-python",
   "name": "python",
   "nbconvert_exporter": "python",
   "pygments_lexer": "ipython3",
   "version": "3.6.2"
  },
  "toc": {
   "base_numbering": 1,
   "nav_menu": {},
   "number_sections": false,
   "sideBar": true,
   "skip_h1_title": true,
   "title_cell": "Table of Contents",
   "title_sidebar": "Contents",
   "toc_cell": true,
   "toc_position": {},
   "toc_section_display": true,
   "toc_window_display": true
  }
 },
 "nbformat": 4,
 "nbformat_minor": 2
}
