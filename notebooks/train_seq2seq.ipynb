{
 "cells": [
  {
   "cell_type": "markdown",
   "metadata": {
    "toc": true
   },
   "source": [
    "<h1>Table of Contents<span class=\"tocSkip\"></span></h1>\n",
    "<div class=\"toc\"><ul class=\"toc-item\"><li><span><a href=\"#前処理\" data-toc-modified-id=\"前処理-1\" data-vivaldi-spatnav-clickable=\"1\">前処理</a></span><ul class=\"toc-item\"><li><span><a href=\"#データセット読み込みと文字IDベクトルへの変換\" data-toc-modified-id=\"データセット読み込みと文字IDベクトルへの変換-1.1\" data-vivaldi-spatnav-clickable=\"1\">データセット読み込みと文字IDベクトルへの変換</a></span></li><li><span><a href=\"#ハイパーパラメータ設定とデータ前処理\" data-toc-modified-id=\"ハイパーパラメータ設定とデータ前処理-1.2\" data-vivaldi-spatnav-clickable=\"1\">ハイパーパラメータ設定とデータ前処理</a></span></li><li><span><a href=\"#model,-optimizer,-trainerインスタンス作成\" data-toc-modified-id=\"model,-optimizer,-trainerインスタンス作成-1.3\" data-vivaldi-spatnav-clickable=\"1\">model, optimizer, trainerインスタンス作成</a></span></li></ul></li><li><span><a href=\"#学習実行\" data-toc-modified-id=\"学習実行-2\" data-vivaldi-spatnav-clickable=\"1\">学習実行</a></span></li><li><span><a href=\"#推論\" data-toc-modified-id=\"推論-3\" data-vivaldi-spatnav-clickable=\"1\">推論</a></span></li><li><span><a href=\"#結果の保存\" data-toc-modified-id=\"結果の保存-4\" data-vivaldi-spatnav-clickable=\"1\">結果の保存</a></span></li><li><span><a href=\"#確信度の取得\" data-toc-modified-id=\"確信度の取得-5\" data-vivaldi-spatnav-clickable=\"1\">確信度の取得</a></span></li></ul></div>"
   ]
  },
  {
   "cell_type": "markdown",
   "metadata": {},
   "source": [
    "# seq2seqモデルの学習と結果の保存"
   ]
  },
  {
   "cell_type": "markdown",
   "metadata": {},
   "source": [
    "ディレクトリ構成：  \n",
    "```\n",
    "./\n",
    "├dataset/\n",
    "│   └(読み込むCSVファイル)\n",
    "├models/\n",
    "│   └(モデルパラメータキャッシュファイル)\n",
    "├notebooks/\n",
    "│   └train_seq2seq.ipynb(このファイル)\n",
    "├results/\n",
    "│   └(実行結果CSVと学習曲線グラフ画像)\n",
    "└src/\n",
    "   ├common/\n",
    "   │ └(共用クラス、関数)\n",
    "   ├data/\n",
    "   │ └(データ読み書き用コード)\n",
    "   ├attention_layer.py\n",
    "   ├attention_seq2seq.py\n",
    "   ├peeky_seq2seq.py\n",
    "   └seq2seq.py\n",
    "```"
   ]
  },
  {
   "cell_type": "code",
   "execution_count": 109,
   "metadata": {},
   "outputs": [
    {
     "name": "stdout",
     "output_type": "stream",
     "text": [
      "Once deleted, variables cannot be recovered. Proceed (y/[n])? y\n"
     ]
    }
   ],
   "source": [
    "# 変数の全消去\n",
    "%reset"
   ]
  },
  {
   "cell_type": "code",
   "execution_count": 1,
   "metadata": {},
   "outputs": [],
   "source": [
    "# coding: utf-8\n",
    "import sys\n",
    "sys.path.append(\"../src\")\n",
    "import os\n",
    "import numpy as np\n",
    "import pandas as pd\n",
    "import matplotlib.pyplot as plt\n",
    "from pathlib import Path\n",
    "from datetime import datetime\n",
    "from data.sequence import TextSequence\n",
    "from common.optimizer import Adam\n",
    "from common.trainer import Trainer\n",
    "from common.util import eval_seq2seq\n",
    "from seq2seq import Seq2seq, Seq2seqBiLSTM\n",
    "from peeky_seq2seq import PeekySeq2seq, PeekySeq2seqBiLSTM\n",
    "from attention_seq2seq import AttentionSeq2seq, AttentionSeq2seqBiLSTM"
   ]
  },
  {
   "cell_type": "code",
   "execution_count": 2,
   "metadata": {},
   "outputs": [],
   "source": [
    "# matplotlibのインライン表示\n",
    "%matplotlib inline\n",
    "# モジュールの更新時に自動で再読み込み\n",
    "%reload_ext autoreload\n",
    "%autoreload 2"
   ]
  },
  {
   "cell_type": "code",
   "execution_count": 3,
   "metadata": {},
   "outputs": [],
   "source": [
    "# ディレクトリパスの設定\n",
    "dataset_dir =Path('../dataset')\n",
    "result_dir = Path('../results')\n",
    "model_dir = Path('../models')"
   ]
  },
  {
   "cell_type": "code",
   "execution_count": 123,
   "metadata": {},
   "outputs": [],
   "source": [
    "# ファイルパスの設定\n",
    "vocab_csv = [dataset_dir /  \"interpretation_train43_and_test40_rev3.csv\", dataset_dir / \"interpretation_excel_concat_rev2.csv\"]\n",
    "source_csv = dataset_dir / \"interpretation_excel_concat_rev2.csv\"\n",
    "# source_csv = dataset_dir / \"interpretation_excel_concat_trim.csv\"\n",
    "dataset_name = source_csv.stem\n",
    "encoding = \"utf-8\""
   ]
  },
  {
   "cell_type": "code",
   "execution_count": 583,
   "metadata": {},
   "outputs": [],
   "source": [
    "# 最初から訓練データとテストデータが分かれているときはこっち\n",
    "source_csv = dataset_dir /\"interpretation_excel.csv\"  # 結果ファイル名に用いる\n",
    "train_csv = dataset_dir / \"interpretation_excel_train_trim.csv\"\n",
    "test_csv = dataset_dir / \"interpretation_excel_validation_trim.csv\""
   ]
  },
  {
   "cell_type": "markdown",
   "metadata": {},
   "source": [
    "## 前処理\n",
    "### データセット読み込みと文字IDベクトルへの変換"
   ]
  },
  {
   "cell_type": "code",
   "execution_count": 124,
   "metadata": {
    "scrolled": false
   },
   "outputs": [],
   "source": [
    "# 全てのデータセットを読み込み、Vocabularyを作成する\n",
    "seq = TextSequence()\n",
    "for path in vocab_csv:\n",
    "    seq.read_csv(path)\n",
    "char_to_id, id_to_char = seq.vocab"
   ]
  },
  {
   "cell_type": "code",
   "execution_count": 125,
   "metadata": {
    "scrolled": true
   },
   "outputs": [
    {
     "data": {
      "text/plain": [
       "(array([[  1,   5,  80, ...,   0,   0,   0],\n",
       "        [  1,   5,  80, ...,   0,   0,   0],\n",
       "        [  2,  19,  27, ...,  17,  16, 297],\n",
       "        ...,\n",
       "        [235, 185, 233, ...,   0,   0,   0],\n",
       "        [235, 185, 233, ...,   0,   0,   0],\n",
       "        [235, 185, 233, ...,   0,   0,   0]]),\n",
       " array([[  0, 245,  60, ...,   0,   0,   0],\n",
       "        [  0, 245,  60, ...,   0,   0,   0],\n",
       "        [  0, 295, 238, ...,   0,   0,   0],\n",
       "        ...,\n",
       "        [  0, 262, 235, ...,   0,   0,   0],\n",
       "        [  0, 262, 235, ...,   0,   0,   0],\n",
       "        [  0, 262, 235, ...,   0,   0,   0]]))"
      ]
     },
     "execution_count": 125,
     "metadata": {},
     "output_type": "execute_result"
    }
   ],
   "source": [
    "# 学習対象のデータセットを読み込み\n",
    "seq.read_csv(source_csv)"
   ]
  },
  {
   "cell_type": "code",
   "execution_count": 25,
   "metadata": {},
   "outputs": [
    {
     "ename": "NameError",
     "evalue": "name 'train_csv' is not defined",
     "output_type": "error",
     "traceback": [
      "\u001b[1;31m---------------------------------------------------------------------------\u001b[0m",
      "\u001b[1;31mNameError\u001b[0m                                 Traceback (most recent call last)",
      "\u001b[1;32m<ipython-input-25-e5a86900c53d>\u001b[0m in \u001b[0;36m<module>\u001b[1;34m\u001b[0m\n\u001b[0;32m      1\u001b[0m \u001b[1;31m# 最初から訓練データとテストデータが分かれているときはこっち\u001b[0m\u001b[1;33m\u001b[0m\u001b[1;33m\u001b[0m\u001b[1;33m\u001b[0m\u001b[0m\n\u001b[0;32m      2\u001b[0m \u001b[0mseq\u001b[0m \u001b[1;33m=\u001b[0m \u001b[0mTextSequence\u001b[0m\u001b[1;33m(\u001b[0m\u001b[1;33m)\u001b[0m\u001b[1;33m\u001b[0m\u001b[1;33m\u001b[0m\u001b[0m\n\u001b[1;32m----> 3\u001b[1;33m \u001b[0mseq\u001b[0m\u001b[1;33m.\u001b[0m\u001b[0mread_csv\u001b[0m\u001b[1;33m(\u001b[0m\u001b[0mtrain_csv\u001b[0m\u001b[1;33m)\u001b[0m\u001b[1;33m\u001b[0m\u001b[1;33m\u001b[0m\u001b[0m\n\u001b[0m\u001b[0;32m      4\u001b[0m \u001b[0mx_train\u001b[0m\u001b[1;33m,\u001b[0m \u001b[0mt_train\u001b[0m \u001b[1;33m=\u001b[0m \u001b[0mseq\u001b[0m\u001b[1;33m.\u001b[0m\u001b[0mshuffle\u001b[0m\u001b[1;33m(\u001b[0m\u001b[0mseed\u001b[0m\u001b[1;33m=\u001b[0m\u001b[1;36m1\u001b[0m\u001b[1;33m)\u001b[0m\u001b[1;33m\u001b[0m\u001b[1;33m\u001b[0m\u001b[0m\n\u001b[0;32m      5\u001b[0m \u001b[0mseq\u001b[0m\u001b[1;33m.\u001b[0m\u001b[0mread_csv\u001b[0m\u001b[1;33m(\u001b[0m\u001b[0mtest_csv\u001b[0m\u001b[1;33m,\u001b[0m \u001b[0mvocab_init\u001b[0m\u001b[1;33m=\u001b[0m\u001b[1;32mFalse\u001b[0m\u001b[1;33m)\u001b[0m\u001b[1;33m\u001b[0m\u001b[1;33m\u001b[0m\u001b[0m\n",
      "\u001b[1;31mNameError\u001b[0m: name 'train_csv' is not defined"
     ]
    }
   ],
   "source": [
    "# 最初から訓練データとテストデータが分かれているときはこっち\n",
    "seq = TextSequence()\n",
    "seq.read_csv(train_csv)\n",
    "x_train, t_train = seq.shuffle(seed=1)\n",
    "seq.read_csv(test_csv, vocab_init=False)\n",
    "x_test, t_test = seq.shuffle(seed=1)\n",
    "char_to_id, id_to_char = seq.vocab"
   ]
  },
  {
   "cell_type": "markdown",
   "metadata": {},
   "source": [
    "### ハイパーパラメータ設定とデータ前処理"
   ]
  },
  {
   "cell_type": "code",
   "execution_count": 142,
   "metadata": {},
   "outputs": [],
   "source": [
    "# ハイパーパラメータ\n",
    "vocab_size = len(char_to_id)\n",
    "wordvec_size = 128\n",
    "hidden_size = 128\n",
    "batch_size = 32\n",
    "max_epoch = 200\n",
    "max_grad = 5.0"
   ]
  },
  {
   "cell_type": "code",
   "execution_count": 143,
   "metadata": {},
   "outputs": [
    {
     "data": {
      "text/plain": [
       "425"
      ]
     },
     "execution_count": 143,
     "metadata": {},
     "output_type": "execute_result"
    }
   ],
   "source": [
    "vocab_size"
   ]
  },
  {
   "cell_type": "code",
   "execution_count": 144,
   "metadata": {},
   "outputs": [],
   "source": [
    "# データセット分割\n",
    "x_train, x_test, t_train, t_test = seq.split_data(seed=1, test_size=0.1)"
   ]
  },
  {
   "cell_type": "markdown",
   "metadata": {},
   "source": [
    "### model, optimizer, trainerインスタンス作成"
   ]
  },
  {
   "cell_type": "code",
   "execution_count": 151,
   "metadata": {},
   "outputs": [],
   "source": [
    "# モデル選択\n",
    "# model = Seq2seq(vocab_size, wordvec_size, hidden_size)\n",
    "model = PeekySeq2seq(vocab_size, wordvec_size, hidden_size)\n",
    "# model = AttentionSeq2seq(vocab_size, wordvec_size, hidden_size)\n",
    "# model = Seq2seqBiLSTM(vocab_size, wordvec_size, hidden_size)\n",
    "# model = PeekySeq2seqBiLSTM(vocab_size, wordvec_size, hidden_size)\n",
    "# model = AttentionSeq2seqBiLSTM(vocab_size, wordvec_size, hidden_size)"
   ]
  },
  {
   "cell_type": "code",
   "execution_count": 152,
   "metadata": {},
   "outputs": [],
   "source": [
    "# OptimizerとTrainerインスタンスの初期化\n",
    "optimizer = Adam()\n",
    "trainer = Trainer(model, optimizer)"
   ]
  },
  {
   "cell_type": "markdown",
   "metadata": {},
   "source": [
    "## 学習実行"
   ]
  },
  {
   "cell_type": "code",
   "execution_count": 153,
   "metadata": {
    "scrolled": false
   },
   "outputs": [
    {
     "name": "stdout",
     "output_type": "stream",
     "text": [
      "| epoch 1 | time/total 3/3[s] | loss = 4.91268\n",
      "| epoch 1 | time/total 5/5[s] | train error = 1.00000\n",
      "| epoch 1 | time/total 5/5[s] | test error  = 1.00000\n",
      "| epoch 2 | time/total 3/8[s] | loss = 2.73029\n",
      "| epoch 2 | time/total 5/10[s] | train error = 1.00000\n",
      "| epoch 2 | time/total 5/10[s] | test error  = 1.00000\n",
      "| epoch 3 | time/total 3/14[s] | loss = 2.27180\n",
      "| epoch 3 | time/total 5/15[s] | train error = 1.00000\n",
      "| epoch 3 | time/total 5/15[s] | test error  = 1.00000\n",
      "| epoch 4 | time/total 3/19[s] | loss = 2.03689\n",
      "| epoch 4 | time/total 4/20[s] | train error = 1.00000\n",
      "| epoch 4 | time/total 5/20[s] | test error  = 1.00000\n",
      "| epoch 5 | time/total 3/24[s] | loss = 1.85214\n",
      "| epoch 5 | time/total 5/25[s] | train error = 1.00000\n",
      "| epoch 5 | time/total 5/26[s] | test error  = 1.00000\n",
      "| epoch 6 | time/total 3/29[s] | loss = 1.69865\n",
      "| epoch 7 | time/total 3/33[s] | loss = 1.53965\n",
      "| epoch 8 | time/total 3/36[s] | loss = 1.37971\n",
      "| epoch 9 | time/total 3/40[s] | loss = 1.22984\n",
      "| epoch 10 | time/total 3/43[s] | loss = 1.07746\n",
      "| epoch 10 | time/total 4/45[s] | train error = 1.00000\n",
      "| epoch 10 | time/total 5/45[s] | test error  = 1.00000\n",
      "| epoch 11 | time/total 3/49[s] | loss = 0.94481\n",
      "| epoch 12 | time/total 3/52[s] | loss = 0.81931\n",
      "| epoch 13 | time/total 3/56[s] | loss = 0.69412\n",
      "| epoch 14 | time/total 3/59[s] | loss = 0.59594\n",
      "| epoch 15 | time/total 3/63[s] | loss = 0.51481\n",
      "| epoch 16 | time/total 3/67[s] | loss = 0.44851\n",
      "| epoch 17 | time/total 3/70[s] | loss = 0.39404\n",
      "| epoch 18 | time/total 3/74[s] | loss = 0.35175\n",
      "| epoch 19 | time/total 3/77[s] | loss = 0.31727\n",
      "| epoch 20 | time/total 3/81[s] | loss = 0.28907\n",
      "| epoch 20 | time/total 5/82[s] | train error = 0.85065\n",
      "| epoch 20 | time/total 5/82[s] | test error  = 0.86957\n",
      "| epoch 21 | time/total 3/86[s] | loss = 0.26029\n",
      "| epoch 22 | time/total 3/90[s] | loss = 0.24771\n",
      "| epoch 23 | time/total 3/93[s] | loss = 0.22971\n",
      "| epoch 24 | time/total 3/97[s] | loss = 0.21256\n",
      "| epoch 25 | time/total 3/100[s] | loss = 0.20141\n",
      "| epoch 26 | time/total 3/104[s] | loss = 0.19060\n",
      "| epoch 27 | time/total 3/108[s] | loss = 0.17907\n",
      "| epoch 28 | time/total 3/111[s] | loss = 0.17222\n",
      "| epoch 29 | time/total 3/115[s] | loss = 0.16866\n",
      "| epoch 30 | time/total 3/118[s] | loss = 0.16255\n",
      "| epoch 30 | time/total 4/120[s] | train error = 0.72565\n",
      "| epoch 30 | time/total 5/120[s] | test error  = 0.75362\n",
      "| epoch 31 | time/total 3/124[s] | loss = 0.15014\n",
      "| epoch 32 | time/total 3/127[s] | loss = 0.14012\n",
      "| epoch 33 | time/total 3/131[s] | loss = 0.13407\n",
      "| epoch 34 | time/total 3/134[s] | loss = 0.12836\n",
      "| epoch 35 | time/total 3/138[s] | loss = 0.12168\n",
      "| epoch 36 | time/total 3/141[s] | loss = 0.11427\n",
      "| epoch 37 | time/total 3/145[s] | loss = 0.11055\n",
      "| epoch 38 | time/total 3/149[s] | loss = 0.10503\n",
      "| epoch 39 | time/total 3/152[s] | loss = 0.10331\n",
      "| epoch 40 | time/total 3/156[s] | loss = 0.09988\n",
      "| epoch 40 | time/total 5/158[s] | train error = 0.46429\n",
      "| epoch 40 | time/total 5/158[s] | test error  = 0.49275\n",
      "| epoch 41 | time/total 3/161[s] | loss = 0.09751\n",
      "| epoch 42 | time/total 3/165[s] | loss = 0.09195\n",
      "| epoch 43 | time/total 3/169[s] | loss = 0.08878\n",
      "| epoch 44 | time/total 3/173[s] | loss = 0.08584\n",
      "| epoch 45 | time/total 3/177[s] | loss = 0.08048\n",
      "| epoch 46 | time/total 3/181[s] | loss = 0.07841\n",
      "| epoch 47 | time/total 3/184[s] | loss = 0.07351\n",
      "| epoch 48 | time/total 3/188[s] | loss = 0.07178\n",
      "| epoch 49 | time/total 3/192[s] | loss = 0.06997\n",
      "| epoch 50 | time/total 3/195[s] | loss = 0.06857\n",
      "| epoch 50 | time/total 5/197[s] | train error = 0.35227\n",
      "| epoch 50 | time/total 5/197[s] | test error  = 0.46377\n",
      "| epoch 51 | time/total 3/201[s] | loss = 0.06598\n",
      "| epoch 52 | time/total 3/205[s] | loss = 0.06426\n",
      "| epoch 53 | time/total 3/208[s] | loss = 0.06229\n",
      "| epoch 54 | time/total 3/212[s] | loss = 0.05977\n",
      "| epoch 55 | time/total 3/216[s] | loss = 0.05725\n",
      "| epoch 56 | time/total 3/220[s] | loss = 0.05594\n",
      "| epoch 57 | time/total 3/224[s] | loss = 0.05407\n",
      "| epoch 58 | time/total 3/228[s] | loss = 0.05219\n",
      "| epoch 59 | time/total 3/231[s] | loss = 0.05166\n",
      "| epoch 60 | time/total 3/235[s] | loss = 0.05041\n",
      "| epoch 60 | time/total 5/237[s] | train error = 0.26948\n",
      "| epoch 60 | time/total 5/237[s] | test error  = 0.37681\n",
      "| epoch 61 | time/total 4/241[s] | loss = 0.04738\n",
      "| epoch 62 | time/total 3/245[s] | loss = 0.04522\n",
      "| epoch 63 | time/total 3/248[s] | loss = 0.04520\n",
      "| epoch 64 | time/total 3/252[s] | loss = 0.04138\n",
      "| epoch 65 | time/total 3/256[s] | loss = 0.04099\n",
      "| epoch 66 | time/total 3/259[s] | loss = 0.03866\n",
      "| epoch 67 | time/total 3/263[s] | loss = 0.03970\n",
      "| epoch 68 | time/total 3/267[s] | loss = 0.03815\n",
      "| epoch 69 | time/total 3/270[s] | loss = 0.03663\n",
      "| epoch 70 | time/total 3/274[s] | loss = 0.03542\n",
      "| epoch 70 | time/total 5/276[s] | train error = 0.19968\n",
      "| epoch 70 | time/total 5/276[s] | test error  = 0.31884\n",
      "| epoch 71 | time/total 3/280[s] | loss = 0.03337\n",
      "| epoch 72 | time/total 3/284[s] | loss = 0.03137\n",
      "| epoch 73 | time/total 3/288[s] | loss = 0.03229\n",
      "| epoch 74 | time/total 3/291[s] | loss = 0.03203\n",
      "| epoch 75 | time/total 3/295[s] | loss = 0.03064\n",
      "| epoch 76 | time/total 3/298[s] | loss = 0.02871\n",
      "| epoch 77 | time/total 3/302[s] | loss = 0.02749\n",
      "| epoch 78 | time/total 3/306[s] | loss = 0.02703\n",
      "| epoch 79 | time/total 3/310[s] | loss = 0.02721\n",
      "| epoch 80 | time/total 3/313[s] | loss = 0.02660\n",
      "| epoch 80 | time/total 5/315[s] | train error = 0.15260\n",
      "| epoch 80 | time/total 5/315[s] | test error  = 0.31884\n",
      "| epoch 81 | time/total 4/319[s] | loss = 0.02495\n",
      "| epoch 82 | time/total 3/323[s] | loss = 0.02386\n",
      "| epoch 83 | time/total 3/326[s] | loss = 0.02372\n",
      "| epoch 84 | time/total 3/330[s] | loss = 0.02423\n",
      "| epoch 85 | time/total 3/334[s] | loss = 0.02262\n",
      "| epoch 86 | time/total 3/337[s] | loss = 0.02137\n",
      "| epoch 87 | time/total 3/341[s] | loss = 0.02059\n",
      "| epoch 88 | time/total 3/344[s] | loss = 0.01951\n",
      "| epoch 89 | time/total 3/348[s] | loss = 0.01767\n",
      "| epoch 90 | time/total 3/352[s] | loss = 0.01783\n",
      "| epoch 90 | time/total 5/353[s] | train error = 0.08766\n",
      "| epoch 90 | time/total 5/354[s] | test error  = 0.24638\n",
      "| epoch 91 | time/total 3/357[s] | loss = 0.01722\n",
      "| epoch 92 | time/total 3/361[s] | loss = 0.01716\n",
      "| epoch 93 | time/total 3/365[s] | loss = 0.01665\n",
      "| epoch 94 | time/total 3/369[s] | loss = 0.01650\n",
      "| epoch 95 | time/total 3/372[s] | loss = 0.01517\n",
      "| epoch 96 | time/total 3/376[s] | loss = 0.01490\n",
      "| epoch 97 | time/total 3/380[s] | loss = 0.01544\n",
      "| epoch 98 | time/total 3/384[s] | loss = 0.01711\n",
      "| epoch 99 | time/total 3/387[s] | loss = 0.01474\n",
      "| epoch 100 | time/total 3/391[s] | loss = 0.01327\n",
      "| epoch 100 | time/total 5/393[s] | train error = 0.05682\n",
      "| epoch 100 | time/total 5/393[s] | test error  = 0.26087\n",
      "| epoch 101 | time/total 3/397[s] | loss = 0.01280\n",
      "| epoch 102 | time/total 3/400[s] | loss = 0.01266\n",
      "| epoch 103 | time/total 3/404[s] | loss = 0.01222\n",
      "| epoch 104 | time/total 3/408[s] | loss = 0.01203\n",
      "| epoch 105 | time/total 3/411[s] | loss = 0.01239\n",
      "| epoch 106 | time/total 3/415[s] | loss = 0.01210\n",
      "| epoch 107 | time/total 3/418[s] | loss = 0.01180\n",
      "| epoch 108 | time/total 3/422[s] | loss = 0.01199\n",
      "| epoch 109 | time/total 3/425[s] | loss = 0.01023\n",
      "| epoch 110 | time/total 3/429[s] | loss = 0.01059\n",
      "| epoch 110 | time/total 5/431[s] | train error = 0.04545\n",
      "| epoch 110 | time/total 5/431[s] | test error  = 0.26087\n",
      "| epoch 111 | time/total 3/435[s] | loss = 0.01256\n",
      "| epoch 112 | time/total 3/438[s] | loss = 0.01672\n",
      "| epoch 113 | time/total 3/442[s] | loss = 0.01866\n",
      "| epoch 114 | time/total 3/445[s] | loss = 0.01626\n",
      "| epoch 115 | time/total 3/449[s] | loss = 0.01173\n",
      "| epoch 116 | time/total 3/453[s] | loss = 0.00964\n",
      "| epoch 117 | time/total 3/457[s] | loss = 0.00828\n",
      "| epoch 118 | time/total 3/461[s] | loss = 0.00782\n",
      "| epoch 119 | time/total 3/465[s] | loss = 0.00770\n",
      "| epoch 120 | time/total 3/468[s] | loss = 0.00931\n",
      "| epoch 120 | time/total 5/470[s] | train error = 0.03571\n",
      "| epoch 120 | time/total 5/470[s] | test error  = 0.18841\n",
      "| epoch 121 | time/total 3/474[s] | loss = 0.00797\n",
      "| epoch 122 | time/total 3/477[s] | loss = 0.00687\n",
      "| epoch 123 | time/total 3/481[s] | loss = 0.00626\n",
      "| epoch 124 | time/total 3/485[s] | loss = 0.00589\n",
      "| epoch 125 | time/total 3/488[s] | loss = 0.00569\n",
      "| epoch 126 | time/total 3/492[s] | loss = 0.00541\n"
     ]
    },
    {
     "name": "stdout",
     "output_type": "stream",
     "text": [
      "| epoch 127 | time/total 3/496[s] | loss = 0.00510\n",
      "| epoch 128 | time/total 3/500[s] | loss = 0.00501\n",
      "| epoch 129 | time/total 3/504[s] | loss = 0.00475\n",
      "| epoch 130 | time/total 3/507[s] | loss = 0.00446\n",
      "| epoch 130 | time/total 5/509[s] | train error = 0.00974\n",
      "| epoch 130 | time/total 5/509[s] | test error  = 0.23188\n",
      "| epoch 131 | time/total 3/513[s] | loss = 0.00459\n",
      "| epoch 132 | time/total 3/516[s] | loss = 0.00431\n",
      "| epoch 133 | time/total 3/520[s] | loss = 0.00416\n",
      "| epoch 134 | time/total 3/523[s] | loss = 0.00423\n",
      "| epoch 135 | time/total 3/527[s] | loss = 0.00400\n",
      "| epoch 136 | time/total 3/531[s] | loss = 0.00399\n",
      "| epoch 137 | time/total 3/534[s] | loss = 0.00452\n",
      "| epoch 138 | time/total 3/538[s] | loss = 0.00583\n",
      "| epoch 139 | time/total 3/541[s] | loss = 0.00610\n",
      "| epoch 140 | time/total 3/545[s] | loss = 0.00772\n",
      "| epoch 140 | time/total 5/546[s] | train error = 0.07305\n",
      "| epoch 140 | time/total 5/546[s] | test error  = 0.27536\n",
      "| epoch 141 | time/total 3/550[s] | loss = 0.01490\n",
      "| epoch 142 | time/total 3/554[s] | loss = 0.02093\n",
      "| epoch 143 | time/total 3/557[s] | loss = 0.02118\n",
      "| epoch 144 | time/total 3/561[s] | loss = 0.01374\n",
      "| epoch 145 | time/total 3/564[s] | loss = 0.01021\n",
      "| epoch 146 | time/total 3/568[s] | loss = 0.00670\n",
      "| epoch 147 | time/total 3/571[s] | loss = 0.00547\n",
      "| epoch 148 | time/total 3/575[s] | loss = 0.00486\n",
      "| epoch 149 | time/total 3/579[s] | loss = 0.00398\n",
      "| epoch 150 | time/total 3/582[s] | loss = 0.00353\n",
      "| epoch 150 | time/total 4/583[s] | train error = 0.00487\n",
      "| epoch 150 | time/total 5/584[s] | test error  = 0.20290\n",
      "| epoch 151 | time/total 3/587[s] | loss = 0.00343\n",
      "| epoch 152 | time/total 3/591[s] | loss = 0.00315\n",
      "| epoch 153 | time/total 3/595[s] | loss = 0.00299\n",
      "| epoch 154 | time/total 3/598[s] | loss = 0.00275\n",
      "| epoch 155 | time/total 3/602[s] | loss = 0.00278\n",
      "| epoch 156 | time/total 3/606[s] | loss = 0.00255\n",
      "| epoch 157 | time/total 3/609[s] | loss = 0.00246\n",
      "| epoch 158 | time/total 3/613[s] | loss = 0.00240\n",
      "| epoch 159 | time/total 3/617[s] | loss = 0.00246\n",
      "| epoch 160 | time/total 3/620[s] | loss = 0.00247\n",
      "| epoch 160 | time/total 5/622[s] | train error = 0.00000\n",
      "| epoch 160 | time/total 5/622[s] | test error  = 0.18841\n",
      "| epoch 161 | time/total 3/625[s] | loss = 0.00233\n",
      "| epoch 162 | time/total 3/629[s] | loss = 0.00220\n",
      "| epoch 163 | time/total 3/633[s] | loss = 0.00216\n",
      "| epoch 164 | time/total 3/636[s] | loss = 0.00212\n",
      "| epoch 165 | time/total 3/640[s] | loss = 0.00219\n",
      "| epoch 166 | time/total 3/643[s] | loss = 0.00265\n",
      "| epoch 167 | time/total 3/647[s] | loss = 0.00267\n",
      "| epoch 168 | time/total 3/650[s] | loss = 0.00341\n",
      "| epoch 169 | time/total 3/654[s] | loss = 0.00389\n",
      "| epoch 170 | time/total 3/658[s] | loss = 0.00707\n",
      "| epoch 170 | time/total 4/659[s] | train error = 0.04383\n",
      "| epoch 170 | time/total 5/659[s] | test error  = 0.21739\n",
      "| epoch 171 | time/total 3/663[s] | loss = 0.00491\n",
      "| epoch 172 | time/total 3/666[s] | loss = 0.00501\n",
      "| epoch 173 | time/total 3/670[s] | loss = 0.00391\n",
      "| epoch 174 | time/total 3/673[s] | loss = 0.00673\n",
      "| epoch 175 | time/total 3/677[s] | loss = 0.01260\n",
      "| epoch 176 | time/total 3/681[s] | loss = 0.01146\n",
      "| epoch 177 | time/total 3/684[s] | loss = 0.00882\n",
      "| epoch 178 | time/total 3/688[s] | loss = 0.00652\n",
      "| epoch 179 | time/total 3/692[s] | loss = 0.00467\n",
      "| epoch 180 | time/total 3/696[s] | loss = 0.00331\n",
      "| epoch 180 | time/total 5/697[s] | train error = 0.00325\n",
      "| epoch 180 | time/total 5/697[s] | test error  = 0.18841\n",
      "| epoch 181 | time/total 3/701[s] | loss = 0.00239\n",
      "| epoch 182 | time/total 3/705[s] | loss = 0.00218\n",
      "| epoch 183 | time/total 3/708[s] | loss = 0.00213\n",
      "| epoch 184 | time/total 3/712[s] | loss = 0.00177\n",
      "| epoch 185 | time/total 3/715[s] | loss = 0.00179\n",
      "| epoch 186 | time/total 3/719[s] | loss = 0.00162\n",
      "| epoch 187 | time/total 3/723[s] | loss = 0.00153\n",
      "| epoch 188 | time/total 3/726[s] | loss = 0.00144\n",
      "| epoch 189 | time/total 3/730[s] | loss = 0.00142\n",
      "| epoch 190 | time/total 3/733[s] | loss = 0.00139\n",
      "| epoch 190 | time/total 4/735[s] | train error = 0.00000\n",
      "| epoch 190 | time/total 5/735[s] | test error  = 0.18841\n",
      "| epoch 191 | time/total 3/739[s] | loss = 0.00136\n",
      "| epoch 192 | time/total 3/742[s] | loss = 0.00143\n",
      "| epoch 193 | time/total 3/746[s] | loss = 0.00136\n",
      "| epoch 194 | time/total 3/750[s] | loss = 0.00126\n",
      "| epoch 195 | time/total 3/753[s] | loss = 0.00122\n",
      "| epoch 196 | time/total 3/757[s] | loss = 0.00118\n",
      "| epoch 197 | time/total 3/760[s] | loss = 0.00120\n",
      "| epoch 198 | time/total 3/764[s] | loss = 0.00126\n",
      "| epoch 199 | time/total 3/768[s] | loss = 0.00115\n",
      "| epoch 200 | time/total 3/771[s] | loss = 0.00111\n",
      "| epoch 200 | time/total 5/773[s] | train error = 0.00000\n",
      "| epoch 200 | time/total 5/773[s] | test error  = 0.18841\n"
     ]
    }
   ],
   "source": [
    "# Train\n",
    "trainer.fit(x_train, t_train, x_test, t_test,\n",
    "            max_epoch=max_epoch,\n",
    "            batch_size=batch_size,\n",
    "            max_grad=max_grad)"
   ]
  },
  {
   "cell_type": "markdown",
   "metadata": {},
   "source": [
    "## 推論"
   ]
  },
  {
   "cell_type": "code",
   "execution_count": 154,
   "metadata": {
    "scrolled": false
   },
   "outputs": [],
   "source": [
    "# Inference\n",
    "start_id = seq.start_id\n",
    "sample_size = seq.t_length\n",
    "guess_train = model.generate(x_train, start_id, sample_size)\n",
    "guess_test = model.generate(x_test, start_id, sample_size)"
   ]
  },
  {
   "cell_type": "markdown",
   "metadata": {},
   "source": [
    "## 結果の保存"
   ]
  },
  {
   "cell_type": "code",
   "execution_count": 155,
   "metadata": {},
   "outputs": [],
   "source": [
    "# 保存ファイルのファイル名生成\n",
    "modelname = model.__class__.__name__\n",
    "timestamp = datetime.now().strftime(\"_%y%m%d_%H%M\")\n",
    "save_dir = result_dir / (dataset_name + timestamp)\n",
    "os.makedirs(save_dir, exist_ok=True)"
   ]
  },
  {
   "cell_type": "code",
   "execution_count": 156,
   "metadata": {},
   "outputs": [
    {
     "name": "stdout",
     "output_type": "stream",
     "text": [
      "Accuracy: 1.0\n",
      "Accuracy: 0.8115942028985508\n"
     ]
    }
   ],
   "source": [
    "# Save result as csv\n",
    "result_train_csv = save_dir /  (\"result_\" + dataset_name + \"_\" + modelname + \"_train.csv\")\n",
    "result_test_csv = save_dir / (\"result_\" + dataset_name + \"_\" + modelname + \"_test.csv\")\n",
    "df_result_train = seq.result_to_csv(result_train_csv, x_train, t_train, guess_train, encoding=encoding)\n",
    "df_result_test = seq.result_to_csv(result_test_csv, x_test, t_test, guess_test, encoding=encoding)"
   ]
  },
  {
   "cell_type": "code",
   "execution_count": 157,
   "metadata": {},
   "outputs": [
    {
     "name": "stdout",
     "output_type": "stream",
     "text": [
      "Accuracy: 1.0\n",
      "Accuracy: 0.8115942028985508\n"
     ]
    }
   ],
   "source": [
    "# Save result as csv as utf-8 with BOM\n",
    "result_train_csv = save_dir /  (\"result_\" + dataset_name + \"_\" + modelname + \"_train_bom.csv\")\n",
    "result_test_csv = save_dir / (\"result_\" + dataset_name + \"_\" + modelname + \"_test_bom.csv\")\n",
    "df_result_train = seq.result_to_csv(result_train_csv, x_train, t_train, guess_train, encoding=\"utf_8_sig\")\n",
    "df_result_test = seq.result_to_csv(result_test_csv, x_test, t_test, guess_test, encoding=\"utf_8_sig\")"
   ]
  },
  {
   "cell_type": "code",
   "execution_count": 158,
   "metadata": {
    "scrolled": true
   },
   "outputs": [
    {
     "data": {
      "text/plain": [
       "39"
      ]
     },
     "execution_count": 158,
     "metadata": {},
     "output_type": "execute_result"
    }
   ],
   "source": [
    "sample_size"
   ]
  },
  {
   "cell_type": "code",
   "execution_count": 159,
   "metadata": {
    "scrolled": true
   },
   "outputs": [
    {
     "data": {
      "image/png": "[encoded data removed]",
      "text/plain": [
       "<Figure size 432x288 with 2 Axes>"
      ]
     },
     "metadata": {},
     "output_type": "display_data"
    }
   ],
   "source": [
    "# Plot learning curve and save it as png image\n",
    "image_path = save_dir / ('result_' + dataset_name + \"_\" + modelname + '.png')\n",
    "trainer.plot(image_path=image_path, log_scale=False)"
   ]
  },
  {
   "cell_type": "code",
   "execution_count": 160,
   "metadata": {},
   "outputs": [],
   "source": [
    "# Save parameters\n",
    "pickle_path = model_dir / (dataset_name + \"_\" + modelname + '_V' + str(vocab_size) + '_D' + str(wordvec_size) + '_H' + str(hidden_size) + timestamp + '.pkl')\n",
    "model.save_params(file_name=pickle_path)"
   ]
  },
  {
   "cell_type": "markdown",
   "metadata": {},
   "source": [
    "## 確信度の取得"
   ]
  },
  {
   "cell_type": "code",
   "execution_count": 177,
   "metadata": {},
   "outputs": [],
   "source": [
    "model.load_params(file_name=str(pickle_path))"
   ]
  },
  {
   "cell_type": "code",
   "execution_count": 484,
   "metadata": {
    "scrolled": true
   },
   "outputs": [],
   "source": [
    "# Inference with certainty factor\n",
    "start_id = seq.start_id\n",
    "sample_size = seq.t_length\n",
    "guess_train, cf_train = model.generate_with_cf(x_train, start_id, sample_size)\n",
    "guess_test, cf_test = model.generate_with_cf(x_test, start_id, sample_size)"
   ]
  },
  {
   "cell_type": "code",
   "execution_count": 485,
   "metadata": {},
   "outputs": [],
   "source": [
    "# 保存ファイルのファイル名生成\n",
    "modelname = model.__class__.__name__\n",
    "timestamp = datetime.now().strftime(\"_%y%m%d_%H%M\")\n",
    "save_dir = result_dir / (dataset_name + timestamp)\n",
    "os.makedirs(save_dir, exist_ok=True)"
   ]
  },
  {
   "cell_type": "code",
   "execution_count": 488,
   "metadata": {
    "scrolled": false
   },
   "outputs": [
    {
     "name": "stdout",
     "output_type": "stream",
     "text": [
      "Accuracy: 0.898471615720524\n",
      "Accuracy: 0.8627450980392157\n"
     ]
    }
   ],
   "source": [
    "# Save result as csv\n",
    "result_train_csv = save_dir /  (\"result_\" + dataset_name + \"_\" + modelname + \"_train.csv\")\n",
    "result_test_csv = save_dir / (\"result_\" + dataset_name + \"_\" + modelname + \"_test.csv\")\n",
    "df_result_train = seq.result_to_csv(result_train_csv, x_train, t_train, guess_train, cf=cf_train, encoding=encoding)\n",
    "df_result_test = seq.result_to_csv(result_test_csv, x_test, t_test, guess_test, cf=cf_test, encoding=encoding)"
   ]
  },
  {
   "cell_type": "code",
   "execution_count": 109,
   "metadata": {},
   "outputs": [],
   "source": [
    "def cf_filter(df):\n",
    "    for factor in np.arange(0.90, 1.00, 0.01):\n",
    "        print(\"cf={:.2f}\".format(factor))\n",
    "        print(\" correct   :\", df.query('correct == 1 and cf < {}'.format(factor)).shape[0])\n",
    "        print(\" incorrect :\", df.query('correct == 0 and cf < {}'.format(factor)).shape[0])"
   ]
  },
  {
   "cell_type": "code",
   "execution_count": 342,
   "metadata": {
    "scrolled": false
   },
   "outputs": [
    {
     "name": "stdout",
     "output_type": "stream",
     "text": [
      "cf=0.90\n",
      " correct   : 4\n",
      " incorrect : 5\n",
      "cf=0.91\n",
      " correct   : 4\n",
      " incorrect : 5\n",
      "cf=0.92\n",
      " correct   : 5\n",
      " incorrect : 5\n",
      "cf=0.93\n",
      " correct   : 7\n",
      " incorrect : 7\n",
      "cf=0.94\n",
      " correct   : 7\n",
      " incorrect : 7\n",
      "cf=0.95\n",
      " correct   : 12\n",
      " incorrect : 16\n",
      "cf=0.96\n",
      " correct   : 19\n",
      " incorrect : 20\n",
      "cf=0.97\n",
      " correct   : 40\n",
      " incorrect : 30\n",
      "cf=0.98\n",
      " correct   : 93\n",
      " incorrect : 56\n",
      "cf=0.99\n",
      " correct   : 223\n",
      " incorrect : 80\n"
     ]
    }
   ],
   "source": [
    "cf_filter(df_result_train)"
   ]
  },
  {
   "cell_type": "code",
   "execution_count": 277,
   "metadata": {
    "scrolled": true
   },
   "outputs": [
    {
     "name": "stdout",
     "output_type": "stream",
     "text": [
      "cf=0.90\n",
      " correct   : 0\n",
      " incorrect : 0\n",
      "cf=0.91\n",
      " correct   : 0\n",
      " incorrect : 0\n",
      "cf=0.92\n",
      " correct   : 0\n",
      " incorrect : 0\n",
      "cf=0.93\n",
      " correct   : 0\n",
      " incorrect : 0\n",
      "cf=0.94\n",
      " correct   : 0\n",
      " incorrect : 0\n",
      "cf=0.95\n",
      " correct   : 0\n",
      " incorrect : 0\n",
      "cf=0.96\n",
      " correct   : 0\n",
      " incorrect : 0\n",
      "cf=0.97\n",
      " correct   : 0\n",
      " incorrect : 0\n",
      "cf=0.98\n",
      " correct   : 0\n",
      " incorrect : 0\n",
      "cf=0.99\n",
      " correct   : 88\n",
      " incorrect : 14\n"
     ]
    }
   ],
   "source": [
    "cf_filter(df_result_test)"
   ]
  },
  {
   "cell_type": "code",
   "execution_count": 430,
   "metadata": {
    "scrolled": true
   },
   "outputs": [
    {
     "data": {
      "text/plain": [
       "1    823\n",
       "0     93\n",
       "Name: correct, dtype: int64"
      ]
     },
     "execution_count": 430,
     "metadata": {},
     "output_type": "execute_result"
    }
   ],
   "source": [
    "corrects = df_result_train['correct'].value_counts()\n",
    "corrects"
   ]
  },
  {
   "cell_type": "code",
   "execution_count": 196,
   "metadata": {},
   "outputs": [],
   "source": [
    "def accuracy(df, cf):\n",
    "    df_passed = df.query('cf > {}'.format(cf))\n",
    "    if len(df_passed) > 0:\n",
    "        nb_corrects = df_passed['correct'].value_counts()[1]\n",
    "        return nb_corrects / len(df_passed)\n",
    "    else:\n",
    "        return 0"
   ]
  },
  {
   "cell_type": "code",
   "execution_count": 135,
   "metadata": {},
   "outputs": [],
   "source": [
    "def passing_rate(df, cf):\n",
    "    nb_passing = len(df.query('cf >= {}'.format(cf)))\n",
    "    return nb_passing / len(df)"
   ]
  },
  {
   "cell_type": "code",
   "execution_count": 526,
   "metadata": {
    "scrolled": false
   },
   "outputs": [
    {
     "data": {
      "text/plain": [
       "0.9827586206896551"
      ]
     },
     "execution_count": 526,
     "metadata": {},
     "output_type": "execute_result"
    }
   ],
   "source": [
    "accuracy(df_result_test, 0.992)"
   ]
  },
  {
   "cell_type": "code",
   "execution_count": 527,
   "metadata": {},
   "outputs": [
    {
     "data": {
      "text/plain": [
       "0.5686274509803921"
      ]
     },
     "execution_count": 527,
     "metadata": {},
     "output_type": "execute_result"
    }
   ],
   "source": [
    "passing_rate(df_result_test, 0.992)"
   ]
  },
  {
   "cell_type": "code",
   "execution_count": 489,
   "metadata": {},
   "outputs": [],
   "source": [
    "def accuracy_by_cf(df):\n",
    "    acc_list = []\n",
    "    pr_list = []\n",
    "    for cf in np.arange(0.90, 1.00, 0.001):\n",
    "#         print(\"cf={:.2f}\".format(cf))\n",
    "        acc = accuracy(df, cf)\n",
    "        pr  = passing_rate(df, cf)\n",
    "#         print(\"  Accuracy     :\", acc)\n",
    "#         print(\"  Passing rate :\", pr)\n",
    "        acc_list.append(acc)\n",
    "        pr_list.append(pr)\n",
    "    return acc_list, pr_list"
   ]
  },
  {
   "cell_type": "code",
   "execution_count": 490,
   "metadata": {
    "scrolled": true
   },
   "outputs": [],
   "source": [
    "acc_train, pr_train = accuracy_by_cf(df_result_train)"
   ]
  },
  {
   "cell_type": "code",
   "execution_count": 491,
   "metadata": {},
   "outputs": [],
   "source": [
    "acc_test, pr_test = accuracy_by_cf(df_result_test)"
   ]
  },
  {
   "cell_type": "code",
   "execution_count": 469,
   "metadata": {},
   "outputs": [
    {
     "data": {
      "text/plain": [
       "[]"
      ]
     },
     "execution_count": 469,
     "metadata": {},
     "output_type": "execute_result"
    },
    {
     "data": {
      "image/png": "[encoded data removed]",
      "text/plain": [
       "<Figure size 432x288 with 1 Axes>"
      ]
     },
     "metadata": {
      "needs_background": "light"
     },
     "output_type": "display_data"
    }
   ],
   "source": [
    "x = np.arange(0.90, 1.00, 0.001)\n",
    "fig, ax = plt.subplots()\n",
    "color_acc = 'orange'\n",
    "color_pr = 'blue'\n",
    "ax.plot(x, acc_train, color=color_acc, label='train accuracy')\n",
    "ax.plot(x, pr_train, color=color_pr, label='train passing rate')\n",
    "ax.plot(x, acc_test, color=color_acc, linestyle='dashed', label='test accuracy')\n",
    "ax.plot(x, pr_test, color=color_pr, linestyle='dashed', label='test passing rate')\n",
    "ax.grid(True)\n",
    "plt.xlabel('certainty factor')\n",
    "ax.set_ylim(0.7, 1.01)\n",
    "ax.legend()\n",
    "plt.savefig('./accuracy_and_passing-rate.png')\n",
    "plt.plot()"
   ]
  },
  {
   "cell_type": "code",
   "execution_count": null,
   "metadata": {},
   "outputs": [],
   "source": []
  }
 ],
 "metadata": {
  "hide_input": false,
  "kernelspec": {
   "display_name": "Python 3",
   "language": "python",
   "name": "python3"
  },
  "language_info": {
   "codemirror_mode": {
    "name": "ipython",
    "version": 3
   },
   "file_extension": ".py",
   "mimetype": "text/x-python",
   "name": "python",
   "nbconvert_exporter": "python",
   "pygments_lexer": "ipython3",
   "version": "3.6.2"
  },
  "toc": {
   "base_numbering": 1,
   "nav_menu": {},
   "number_sections": false,
   "sideBar": true,
   "skip_h1_title": true,
   "title_cell": "Table of Contents",
   "title_sidebar": "Contents",
   "toc_cell": true,
   "toc_position": {},
   "toc_section_display": true,
   "toc_window_display": true
  }
 },
 "nbformat": 4,
 "nbformat_minor": 2
}
